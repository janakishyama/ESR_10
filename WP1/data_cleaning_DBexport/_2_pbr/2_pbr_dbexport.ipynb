{
 "cells": [
  {
   "cell_type": "markdown",
   "metadata": {},
   "source": [
    "### Code to preprocess, clean and export the data into database table - tbl_pbr_data"
   ]
  },
  {
   "cell_type": "code",
   "execution_count": 1,
   "metadata": {},
   "outputs": [],
   "source": [
    "import numpy as np\n",
    "import pandas as pd\n",
    "import os\n",
    "import re\n",
    "from datetime import date\n",
    "import sqlalchemy\n",
    "import sys\n",
    "import mariadb\n",
    "import pymysql\n",
    "\n",
    "import warnings    # to avoid warning during executions\n",
    "warnings.filterwarnings(\"ignore\")"
   ]
  },
  {
   "cell_type": "markdown",
   "metadata": {},
   "source": [
    "### Listing PBR files & Set file Name"
   ]
  },
  {
   "cell_type": "code",
   "execution_count": 2,
   "metadata": {},
   "outputs": [
    {
     "data": {
      "text/plain": [
       "['_10_FPC23_Rhosa.csv',\n",
       " '_11_FPC24_SkeMa_1.csv',\n",
       " '_12_FPC24_SkeMa_2.csv',\n",
       " '_13_FPC11_Rhosa_1.csv',\n",
       " '_14_FPC12_DiaLut.csv',\n",
       " '_15_FPC22_Thalaps.csv',\n",
       " '_16_FPC23_NaCho.csv',\n",
       " '_1_FPC13_ChCal_1.csv',\n",
       " '_2_FPC13_ChCal_2.csv',\n",
       " '_3_FPC13_ThalaPs.csv',\n",
       " '_4_FPC14_chamu.csv',\n",
       " '_5_FPC14_RhoSa.csv',\n",
       " '_6_FPC14_thalaps.csv',\n",
       " '_7_FPC21_chamu.csv',\n",
       " '_8_FPC21_Techu.csv',\n",
       " '_9_FPC22_DiaLut.csv']"
      ]
     },
     "execution_count": 2,
     "metadata": {},
     "output_type": "execute_result"
    }
   ],
   "source": [
    "# load all the file names into a list (files in the pbr data folder)\n",
    "os.getcwd()\n",
    "_dir_path = '../../../dataExport/PBRdata'\n",
    "raw_data = os.listdir(_dir_path)\n",
    "raw_data"
   ]
  },
  {
   "cell_type": "code",
   "execution_count": 3,
   "metadata": {},
   "outputs": [
    {
     "data": {
      "text/plain": [
       "'_10_FPC23_Rhosa.csv'"
      ]
     },
     "execution_count": 3,
     "metadata": {},
     "output_type": "execute_result"
    }
   ],
   "source": [
    "filename = raw_data[0]\n",
    "filename"
   ]
  },
  {
   "cell_type": "markdown",
   "metadata": {},
   "source": [
    "### Import Unit number and Species ID from from Database"
   ]
  },
  {
   "cell_type": "code",
   "execution_count": 4,
   "metadata": {},
   "outputs": [],
   "source": [
    "# database connection with mariaDB for read the read and write data from and to dataframe <----> mariaDB tables\n",
    "database_username = 'root'\n",
    "database_password = 'password'\n",
    "database_ip       = '127.0.0.1:3306'\n",
    "database_name     = 'data_dashboard'\n",
    "database_connection = sqlalchemy.create_engine('mariadb+mariadbconnector://{0}:{1}@{2}/{3}'.\n",
    "                                               format(database_username, database_password, \n",
    "                                                      database_ip, database_name))"
   ]
  },
  {
   "cell_type": "code",
   "execution_count": 5,
   "metadata": {},
   "outputs": [
    {
     "data": {
      "text/html": [
       "<div>\n",
       "<style scoped>\n",
       "    .dataframe tbody tr th:only-of-type {\n",
       "        vertical-align: middle;\n",
       "    }\n",
       "\n",
       "    .dataframe tbody tr th {\n",
       "        vertical-align: top;\n",
       "    }\n",
       "\n",
       "    .dataframe thead th {\n",
       "        text-align: right;\n",
       "    }\n",
       "</style>\n",
       "<table border=\"1\" class=\"dataframe\">\n",
       "  <thead>\n",
       "    <tr style=\"text-align: right;\">\n",
       "      <th></th>\n",
       "      <th>instance</th>\n",
       "      <th>unit</th>\n",
       "      <th>species</th>\n",
       "      <th>start_date</th>\n",
       "      <th>end_date</th>\n",
       "      <th>remark</th>\n",
       "      <th>raw_file_name</th>\n",
       "    </tr>\n",
       "  </thead>\n",
       "  <tbody>\n",
       "    <tr>\n",
       "      <th>9</th>\n",
       "      <td>10</td>\n",
       "      <td>5</td>\n",
       "      <td>7</td>\n",
       "      <td>1616427000</td>\n",
       "      <td>1626690600</td>\n",
       "      <td>None</td>\n",
       "      <td>_10_FPC23_Rhosa.csv</td>\n",
       "    </tr>\n",
       "    <tr>\n",
       "      <th>10</th>\n",
       "      <td>11</td>\n",
       "      <td>7</td>\n",
       "      <td>8</td>\n",
       "      <td>1620129600</td>\n",
       "      <td>1633964395</td>\n",
       "      <td>None</td>\n",
       "      <td>_11_FPC24_SkeMa_1.csv</td>\n",
       "    </tr>\n",
       "    <tr>\n",
       "      <th>11</th>\n",
       "      <td>12</td>\n",
       "      <td>7</td>\n",
       "      <td>8</td>\n",
       "      <td>1635246000</td>\n",
       "      <td>1641567595</td>\n",
       "      <td>None</td>\n",
       "      <td>_12_FPC24_SkeMa_2.csv</td>\n",
       "    </tr>\n",
       "  </tbody>\n",
       "</table>\n",
       "</div>"
      ],
      "text/plain": [
       "    instance  unit  species  start_date    end_date remark  \\\n",
       "9         10     5        7  1616427000  1626690600   None   \n",
       "10        11     7        8  1620129600  1633964395   None   \n",
       "11        12     7        8  1635246000  1641567595   None   \n",
       "\n",
       "            raw_file_name  \n",
       "9     _10_FPC23_Rhosa.csv  \n",
       "10  _11_FPC24_SkeMa_1.csv  \n",
       "11  _12_FPC24_SkeMa_2.csv  "
      ]
     },
     "execution_count": 5,
     "metadata": {},
     "output_type": "execute_result"
    }
   ],
   "source": [
    "# fetch data from tbl_pbr_lookup to data frame\n",
    "tbl_lookup = pd.read_sql('SELECT * FROM tbl_pbr_lookup', database_connection)\n",
    "tbl_lookup.tail(3)"
   ]
  },
  {
   "cell_type": "markdown",
   "metadata": {},
   "source": [
    "### Set - Trial No, Unit ID and Species id"
   ]
  },
  {
   "cell_type": "code",
   "execution_count": 6,
   "metadata": {},
   "outputs": [
    {
     "data": {
      "text/html": [
       "<div>\n",
       "<style scoped>\n",
       "    .dataframe tbody tr th:only-of-type {\n",
       "        vertical-align: middle;\n",
       "    }\n",
       "\n",
       "    .dataframe tbody tr th {\n",
       "        vertical-align: top;\n",
       "    }\n",
       "\n",
       "    .dataframe thead th {\n",
       "        text-align: right;\n",
       "    }\n",
       "</style>\n",
       "<table border=\"1\" class=\"dataframe\">\n",
       "  <thead>\n",
       "    <tr style=\"text-align: right;\">\n",
       "      <th></th>\n",
       "      <th>instance</th>\n",
       "      <th>unit</th>\n",
       "      <th>species</th>\n",
       "      <th>start_date</th>\n",
       "      <th>end_date</th>\n",
       "      <th>remark</th>\n",
       "      <th>raw_file_name</th>\n",
       "    </tr>\n",
       "  </thead>\n",
       "  <tbody>\n",
       "    <tr>\n",
       "      <th>9</th>\n",
       "      <td>10</td>\n",
       "      <td>5</td>\n",
       "      <td>7</td>\n",
       "      <td>1616427000</td>\n",
       "      <td>1626690600</td>\n",
       "      <td>None</td>\n",
       "      <td>_10_FPC23_Rhosa.csv</td>\n",
       "    </tr>\n",
       "  </tbody>\n",
       "</table>\n",
       "</div>"
      ],
      "text/plain": [
       "   instance  unit  species  start_date    end_date remark        raw_file_name\n",
       "9        10     5        7  1616427000  1626690600   None  _10_FPC23_Rhosa.csv"
      ]
     },
     "execution_count": 6,
     "metadata": {},
     "output_type": "execute_result"
    }
   ],
   "source": [
    "species_row = tbl_lookup.query('raw_file_name == @filename')\n",
    "species_id = int(species_row['species'])\n",
    "trial_no = int(species_row['instance'])\n",
    "unit_id = int(species_row['unit'])\n",
    "species_row"
   ]
  },
  {
   "cell_type": "code",
   "execution_count": 7,
   "metadata": {},
   "outputs": [
    {
     "name": "stdout",
     "output_type": "stream",
     "text": [
      "Species ID :  7\n",
      "Instance No :  10\n",
      "Unit No :  5\n"
     ]
    }
   ],
   "source": [
    "print(\"Species ID : \", species_id)\n",
    "print(\"Instance No : \", trial_no)\n",
    "print(\"Unit No : \", unit_id)"
   ]
  },
  {
   "cell_type": "markdown",
   "metadata": {},
   "source": [
    "### Load the raw data into a dataframe"
   ]
  },
  {
   "cell_type": "code",
   "execution_count": 8,
   "metadata": {},
   "outputs": [],
   "source": [
    "# join file name with path - file name can be specified as list item based on required file name\n",
    "file_path=  os.path.join(_dir_path, filename)"
   ]
  },
  {
   "cell_type": "code",
   "execution_count": 9,
   "metadata": {},
   "outputs": [
    {
     "data": {
      "text/html": [
       "<div>\n",
       "<style scoped>\n",
       "    .dataframe tbody tr th:only-of-type {\n",
       "        vertical-align: middle;\n",
       "    }\n",
       "\n",
       "    .dataframe tbody tr th {\n",
       "        vertical-align: top;\n",
       "    }\n",
       "\n",
       "    .dataframe thead th {\n",
       "        text-align: right;\n",
       "    }\n",
       "</style>\n",
       "<table border=\"1\" class=\"dataframe\">\n",
       "  <thead>\n",
       "    <tr style=\"text-align: right;\">\n",
       "      <th></th>\n",
       "      <th>primary_key</th>\n",
       "      <th>_timeString</th>\n",
       "      <th>FPC23</th>\n",
       "      <th>FT1</th>\n",
       "      <th>FT2</th>\n",
       "      <th>PT1_V4</th>\n",
       "      <th>PT2</th>\n",
       "      <th>FT3</th>\n",
       "      <th>CO2in</th>\n",
       "      <th>CO2_V2</th>\n",
       "      <th>...</th>\n",
       "      <th>QT</th>\n",
       "      <th>QC</th>\n",
       "      <th>QB</th>\n",
       "      <th>QR</th>\n",
       "      <th>QG</th>\n",
       "      <th>QT_corr</th>\n",
       "      <th>TT0</th>\n",
       "      <th>TT1</th>\n",
       "      <th>pH</th>\n",
       "      <th>C_PAR</th>\n",
       "    </tr>\n",
       "  </thead>\n",
       "  <tbody>\n",
       "    <tr>\n",
       "      <th>0</th>\n",
       "      <td>1616427000</td>\n",
       "      <td>2021-3-22 16:30:0</td>\n",
       "      <td>FPC23</td>\n",
       "      <td>6.2414</td>\n",
       "      <td>19.5991</td>\n",
       "      <td>98.8617</td>\n",
       "      <td>136.6463</td>\n",
       "      <td>0.0</td>\n",
       "      <td>0.04</td>\n",
       "      <td>0.1343</td>\n",
       "      <td>...</td>\n",
       "      <td>69.0354</td>\n",
       "      <td>29.563</td>\n",
       "      <td>11.364</td>\n",
       "      <td>6.7134</td>\n",
       "      <td>10.4412</td>\n",
       "      <td>432.2674</td>\n",
       "      <td>21.4094</td>\n",
       "      <td>20.6272</td>\n",
       "      <td>14.803</td>\n",
       "      <td>0.0</td>\n",
       "    </tr>\n",
       "    <tr>\n",
       "      <th>1</th>\n",
       "      <td>1616427005</td>\n",
       "      <td>2021-3-22 16:30:5</td>\n",
       "      <td>FPC23</td>\n",
       "      <td>0.0</td>\n",
       "      <td>19.5991</td>\n",
       "      <td>98.9197</td>\n",
       "      <td>136.6463</td>\n",
       "      <td>0.0</td>\n",
       "      <td>0.04</td>\n",
       "      <td>0.1343</td>\n",
       "      <td>...</td>\n",
       "      <td>69.0192</td>\n",
       "      <td>29.5248</td>\n",
       "      <td>11.3483</td>\n",
       "      <td>6.7065</td>\n",
       "      <td>10.4248</td>\n",
       "      <td>432.2674</td>\n",
       "      <td>21.4042</td>\n",
       "      <td>20.6202</td>\n",
       "      <td>14.8002</td>\n",
       "      <td>0.0</td>\n",
       "    </tr>\n",
       "    <tr>\n",
       "      <th>2</th>\n",
       "      <td>1616427010</td>\n",
       "      <td>2021-3-22 16:30:10</td>\n",
       "      <td>FPC23</td>\n",
       "      <td>8.4852</td>\n",
       "      <td>19.5818</td>\n",
       "      <td>98.8602</td>\n",
       "      <td>136.5891</td>\n",
       "      <td>0.0</td>\n",
       "      <td>0.04</td>\n",
       "      <td>0.1343</td>\n",
       "      <td>...</td>\n",
       "      <td>69.0068</td>\n",
       "      <td>29.4984</td>\n",
       "      <td>11.3384</td>\n",
       "      <td>6.7015</td>\n",
       "      <td>10.414</td>\n",
       "      <td>432.2674</td>\n",
       "      <td>21.4102</td>\n",
       "      <td>20.5971</td>\n",
       "      <td>14.7837</td>\n",
       "      <td>0.0</td>\n",
       "    </tr>\n",
       "    <tr>\n",
       "      <th>3</th>\n",
       "      <td>1616427015</td>\n",
       "      <td>2021-3-22 16:30:15</td>\n",
       "      <td>FPC23</td>\n",
       "      <td>11.2677</td>\n",
       "      <td>19.5982</td>\n",
       "      <td>98.786</td>\n",
       "      <td>136.5615</td>\n",
       "      <td>0.0</td>\n",
       "      <td>0.04</td>\n",
       "      <td>0.1343</td>\n",
       "      <td>...</td>\n",
       "      <td>69.0068</td>\n",
       "      <td>29.4843</td>\n",
       "      <td>11.3325</td>\n",
       "      <td>6.6975</td>\n",
       "      <td>10.4083</td>\n",
       "      <td>432.2674</td>\n",
       "      <td>21.4102</td>\n",
       "      <td>20.5999</td>\n",
       "      <td>14.7966</td>\n",
       "      <td>0.0</td>\n",
       "    </tr>\n",
       "    <tr>\n",
       "      <th>4</th>\n",
       "      <td>1616427020</td>\n",
       "      <td>2021-3-22 16:30:20</td>\n",
       "      <td>FPC23</td>\n",
       "      <td>11.4072</td>\n",
       "      <td>19.5787</td>\n",
       "      <td>98.8449</td>\n",
       "      <td>136.4703</td>\n",
       "      <td>0.0</td>\n",
       "      <td>0.04</td>\n",
       "      <td>0.1343</td>\n",
       "      <td>...</td>\n",
       "      <td>68.9968</td>\n",
       "      <td>29.4769</td>\n",
       "      <td>11.3294</td>\n",
       "      <td>6.6953</td>\n",
       "      <td>10.4053</td>\n",
       "      <td>432.2674</td>\n",
       "      <td>21.4136</td>\n",
       "      <td>20.6341</td>\n",
       "      <td>14.7997</td>\n",
       "      <td>0.0</td>\n",
       "    </tr>\n",
       "  </tbody>\n",
       "</table>\n",
       "<p>5 rows × 29 columns</p>\n",
       "</div>"
      ],
      "text/plain": [
       "   primary_key         _timeString  FPC23      FT1      FT2   PT1_V4  \\\n",
       "0   1616427000   2021-3-22 16:30:0  FPC23   6.2414  19.5991  98.8617   \n",
       "1   1616427005   2021-3-22 16:30:5  FPC23      0.0  19.5991  98.9197   \n",
       "2   1616427010  2021-3-22 16:30:10  FPC23   8.4852  19.5818  98.8602   \n",
       "3   1616427015  2021-3-22 16:30:15  FPC23  11.2677  19.5982   98.786   \n",
       "4   1616427020  2021-3-22 16:30:20  FPC23  11.4072  19.5787  98.8449   \n",
       "\n",
       "        PT2  FT3 CO2in  CO2_V2  ...       QT       QC       QB      QR  \\\n",
       "0  136.6463  0.0  0.04  0.1343  ...  69.0354   29.563   11.364  6.7134   \n",
       "1  136.6463  0.0  0.04  0.1343  ...  69.0192  29.5248  11.3483  6.7065   \n",
       "2  136.5891  0.0  0.04  0.1343  ...  69.0068  29.4984  11.3384  6.7015   \n",
       "3  136.5615  0.0  0.04  0.1343  ...  69.0068  29.4843  11.3325  6.6975   \n",
       "4  136.4703  0.0  0.04  0.1343  ...  68.9968  29.4769  11.3294  6.6953   \n",
       "\n",
       "        QG   QT_corr      TT0      TT1       pH C_PAR  \n",
       "0  10.4412  432.2674  21.4094  20.6272   14.803   0.0  \n",
       "1  10.4248  432.2674  21.4042  20.6202  14.8002   0.0  \n",
       "2   10.414  432.2674  21.4102  20.5971  14.7837   0.0  \n",
       "3  10.4083  432.2674  21.4102  20.5999  14.7966   0.0  \n",
       "4  10.4053  432.2674  21.4136  20.6341  14.7997   0.0  \n",
       "\n",
       "[5 rows x 29 columns]"
      ]
     },
     "execution_count": 9,
     "metadata": {},
     "output_type": "execute_result"
    }
   ],
   "source": [
    "# load the selected file into the data frame.\n",
    "pbr_rawDF = pd.read_csv(file_path, sep=',')\n",
    "pbr_rawDF.head(5)"
   ]
  },
  {
   "cell_type": "code",
   "execution_count": 19,
   "metadata": {},
   "outputs": [],
   "source": [
    "pbr_raw_tmp1 = pbr_rawDF.copy()"
   ]
  },
  {
   "cell_type": "markdown",
   "metadata": {},
   "source": [
    "#### Data preprocessing function (chain programming)"
   ]
  },
  {
   "cell_type": "code",
   "execution_count": 165,
   "metadata": {},
   "outputs": [],
   "source": [
    "def pbr_preProcess(pbr_rawDF):\n",
    "    pbr_raw_tmp1 = pbr_rawDF.copy()\n",
    "    pbr_raw_tmp1.insert(loc=0, column='trial_no', value=trial_no)\n",
    "    pbr_raw_tmp1.insert(loc=4, column='species', value=species_id)      \n",
    "    return(\n",
    "    pbr_raw_tmp1\n",
    "    #.assign(trial_no = trail_no)\n",
    "    .rename(columns={ pbr_raw_tmp1.columns[3]: \"unit\" })\n",
    "    .assign(unit = unit_id)\n",
    "    .replace('Empty', pd.np.nan)\n",
    "    .replace([np.inf, -np.inf], pd.np.nan)\n",
    "    .astype({'primary_key':'int64', '_timeString':'datetime64[ns]','unit': 'int16','FT1':'float32', 'FT2':'float32', 'PT1_V4':'float32', 'PT2':'float32', 'FT3':'float32', 'CO2in':'float32', 'CO2_V2':'float32', 'CO2sys':'float32', 'LT1':'float32', 'LReactor':'float32', 'C_g':'float32', 'C_Eff':'float32', 'C_CD':'float32', 'T_CD':'float32', 'C_D_g':'float32', 'C_D_Eff':'float32', 'QT':'float32', 'QC':'float32', 'QB':'float32', 'QR':'float32', 'QG':'float32', 'QT_corr':'float32', 'TT0':'float32', 'TT1':'float32', 'pH':'float32', 'C_PAR':'float32'})\n",
    "    )\n",
    "    #.astype({'primary_key':'int64', '_timeString':'datetime64[ns]','unit': 'int16','FT1':'float32', 'FT2':'float32', 'PT1_V4':'float32', 'PT2':'float32', 'FT3':'float32', 'CO2in':'float32', 'CO2_V2':'float32', 'CO2sys':'float32', 'LT1':'float32', 'LReactor':'float32', 'C_g':'float32', 'C_Eff':'float32', 'C_CD':'float32', 'T_CD':'float32', 'C_D_g':'float32', 'C_D_Eff':'float32', 'QT':'float32', 'QC':'float32', 'QB':'float32', 'QR':'float32', 'QG':'float32', 'QT_corr':'float32', 'TT0':'float32', 'TT1':'float32', 'pH':'float32', 'C_PAR':'float32'})\n",
    "\n",
    "pbr_cleaned = pbr_preProcess(pbr_rawDF)"
   ]
  },
  {
   "cell_type": "code",
   "execution_count": 166,
   "metadata": {},
   "outputs": [],
   "source": [
    "pbr_cleaned_tmp= pbr_cleaned.copy()\n",
    "pbr_columns = ['FT1', 'FT2', 'PT1_V4', 'PT2', 'FT3', 'CO2in', 'CO2_V2', 'CO2sys', 'LT1', 'LReactor', 'C_g', 'C_Eff', 'C_CD', 'T_CD', 'C_D_g', 'C_D_Eff', 'QT', 'QC', 'QB', 'QR', 'QG', 'QT_corr', 'TT0', 'TT1', 'pH', 'C_PAR']"
   ]
  },
  {
   "cell_type": "code",
   "execution_count": 167,
   "metadata": {},
   "outputs": [
    {
     "name": "stdout",
     "output_type": "stream",
     "text": [
      "FT1\n",
      "FT2\n",
      "PT1_V4\n",
      "PT2\n",
      "FT3\n",
      "CO2in\n",
      "CO2_V2\n",
      "CO2sys\n",
      "LT1\n",
      "LReactor\n",
      "C_g\n",
      "C_Eff\n",
      "C_CD\n",
      "T_CD\n",
      "C_D_g\n",
      "C_D_Eff\n",
      "QT\n",
      "QC\n",
      "QB\n",
      "QR\n",
      "QG\n",
      "QT_corr\n",
      "TT0\n",
      "TT1\n",
      "pH\n",
      "C_PAR\n"
     ]
    }
   ],
   "source": [
    "for pbr_col in pbr_columns:\n",
    "    print(pbr_col)\n",
    "    pbr_cleaned_tmp[pbr_col]=pbr_cleaned_tmp[pbr_col].interpolate(method='linear')\n",
    "\n",
    "\n",
    "#pbr_cleaned[pbr_columns]=pbr_cleaned[pbr_columns].fillna(df.mode().iloc[0])"
   ]
  },
  {
   "cell_type": "code",
   "execution_count": 168,
   "metadata": {},
   "outputs": [
    {
     "data": {
      "text/plain": [
       "trial_no       0\n",
       "primary_key    0\n",
       "_timeString    0\n",
       "unit           0\n",
       "species        0\n",
       "FT1            0\n",
       "FT2            0\n",
       "PT1_V4         0\n",
       "PT2            0\n",
       "FT3            0\n",
       "CO2in          0\n",
       "CO2_V2         0\n",
       "CO2sys         0\n",
       "LT1            0\n",
       "LReactor       0\n",
       "C_g            0\n",
       "C_Eff          0\n",
       "C_CD           0\n",
       "T_CD           0\n",
       "C_D_g          0\n",
       "C_D_Eff        0\n",
       "QT             0\n",
       "QC             0\n",
       "QB             0\n",
       "QR             0\n",
       "QG             0\n",
       "QT_corr        0\n",
       "TT0            0\n",
       "TT1            0\n",
       "pH             0\n",
       "C_PAR          0\n",
       "dtype: int64"
      ]
     },
     "execution_count": 168,
     "metadata": {},
     "output_type": "execute_result"
    }
   ],
   "source": [
    "pbr_cleaned_tmp.isna().sum()"
   ]
  },
  {
   "cell_type": "code",
   "execution_count": 171,
   "metadata": {},
   "outputs": [],
   "source": [
    "#pbr_cleaned_tmp['QC'].value_counts(dropna= False).head(50)\n",
    "\n",
    "ds = pbr_cleaned_tmp.isin([np.inf, -np.inf]).values.sum()\n",
    "\n"
   ]
  },
  {
   "cell_type": "code",
   "execution_count": 172,
   "metadata": {},
   "outputs": [
    {
     "data": {
      "text/plain": [
       "31112"
      ]
     },
     "execution_count": 172,
     "metadata": {},
     "output_type": "execute_result"
    }
   ],
   "source": [
    "ds"
   ]
  },
  {
   "cell_type": "code",
   "execution_count": 173,
   "metadata": {},
   "outputs": [
    {
     "data": {
      "text/plain": [
       "31112"
      ]
     },
     "execution_count": 173,
     "metadata": {},
     "output_type": "execute_result"
    }
   ],
   "source": [
    "count = np.isinf(pbr_cleaned_tmp).values.sum()\n",
    "count"
   ]
  },
  {
   "cell_type": "code",
   "execution_count": 174,
   "metadata": {},
   "outputs": [
    {
     "name": "stdout",
     "output_type": "stream",
     "text": [
      "printing column name where infinity is present\n",
      "C_D_g        C_D_g\n",
      "C_D_Eff    C_D_Eff\n",
      "dtype: object\n"
     ]
    }
   ],
   "source": [
    "print(\"printing column name where infinity is present\")\n",
    "col_name = pbr_cleaned_tmp.columns.to_series()[np.isinf(pbr_cleaned_tmp).any()]\n",
    "print(col_name)"
   ]
  },
  {
   "cell_type": "code",
   "execution_count": 175,
   "metadata": {},
   "outputs": [
    {
     "data": {
      "text/plain": [
       "15737"
      ]
     },
     "execution_count": 175,
     "metadata": {},
     "output_type": "execute_result"
    }
   ],
   "source": [
    "# counting infinity in a particular column name\n",
    "c = np.isinf(pbr_cleaned_tmp['C_D_g']).values.sum()\n",
    "c"
   ]
  },
  {
   "cell_type": "code",
   "execution_count": 176,
   "metadata": {},
   "outputs": [
    {
     "data": {
      "text/plain": [
       "15375"
      ]
     },
     "execution_count": 176,
     "metadata": {},
     "output_type": "execute_result"
    }
   ],
   "source": [
    "# counting infinity in a particular column name\n",
    "c = np.isinf(pbr_cleaned_tmp['C_D_Eff']).values.sum()\n",
    "c"
   ]
  },
  {
   "cell_type": "code",
   "execution_count": 177,
   "metadata": {},
   "outputs": [
    {
     "name": "stdout",
     "output_type": "stream",
     "text": [
      "Int64Index([ 841000,  841001,  841002,  841003,  841004,  841005,  841006,\n",
      "             841007,  841008,  841009,\n",
      "            ...\n",
      "            1843551, 1843552, 1843553, 1843554, 1843555, 1843556, 1843557,\n",
      "            1843558, 1843559, 1843560],\n",
      "           dtype='int64', length=15737)\n"
     ]
    }
   ],
   "source": [
    "r = pbr_cleaned_tmp.index[np.isinf(pbr_cleaned_tmp).any(1)]\n",
    "print(r)"
   ]
  },
  {
   "cell_type": "code",
   "execution_count": 161,
   "metadata": {},
   "outputs": [
    {
     "data": {
      "text/plain": [
       "391940    2.944051\n",
       "391941    2.914902\n",
       "391942    2.885753\n",
       "391943    2.856604\n",
       "391944    2.827455\n",
       "391945    2.798306\n",
       "391946    2.769157\n",
       "391947    2.740008\n",
       "391948    2.710859\n",
       "Name: C_D_Eff, dtype: float32"
      ]
     },
     "execution_count": 161,
     "metadata": {},
     "output_type": "execute_result"
    }
   ],
   "source": [
    "pbr_cleaned_tmp['C_D_Eff'].iloc[391940:391949]"
   ]
  },
  {
   "cell_type": "code",
   "execution_count": 162,
   "metadata": {},
   "outputs": [
    {
     "data": {
      "text/plain": [
       "391940   NaN\n",
       "391941   NaN\n",
       "391942   NaN\n",
       "391943   NaN\n",
       "391944   NaN\n",
       "391945   NaN\n",
       "391946   NaN\n",
       "391947   NaN\n",
       "391948   NaN\n",
       "Name: C_D_Eff, dtype: float32"
      ]
     },
     "execution_count": 162,
     "metadata": {},
     "output_type": "execute_result"
    }
   ],
   "source": [
    "pbr_cleaned['C_D_Eff'].iloc[391940:391949]"
   ]
  },
  {
   "cell_type": "code",
   "execution_count": 163,
   "metadata": {},
   "outputs": [
    {
     "data": {
      "text/plain": [
       "391940    inf\n",
       "391941    inf\n",
       "391942    inf\n",
       "391943    inf\n",
       "391944    inf\n",
       "391945    NaN\n",
       "391946    inf\n",
       "391947    inf\n",
       "391948    inf\n",
       "Name: C_D_Eff, dtype: object"
      ]
     },
     "execution_count": 163,
     "metadata": {},
     "output_type": "execute_result"
    }
   ],
   "source": [
    "pbr_rawDF['C_D_Eff'].iloc[391940:391949]"
   ]
  },
  {
   "cell_type": "code",
   "execution_count": null,
   "metadata": {},
   "outputs": [],
   "source": [
    "inf, -nan\n",
    "\n"
   ]
  },
  {
   "cell_type": "code",
   "execution_count": 164,
   "metadata": {},
   "outputs": [
    {
     "data": {
      "text/plain": [
       "trial_no           0\n",
       "primary_key        0\n",
       "_timeString        0\n",
       "unit               0\n",
       "species            0\n",
       "FT1                0\n",
       "FT2                0\n",
       "PT1_V4             0\n",
       "PT2                0\n",
       "FT3                0\n",
       "CO2in              0\n",
       "CO2_V2             0\n",
       "CO2sys             0\n",
       "LT1                0\n",
       "LReactor           0\n",
       "C_g                0\n",
       "C_Eff              0\n",
       "C_CD               0\n",
       "T_CD               0\n",
       "C_D_g          15737\n",
       "C_D_Eff        15375\n",
       "QT                 0\n",
       "QC                 0\n",
       "QB                 0\n",
       "QR                 0\n",
       "QG                 0\n",
       "QT_corr            0\n",
       "TT0                0\n",
       "TT1                0\n",
       "pH                 0\n",
       "C_PAR              0\n",
       "dtype: int64"
      ]
     },
     "execution_count": 164,
     "metadata": {},
     "output_type": "execute_result"
    }
   ],
   "source": [
    "pbr_cleaned_tmp.isin([np.inf]).sum(axis=0)"
   ]
  },
  {
   "cell_type": "code",
   "execution_count": 143,
   "metadata": {},
   "outputs": [
    {
     "ename": "ValueError",
     "evalue": "cannot specify integer `bins` when input data contains infinity",
     "output_type": "error",
     "traceback": [
      "\u001b[1;31m---------------------------------------------------------------------------\u001b[0m",
      "\u001b[1;31mValueError\u001b[0m                                Traceback (most recent call last)",
      "\u001b[1;32mc:\\Users\\shyam.kalliadan\\Desktop\\ESR10\\programming\\ESR_10\\WP1\\data_cleaning_DBexport\\_2_pbr\\2_pbr_dbexport.ipynb Cell 32'\u001b[0m in \u001b[0;36m<module>\u001b[1;34m\u001b[0m\n\u001b[1;32m----> <a href='vscode-notebook-cell:/c%3A/Users/shyam.kalliadan/Desktop/ESR10/programming/ESR_10/WP1/data_cleaning_DBexport/_2_pbr/2_pbr_dbexport.ipynb#ch0000055?line=0'>1</a>\u001b[0m pbr_cleaned_tmp[\u001b[39m'\u001b[39;49m\u001b[39mC_D_Eff\u001b[39;49m\u001b[39m'\u001b[39;49m]\u001b[39m.\u001b[39;49mvalue_counts(bins\u001b[39m=\u001b[39;49m\u001b[39m5\u001b[39;49m)\n",
      "File \u001b[1;32mc:\\Users\\shyam.kalliadan\\Desktop\\ESR10\\programming\\ESR_10\\.venv\\lib\\site-packages\\pandas\\core\\base.py:970\u001b[0m, in \u001b[0;36mIndexOpsMixin.value_counts\u001b[1;34m(self, normalize, sort, ascending, bins, dropna)\u001b[0m\n\u001b[0;32m    <a href='file:///c%3A/Users/shyam.kalliadan/Desktop/ESR10/programming/ESR_10/.venv/lib/site-packages/pandas/core/base.py?line=883'>884</a>\u001b[0m \u001b[39mdef\u001b[39;00m \u001b[39mvalue_counts\u001b[39m(\n\u001b[0;32m    <a href='file:///c%3A/Users/shyam.kalliadan/Desktop/ESR10/programming/ESR_10/.venv/lib/site-packages/pandas/core/base.py?line=884'>885</a>\u001b[0m     \u001b[39mself\u001b[39m,\n\u001b[0;32m    <a href='file:///c%3A/Users/shyam.kalliadan/Desktop/ESR10/programming/ESR_10/.venv/lib/site-packages/pandas/core/base.py?line=885'>886</a>\u001b[0m     normalize: \u001b[39mbool\u001b[39m \u001b[39m=\u001b[39m \u001b[39mFalse\u001b[39;00m,\n\u001b[1;32m   (...)\u001b[0m\n\u001b[0;32m    <a href='file:///c%3A/Users/shyam.kalliadan/Desktop/ESR10/programming/ESR_10/.venv/lib/site-packages/pandas/core/base.py?line=889'>890</a>\u001b[0m     dropna: \u001b[39mbool\u001b[39m \u001b[39m=\u001b[39m \u001b[39mTrue\u001b[39;00m,\n\u001b[0;32m    <a href='file:///c%3A/Users/shyam.kalliadan/Desktop/ESR10/programming/ESR_10/.venv/lib/site-packages/pandas/core/base.py?line=890'>891</a>\u001b[0m ):\n\u001b[0;32m    <a href='file:///c%3A/Users/shyam.kalliadan/Desktop/ESR10/programming/ESR_10/.venv/lib/site-packages/pandas/core/base.py?line=891'>892</a>\u001b[0m     \u001b[39m\"\"\"\u001b[39;00m\n\u001b[0;32m    <a href='file:///c%3A/Users/shyam.kalliadan/Desktop/ESR10/programming/ESR_10/.venv/lib/site-packages/pandas/core/base.py?line=892'>893</a>\u001b[0m \u001b[39m    Return a Series containing counts of unique values.\u001b[39;00m\n\u001b[0;32m    <a href='file:///c%3A/Users/shyam.kalliadan/Desktop/ESR10/programming/ESR_10/.venv/lib/site-packages/pandas/core/base.py?line=893'>894</a>\u001b[0m \n\u001b[1;32m   (...)\u001b[0m\n\u001b[0;32m    <a href='file:///c%3A/Users/shyam.kalliadan/Desktop/ESR10/programming/ESR_10/.venv/lib/site-packages/pandas/core/base.py?line=967'>968</a>\u001b[0m \u001b[39m    dtype: int64\u001b[39;00m\n\u001b[0;32m    <a href='file:///c%3A/Users/shyam.kalliadan/Desktop/ESR10/programming/ESR_10/.venv/lib/site-packages/pandas/core/base.py?line=968'>969</a>\u001b[0m \u001b[39m    \"\"\"\u001b[39;00m\n\u001b[1;32m--> <a href='file:///c%3A/Users/shyam.kalliadan/Desktop/ESR10/programming/ESR_10/.venv/lib/site-packages/pandas/core/base.py?line=969'>970</a>\u001b[0m     \u001b[39mreturn\u001b[39;00m value_counts(\n\u001b[0;32m    <a href='file:///c%3A/Users/shyam.kalliadan/Desktop/ESR10/programming/ESR_10/.venv/lib/site-packages/pandas/core/base.py?line=970'>971</a>\u001b[0m         \u001b[39mself\u001b[39;49m,\n\u001b[0;32m    <a href='file:///c%3A/Users/shyam.kalliadan/Desktop/ESR10/programming/ESR_10/.venv/lib/site-packages/pandas/core/base.py?line=971'>972</a>\u001b[0m         sort\u001b[39m=\u001b[39;49msort,\n\u001b[0;32m    <a href='file:///c%3A/Users/shyam.kalliadan/Desktop/ESR10/programming/ESR_10/.venv/lib/site-packages/pandas/core/base.py?line=972'>973</a>\u001b[0m         ascending\u001b[39m=\u001b[39;49mascending,\n\u001b[0;32m    <a href='file:///c%3A/Users/shyam.kalliadan/Desktop/ESR10/programming/ESR_10/.venv/lib/site-packages/pandas/core/base.py?line=973'>974</a>\u001b[0m         normalize\u001b[39m=\u001b[39;49mnormalize,\n\u001b[0;32m    <a href='file:///c%3A/Users/shyam.kalliadan/Desktop/ESR10/programming/ESR_10/.venv/lib/site-packages/pandas/core/base.py?line=974'>975</a>\u001b[0m         bins\u001b[39m=\u001b[39;49mbins,\n\u001b[0;32m    <a href='file:///c%3A/Users/shyam.kalliadan/Desktop/ESR10/programming/ESR_10/.venv/lib/site-packages/pandas/core/base.py?line=975'>976</a>\u001b[0m         dropna\u001b[39m=\u001b[39;49mdropna,\n\u001b[0;32m    <a href='file:///c%3A/Users/shyam.kalliadan/Desktop/ESR10/programming/ESR_10/.venv/lib/site-packages/pandas/core/base.py?line=976'>977</a>\u001b[0m     )\n",
      "File \u001b[1;32mc:\\Users\\shyam.kalliadan\\Desktop\\ESR10\\programming\\ESR_10\\.venv\\lib\\site-packages\\pandas\\core\\algorithms.py:838\u001b[0m, in \u001b[0;36mvalue_counts\u001b[1;34m(values, sort, ascending, normalize, bins, dropna)\u001b[0m\n\u001b[0;32m    <a href='file:///c%3A/Users/shyam.kalliadan/Desktop/ESR10/programming/ESR_10/.venv/lib/site-packages/pandas/core/algorithms.py?line=835'>836</a>\u001b[0m values \u001b[39m=\u001b[39m Series(values)\n\u001b[0;32m    <a href='file:///c%3A/Users/shyam.kalliadan/Desktop/ESR10/programming/ESR_10/.venv/lib/site-packages/pandas/core/algorithms.py?line=836'>837</a>\u001b[0m \u001b[39mtry\u001b[39;00m:\n\u001b[1;32m--> <a href='file:///c%3A/Users/shyam.kalliadan/Desktop/ESR10/programming/ESR_10/.venv/lib/site-packages/pandas/core/algorithms.py?line=837'>838</a>\u001b[0m     ii \u001b[39m=\u001b[39m cut(values, bins, include_lowest\u001b[39m=\u001b[39;49m\u001b[39mTrue\u001b[39;49;00m)\n\u001b[0;32m    <a href='file:///c%3A/Users/shyam.kalliadan/Desktop/ESR10/programming/ESR_10/.venv/lib/site-packages/pandas/core/algorithms.py?line=838'>839</a>\u001b[0m \u001b[39mexcept\u001b[39;00m \u001b[39mTypeError\u001b[39;00m \u001b[39mas\u001b[39;00m err:\n\u001b[0;32m    <a href='file:///c%3A/Users/shyam.kalliadan/Desktop/ESR10/programming/ESR_10/.venv/lib/site-packages/pandas/core/algorithms.py?line=839'>840</a>\u001b[0m     \u001b[39mraise\u001b[39;00m \u001b[39mTypeError\u001b[39;00m(\u001b[39m\"\u001b[39m\u001b[39mbins argument only works with numeric data.\u001b[39m\u001b[39m\"\u001b[39m) \u001b[39mfrom\u001b[39;00m \u001b[39merr\u001b[39;00m\n",
      "File \u001b[1;32mc:\\Users\\shyam.kalliadan\\Desktop\\ESR10\\programming\\ESR_10\\.venv\\lib\\site-packages\\pandas\\core\\reshape\\tile.py:260\u001b[0m, in \u001b[0;36mcut\u001b[1;34m(x, bins, right, labels, retbins, precision, include_lowest, duplicates, ordered)\u001b[0m\n\u001b[0;32m    <a href='file:///c%3A/Users/shyam.kalliadan/Desktop/ESR10/programming/ESR_10/.venv/lib/site-packages/pandas/core/reshape/tile.py?line=255'>256</a>\u001b[0m mn, mx \u001b[39m=\u001b[39m (mi \u001b[39m+\u001b[39m \u001b[39m0.0\u001b[39m \u001b[39mfor\u001b[39;00m mi \u001b[39min\u001b[39;00m rng)\n\u001b[0;32m    <a href='file:///c%3A/Users/shyam.kalliadan/Desktop/ESR10/programming/ESR_10/.venv/lib/site-packages/pandas/core/reshape/tile.py?line=257'>258</a>\u001b[0m \u001b[39mif\u001b[39;00m np\u001b[39m.\u001b[39misinf(mn) \u001b[39mor\u001b[39;00m np\u001b[39m.\u001b[39misinf(mx):\n\u001b[0;32m    <a href='file:///c%3A/Users/shyam.kalliadan/Desktop/ESR10/programming/ESR_10/.venv/lib/site-packages/pandas/core/reshape/tile.py?line=258'>259</a>\u001b[0m     \u001b[39m# GH 24314\u001b[39;00m\n\u001b[1;32m--> <a href='file:///c%3A/Users/shyam.kalliadan/Desktop/ESR10/programming/ESR_10/.venv/lib/site-packages/pandas/core/reshape/tile.py?line=259'>260</a>\u001b[0m     \u001b[39mraise\u001b[39;00m \u001b[39mValueError\u001b[39;00m(\n\u001b[0;32m    <a href='file:///c%3A/Users/shyam.kalliadan/Desktop/ESR10/programming/ESR_10/.venv/lib/site-packages/pandas/core/reshape/tile.py?line=260'>261</a>\u001b[0m         \u001b[39m\"\u001b[39m\u001b[39mcannot specify integer `bins` when input data contains infinity\u001b[39m\u001b[39m\"\u001b[39m\n\u001b[0;32m    <a href='file:///c%3A/Users/shyam.kalliadan/Desktop/ESR10/programming/ESR_10/.venv/lib/site-packages/pandas/core/reshape/tile.py?line=261'>262</a>\u001b[0m     )\n\u001b[0;32m    <a href='file:///c%3A/Users/shyam.kalliadan/Desktop/ESR10/programming/ESR_10/.venv/lib/site-packages/pandas/core/reshape/tile.py?line=262'>263</a>\u001b[0m \u001b[39melif\u001b[39;00m mn \u001b[39m==\u001b[39m mx:  \u001b[39m# adjust end points before binning\u001b[39;00m\n\u001b[0;32m    <a href='file:///c%3A/Users/shyam.kalliadan/Desktop/ESR10/programming/ESR_10/.venv/lib/site-packages/pandas/core/reshape/tile.py?line=263'>264</a>\u001b[0m     mn \u001b[39m-\u001b[39m\u001b[39m=\u001b[39m \u001b[39m0.001\u001b[39m \u001b[39m*\u001b[39m \u001b[39mabs\u001b[39m(mn) \u001b[39mif\u001b[39;00m mn \u001b[39m!=\u001b[39m \u001b[39m0\u001b[39m \u001b[39melse\u001b[39;00m \u001b[39m0.001\u001b[39m\n",
      "\u001b[1;31mValueError\u001b[0m: cannot specify integer `bins` when input data contains infinity"
     ]
    }
   ],
   "source": [
    "pbr_cleaned_tmp['C_D_Eff'].value_counts(bins=5)"
   ]
  },
  {
   "cell_type": "markdown",
   "metadata": {},
   "source": [
    "### Export Cleaned Data into DB"
   ]
  },
  {
   "cell_type": "code",
   "execution_count": null,
   "metadata": {},
   "outputs": [],
   "source": []
  },
  {
   "cell_type": "code",
   "execution_count": 105,
   "metadata": {},
   "outputs": [],
   "source": [
    "connection = pymysql.connect(host='localhost',\n",
    "                            user='root',\n",
    "                            password='password',\n",
    "                            db='data_dashboard')\n",
    "\n",
    "# create cursor\n",
    "cursor=connection.cursor()"
   ]
  },
  {
   "cell_type": "code",
   "execution_count": 109,
   "metadata": {},
   "outputs": [],
   "source": [
    "cols = \"`,`\".join([str(i) for i in pbr_cleaned.columns.tolist()])"
   ]
  },
  {
   "cell_type": "code",
   "execution_count": 110,
   "metadata": {},
   "outputs": [
    {
     "ename": "ProgrammingError",
     "evalue": "inf can not be used with MySQL",
     "output_type": "error",
     "traceback": [
      "\u001b[1;31m---------------------------------------------------------------------------\u001b[0m",
      "\u001b[1;31mProgrammingError\u001b[0m                          Traceback (most recent call last)",
      "\u001b[1;32mc:\\Users\\shyam.kalliadan\\Desktop\\ESR10\\programming\\ESR_10\\WP1\\data_cleaning_DBexport\\_2_pbr\\2_pbr_dbexport.ipynb Cell 26'\u001b[0m in \u001b[0;36m<module>\u001b[1;34m\u001b[0m\n\u001b[0;32m      <a href='vscode-notebook-cell:/c%3A/Users/shyam.kalliadan/Desktop/ESR10/programming/ESR_10/WP1/data_cleaning_DBexport/_2_pbr/2_pbr_dbexport.ipynb#ch0000033?line=0'>1</a>\u001b[0m \u001b[39mfor\u001b[39;00m i,row \u001b[39min\u001b[39;00m pbr_cleaned_tmp\u001b[39m.\u001b[39miterrows():\n\u001b[0;32m      <a href='vscode-notebook-cell:/c%3A/Users/shyam.kalliadan/Desktop/ESR10/programming/ESR_10/WP1/data_cleaning_DBexport/_2_pbr/2_pbr_dbexport.ipynb#ch0000033?line=1'>2</a>\u001b[0m     sql \u001b[39m=\u001b[39m \u001b[39m\"\u001b[39m\u001b[39mINSERT INTO `tbl_pbr_data` (`\u001b[39m\u001b[39m\"\u001b[39m \u001b[39m+\u001b[39mcols \u001b[39m+\u001b[39m \u001b[39m\"\u001b[39m\u001b[39m`) VALUES (\u001b[39m\u001b[39m\"\u001b[39m \u001b[39m+\u001b[39m \u001b[39m\"\u001b[39m\u001b[39m%s\u001b[39;00m\u001b[39m,\u001b[39m\u001b[39m\"\u001b[39m\u001b[39m*\u001b[39m(\u001b[39mlen\u001b[39m(row)\u001b[39m-\u001b[39m\u001b[39m1\u001b[39m) \u001b[39m+\u001b[39m \u001b[39m\"\u001b[39m\u001b[39m%s\u001b[39;00m\u001b[39m)\u001b[39m\u001b[39m\"\u001b[39m\n\u001b[1;32m----> <a href='vscode-notebook-cell:/c%3A/Users/shyam.kalliadan/Desktop/ESR10/programming/ESR_10/WP1/data_cleaning_DBexport/_2_pbr/2_pbr_dbexport.ipynb#ch0000033?line=2'>3</a>\u001b[0m     cursor\u001b[39m.\u001b[39;49mexecute(sql, \u001b[39mtuple\u001b[39;49m(row))\n",
      "File \u001b[1;32mc:\\Users\\shyam.kalliadan\\Desktop\\ESR10\\programming\\ESR_10\\.venv\\lib\\site-packages\\pymysql\\cursors.py:146\u001b[0m, in \u001b[0;36mCursor.execute\u001b[1;34m(self, query, args)\u001b[0m\n\u001b[0;32m    <a href='file:///c%3A/Users/shyam.kalliadan/Desktop/ESR10/programming/ESR_10/.venv/lib/site-packages/pymysql/cursors.py?line=142'>143</a>\u001b[0m \u001b[39mwhile\u001b[39;00m \u001b[39mself\u001b[39m\u001b[39m.\u001b[39mnextset():\n\u001b[0;32m    <a href='file:///c%3A/Users/shyam.kalliadan/Desktop/ESR10/programming/ESR_10/.venv/lib/site-packages/pymysql/cursors.py?line=143'>144</a>\u001b[0m     \u001b[39mpass\u001b[39;00m\n\u001b[1;32m--> <a href='file:///c%3A/Users/shyam.kalliadan/Desktop/ESR10/programming/ESR_10/.venv/lib/site-packages/pymysql/cursors.py?line=145'>146</a>\u001b[0m query \u001b[39m=\u001b[39m \u001b[39mself\u001b[39;49m\u001b[39m.\u001b[39;49mmogrify(query, args)\n\u001b[0;32m    <a href='file:///c%3A/Users/shyam.kalliadan/Desktop/ESR10/programming/ESR_10/.venv/lib/site-packages/pymysql/cursors.py?line=147'>148</a>\u001b[0m result \u001b[39m=\u001b[39m \u001b[39mself\u001b[39m\u001b[39m.\u001b[39m_query(query)\n\u001b[0;32m    <a href='file:///c%3A/Users/shyam.kalliadan/Desktop/ESR10/programming/ESR_10/.venv/lib/site-packages/pymysql/cursors.py?line=148'>149</a>\u001b[0m \u001b[39mself\u001b[39m\u001b[39m.\u001b[39m_executed \u001b[39m=\u001b[39m query\n",
      "File \u001b[1;32mc:\\Users\\shyam.kalliadan\\Desktop\\ESR10\\programming\\ESR_10\\.venv\\lib\\site-packages\\pymysql\\cursors.py:125\u001b[0m, in \u001b[0;36mCursor.mogrify\u001b[1;34m(self, query, args)\u001b[0m\n\u001b[0;32m    <a href='file:///c%3A/Users/shyam.kalliadan/Desktop/ESR10/programming/ESR_10/.venv/lib/site-packages/pymysql/cursors.py?line=121'>122</a>\u001b[0m conn \u001b[39m=\u001b[39m \u001b[39mself\u001b[39m\u001b[39m.\u001b[39m_get_db()\n\u001b[0;32m    <a href='file:///c%3A/Users/shyam.kalliadan/Desktop/ESR10/programming/ESR_10/.venv/lib/site-packages/pymysql/cursors.py?line=123'>124</a>\u001b[0m \u001b[39mif\u001b[39;00m args \u001b[39mis\u001b[39;00m \u001b[39mnot\u001b[39;00m \u001b[39mNone\u001b[39;00m:\n\u001b[1;32m--> <a href='file:///c%3A/Users/shyam.kalliadan/Desktop/ESR10/programming/ESR_10/.venv/lib/site-packages/pymysql/cursors.py?line=124'>125</a>\u001b[0m     query \u001b[39m=\u001b[39m query \u001b[39m%\u001b[39m \u001b[39mself\u001b[39;49m\u001b[39m.\u001b[39;49m_escape_args(args, conn)\n\u001b[0;32m    <a href='file:///c%3A/Users/shyam.kalliadan/Desktop/ESR10/programming/ESR_10/.venv/lib/site-packages/pymysql/cursors.py?line=126'>127</a>\u001b[0m \u001b[39mreturn\u001b[39;00m query\n",
      "File \u001b[1;32mc:\\Users\\shyam.kalliadan\\Desktop\\ESR10\\programming\\ESR_10\\.venv\\lib\\site-packages\\pymysql\\cursors.py:107\u001b[0m, in \u001b[0;36mCursor._escape_args\u001b[1;34m(self, args, conn)\u001b[0m\n\u001b[0;32m    <a href='file:///c%3A/Users/shyam.kalliadan/Desktop/ESR10/programming/ESR_10/.venv/lib/site-packages/pymysql/cursors.py?line=104'>105</a>\u001b[0m \u001b[39mdef\u001b[39;00m \u001b[39m_escape_args\u001b[39m(\u001b[39mself\u001b[39m, args, conn):\n\u001b[0;32m    <a href='file:///c%3A/Users/shyam.kalliadan/Desktop/ESR10/programming/ESR_10/.venv/lib/site-packages/pymysql/cursors.py?line=105'>106</a>\u001b[0m     \u001b[39mif\u001b[39;00m \u001b[39misinstance\u001b[39m(args, (\u001b[39mtuple\u001b[39m, \u001b[39mlist\u001b[39m)):\n\u001b[1;32m--> <a href='file:///c%3A/Users/shyam.kalliadan/Desktop/ESR10/programming/ESR_10/.venv/lib/site-packages/pymysql/cursors.py?line=106'>107</a>\u001b[0m         \u001b[39mreturn\u001b[39;00m \u001b[39mtuple\u001b[39;49m(conn\u001b[39m.\u001b[39;49mliteral(arg) \u001b[39mfor\u001b[39;49;00m arg \u001b[39min\u001b[39;49;00m args)\n\u001b[0;32m    <a href='file:///c%3A/Users/shyam.kalliadan/Desktop/ESR10/programming/ESR_10/.venv/lib/site-packages/pymysql/cursors.py?line=107'>108</a>\u001b[0m     \u001b[39melif\u001b[39;00m \u001b[39misinstance\u001b[39m(args, \u001b[39mdict\u001b[39m):\n\u001b[0;32m    <a href='file:///c%3A/Users/shyam.kalliadan/Desktop/ESR10/programming/ESR_10/.venv/lib/site-packages/pymysql/cursors.py?line=108'>109</a>\u001b[0m         \u001b[39mreturn\u001b[39;00m {key: conn\u001b[39m.\u001b[39mliteral(val) \u001b[39mfor\u001b[39;00m (key, val) \u001b[39min\u001b[39;00m args\u001b[39m.\u001b[39mitems()}\n",
      "File \u001b[1;32mc:\\Users\\shyam.kalliadan\\Desktop\\ESR10\\programming\\ESR_10\\.venv\\lib\\site-packages\\pymysql\\cursors.py:107\u001b[0m, in \u001b[0;36m<genexpr>\u001b[1;34m(.0)\u001b[0m\n\u001b[0;32m    <a href='file:///c%3A/Users/shyam.kalliadan/Desktop/ESR10/programming/ESR_10/.venv/lib/site-packages/pymysql/cursors.py?line=104'>105</a>\u001b[0m \u001b[39mdef\u001b[39;00m \u001b[39m_escape_args\u001b[39m(\u001b[39mself\u001b[39m, args, conn):\n\u001b[0;32m    <a href='file:///c%3A/Users/shyam.kalliadan/Desktop/ESR10/programming/ESR_10/.venv/lib/site-packages/pymysql/cursors.py?line=105'>106</a>\u001b[0m     \u001b[39mif\u001b[39;00m \u001b[39misinstance\u001b[39m(args, (\u001b[39mtuple\u001b[39m, \u001b[39mlist\u001b[39m)):\n\u001b[1;32m--> <a href='file:///c%3A/Users/shyam.kalliadan/Desktop/ESR10/programming/ESR_10/.venv/lib/site-packages/pymysql/cursors.py?line=106'>107</a>\u001b[0m         \u001b[39mreturn\u001b[39;00m \u001b[39mtuple\u001b[39m(conn\u001b[39m.\u001b[39;49mliteral(arg) \u001b[39mfor\u001b[39;00m arg \u001b[39min\u001b[39;00m args)\n\u001b[0;32m    <a href='file:///c%3A/Users/shyam.kalliadan/Desktop/ESR10/programming/ESR_10/.venv/lib/site-packages/pymysql/cursors.py?line=107'>108</a>\u001b[0m     \u001b[39melif\u001b[39;00m \u001b[39misinstance\u001b[39m(args, \u001b[39mdict\u001b[39m):\n\u001b[0;32m    <a href='file:///c%3A/Users/shyam.kalliadan/Desktop/ESR10/programming/ESR_10/.venv/lib/site-packages/pymysql/cursors.py?line=108'>109</a>\u001b[0m         \u001b[39mreturn\u001b[39;00m {key: conn\u001b[39m.\u001b[39mliteral(val) \u001b[39mfor\u001b[39;00m (key, val) \u001b[39min\u001b[39;00m args\u001b[39m.\u001b[39mitems()}\n",
      "File \u001b[1;32mc:\\Users\\shyam.kalliadan\\Desktop\\ESR10\\programming\\ESR_10\\.venv\\lib\\site-packages\\pymysql\\connections.py:517\u001b[0m, in \u001b[0;36mConnection.literal\u001b[1;34m(self, obj)\u001b[0m\n\u001b[0;32m    <a href='file:///c%3A/Users/shyam.kalliadan/Desktop/ESR10/programming/ESR_10/.venv/lib/site-packages/pymysql/connections.py?line=511'>512</a>\u001b[0m \u001b[39mdef\u001b[39;00m \u001b[39mliteral\u001b[39m(\u001b[39mself\u001b[39m, obj):\n\u001b[0;32m    <a href='file:///c%3A/Users/shyam.kalliadan/Desktop/ESR10/programming/ESR_10/.venv/lib/site-packages/pymysql/connections.py?line=512'>513</a>\u001b[0m     \u001b[39m\"\"\"Alias for escape()\u001b[39;00m\n\u001b[0;32m    <a href='file:///c%3A/Users/shyam.kalliadan/Desktop/ESR10/programming/ESR_10/.venv/lib/site-packages/pymysql/connections.py?line=513'>514</a>\u001b[0m \n\u001b[0;32m    <a href='file:///c%3A/Users/shyam.kalliadan/Desktop/ESR10/programming/ESR_10/.venv/lib/site-packages/pymysql/connections.py?line=514'>515</a>\u001b[0m \u001b[39m    Non-standard, for internal use; do not use this in your applications.\u001b[39;00m\n\u001b[0;32m    <a href='file:///c%3A/Users/shyam.kalliadan/Desktop/ESR10/programming/ESR_10/.venv/lib/site-packages/pymysql/connections.py?line=515'>516</a>\u001b[0m \u001b[39m    \"\"\"\u001b[39;00m\n\u001b[1;32m--> <a href='file:///c%3A/Users/shyam.kalliadan/Desktop/ESR10/programming/ESR_10/.venv/lib/site-packages/pymysql/connections.py?line=516'>517</a>\u001b[0m     \u001b[39mreturn\u001b[39;00m \u001b[39mself\u001b[39;49m\u001b[39m.\u001b[39;49mescape(obj, \u001b[39mself\u001b[39;49m\u001b[39m.\u001b[39;49mencoders)\n",
      "File \u001b[1;32mc:\\Users\\shyam.kalliadan\\Desktop\\ESR10\\programming\\ESR_10\\.venv\\lib\\site-packages\\pymysql\\connections.py:510\u001b[0m, in \u001b[0;36mConnection.escape\u001b[1;34m(self, obj, mapping)\u001b[0m\n\u001b[0;32m    <a href='file:///c%3A/Users/shyam.kalliadan/Desktop/ESR10/programming/ESR_10/.venv/lib/site-packages/pymysql/connections.py?line=507'>508</a>\u001b[0m         ret \u001b[39m=\u001b[39m \u001b[39m\"\u001b[39m\u001b[39m_binary\u001b[39m\u001b[39m\"\u001b[39m \u001b[39m+\u001b[39m ret\n\u001b[0;32m    <a href='file:///c%3A/Users/shyam.kalliadan/Desktop/ESR10/programming/ESR_10/.venv/lib/site-packages/pymysql/connections.py?line=508'>509</a>\u001b[0m     \u001b[39mreturn\u001b[39;00m ret\n\u001b[1;32m--> <a href='file:///c%3A/Users/shyam.kalliadan/Desktop/ESR10/programming/ESR_10/.venv/lib/site-packages/pymysql/connections.py?line=509'>510</a>\u001b[0m \u001b[39mreturn\u001b[39;00m converters\u001b[39m.\u001b[39;49mescape_item(obj, \u001b[39mself\u001b[39;49m\u001b[39m.\u001b[39;49mcharset, mapping\u001b[39m=\u001b[39;49mmapping)\n",
      "File \u001b[1;32mc:\\Users\\shyam.kalliadan\\Desktop\\ESR10\\programming\\ESR_10\\.venv\\lib\\site-packages\\pymysql\\converters.py:25\u001b[0m, in \u001b[0;36mescape_item\u001b[1;34m(val, charset, mapping)\u001b[0m\n\u001b[0;32m     <a href='file:///c%3A/Users/shyam.kalliadan/Desktop/ESR10/programming/ESR_10/.venv/lib/site-packages/pymysql/converters.py?line=22'>23</a>\u001b[0m     val \u001b[39m=\u001b[39m encoder(val, charset, mapping)\n\u001b[0;32m     <a href='file:///c%3A/Users/shyam.kalliadan/Desktop/ESR10/programming/ESR_10/.venv/lib/site-packages/pymysql/converters.py?line=23'>24</a>\u001b[0m \u001b[39melse\u001b[39;00m:\n\u001b[1;32m---> <a href='file:///c%3A/Users/shyam.kalliadan/Desktop/ESR10/programming/ESR_10/.venv/lib/site-packages/pymysql/converters.py?line=24'>25</a>\u001b[0m     val \u001b[39m=\u001b[39m encoder(val, mapping)\n\u001b[0;32m     <a href='file:///c%3A/Users/shyam.kalliadan/Desktop/ESR10/programming/ESR_10/.venv/lib/site-packages/pymysql/converters.py?line=25'>26</a>\u001b[0m \u001b[39mreturn\u001b[39;00m val\n",
      "File \u001b[1;32mc:\\Users\\shyam.kalliadan\\Desktop\\ESR10\\programming\\ESR_10\\.venv\\lib\\site-packages\\pymysql\\converters.py:60\u001b[0m, in \u001b[0;36mescape_float\u001b[1;34m(value, mapping)\u001b[0m\n\u001b[0;32m     <a href='file:///c%3A/Users/shyam.kalliadan/Desktop/ESR10/programming/ESR_10/.venv/lib/site-packages/pymysql/converters.py?line=57'>58</a>\u001b[0m s \u001b[39m=\u001b[39m \u001b[39mrepr\u001b[39m(value)\n\u001b[0;32m     <a href='file:///c%3A/Users/shyam.kalliadan/Desktop/ESR10/programming/ESR_10/.venv/lib/site-packages/pymysql/converters.py?line=58'>59</a>\u001b[0m \u001b[39mif\u001b[39;00m s \u001b[39min\u001b[39;00m (\u001b[39m\"\u001b[39m\u001b[39minf\u001b[39m\u001b[39m\"\u001b[39m, \u001b[39m\"\u001b[39m\u001b[39mnan\u001b[39m\u001b[39m\"\u001b[39m):\n\u001b[1;32m---> <a href='file:///c%3A/Users/shyam.kalliadan/Desktop/ESR10/programming/ESR_10/.venv/lib/site-packages/pymysql/converters.py?line=59'>60</a>\u001b[0m     \u001b[39mraise\u001b[39;00m ProgrammingError(\u001b[39m\"\u001b[39m\u001b[39m%s\u001b[39;00m\u001b[39m can not be used with MySQL\u001b[39m\u001b[39m\"\u001b[39m \u001b[39m%\u001b[39m s)\n\u001b[0;32m     <a href='file:///c%3A/Users/shyam.kalliadan/Desktop/ESR10/programming/ESR_10/.venv/lib/site-packages/pymysql/converters.py?line=60'>61</a>\u001b[0m \u001b[39mif\u001b[39;00m \u001b[39m\"\u001b[39m\u001b[39me\u001b[39m\u001b[39m\"\u001b[39m \u001b[39mnot\u001b[39;00m \u001b[39min\u001b[39;00m s:\n\u001b[0;32m     <a href='file:///c%3A/Users/shyam.kalliadan/Desktop/ESR10/programming/ESR_10/.venv/lib/site-packages/pymysql/converters.py?line=61'>62</a>\u001b[0m     s \u001b[39m+\u001b[39m\u001b[39m=\u001b[39m \u001b[39m\"\u001b[39m\u001b[39me0\u001b[39m\u001b[39m\"\u001b[39m\n",
      "\u001b[1;31mProgrammingError\u001b[0m: inf can not be used with MySQL"
     ]
    }
   ],
   "source": [
    "for i,row in pbr_cleaned_tmp.iterrows():\n",
    "    sql = \"INSERT INTO `tbl_pbr_data` (`\" +cols + \"`) VALUES (\" + \"%s,\"*(len(row)-1) + \"%s)\"\n",
    "    cursor.execute(sql, tuple(row))\n",
    "    # the connection is not autocommitted by default, so we must commit to save our changes\n",
    "    #connection.commit()"
   ]
  },
  {
   "cell_type": "markdown",
   "metadata": {},
   "source": [
    "## Appendix"
   ]
  },
  {
   "cell_type": "code",
   "execution_count": null,
   "metadata": {},
   "outputs": [],
   "source": [
    "'''\n",
    "# set instance number from the file name\n",
    "trail_no = re.split(\"_\", filename)\n",
    "print(trail_no)\n",
    "trail_no = int(trail_no[1])\n",
    "print(trail_no)\n",
    "\n",
    "'''"
   ]
  },
  {
   "cell_type": "code",
   "execution_count": null,
   "metadata": {},
   "outputs": [],
   "source": [
    "'''\n",
    "unit_ID = tbl_unit.query('unit_name == \"FPC13\"')\n",
    "unit_no = unit_ID['unit_id']\n",
    "unit_no\n",
    "\n",
    "'''"
   ]
  },
  {
   "cell_type": "code",
   "execution_count": null,
   "metadata": {},
   "outputs": [],
   "source": []
  }
 ],
 "metadata": {
  "interpreter": {
   "hash": "4c003f82c03b36fef287bdd35e08b972b8ba2e96746a620b0947100bdbd54581"
  },
  "kernelspec": {
   "display_name": "Python 3.9.8 ('.venv': venv)",
   "language": "python",
   "name": "python3"
  },
  "language_info": {
   "codemirror_mode": {
    "name": "ipython",
    "version": 3
   },
   "file_extension": ".py",
   "mimetype": "text/x-python",
   "name": "python",
   "nbconvert_exporter": "python",
   "pygments_lexer": "ipython3",
   "version": "3.9.8"
  },
  "orig_nbformat": 4
 },
 "nbformat": 4,
 "nbformat_minor": 2
}
