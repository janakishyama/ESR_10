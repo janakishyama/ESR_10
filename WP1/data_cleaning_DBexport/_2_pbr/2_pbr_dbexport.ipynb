{
 "cells": [
  {
   "cell_type": "markdown",
   "metadata": {},
   "source": [
    "### Code to preprocess, clean and export the data into database table - tbl_pbr_data"
   ]
  },
  {
   "cell_type": "code",
   "execution_count": 2,
   "metadata": {},
   "outputs": [],
   "source": [
    "import numpy as np\n",
    "import pandas as pd\n",
    "import os\n",
    "import re\n",
    "from datetime import date\n",
    "import sqlalchemy\n",
    "import sys\n",
    "import mariadb\n",
    "import pymysql\n",
    "\n",
    "import warnings    # to avoid warning during executions\n",
    "warnings.filterwarnings(\"ignore\")"
   ]
  },
  {
   "cell_type": "markdown",
   "metadata": {},
   "source": [
    "### Listing PBR files & Set file Name"
   ]
  },
  {
   "cell_type": "code",
   "execution_count": 24,
   "metadata": {},
   "outputs": [
    {
     "data": {
      "text/plain": [
       "['_10_FPC23_Rhosa.csv',\n",
       " '_11_FPC24_SkeMa_1.csv',\n",
       " '_12_FPC24_SkeMa_2.csv',\n",
       " '_1_FPC13_ChCal_1.csv',\n",
       " '_2_FPC13_ChCal_2.csv',\n",
       " '_3_FPC13_ThalaPs.csv',\n",
       " '_4_FPC14_chamu.csv',\n",
       " '_5_FPC14_RhoSa.csv',\n",
       " '_6_FPC14_thalaps.csv',\n",
       " '_7_FPC21_chamu.csv',\n",
       " '_8_FPC21_Techu.csv',\n",
       " '_9_FPC22_DiaLut.csv']"
      ]
     },
     "execution_count": 24,
     "metadata": {},
     "output_type": "execute_result"
    }
   ],
   "source": [
    "# load all the file names into a list (files in the pbr data folder)\n",
    "os.getcwd()\n",
    "_dir_path = '../../../dataExport/PBRdata'\n",
    "raw_data = os.listdir(_dir_path)\n",
    "raw_data"
   ]
  },
  {
   "cell_type": "code",
   "execution_count": 27,
   "metadata": {},
   "outputs": [
    {
     "data": {
      "text/plain": [
       "'_1_FPC13_ChCal_1.csv'"
      ]
     },
     "execution_count": 27,
     "metadata": {},
     "output_type": "execute_result"
    }
   ],
   "source": [
    "filename = raw_data[3]\n",
    "filename"
   ]
  },
  {
   "cell_type": "markdown",
   "metadata": {},
   "source": [
    "### Import Unit number and Species ID from from Database"
   ]
  },
  {
   "cell_type": "code",
   "execution_count": 6,
   "metadata": {},
   "outputs": [],
   "source": [
    "# database connection with mariaDB for read the read and write data from and to dataframe <----> mariaDB tables\n",
    "database_username = 'root'\n",
    "database_password = 'password'\n",
    "database_ip       = '127.0.0.1:3306'\n",
    "database_name     = 'data_dashboard'\n",
    "database_connection = sqlalchemy.create_engine('mariadb+mariadbconnector://{0}:{1}@{2}/{3}'.\n",
    "                                               format(database_username, database_password, \n",
    "                                                      database_ip, database_name))"
   ]
  },
  {
   "cell_type": "code",
   "execution_count": 8,
   "metadata": {},
   "outputs": [
    {
     "data": {
      "text/html": [
       "<div>\n",
       "<style scoped>\n",
       "    .dataframe tbody tr th:only-of-type {\n",
       "        vertical-align: middle;\n",
       "    }\n",
       "\n",
       "    .dataframe tbody tr th {\n",
       "        vertical-align: top;\n",
       "    }\n",
       "\n",
       "    .dataframe thead th {\n",
       "        text-align: right;\n",
       "    }\n",
       "</style>\n",
       "<table border=\"1\" class=\"dataframe\">\n",
       "  <thead>\n",
       "    <tr style=\"text-align: right;\">\n",
       "      <th></th>\n",
       "      <th>instance</th>\n",
       "      <th>unit</th>\n",
       "      <th>species</th>\n",
       "      <th>start_date</th>\n",
       "      <th>end_date</th>\n",
       "      <th>remark</th>\n",
       "      <th>raw_file_name</th>\n",
       "    </tr>\n",
       "  </thead>\n",
       "  <tbody>\n",
       "    <tr>\n",
       "      <th>0</th>\n",
       "      <td>1</td>\n",
       "      <td>6</td>\n",
       "      <td>1</td>\n",
       "      <td>1629468000</td>\n",
       "      <td>1633939195</td>\n",
       "      <td>missing values from 2021-10-3 2:56:55 to 2021-...</td>\n",
       "      <td>_1_FPC13_ChCal_1.csv</td>\n",
       "    </tr>\n",
       "  </tbody>\n",
       "</table>\n",
       "</div>"
      ],
      "text/plain": [
       "   instance  unit  species  start_date    end_date  \\\n",
       "0         1     6        1  1629468000  1633939195   \n",
       "\n",
       "                                              remark         raw_file_name  \n",
       "0  missing values from 2021-10-3 2:56:55 to 2021-...  _1_FPC13_ChCal_1.csv  "
      ]
     },
     "execution_count": 8,
     "metadata": {},
     "output_type": "execute_result"
    }
   ],
   "source": [
    "# fetch data from tbl_pbr_lookup to data frame\n",
    "tbl_lookup = pd.read_sql('SELECT * FROM tbl_pbr_lookup', database_connection)\n",
    "tbl_lookup.head(1)"
   ]
  },
  {
   "cell_type": "markdown",
   "metadata": {},
   "source": [
    "### Set - Trial No, Unit ID and Species id"
   ]
  },
  {
   "cell_type": "code",
   "execution_count": 54,
   "metadata": {},
   "outputs": [],
   "source": [
    "species_row = tbl_lookup.query('raw_file_name == @filename')\n",
    "species_id = int(species_row['species'])\n",
    "trail_no = int(species_row['instance'])\n",
    "unit_id = int(species_row['unit'])"
   ]
  },
  {
   "cell_type": "code",
   "execution_count": 55,
   "metadata": {},
   "outputs": [
    {
     "name": "stdout",
     "output_type": "stream",
     "text": [
      "Species ID :  1\n",
      "Instance No :  1\n",
      "Unit No :  6\n"
     ]
    }
   ],
   "source": [
    "print(\"Species ID : \", species_id)\n",
    "print(\"Instance No : \", trail_no)\n",
    "print(\"Unit No : \", unit_id)"
   ]
  },
  {
   "cell_type": "markdown",
   "metadata": {},
   "source": [
    "### Load the raw data into a dataframe"
   ]
  },
  {
   "cell_type": "code",
   "execution_count": 56,
   "metadata": {},
   "outputs": [],
   "source": [
    "# join file name with path - file name can be specified as list item based on required file name\n",
    "file_path=  os.path.join(_dir_path, filename)"
   ]
  },
  {
   "cell_type": "code",
   "execution_count": 57,
   "metadata": {},
   "outputs": [
    {
     "data": {
      "text/html": [
       "<div>\n",
       "<style scoped>\n",
       "    .dataframe tbody tr th:only-of-type {\n",
       "        vertical-align: middle;\n",
       "    }\n",
       "\n",
       "    .dataframe tbody tr th {\n",
       "        vertical-align: top;\n",
       "    }\n",
       "\n",
       "    .dataframe thead th {\n",
       "        text-align: right;\n",
       "    }\n",
       "</style>\n",
       "<table border=\"1\" class=\"dataframe\">\n",
       "  <thead>\n",
       "    <tr style=\"text-align: right;\">\n",
       "      <th></th>\n",
       "      <th>primary_key</th>\n",
       "      <th>_timeString</th>\n",
       "      <th>unit</th>\n",
       "      <th>FT1</th>\n",
       "      <th>FT2</th>\n",
       "      <th>PT1_V4</th>\n",
       "      <th>PT2</th>\n",
       "      <th>FT3</th>\n",
       "      <th>CO2in</th>\n",
       "      <th>CO2_V2</th>\n",
       "      <th>...</th>\n",
       "      <th>QT</th>\n",
       "      <th>QC</th>\n",
       "      <th>QB</th>\n",
       "      <th>QR</th>\n",
       "      <th>QG</th>\n",
       "      <th>QT_corr</th>\n",
       "      <th>TT0</th>\n",
       "      <th>TT1</th>\n",
       "      <th>pH</th>\n",
       "      <th>C_PAR</th>\n",
       "    </tr>\n",
       "  </thead>\n",
       "  <tbody>\n",
       "    <tr>\n",
       "      <th>0</th>\n",
       "      <td>1629468000</td>\n",
       "      <td>2021-8-20 16:0:0</td>\n",
       "      <td>FPC13</td>\n",
       "      <td>0.0</td>\n",
       "      <td>20.3</td>\n",
       "      <td>87.4364</td>\n",
       "      <td>115.5517</td>\n",
       "      <td>0.0</td>\n",
       "      <td>0.04</td>\n",
       "      <td>0.2703</td>\n",
       "      <td>...</td>\n",
       "      <td>76.4022</td>\n",
       "      <td>0.3467</td>\n",
       "      <td>0.0977</td>\n",
       "      <td>0.1338</td>\n",
       "      <td>0.0977</td>\n",
       "      <td>-165.7484</td>\n",
       "      <td>20.5091</td>\n",
       "      <td>19.556</td>\n",
       "      <td>14.9008</td>\n",
       "      <td>0.0</td>\n",
       "    </tr>\n",
       "    <tr>\n",
       "      <th>1</th>\n",
       "      <td>1629468005</td>\n",
       "      <td>2021-8-20 16:0:5</td>\n",
       "      <td>FPC13</td>\n",
       "      <td>0.0</td>\n",
       "      <td>20.3158</td>\n",
       "      <td>87.6113</td>\n",
       "      <td>114.9015</td>\n",
       "      <td>0.0</td>\n",
       "      <td>0.04</td>\n",
       "      <td>0.2703</td>\n",
       "      <td>...</td>\n",
       "      <td>76.4022</td>\n",
       "      <td>0.3466</td>\n",
       "      <td>0.0977</td>\n",
       "      <td>0.1335</td>\n",
       "      <td>0.0977</td>\n",
       "      <td>-165.7484</td>\n",
       "      <td>20.5091</td>\n",
       "      <td>19.5481</td>\n",
       "      <td>14.9008</td>\n",
       "      <td>0.0</td>\n",
       "    </tr>\n",
       "    <tr>\n",
       "      <th>2</th>\n",
       "      <td>1629468010</td>\n",
       "      <td>2021-8-20 16:0:10</td>\n",
       "      <td>FPC13</td>\n",
       "      <td>0.0</td>\n",
       "      <td>20.3041</td>\n",
       "      <td>87.3263</td>\n",
       "      <td>115.4681</td>\n",
       "      <td>0.0</td>\n",
       "      <td>0.04</td>\n",
       "      <td>0.2703</td>\n",
       "      <td>...</td>\n",
       "      <td>76.4022</td>\n",
       "      <td>0.3466</td>\n",
       "      <td>0.0977</td>\n",
       "      <td>0.1332</td>\n",
       "      <td>0.0977</td>\n",
       "      <td>-165.7484</td>\n",
       "      <td>20.5201</td>\n",
       "      <td>19.6102</td>\n",
       "      <td>14.9008</td>\n",
       "      <td>0.0</td>\n",
       "    </tr>\n",
       "    <tr>\n",
       "      <th>3</th>\n",
       "      <td>1629468015</td>\n",
       "      <td>2021-8-20 16:0:15</td>\n",
       "      <td>FPC13</td>\n",
       "      <td>0.0</td>\n",
       "      <td>20.3159</td>\n",
       "      <td>87.2076</td>\n",
       "      <td>115.3525</td>\n",
       "      <td>0.0</td>\n",
       "      <td>0.04</td>\n",
       "      <td>0.2703</td>\n",
       "      <td>...</td>\n",
       "      <td>76.4022</td>\n",
       "      <td>0.3469</td>\n",
       "      <td>0.0977</td>\n",
       "      <td>0.1324</td>\n",
       "      <td>0.0977</td>\n",
       "      <td>-165.7484</td>\n",
       "      <td>20.5091</td>\n",
       "      <td>19.5792</td>\n",
       "      <td>14.9008</td>\n",
       "      <td>0.0</td>\n",
       "    </tr>\n",
       "    <tr>\n",
       "      <th>4</th>\n",
       "      <td>1629468020</td>\n",
       "      <td>2021-8-20 16:0:20</td>\n",
       "      <td>FPC13</td>\n",
       "      <td>0.0</td>\n",
       "      <td>20.3044</td>\n",
       "      <td>87.241</td>\n",
       "      <td>115.2204</td>\n",
       "      <td>0.0</td>\n",
       "      <td>0.04</td>\n",
       "      <td>0.2703</td>\n",
       "      <td>...</td>\n",
       "      <td>76.4022</td>\n",
       "      <td>0.3473</td>\n",
       "      <td>0.0977</td>\n",
       "      <td>0.1318</td>\n",
       "      <td>0.0977</td>\n",
       "      <td>-165.7484</td>\n",
       "      <td>20.5121</td>\n",
       "      <td>19.6156</td>\n",
       "      <td>14.9008</td>\n",
       "      <td>0.0</td>\n",
       "    </tr>\n",
       "  </tbody>\n",
       "</table>\n",
       "<p>5 rows × 29 columns</p>\n",
       "</div>"
      ],
      "text/plain": [
       "   primary_key        _timeString   unit  FT1      FT2   PT1_V4       PT2  \\\n",
       "0   1629468000   2021-8-20 16:0:0  FPC13  0.0     20.3  87.4364  115.5517   \n",
       "1   1629468005   2021-8-20 16:0:5  FPC13  0.0  20.3158  87.6113  114.9015   \n",
       "2   1629468010  2021-8-20 16:0:10  FPC13  0.0  20.3041  87.3263  115.4681   \n",
       "3   1629468015  2021-8-20 16:0:15  FPC13  0.0  20.3159  87.2076  115.3525   \n",
       "4   1629468020  2021-8-20 16:0:20  FPC13  0.0  20.3044   87.241  115.2204   \n",
       "\n",
       "   FT3 CO2in  CO2_V2  ...       QT      QC      QB      QR      QG   QT_corr  \\\n",
       "0  0.0  0.04  0.2703  ...  76.4022  0.3467  0.0977  0.1338  0.0977 -165.7484   \n",
       "1  0.0  0.04  0.2703  ...  76.4022  0.3466  0.0977  0.1335  0.0977 -165.7484   \n",
       "2  0.0  0.04  0.2703  ...  76.4022  0.3466  0.0977  0.1332  0.0977 -165.7484   \n",
       "3  0.0  0.04  0.2703  ...  76.4022  0.3469  0.0977  0.1324  0.0977 -165.7484   \n",
       "4  0.0  0.04  0.2703  ...  76.4022  0.3473  0.0977  0.1318  0.0977 -165.7484   \n",
       "\n",
       "       TT0      TT1       pH C_PAR  \n",
       "0  20.5091   19.556  14.9008   0.0  \n",
       "1  20.5091  19.5481  14.9008   0.0  \n",
       "2  20.5201  19.6102  14.9008   0.0  \n",
       "3  20.5091  19.5792  14.9008   0.0  \n",
       "4  20.5121  19.6156  14.9008   0.0  \n",
       "\n",
       "[5 rows x 29 columns]"
      ]
     },
     "execution_count": 57,
     "metadata": {},
     "output_type": "execute_result"
    }
   ],
   "source": [
    "# load the selected file into the data frame.\n",
    "pbr_rawDF = pd.read_csv(file_path, sep=',')\n",
    "pbr_rawDF.head(5)"
   ]
  },
  {
   "cell_type": "code",
   "execution_count": 5,
   "metadata": {},
   "outputs": [
    {
     "name": "stdout",
     "output_type": "stream",
     "text": [
      "<class 'pandas.core.frame.DataFrame'>\n",
      "RangeIndex: 894240 entries, 0 to 894239\n",
      "Data columns (total 29 columns):\n",
      " #   Column       Non-Null Count   Dtype \n",
      "---  ------       --------------   ----- \n",
      " 0   primary_key  894240 non-null  int64 \n",
      " 1   _timeString  894240 non-null  object\n",
      " 2   unit         894240 non-null  object\n",
      " 3   FT1          894240 non-null  object\n",
      " 4   FT2          894240 non-null  object\n",
      " 5   PT1_V4       894240 non-null  object\n",
      " 6   PT2          894240 non-null  object\n",
      " 7   FT3          894240 non-null  object\n",
      " 8   CO2in        894240 non-null  object\n",
      " 9   CO2_V2       894240 non-null  object\n",
      " 10  CO2sys       894240 non-null  object\n",
      " 11  LT1          894240 non-null  object\n",
      " 12  LReactor     894240 non-null  object\n",
      " 13  C_g          894240 non-null  object\n",
      " 14  C_Eff        894240 non-null  object\n",
      " 15  C_CD         894240 non-null  object\n",
      " 16  T_CD         894240 non-null  object\n",
      " 17  C_D_g        894240 non-null  object\n",
      " 18  C_D_Eff      894240 non-null  object\n",
      " 19  QT           894240 non-null  object\n",
      " 20  QC           894240 non-null  object\n",
      " 21  QB           894240 non-null  object\n",
      " 22  QR           894240 non-null  object\n",
      " 23  QG           894240 non-null  object\n",
      " 24  QT_corr      894240 non-null  object\n",
      " 25  TT0          894240 non-null  object\n",
      " 26  TT1          894240 non-null  object\n",
      " 27  pH           894240 non-null  object\n",
      " 28  C_PAR        894240 non-null  object\n",
      "dtypes: int64(1), object(28)\n",
      "memory usage: 197.9+ MB\n"
     ]
    }
   ],
   "source": [
    "# dataframe overview\n",
    "pbr_rawDF.info()"
   ]
  },
  {
   "cell_type": "markdown",
   "metadata": {},
   "source": [
    "#### Data preprocessing function (chain programming)"
   ]
  },
  {
   "cell_type": "code",
   "execution_count": null,
   "metadata": {},
   "outputs": [],
   "source": [
    "\n",
    "(\n",
    "    \n",
    ")"
   ]
  },
  {
   "cell_type": "markdown",
   "metadata": {},
   "source": [
    "### Export Cleaned Data into DB"
   ]
  },
  {
   "cell_type": "code",
   "execution_count": null,
   "metadata": {},
   "outputs": [],
   "source": []
  },
  {
   "cell_type": "markdown",
   "metadata": {},
   "source": [
    "## Appendix"
   ]
  },
  {
   "cell_type": "code",
   "execution_count": null,
   "metadata": {},
   "outputs": [],
   "source": [
    "'''\n",
    "# set instance number from the file name\n",
    "trail_no = re.split(\"_\", filename)\n",
    "print(trail_no)\n",
    "trail_no = int(trail_no[1])\n",
    "print(trail_no)\n",
    "\n",
    "'''"
   ]
  },
  {
   "cell_type": "code",
   "execution_count": null,
   "metadata": {},
   "outputs": [],
   "source": [
    "'''\n",
    "unit_ID = tbl_unit.query('unit_name == \"FPC13\"')\n",
    "unit_no = unit_ID['unit_id']\n",
    "unit_no\n",
    "\n",
    "'''"
   ]
  }
 ],
 "metadata": {
  "interpreter": {
   "hash": "4c003f82c03b36fef287bdd35e08b972b8ba2e96746a620b0947100bdbd54581"
  },
  "kernelspec": {
   "display_name": "Python 3.9.8 ('.venv': venv)",
   "language": "python",
   "name": "python3"
  },
  "language_info": {
   "codemirror_mode": {
    "name": "ipython",
    "version": 3
   },
   "file_extension": ".py",
   "mimetype": "text/x-python",
   "name": "python",
   "nbconvert_exporter": "python",
   "pygments_lexer": "ipython3",
   "version": "3.9.8"
  },
  "orig_nbformat": 4
 },
 "nbformat": 4,
 "nbformat_minor": 2
}
