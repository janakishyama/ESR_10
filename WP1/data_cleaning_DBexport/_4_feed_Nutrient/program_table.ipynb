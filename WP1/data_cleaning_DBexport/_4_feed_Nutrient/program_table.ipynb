{
 "cells": [
  {
   "cell_type": "code",
   "execution_count": 20,
   "metadata": {},
   "outputs": [],
   "source": [
    "import sqlite3\n",
    "import numpy as np\n",
    "import pandas as pd\n",
    "import os\n",
    "import sys\n",
    "import mariadb\n",
    "import sqlalchemy\n",
    "import warnings\n",
    "warnings.filterwarnings(\"ignore\")"
   ]
  },
  {
   "cell_type": "code",
   "execution_count": 2,
   "metadata": {},
   "outputs": [],
   "source": [
    "cnx = sqlite3.connect('../../../Site_Products.db')"
   ]
  },
  {
   "cell_type": "code",
   "execution_count": 13,
   "metadata": {},
   "outputs": [],
   "source": [
    "program_DF = pd.read_sql_query(\"SELECT ProgramID, Product, FeedVolume FROM programs\", cnx)"
   ]
  },
  {
   "cell_type": "code",
   "execution_count": 14,
   "metadata": {},
   "outputs": [],
   "source": [
    "# df = df.loc[~((df['salary'] == 0) | (df['age'] == 0))]\n",
    "# df = df.loc[df['salary'] * df['age'] != 0]\n",
    "# df.loc[(df[['a', 'b']] != 0).all(axis=1)]\n",
    "program_DF = program_DF.loc[~((program_DF['FeedVolume'] == 0))]"
   ]
  },
  {
   "cell_type": "code",
   "execution_count": 15,
   "metadata": {},
   "outputs": [
    {
     "data": {
      "text/html": [
       "<div>\n",
       "<style scoped>\n",
       "    .dataframe tbody tr th:only-of-type {\n",
       "        vertical-align: middle;\n",
       "    }\n",
       "\n",
       "    .dataframe tbody tr th {\n",
       "        vertical-align: top;\n",
       "    }\n",
       "\n",
       "    .dataframe thead th {\n",
       "        text-align: right;\n",
       "    }\n",
       "</style>\n",
       "<table border=\"1\" class=\"dataframe\">\n",
       "  <thead>\n",
       "    <tr style=\"text-align: right;\">\n",
       "      <th></th>\n",
       "      <th>ProgramID</th>\n",
       "      <th>Product</th>\n",
       "      <th>FeedVolume</th>\n",
       "    </tr>\n",
       "  </thead>\n",
       "  <tbody>\n",
       "    <tr>\n",
       "      <th>0</th>\n",
       "      <td>mediumSpoeling</td>\n",
       "      <td>Lab medium 2-14-24-8</td>\n",
       "      <td>80.00</td>\n",
       "    </tr>\n",
       "    <tr>\n",
       "      <th>1</th>\n",
       "      <td>mediumSpoeling</td>\n",
       "      <td>Lab medium 2-14-24-8</td>\n",
       "      <td>80.00</td>\n",
       "    </tr>\n",
       "    <tr>\n",
       "      <th>3</th>\n",
       "      <td>mediumSpoeling</td>\n",
       "      <td>Lab medium 2-14-24-8</td>\n",
       "      <td>80.00</td>\n",
       "    </tr>\n",
       "    <tr>\n",
       "      <th>4</th>\n",
       "      <td>lab test</td>\n",
       "      <td>FeedWater</td>\n",
       "      <td>14.00</td>\n",
       "    </tr>\n",
       "    <tr>\n",
       "      <th>5</th>\n",
       "      <td>lab test</td>\n",
       "      <td>Lab medium 10x N/P</td>\n",
       "      <td>17.50</td>\n",
       "    </tr>\n",
       "    <tr>\n",
       "      <th>6</th>\n",
       "      <td>lab test</td>\n",
       "      <td>FeedWater</td>\n",
       "      <td>17.50</td>\n",
       "    </tr>\n",
       "    <tr>\n",
       "      <th>7</th>\n",
       "      <td>lab test</td>\n",
       "      <td>Lab medium 10xFe-microvit</td>\n",
       "      <td>21.00</td>\n",
       "    </tr>\n",
       "    <tr>\n",
       "      <th>8</th>\n",
       "      <td>lab test</td>\n",
       "      <td>FeedWater</td>\n",
       "      <td>14.00</td>\n",
       "    </tr>\n",
       "    <tr>\n",
       "      <th>9</th>\n",
       "      <td>lab test</td>\n",
       "      <td>Lab medium 10x N/P</td>\n",
       "      <td>21.00</td>\n",
       "    </tr>\n",
       "    <tr>\n",
       "      <th>10</th>\n",
       "      <td>FeedHarvest_FPC21</td>\n",
       "      <td>FeedWater</td>\n",
       "      <td>5.33</td>\n",
       "    </tr>\n",
       "  </tbody>\n",
       "</table>\n",
       "</div>"
      ],
      "text/plain": [
       "            ProgramID                    Product  FeedVolume\n",
       "0      mediumSpoeling       Lab medium 2-14-24-8       80.00\n",
       "1      mediumSpoeling       Lab medium 2-14-24-8       80.00\n",
       "3      mediumSpoeling       Lab medium 2-14-24-8       80.00\n",
       "4            lab test                  FeedWater       14.00\n",
       "5            lab test         Lab medium 10x N/P       17.50\n",
       "6            lab test                  FeedWater       17.50\n",
       "7            lab test  Lab medium 10xFe-microvit       21.00\n",
       "8            lab test                  FeedWater       14.00\n",
       "9            lab test         Lab medium 10x N/P       21.00\n",
       "10  FeedHarvest_FPC21                  FeedWater        5.33"
      ]
     },
     "execution_count": 15,
     "metadata": {},
     "output_type": "execute_result"
    }
   ],
   "source": [
    "program_DF.head(10)"
   ]
  },
  {
   "cell_type": "code",
   "execution_count": 16,
   "metadata": {},
   "outputs": [],
   "source": [
    "recipe_DF = pd.read_sql_query(\"SELECT prodname, compname, conc FROM recipes\", cnx)"
   ]
  },
  {
   "cell_type": "code",
   "execution_count": 17,
   "metadata": {},
   "outputs": [
    {
     "data": {
      "text/html": [
       "<div>\n",
       "<style scoped>\n",
       "    .dataframe tbody tr th:only-of-type {\n",
       "        vertical-align: middle;\n",
       "    }\n",
       "\n",
       "    .dataframe tbody tr th {\n",
       "        vertical-align: top;\n",
       "    }\n",
       "\n",
       "    .dataframe thead th {\n",
       "        text-align: right;\n",
       "    }\n",
       "</style>\n",
       "<table border=\"1\" class=\"dataframe\">\n",
       "  <thead>\n",
       "    <tr style=\"text-align: right;\">\n",
       "      <th></th>\n",
       "      <th>prodname</th>\n",
       "      <th>compname</th>\n",
       "      <th>conc</th>\n",
       "    </tr>\n",
       "  </thead>\n",
       "  <tbody>\n",
       "    <tr>\n",
       "      <th>0</th>\n",
       "      <td>NutrientA</td>\n",
       "      <td>NaNO3</td>\n",
       "      <td>216.08</td>\n",
       "    </tr>\n",
       "    <tr>\n",
       "      <th>1</th>\n",
       "      <td>NutrientA</td>\n",
       "      <td>Water</td>\n",
       "      <td>759.46</td>\n",
       "    </tr>\n",
       "    <tr>\n",
       "      <th>2</th>\n",
       "      <td>CleanOxidative</td>\n",
       "      <td>Water</td>\n",
       "      <td>65.00</td>\n",
       "    </tr>\n",
       "    <tr>\n",
       "      <th>3</th>\n",
       "      <td>CleanOxidative</td>\n",
       "      <td>Stabicip</td>\n",
       "      <td>20.00</td>\n",
       "    </tr>\n",
       "    <tr>\n",
       "      <th>4</th>\n",
       "      <td>CleanOxidative</td>\n",
       "      <td>MIP-C</td>\n",
       "      <td>15.00</td>\n",
       "    </tr>\n",
       "  </tbody>\n",
       "</table>\n",
       "</div>"
      ],
      "text/plain": [
       "         prodname  compname    conc\n",
       "0       NutrientA     NaNO3  216.08\n",
       "1       NutrientA     Water  759.46\n",
       "2  CleanOxidative     Water   65.00\n",
       "3  CleanOxidative  Stabicip   20.00\n",
       "4  CleanOxidative     MIP-C   15.00"
      ]
     },
     "execution_count": 17,
     "metadata": {},
     "output_type": "execute_result"
    }
   ],
   "source": [
    "recipe_DF.head()"
   ]
  },
  {
   "cell_type": "code",
   "execution_count": 21,
   "metadata": {},
   "outputs": [],
   "source": [
    "def dbConn_sqlAlch():\n",
    "    try:\n",
    "        database_username = 'root'\n",
    "        database_password = 'password'\n",
    "        database_ip       = '127.0.0.1:3306'\n",
    "        database_name     = 'data_dashboard'\n",
    "        database_connection = sqlalchemy.create_engine('mariadb+mariadbconnector://{0}:{1}@{2}/{3}'.\n",
    "                                                    format(database_username, database_password, \n",
    "                                                            database_ip, database_name))\n",
    "        return database_connection\n",
    "    except Exception as e: print(e)\n",
    "\n",
    "\n",
    "database_connection = dbConn_sqlAlch()\n",
    "    "
   ]
  },
  {
   "cell_type": "code",
   "execution_count": 22,
   "metadata": {},
   "outputs": [],
   "source": [
    "try:\n",
    "    program_DF.to_sql(con=database_connection, name='tbl_program_product', if_exists='append', index=False)\n",
    "except Exception as e: print(e)"
   ]
  },
  {
   "cell_type": "code",
   "execution_count": 23,
   "metadata": {},
   "outputs": [],
   "source": [
    "try:\n",
    "    recipe_DF.to_sql(con=database_connection, name='tbl_recipes_product', if_exists='append', index=False)\n",
    "except Exception as e: print(e)"
   ]
  }
 ],
 "metadata": {
  "kernelspec": {
   "display_name": "Python 3.9.12 ('main')",
   "language": "python",
   "name": "python3"
  },
  "language_info": {
   "codemirror_mode": {
    "name": "ipython",
    "version": 3
   },
   "file_extension": ".py",
   "mimetype": "text/x-python",
   "name": "python",
   "nbconvert_exporter": "python",
   "pygments_lexer": "ipython3",
   "version": "3.9.12"
  },
  "orig_nbformat": 4,
  "vscode": {
   "interpreter": {
    "hash": "5b3e9ff110fca189b640152dbca1582818d88c9c2a9ef25df7a407523fb4d550"
   }
  }
 },
 "nbformat": 4,
 "nbformat_minor": 2
}
