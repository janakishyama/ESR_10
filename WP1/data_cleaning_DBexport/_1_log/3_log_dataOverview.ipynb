{
 "cells": [
  {
   "cell_type": "markdown",
   "metadata": {},
   "source": [
    "## Log Data Overview"
   ]
  },
  {
   "cell_type": "code",
   "execution_count": 13,
   "metadata": {},
   "outputs": [],
   "source": [
    "import numpy as np\n",
    "import pandas as pd\n",
    "import os\n",
    "import re\n",
    "from datetime import date\n",
    "\n",
    "import warnings    # to avoid warning during executions\n",
    "warnings.filterwarnings(\"ignore\")"
   ]
  },
  {
   "cell_type": "code",
   "execution_count": 14,
   "metadata": {},
   "outputs": [],
   "source": [
    "file_name = '..\\..\\..\\dataExport\\LOGdata\\log_2022_4_20.csv'\n",
    "log_rawDF = pd.read_csv(file_name, sep='*')"
   ]
  },
  {
   "cell_type": "code",
   "execution_count": 15,
   "metadata": {},
   "outputs": [
    {
     "name": "stdout",
     "output_type": "stream",
     "text": [
      "<class 'pandas.core.frame.DataFrame'>\n",
      "RangeIndex: 865668 entries, 0 to 865667\n",
      "Data columns (total 9 columns):\n",
      " #   Column     Non-Null Count   Dtype \n",
      "---  ------     --------------   ----- \n",
      " 0   Date_Time  865668 non-null  object\n",
      " 1   Time       865668 non-null  int64 \n",
      " 2   MicroSec   865668 non-null  int64 \n",
      " 3   Type       865668 non-null  int64 \n",
      " 4   Unit       865668 non-null  object\n",
      " 5   Parameter  864368 non-null  object\n",
      " 6   Message    865668 non-null  object\n",
      " 7   Value1     411877 non-null  object\n",
      " 8   Value2     495869 non-null  object\n",
      "dtypes: int64(3), object(6)\n",
      "memory usage: 59.4+ MB\n"
     ]
    }
   ],
   "source": [
    "log_rawDF.info()"
   ]
  },
  {
   "cell_type": "code",
   "execution_count": 16,
   "metadata": {},
   "outputs": [
    {
     "data": {
      "text/plain": [
       "T10                 203861\n",
       "Arduino             102024\n",
       "feeding              80955\n",
       "calculations         78184\n",
       "AutoTemplateSync     49465\n",
       "T71                  44616\n",
       "program              41788\n",
       "Reactor              35795\n",
       "Arduino_LT1          35281\n",
       "autoSyncMonitor      22618\n",
       "harvest              20539\n",
       "Arduino_CO2          15836\n",
       "T42                  14004\n",
       "water                11295\n",
       "pneumatic            10844\n",
       "T42A                  8392\n",
       "T61                   7794\n",
       "LEDlighting           7455\n",
       "T65                   5890\n",
       "T63                   5625\n",
       "T72                   5561\n",
       "T54                   5559\n",
       "T52                   5548\n",
       "T64                   5547\n",
       "T53                   5543\n",
       "T73                   5540\n",
       "T51                   5533\n",
       "T74                   5530\n",
       "T43                   3012\n",
       "NaN                   1300\n",
       "P1L                    940\n",
       "Arduino_TT0            826\n",
       "R1                     465\n",
       "Arduino2_LT64          418\n",
       "Arduino2_LT74          411\n",
       "Arduino2_LT73          397\n",
       "Arduino1_LT54          394\n",
       "Arduino2_LT65          390\n",
       "PTdiff_K2              372\n",
       "Arduino2_LT72          367\n",
       "Arduino1_LT53          367\n",
       "Arduino2_LT63          357\n",
       "Arduino2_LT71          345\n",
       "Arduino2_LT61          341\n",
       "Arduino2_LT75          336\n",
       "V61                    321\n",
       "Arduino1_LT52          320\n",
       "triggers               312\n",
       "V3                     310\n",
       "Arduino1_LT55          306\n",
       "Name: Parameter, dtype: int64"
      ]
     },
     "execution_count": 16,
     "metadata": {},
     "output_type": "execute_result"
    }
   ],
   "source": [
    "log_rawDF['Parameter'].value_counts(dropna= False).head(50)"
   ]
  },
  {
   "cell_type": "code",
   "execution_count": 17,
   "metadata": {},
   "outputs": [
    {
     "data": {
      "text/plain": [
       "FFU                             431123\n",
       "FPC23_FPP23                      74100\n",
       "FPC14                            34702\n",
       "FPC22                            33366\n",
       "FPC12                            24002\n",
       "FPC23                            23900\n",
       "FPC13                            23309\n",
       "FPC11_FPP11                      22220\n",
       "FPC21                            21458\n",
       "FPC11                            17302\n",
       "FPC22_FPP22                      15011\n",
       "FPC12_FPP                        14727\n",
       "FPC21_FPP21                      13912\n",
       "FPC24                            12841\n",
       "FPC31_AUT31                       9176\n",
       "FPC23_AUT23                       8951\n",
       "FPC13_FPP13                       8868\n",
       "FPC13_AUT13                       8052\n",
       "FFP_AUTFU                         8019\n",
       "FPC12_AUT                         8012\n",
       "FPC11_AUT11                       8011\n",
       "FPC22_AUT22                       8011\n",
       "FPC24_AUT24                       8006\n",
       "FFP_FFP                           6351\n",
       "FPC31                             5859\n",
       "FPC21_AUT21                       5441\n",
       "FPC24_FPP24                       2782\n",
       "FPC31_FPP31                       2427\n",
       "Product                           1450\n",
       "FPC41                              777\n",
       "FPC42                              777\n",
       "FPC14_FPP14                        513\n",
       "FPC14_AUT14                        404\n",
       "FFU_T10_RecipeRequests             324\n",
       "scheduler                          312\n",
       "&lt;EVAL&gt;                       303\n",
       "Dashboard                          168\n",
       "AllComponentTanks                  148\n",
       "FPP11                              134\n",
       "FFU_harvestTank_DoseRequests       114\n",
       "ComponentTanks                      80\n",
       "docProduction                       63\n",
       "FPP                                 41\n",
       "ProductionTanks                     24\n",
       "RawMaterialTanks                    12\n",
       "docPoduction-FF-TotalTime           12\n",
       "FPP21                               12\n",
       "harvestTank-TotalTime                8\n",
       "T71-TotalTime                        8\n",
       "cntrTankDetail                       7\n",
       "Name: Unit, dtype: int64"
      ]
     },
     "execution_count": 17,
     "metadata": {},
     "output_type": "execute_result"
    }
   ],
   "source": [
    "log_rawDF['Unit'].value_counts(dropna= False).head(50)"
   ]
  },
  {
   "cell_type": "code",
   "execution_count": 18,
   "metadata": {},
   "outputs": [],
   "source": [
    "log_rawDF = log_rawDF.dropna(subset=['Parameter'])"
   ]
  },
  {
   "cell_type": "code",
   "execution_count": 19,
   "metadata": {},
   "outputs": [
    {
     "name": "stdout",
     "output_type": "stream",
     "text": [
      "<class 'pandas.core.frame.DataFrame'>\n",
      "Int64Index: 864368 entries, 0 to 865667\n",
      "Data columns (total 9 columns):\n",
      " #   Column     Non-Null Count   Dtype \n",
      "---  ------     --------------   ----- \n",
      " 0   Date_Time  864368 non-null  object\n",
      " 1   Time       864368 non-null  int64 \n",
      " 2   MicroSec   864368 non-null  int64 \n",
      " 3   Type       864368 non-null  int64 \n",
      " 4   Unit       864368 non-null  object\n",
      " 5   Parameter  864368 non-null  object\n",
      " 6   Message    864368 non-null  object\n",
      " 7   Value1     411351 non-null  object\n",
      " 8   Value2     495515 non-null  object\n",
      "dtypes: int64(3), object(6)\n",
      "memory usage: 65.9+ MB\n"
     ]
    }
   ],
   "source": [
    "log_rawDF.info()"
   ]
  },
  {
   "cell_type": "code",
   "execution_count": 20,
   "metadata": {},
   "outputs": [
    {
     "data": {
      "text/plain": [
       "T10                 203861\n",
       "Arduino             102024\n",
       "feeding              80955\n",
       "calculations         78184\n",
       "AutoTemplateSync     49465\n",
       "T71                  44616\n",
       "program              41788\n",
       "Reactor              35795\n",
       "Arduino_LT1          35281\n",
       "autoSyncMonitor      22618\n",
       "harvest              20539\n",
       "Arduino_CO2          15836\n",
       "T42                  14004\n",
       "water                11295\n",
       "pneumatic            10844\n",
       "T42A                  8392\n",
       "T61                   7794\n",
       "LEDlighting           7455\n",
       "T65                   5890\n",
       "T63                   5625\n",
       "T72                   5561\n",
       "T54                   5559\n",
       "T52                   5548\n",
       "T64                   5547\n",
       "T53                   5543\n",
       "T73                   5540\n",
       "T51                   5533\n",
       "T74                   5530\n",
       "T43                   3012\n",
       "P1L                    940\n",
       "Arduino_TT0            826\n",
       "R1                     465\n",
       "Arduino2_LT64          418\n",
       "Arduino2_LT74          411\n",
       "Arduino2_LT73          397\n",
       "Arduino1_LT54          394\n",
       "Arduino2_LT65          390\n",
       "PTdiff_K2              372\n",
       "Arduino2_LT72          367\n",
       "Arduino1_LT53          367\n",
       "Arduino2_LT63          357\n",
       "Arduino2_LT71          345\n",
       "Arduino2_LT61          341\n",
       "Arduino2_LT75          336\n",
       "V61                    321\n",
       "Arduino1_LT52          320\n",
       "triggers               312\n",
       "V3                     310\n",
       "Arduino1_LT55          306\n",
       "Arduino2_LT10          301\n",
       "Name: Parameter, dtype: int64"
      ]
     },
     "execution_count": 20,
     "metadata": {},
     "output_type": "execute_result"
    }
   ],
   "source": [
    "log_rawDF['Parameter'].value_counts(dropna= False).head(50)"
   ]
  },
  {
   "cell_type": "code",
   "execution_count": 21,
   "metadata": {},
   "outputs": [
    {
     "data": {
      "text/plain": [
       "FFU            431123\n",
       "FPC23_FPP23     74100\n",
       "FPC14           34702\n",
       "FPC22           33366\n",
       "FPC12           24002\n",
       "FPC23           23900\n",
       "FPC13           23309\n",
       "FPC11_FPP11     22220\n",
       "FPC21           21458\n",
       "FPC11           17302\n",
       "FPC22_FPP22     15011\n",
       "FPC12_FPP       14727\n",
       "FPC21_FPP21     13912\n",
       "FPC24           12841\n",
       "FPC31_AUT31      9176\n",
       "FPC23_AUT23      8951\n",
       "FPC13_FPP13      8868\n",
       "FPC13_AUT13      8052\n",
       "FFP_AUTFU        8019\n",
       "FPC12_AUT        8012\n",
       "FPC11_AUT11      8011\n",
       "FPC22_AUT22      8011\n",
       "FPC24_AUT24      8006\n",
       "FFP_FFP          6351\n",
       "FPC31            5859\n",
       "FPC21_AUT21      5441\n",
       "FPC24_FPP24      2782\n",
       "FPC31_FPP31      2427\n",
       "Product          1450\n",
       "FPC42             777\n",
       "FPC41             777\n",
       "FPC14_FPP14       513\n",
       "FPC14_AUT14       404\n",
       "scheduler         312\n",
       "FPP11             134\n",
       "FPP                41\n",
       "FPP21              12\n",
       "FPP31               5\n",
       "FPP14               2\n",
       "FPP13               2\n",
       "Name: Unit, dtype: int64"
      ]
     },
     "execution_count": 21,
     "metadata": {},
     "output_type": "execute_result"
    }
   ],
   "source": [
    "log_rawDF['Unit'].value_counts(dropna= False).head(50)"
   ]
  },
  {
   "cell_type": "code",
   "execution_count": 22,
   "metadata": {},
   "outputs": [
    {
     "name": "stdout",
     "output_type": "stream",
     "text": [
      "[4 3 2 5 6 1]\n"
     ]
    }
   ],
   "source": [
    "log_type = log_rawDF['Type'].unique()\n",
    "print(log_type)"
   ]
  },
  {
   "cell_type": "code",
   "execution_count": 23,
   "metadata": {},
   "outputs": [
    {
     "data": {
      "text/plain": [
       "2    516084\n",
       "1    201533\n",
       "4     67915\n",
       "6     49397\n",
       "5     18964\n",
       "3     10475\n",
       "Name: Type, dtype: int64"
      ]
     },
     "execution_count": 23,
     "metadata": {},
     "output_type": "execute_result"
    }
   ],
   "source": [
    "log_rawDF['Type'].value_counts(dropna= False)"
   ]
  },
  {
   "cell_type": "code",
   "execution_count": 24,
   "metadata": {},
   "outputs": [],
   "source": [
    "tmp_1 = log_rawDF.query('Type != (1)')"
   ]
  },
  {
   "cell_type": "code",
   "execution_count": 25,
   "metadata": {},
   "outputs": [
    {
     "name": "stdout",
     "output_type": "stream",
     "text": [
      "<class 'pandas.core.frame.DataFrame'>\n",
      "Int64Index: 662835 entries, 0 to 864646\n",
      "Data columns (total 9 columns):\n",
      " #   Column     Non-Null Count   Dtype \n",
      "---  ------     --------------   ----- \n",
      " 0   Date_Time  662835 non-null  object\n",
      " 1   Time       662835 non-null  int64 \n",
      " 2   MicroSec   662835 non-null  int64 \n",
      " 3   Type       662835 non-null  int64 \n",
      " 4   Unit       662835 non-null  object\n",
      " 5   Parameter  662835 non-null  object\n",
      " 6   Message    662835 non-null  object\n",
      " 7   Value1     407367 non-null  object\n",
      " 8   Value2     491141 non-null  object\n",
      "dtypes: int64(3), object(6)\n",
      "memory usage: 50.6+ MB\n"
     ]
    }
   ],
   "source": [
    "tmp_1.info()"
   ]
  },
  {
   "cell_type": "code",
   "execution_count": 26,
   "metadata": {},
   "outputs": [
    {
     "data": {
      "text/plain": [
       "2    516084\n",
       "4     67915\n",
       "6     49397\n",
       "5     18964\n",
       "3     10475\n",
       "Name: Type, dtype: int64"
      ]
     },
     "execution_count": 26,
     "metadata": {},
     "output_type": "execute_result"
    }
   ],
   "source": [
    "tmp_1['Type'].value_counts(dropna= False)"
   ]
  },
  {
   "cell_type": "code",
   "execution_count": 27,
   "metadata": {},
   "outputs": [],
   "source": [
    "tmp_1 = tmp_1.query('Unit == (\"FPC11\", \"FPC12\", \"FPC13\", \"FPC14\", \"FPC21\", \"FPC22\", \"FPC23\", \"FPC24\", \"FFU\", \"FPP\", \"Product\", \"scheduler\")')"
   ]
  },
  {
   "cell_type": "code",
   "execution_count": 28,
   "metadata": {},
   "outputs": [
    {
     "data": {
      "text/html": [
       "<div>\n",
       "<style scoped>\n",
       "    .dataframe tbody tr th:only-of-type {\n",
       "        vertical-align: middle;\n",
       "    }\n",
       "\n",
       "    .dataframe tbody tr th {\n",
       "        vertical-align: top;\n",
       "    }\n",
       "\n",
       "    .dataframe thead th {\n",
       "        text-align: right;\n",
       "    }\n",
       "</style>\n",
       "<table border=\"1\" class=\"dataframe\">\n",
       "  <thead>\n",
       "    <tr style=\"text-align: right;\">\n",
       "      <th></th>\n",
       "      <th>Date_Time</th>\n",
       "      <th>Time</th>\n",
       "      <th>MicroSec</th>\n",
       "      <th>Type</th>\n",
       "      <th>Unit</th>\n",
       "      <th>Parameter</th>\n",
       "      <th>Message</th>\n",
       "      <th>Value1</th>\n",
       "      <th>Value2</th>\n",
       "    </tr>\n",
       "  </thead>\n",
       "  <tbody>\n",
       "    <tr>\n",
       "      <th>6</th>\n",
       "      <td>2021-4-20 13:3:58</td>\n",
       "      <td>1618916638</td>\n",
       "      <td>271269</td>\n",
       "      <td>3</td>\n",
       "      <td>FPC14</td>\n",
       "      <td>program</td>\n",
       "      <td>step ID - Changed (new and old value)</td>\n",
       "      <td>4_WaterAcid</td>\n",
       "      <td>5_empty</td>\n",
       "    </tr>\n",
       "    <tr>\n",
       "      <th>7</th>\n",
       "      <td>2021-4-20 13:4:1</td>\n",
       "      <td>1618916641</td>\n",
       "      <td>101959</td>\n",
       "      <td>3</td>\n",
       "      <td>FPC14</td>\n",
       "      <td>program</td>\n",
       "      <td>start at - Changed (new and old value)</td>\n",
       "      <td>sellected step at...</td>\n",
       "      <td>first step</td>\n",
       "    </tr>\n",
       "    <tr>\n",
       "      <th>8</th>\n",
       "      <td>2021-4-20 13:4:6</td>\n",
       "      <td>1618916646</td>\n",
       "      <td>386245</td>\n",
       "      <td>3</td>\n",
       "      <td>FPC14</td>\n",
       "      <td>program</td>\n",
       "      <td>procedure running - Changed</td>\n",
       "      <td>not active</td>\n",
       "      <td>active</td>\n",
       "    </tr>\n",
       "    <tr>\n",
       "      <th>9</th>\n",
       "      <td>2021-4-20 13:4:7</td>\n",
       "      <td>1618916647</td>\n",
       "      <td>639887</td>\n",
       "      <td>2</td>\n",
       "      <td>FPC14</td>\n",
       "      <td>program</td>\n",
       "      <td>Program F_ThalaPseu_HalfNutr started</td>\n",
       "      <td>NaN</td>\n",
       "      <td>NaN</td>\n",
       "    </tr>\n",
       "    <tr>\n",
       "      <th>10</th>\n",
       "      <td>2021-4-20 13:4:7</td>\n",
       "      <td>1618916647</td>\n",
       "      <td>642814</td>\n",
       "      <td>2</td>\n",
       "      <td>FPC14</td>\n",
       "      <td>program</td>\n",
       "      <td>Step 4_WaterAcid started</td>\n",
       "      <td>NaN</td>\n",
       "      <td>NaN</td>\n",
       "    </tr>\n",
       "  </tbody>\n",
       "</table>\n",
       "</div>"
      ],
      "text/plain": [
       "            Date_Time        Time  MicroSec  Type   Unit Parameter  \\\n",
       "6   2021-4-20 13:3:58  1618916638    271269     3  FPC14   program   \n",
       "7    2021-4-20 13:4:1  1618916641    101959     3  FPC14   program   \n",
       "8    2021-4-20 13:4:6  1618916646    386245     3  FPC14   program   \n",
       "9    2021-4-20 13:4:7  1618916647    639887     2  FPC14   program   \n",
       "10   2021-4-20 13:4:7  1618916647    642814     2  FPC14   program   \n",
       "\n",
       "                                   Message                Value1      Value2  \n",
       "6    step ID - Changed (new and old value)           4_WaterAcid     5_empty  \n",
       "7   start at - Changed (new and old value)  sellected step at...  first step  \n",
       "8              procedure running - Changed            not active      active  \n",
       "9     Program F_ThalaPseu_HalfNutr started                   NaN         NaN  \n",
       "10                Step 4_WaterAcid started                   NaN         NaN  "
      ]
     },
     "execution_count": 28,
     "metadata": {},
     "output_type": "execute_result"
    }
   ],
   "source": [
    "tmp_1.head()"
   ]
  },
  {
   "cell_type": "code",
   "execution_count": 29,
   "metadata": {},
   "outputs": [
    {
     "data": {
      "text/plain": [
       "FFU        397759\n",
       "FPC14       28813\n",
       "FPC22       28040\n",
       "FPC23       23865\n",
       "FPC13       23273\n",
       "FPC21       21445\n",
       "FPC12       21104\n",
       "FPC24       12806\n",
       "FPC11       12719\n",
       "Product       954\n",
       "FPP            41\n",
       "Name: Unit, dtype: int64"
      ]
     },
     "execution_count": 29,
     "metadata": {},
     "output_type": "execute_result"
    }
   ],
   "source": [
    "tmp_1['Unit'].value_counts(dropna= False)"
   ]
  },
  {
   "cell_type": "code",
   "execution_count": 30,
   "metadata": {},
   "outputs": [
    {
     "name": "stdout",
     "output_type": "stream",
     "text": [
      "<class 'pandas.core.frame.DataFrame'>\n",
      "Int64Index: 570819 entries, 6 to 863803\n",
      "Data columns (total 9 columns):\n",
      " #   Column     Non-Null Count   Dtype \n",
      "---  ------     --------------   ----- \n",
      " 0   Date_Time  570819 non-null  object\n",
      " 1   Time       570819 non-null  int64 \n",
      " 2   MicroSec   570819 non-null  int64 \n",
      " 3   Type       570819 non-null  int64 \n",
      " 4   Unit       570819 non-null  object\n",
      " 5   Parameter  570819 non-null  object\n",
      " 6   Message    570819 non-null  object\n",
      " 7   Value1     407015 non-null  object\n",
      " 8   Value2     485156 non-null  object\n",
      "dtypes: int64(3), object(6)\n",
      "memory usage: 43.6+ MB\n"
     ]
    }
   ],
   "source": [
    "tmp_1.info()"
   ]
  },
  {
   "cell_type": "code",
   "execution_count": 31,
   "metadata": {},
   "outputs": [],
   "source": [
    "log_raw = tmp_1"
   ]
  },
  {
   "cell_type": "code",
   "execution_count": 32,
   "metadata": {},
   "outputs": [
    {
     "data": {
      "text/plain": [
       "[]"
      ]
     },
     "execution_count": 32,
     "metadata": {},
     "output_type": "execute_result"
    }
   ],
   "source": [
    "log_raw[log_raw['Type'].isnull()].index.tolist()"
   ]
  },
  {
   "cell_type": "code",
   "execution_count": 34,
   "metadata": {},
   "outputs": [
    {
     "name": "stdout",
     "output_type": "stream",
     "text": [
      "['FPC14' 'FFU' 'FPC22' 'FPC21' 'FPC23' 'FPC13' 'FPC24' 'FPC11' 'Product'\n",
      " 'FPC12' 'FPP']\n",
      "11\n"
     ]
    }
   ],
   "source": [
    "log_unit = log_raw['Unit'].unique()\n",
    "print(log_unit)\n",
    "print(log_raw['Unit'].nunique())"
   ]
  },
  {
   "cell_type": "code",
   "execution_count": 35,
   "metadata": {},
   "outputs": [
    {
     "name": "stdout",
     "output_type": "stream",
     "text": [
      "0\n",
      "0\n",
      "0\n"
     ]
    }
   ],
   "source": [
    "print(log_raw['Type'].isna().sum())\n",
    "print(log_raw['Unit'].isna().sum())\n",
    "print(log_raw['Parameter'].isna().sum())"
   ]
  },
  {
   "cell_type": "code",
   "execution_count": 36,
   "metadata": {},
   "outputs": [
    {
     "name": "stdout",
     "output_type": "stream",
     "text": [
      "['program' 'T61' 'water' 'T10' 'Reactor' 'T71' 'pneumatic' 'T42A'\n",
      " 'harvest' 'calculations' 'P1L' 'feeding' 'T64' 'T42' 'T53' 'T51' 'T73'\n",
      " 'T74' 'T65' 'T63' 'T72' 'T52' 'T54' 'PT1_V4' 'T55' 'T43' 'LEDlighting'\n",
      " 'RM29' 'RM6' 'V74' 'RM12' 'RM13' 'RM14' 'RM15' 'RM16' 'RM17' 'RM19' 'RM2'\n",
      " 'RM21' 'RM22' 'RM23' 'T41A' 'T43A' 'RM35' 'RM4' 'RM5' 'RM7' 'P42' 'RM1'\n",
      " 'RM30' 'V3' 'P1R' 'P2R' 'CO2_V2' 'R1' 'PTdiff_K2' 'L1W' 'P43' 'V42' 'P10'\n",
      " 'V11' 'V8' 'LT1' 'RM3' 'RM11' 'RM8' 'M1' 'P2L' 'V61' 'P11' 'Recipes'\n",
      " 'Products' 'L1' 'V6' 'V1' 'V72' 'chiller' 'T62' 'V71' 'V62' 'P12' 'V43'\n",
      " 'L1FR' 'L1R' 'L1B' 'Arduino' 'M10' 'V63' 'RM18' 'V52' 'V64' 'PT10' 'TT0'\n",
      " 'waste' 'V51' 'RM20' 'RM33']\n",
      "97\n"
     ]
    }
   ],
   "source": [
    "log_parameter = log_raw['Parameter'].unique()\n",
    "print(log_parameter)\n",
    "print(log_raw['Parameter'].nunique())"
   ]
  },
  {
   "cell_type": "code",
   "execution_count": 37,
   "metadata": {},
   "outputs": [
    {
     "data": {
      "text/plain": [
       "False    558100\n",
       "True      12719\n",
       "Name: Unit, dtype: int64"
      ]
     },
     "execution_count": 37,
     "metadata": {},
     "output_type": "execute_result"
    }
   ],
   "source": [
    "(log_raw['Unit']=='FPC11').value_counts()"
   ]
  },
  {
   "cell_type": "code",
   "execution_count": 38,
   "metadata": {},
   "outputs": [
    {
     "data": {
      "text/plain": [
       "Date_Time         0\n",
       "Time              0\n",
       "MicroSec          0\n",
       "Type              0\n",
       "Unit              0\n",
       "Parameter         0\n",
       "Message           0\n",
       "Value1       163804\n",
       "Value2        85663\n",
       "dtype: int64"
      ]
     },
     "execution_count": 38,
     "metadata": {},
     "output_type": "execute_result"
    }
   ],
   "source": [
    "log_raw.isnull().sum()"
   ]
  }
 ],
 "metadata": {
  "interpreter": {
   "hash": "4c003f82c03b36fef287bdd35e08b972b8ba2e96746a620b0947100bdbd54581"
  },
  "kernelspec": {
   "display_name": "Python 3.9.8 ('.venv': venv)",
   "language": "python",
   "name": "python3"
  },
  "language_info": {
   "codemirror_mode": {
    "name": "ipython",
    "version": 3
   },
   "file_extension": ".py",
   "mimetype": "text/x-python",
   "name": "python",
   "nbconvert_exporter": "python",
   "pygments_lexer": "ipython3",
   "version": "3.9.8"
  },
  "orig_nbformat": 4
 },
 "nbformat": 4,
 "nbformat_minor": 2
}
