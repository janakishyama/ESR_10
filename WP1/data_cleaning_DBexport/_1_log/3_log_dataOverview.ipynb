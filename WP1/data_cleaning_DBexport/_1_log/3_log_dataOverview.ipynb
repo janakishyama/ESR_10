{
 "cells": [
  {
   "cell_type": "markdown",
   "metadata": {},
   "source": [
    "## Log Data Overview"
   ]
  },
  {
   "cell_type": "code",
   "execution_count": 1,
   "metadata": {},
   "outputs": [],
   "source": [
    "import numpy as np\n",
    "import pandas as pd\n",
    "import os\n",
    "import re\n",
    "from datetime import date\n",
    "\n",
    "import warnings    # to avoid warning during executions\n",
    "warnings.filterwarnings(\"ignore\")"
   ]
  },
  {
   "cell_type": "code",
   "execution_count": 2,
   "metadata": {},
   "outputs": [
    {
     "data": {
      "text/plain": [
       "['log_2022_4_20.csv',\n",
       " 'log_2022_4_21.csv',\n",
       " 'log_2022_5_18.csv',\n",
       " 'log_2022_5_3.csv',\n",
       " '__LOGdata']"
      ]
     },
     "execution_count": 2,
     "metadata": {},
     "output_type": "execute_result"
    }
   ],
   "source": [
    "# load all the file names into a list (files in the LOgData folder)\n",
    "os.getcwd()\n",
    "_dir_path = '../../../dataExport/LOGdata'\n",
    "raw_data = os.listdir(_dir_path)\n",
    "raw_data"
   ]
  },
  {
   "cell_type": "code",
   "execution_count": 7,
   "metadata": {},
   "outputs": [],
   "source": [
    "file_name = '..\\..\\..\\dataExport\\LOGdata\\log_2022_5_18.csv'\n",
    "log_rawDF = pd.read_csv(file_name, sep='*')"
   ]
  },
  {
   "cell_type": "code",
   "execution_count": 8,
   "metadata": {},
   "outputs": [
    {
     "name": "stdout",
     "output_type": "stream",
     "text": [
      "<class 'pandas.core.frame.DataFrame'>\n",
      "RangeIndex: 1246845 entries, 0 to 1246844\n",
      "Data columns (total 9 columns):\n",
      " #   Column     Non-Null Count    Dtype \n",
      "---  ------     --------------    ----- \n",
      " 0   Date_Time  1246845 non-null  object\n",
      " 1   Time       1246845 non-null  int64 \n",
      " 2   MicroSec   1246845 non-null  int64 \n",
      " 3   Type       1246845 non-null  int64 \n",
      " 4   Unit       1246845 non-null  object\n",
      " 5   Parameter  1227210 non-null  object\n",
      " 6   Message    1246845 non-null  object\n",
      " 7   Value1     200978 non-null   object\n",
      " 8   Value2     220005 non-null   object\n",
      "dtypes: int64(3), object(6)\n",
      "memory usage: 85.6+ MB\n"
     ]
    }
   ],
   "source": [
    "log_rawDF.info()"
   ]
  },
  {
   "cell_type": "code",
   "execution_count": 9,
   "metadata": {},
   "outputs": [
    {
     "data": {
      "text/plain": [
       "autoSyncMonitor     664573\n",
       "T10                 209419\n",
       "Arduino              92938\n",
       "AutoLink             65472\n",
       "AutoTemplateSync     56007\n",
       "Arduino_LT1          31653\n",
       "Arduino_CO2          27183\n",
       "NaN                  19635\n",
       "feeding              13247\n",
       "calculations          8835\n",
       "program               7141\n",
       "T71                   5735\n",
       "Reactor               4339\n",
       "pneumatic             3823\n",
       "harvest               1722\n",
       "water                 1471\n",
       "triggers              1097\n",
       "T42                   1033\n",
       "T61                    794\n",
       "T65                    684\n",
       "T72                    665\n",
       "T74                    657\n",
       "T53                    657\n",
       "T43                    649\n",
       "LEDlighting            633\n",
       "T63                    627\n",
       "T73                    627\n",
       "T54                    627\n",
       "T64                    626\n",
       "T52                    623\n",
       "T51                    623\n",
       "Arduino2_LT72          421\n",
       "Arduino2_LT71          407\n",
       "Arduino2_LT65          385\n",
       "Arduino2_LT73          376\n",
       "Arduino2_LT74          370\n",
       "RM29                   365\n",
       "T42A                   364\n",
       "RM15                   357\n",
       "RM16                   357\n",
       "RM5                    357\n",
       "RM17                   357\n",
       "RM2                    357\n",
       "RM14                   357\n",
       "RM13                   357\n",
       "RM19                   357\n",
       "RM7                    357\n",
       "RM23                   357\n",
       "RM6                    357\n",
       "RM21                   357\n",
       "Name: Parameter, dtype: int64"
      ]
     },
     "execution_count": 9,
     "metadata": {},
     "output_type": "execute_result"
    }
   ],
   "source": [
    "log_rawDF['Parameter'].value_counts(dropna= False).head(50)"
   ]
  },
  {
   "cell_type": "code",
   "execution_count": 10,
   "metadata": {},
   "outputs": [
    {
     "data": {
      "text/plain": [
       "FPC21_AUT21                     330638\n",
       "FPC23_AUT23                     325927\n",
       "FFU                             240641\n",
       "FPC23_FPP23                     127723\n",
       "FPC14_FPP14                      18904\n",
       "FPC21_FPP21                      17934\n",
       "FPC12_FPP                        15230\n",
       "Product                          14264\n",
       "FPC24_FPP24                      11631\n",
       "FPC22_FPP22                      10112\n",
       "FPC11_FPP11                       9975\n",
       "FPC11_AUT11                       8008\n",
       "FPC12_AUT                         8007\n",
       "FPC13_AUT13                       8001\n",
       "FPC14_AUT14                       8000\n",
       "FPC31_AUT31                       8000\n",
       "FPC24_AUT24                       8000\n",
       "FFP_AUTFU                         8000\n",
       "FPC22_AUT22                       7999\n",
       "AllComponentTanks                 7939\n",
       "FFP_FFP                           6186\n",
       "FPC14                             5927\n",
       "docPoduction-11-TotalTime         5347\n",
       "FPC22                             5055\n",
       "FPC13_FPP13                       4545\n",
       "FPC11                             4286\n",
       "FPC21                             3971\n",
       "ComponentTanks                    3847\n",
       "FPC12                             3664\n",
       "FPC24                             2833\n",
       "FPC31_FPP31                       1722\n",
       "scheduler                         1097\n",
       "RawMaterialTanks                   776\n",
       "RM1-TotalTime                      335\n",
       "FFU_T10_RecipeRequests             324\n",
       "FPC23                              315\n",
       "T10-TotalTime                      303\n",
       "FPC13                              257\n",
       "FPC31                              240\n",
       "FFU_harvestTank_DoseRequests       170\n",
       "Dashboard                          169\n",
       "T71-TotalTime                       81\n",
       "Reactor-TotalTime                   67\n",
       "FPC41                               59\n",
       "FPC42                               59\n",
       "docProduction                       57\n",
       "cntrTankDetail                      50\n",
       "ProductionTanks                     35\n",
       "water-TotalTime                     31\n",
       "T43A-TotalTime                      11\n",
       "Name: Unit, dtype: int64"
      ]
     },
     "execution_count": 10,
     "metadata": {},
     "output_type": "execute_result"
    }
   ],
   "source": [
    "log_rawDF['Unit'].value_counts(dropna= False).head(50)"
   ]
  },
  {
   "cell_type": "code",
   "execution_count": 11,
   "metadata": {},
   "outputs": [],
   "source": [
    "log_rawDF = log_rawDF.dropna(subset=['Parameter'])"
   ]
  },
  {
   "cell_type": "code",
   "execution_count": 12,
   "metadata": {},
   "outputs": [
    {
     "name": "stdout",
     "output_type": "stream",
     "text": [
      "<class 'pandas.core.frame.DataFrame'>\n",
      "Int64Index: 1227210 entries, 0 to 1246844\n",
      "Data columns (total 9 columns):\n",
      " #   Column     Non-Null Count    Dtype \n",
      "---  ------     --------------    ----- \n",
      " 0   Date_Time  1227210 non-null  object\n",
      " 1   Time       1227210 non-null  int64 \n",
      " 2   MicroSec   1227210 non-null  int64 \n",
      " 3   Type       1227210 non-null  int64 \n",
      " 4   Unit       1227210 non-null  object\n",
      " 5   Parameter  1227210 non-null  object\n",
      " 6   Message    1227210 non-null  object\n",
      " 7   Value1     200754 non-null   object\n",
      " 8   Value2     219955 non-null   object\n",
      "dtypes: int64(3), object(6)\n",
      "memory usage: 93.6+ MB\n"
     ]
    }
   ],
   "source": [
    "log_rawDF.info()"
   ]
  },
  {
   "cell_type": "code",
   "execution_count": 13,
   "metadata": {},
   "outputs": [
    {
     "data": {
      "text/plain": [
       "autoSyncMonitor     664573\n",
       "T10                 209419\n",
       "Arduino              92938\n",
       "AutoLink             65472\n",
       "AutoTemplateSync     56007\n",
       "Arduino_LT1          31653\n",
       "Arduino_CO2          27183\n",
       "feeding              13247\n",
       "calculations          8835\n",
       "program               7141\n",
       "T71                   5735\n",
       "Reactor               4339\n",
       "pneumatic             3823\n",
       "harvest               1722\n",
       "water                 1471\n",
       "triggers              1097\n",
       "T42                   1033\n",
       "T61                    794\n",
       "T65                    684\n",
       "T72                    665\n",
       "T74                    657\n",
       "T53                    657\n",
       "T43                    649\n",
       "LEDlighting            633\n",
       "T54                    627\n",
       "T63                    627\n",
       "T73                    627\n",
       "T64                    626\n",
       "T51                    623\n",
       "T52                    623\n",
       "Arduino2_LT72          421\n",
       "Arduino2_LT71          407\n",
       "Arduino2_LT65          385\n",
       "Arduino2_LT73          376\n",
       "Arduino2_LT74          370\n",
       "RM29                   365\n",
       "T42A                   364\n",
       "RM23                   357\n",
       "RM13                   357\n",
       "RM19                   357\n",
       "RM16                   357\n",
       "RM2                    357\n",
       "RM17                   357\n",
       "RM14                   357\n",
       "RM15                   357\n",
       "RM5                    357\n",
       "RM7                    357\n",
       "RM21                   357\n",
       "RM35                   357\n",
       "RM22                   357\n",
       "Name: Parameter, dtype: int64"
      ]
     },
     "execution_count": 13,
     "metadata": {},
     "output_type": "execute_result"
    }
   ],
   "source": [
    "log_rawDF['Parameter'].value_counts(dropna= False).head(50)"
   ]
  },
  {
   "cell_type": "code",
   "execution_count": 14,
   "metadata": {},
   "outputs": [
    {
     "data": {
      "text/plain": [
       "FPC21_AUT21    330638\n",
       "FPC23_AUT23    325927\n",
       "FFU            240641\n",
       "FPC23_FPP23    127723\n",
       "FPC14_FPP14     18904\n",
       "FPC21_FPP21     17934\n",
       "FPC12_FPP       15230\n",
       "Product         14264\n",
       "FPC24_FPP24     11631\n",
       "FPC22_FPP22     10112\n",
       "FPC11_FPP11      9975\n",
       "FPC11_AUT11      8008\n",
       "FPC12_AUT        8007\n",
       "FPC13_AUT13      8001\n",
       "FPC31_AUT31      8000\n",
       "FFP_AUTFU        8000\n",
       "FPC24_AUT24      8000\n",
       "FPC14_AUT14      8000\n",
       "FPC22_AUT22      7999\n",
       "FFP_FFP          6186\n",
       "FPC14            5927\n",
       "FPC22            5055\n",
       "FPC13_FPP13      4545\n",
       "FPC11            4286\n",
       "FPC21            3971\n",
       "FPC12            3664\n",
       "FPC24            2833\n",
       "FPC31_FPP31      1722\n",
       "scheduler        1097\n",
       "FPC23             315\n",
       "FPC13             257\n",
       "FPC31             240\n",
       "FPC42              59\n",
       "FPC41              59\n",
       "Name: Unit, dtype: int64"
      ]
     },
     "execution_count": 14,
     "metadata": {},
     "output_type": "execute_result"
    }
   ],
   "source": [
    "log_rawDF['Unit'].value_counts(dropna= False).head(50)"
   ]
  },
  {
   "cell_type": "code",
   "execution_count": 15,
   "metadata": {},
   "outputs": [
    {
     "name": "stdout",
     "output_type": "stream",
     "text": [
      "[4 2 6 3 5 1]\n"
     ]
    }
   ],
   "source": [
    "log_type = log_rawDF['Type'].unique()\n",
    "print(log_type)"
   ]
  },
  {
   "cell_type": "code",
   "execution_count": 16,
   "metadata": {},
   "outputs": [
    {
     "data": {
      "text/plain": [
       "1    992300\n",
       "2    202247\n",
       "4     26247\n",
       "5      3687\n",
       "6      2238\n",
       "3       491\n",
       "Name: Type, dtype: int64"
      ]
     },
     "execution_count": 16,
     "metadata": {},
     "output_type": "execute_result"
    }
   ],
   "source": [
    "log_rawDF['Type'].value_counts(dropna= False)"
   ]
  },
  {
   "cell_type": "code",
   "execution_count": 18,
   "metadata": {},
   "outputs": [],
   "source": [
    "tmp_1 = log_rawDF.query('Type != (1)')"
   ]
  },
  {
   "cell_type": "code",
   "execution_count": 19,
   "metadata": {},
   "outputs": [
    {
     "name": "stdout",
     "output_type": "stream",
     "text": [
      "<class 'pandas.core.frame.DataFrame'>\n",
      "Int64Index: 234910 entries, 0 to 1246822\n",
      "Data columns (total 9 columns):\n",
      " #   Column     Non-Null Count   Dtype \n",
      "---  ------     --------------   ----- \n",
      " 0   Date_Time  234910 non-null  object\n",
      " 1   Time       234910 non-null  int64 \n",
      " 2   MicroSec   234910 non-null  int64 \n",
      " 3   Type       234910 non-null  int64 \n",
      " 4   Unit       234910 non-null  object\n",
      " 5   Parameter  234910 non-null  object\n",
      " 6   Message    234910 non-null  object\n",
      " 7   Value1     197472 non-null  object\n",
      " 8   Value2     201180 non-null  object\n",
      "dtypes: int64(3), object(6)\n",
      "memory usage: 17.9+ MB\n"
     ]
    }
   ],
   "source": [
    "tmp_1.info()"
   ]
  },
  {
   "cell_type": "code",
   "execution_count": 20,
   "metadata": {},
   "outputs": [
    {
     "data": {
      "text/plain": [
       "2    202247\n",
       "4     26247\n",
       "5      3687\n",
       "6      2238\n",
       "3       491\n",
       "Name: Type, dtype: int64"
      ]
     },
     "execution_count": 20,
     "metadata": {},
     "output_type": "execute_result"
    }
   ],
   "source": [
    "tmp_1['Type'].value_counts(dropna= False)"
   ]
  },
  {
   "cell_type": "code",
   "execution_count": 23,
   "metadata": {},
   "outputs": [],
   "source": [
    "tmp_1 = tmp_1.query('Unit == (\"FPC11\", \"FPC12\", \"FPC13\", \"FPC14\", \"FPC21\", \"FPC22\", \"FPC23\", \"FPC24\", \"FFU\", \"FPP\", \"Product\", \"scheduler\")')"
   ]
  },
  {
   "cell_type": "code",
   "execution_count": 24,
   "metadata": {},
   "outputs": [
    {
     "data": {
      "text/html": [
       "<div>\n",
       "<style scoped>\n",
       "    .dataframe tbody tr th:only-of-type {\n",
       "        vertical-align: middle;\n",
       "    }\n",
       "\n",
       "    .dataframe tbody tr th {\n",
       "        vertical-align: top;\n",
       "    }\n",
       "\n",
       "    .dataframe thead th {\n",
       "        text-align: right;\n",
       "    }\n",
       "</style>\n",
       "<table border=\"1\" class=\"dataframe\">\n",
       "  <thead>\n",
       "    <tr style=\"text-align: right;\">\n",
       "      <th></th>\n",
       "      <th>Date_Time</th>\n",
       "      <th>Time</th>\n",
       "      <th>MicroSec</th>\n",
       "      <th>Type</th>\n",
       "      <th>Unit</th>\n",
       "      <th>Parameter</th>\n",
       "      <th>Message</th>\n",
       "      <th>Value1</th>\n",
       "      <th>Value2</th>\n",
       "    </tr>\n",
       "  </thead>\n",
       "  <tbody>\n",
       "    <tr>\n",
       "      <th>2</th>\n",
       "      <td>2022-5-3 9:58:4</td>\n",
       "      <td>1651564684</td>\n",
       "      <td>620695</td>\n",
       "      <td>2</td>\n",
       "      <td>FFU</td>\n",
       "      <td>T71</td>\n",
       "      <td>Dosing ended for CompWater to Tank = FFU_T10 (...</td>\n",
       "      <td>0.49878</td>\n",
       "      <td>0.49876</td>\n",
       "    </tr>\n",
       "    <tr>\n",
       "      <th>5</th>\n",
       "      <td>2022-5-3 10:0:0</td>\n",
       "      <td>1651564800</td>\n",
       "      <td>453243</td>\n",
       "      <td>6</td>\n",
       "      <td>FPC23</td>\n",
       "      <td>calculations</td>\n",
       "      <td>Daily PAR(mol/m)</td>\n",
       "      <td>NaN</td>\n",
       "      <td>0.0</td>\n",
       "    </tr>\n",
       "    <tr>\n",
       "      <th>6</th>\n",
       "      <td>2022-5-3 10:0:0</td>\n",
       "      <td>1651564800</td>\n",
       "      <td>453328</td>\n",
       "      <td>6</td>\n",
       "      <td>FPC23</td>\n",
       "      <td>calculations</td>\n",
       "      <td>Daily productivity (g/m)</td>\n",
       "      <td>NaN</td>\n",
       "      <td>0.0</td>\n",
       "    </tr>\n",
       "    <tr>\n",
       "      <th>7</th>\n",
       "      <td>2022-5-3 10:0:0</td>\n",
       "      <td>1651564800</td>\n",
       "      <td>453387</td>\n",
       "      <td>6</td>\n",
       "      <td>FPC23</td>\n",
       "      <td>calculations</td>\n",
       "      <td>Daily productivity (g)</td>\n",
       "      <td>NaN</td>\n",
       "      <td>0.00</td>\n",
       "    </tr>\n",
       "    <tr>\n",
       "      <th>8</th>\n",
       "      <td>2022-5-3 10:0:0</td>\n",
       "      <td>1651564800</td>\n",
       "      <td>453441</td>\n",
       "      <td>6</td>\n",
       "      <td>FPC23</td>\n",
       "      <td>calculations</td>\n",
       "      <td>Daily efficiency (%)</td>\n",
       "      <td>NaN</td>\n",
       "      <td>0.0</td>\n",
       "    </tr>\n",
       "  </tbody>\n",
       "</table>\n",
       "</div>"
      ],
      "text/plain": [
       "         Date_Time        Time  MicroSec  Type   Unit     Parameter  \\\n",
       "2  2022-5-3 9:58:4  1651564684    620695     2    FFU           T71   \n",
       "5  2022-5-3 10:0:0  1651564800    453243     6  FPC23  calculations   \n",
       "6  2022-5-3 10:0:0  1651564800    453328     6  FPC23  calculations   \n",
       "7  2022-5-3 10:0:0  1651564800    453387     6  FPC23  calculations   \n",
       "8  2022-5-3 10:0:0  1651564800    453441     6  FPC23  calculations   \n",
       "\n",
       "                                             Message   Value1   Value2  \n",
       "2  Dosing ended for CompWater to Tank = FFU_T10 (...  0.49878  0.49876  \n",
       "5                                   Daily PAR(mol/m)      NaN      0.0  \n",
       "6                           Daily productivity (g/m)      NaN      0.0  \n",
       "7                             Daily productivity (g)      NaN     0.00  \n",
       "8                               Daily efficiency (%)      NaN      0.0  "
      ]
     },
     "execution_count": 24,
     "metadata": {},
     "output_type": "execute_result"
    }
   ],
   "source": [
    "tmp_1.head()"
   ]
  },
  {
   "cell_type": "code",
   "execution_count": 25,
   "metadata": {},
   "outputs": [
    {
     "data": {
      "text/plain": [
       "FFU        197537\n",
       "FPC14        1600\n",
       "FPC22        1382\n",
       "FPC21        1370\n",
       "FPC11        1219\n",
       "FPC12        1127\n",
       "FPC24         715\n",
       "FPC23         287\n",
       "FPC13         257\n",
       "Product        24\n",
       "Name: Unit, dtype: int64"
      ]
     },
     "execution_count": 25,
     "metadata": {},
     "output_type": "execute_result"
    }
   ],
   "source": [
    "tmp_1['Unit'].value_counts(dropna= False)"
   ]
  },
  {
   "cell_type": "code",
   "execution_count": 26,
   "metadata": {},
   "outputs": [
    {
     "name": "stdout",
     "output_type": "stream",
     "text": [
      "<class 'pandas.core.frame.DataFrame'>\n",
      "Int64Index: 205518 entries, 2 to 1246813\n",
      "Data columns (total 9 columns):\n",
      " #   Column     Non-Null Count   Dtype \n",
      "---  ------     --------------   ----- \n",
      " 0   Date_Time  205518 non-null  object\n",
      " 1   Time       205518 non-null  int64 \n",
      " 2   MicroSec   205518 non-null  int64 \n",
      " 3   Type       205518 non-null  int64 \n",
      " 4   Unit       205518 non-null  object\n",
      " 5   Parameter  205518 non-null  object\n",
      " 6   Message    205518 non-null  object\n",
      " 7   Value1     197472 non-null  object\n",
      " 8   Value2     200940 non-null  object\n",
      "dtypes: int64(3), object(6)\n",
      "memory usage: 15.7+ MB\n"
     ]
    }
   ],
   "source": [
    "tmp_1.info()"
   ]
  },
  {
   "cell_type": "code",
   "execution_count": 27,
   "metadata": {},
   "outputs": [],
   "source": [
    "log_raw = tmp_1"
   ]
  },
  {
   "cell_type": "code",
   "execution_count": 28,
   "metadata": {},
   "outputs": [
    {
     "data": {
      "text/plain": [
       "[]"
      ]
     },
     "execution_count": 28,
     "metadata": {},
     "output_type": "execute_result"
    }
   ],
   "source": [
    "log_raw[log_raw['Type'].isnull()].index.tolist()"
   ]
  },
  {
   "cell_type": "code",
   "execution_count": 29,
   "metadata": {},
   "outputs": [
    {
     "name": "stdout",
     "output_type": "stream",
     "text": [
      "['FFU' 'FPC23' 'FPC14' 'FPC22' 'FPC21' 'FPC12' 'FPC11' 'FPC24' 'FPC13'\n",
      " 'Product']\n",
      "10\n"
     ]
    }
   ],
   "source": [
    "log_unit = log_raw['Unit'].unique()\n",
    "print(log_unit)\n",
    "print(log_raw['Unit'].nunique())"
   ]
  },
  {
   "cell_type": "code",
   "execution_count": 31,
   "metadata": {},
   "outputs": [
    {
     "name": "stdout",
     "output_type": "stream",
     "text": [
      "0\n",
      "0\n",
      "0\n"
     ]
    }
   ],
   "source": [
    "print(log_raw['Type'].isna().sum())\n",
    "print(log_raw['Unit'].isna().sum())\n",
    "print(log_raw['Parameter'].isna().sum())"
   ]
  },
  {
   "cell_type": "code",
   "execution_count": 32,
   "metadata": {},
   "outputs": [
    {
     "name": "stdout",
     "output_type": "stream",
     "text": [
      "['T71' 'calculations' 'LEDlighting' 'program' 'harvest' 'Reactor' 'T10'\n",
      " 'feeding' 'water' 'V55' 'V3' 'P1L' 'LT1' 'T64' 'T42' 'T53' 'T51' 'T73'\n",
      " 'T74' 'T65' 'T63' 'T72' 'T52' 'T54' 'pneumatic' 'T61' 'P1R' 'P2R' 'P11'\n",
      " 'T42A' 'T43' 'L1' 'L1W' 'R1' 'PTdiff_K2' 'PT1_V4' 'T55' 'P2L' 'CO2_V2'\n",
      " 'T43A' 'RM29' 'RM22' 'RM21' 'RM23' 'RM5' 'V1' 'RM19' 'RM4' 'RM7' 'RM35'\n",
      " 'RM6' 'RM2' 'RM15' 'RM17' 'RM13' 'RM14' 'RM16']\n",
      "57\n"
     ]
    }
   ],
   "source": [
    "log_parameter = log_raw['Parameter'].unique()\n",
    "print(log_parameter)\n",
    "print(log_raw['Parameter'].nunique())"
   ]
  },
  {
   "cell_type": "code",
   "execution_count": 33,
   "metadata": {},
   "outputs": [
    {
     "data": {
      "text/plain": [
       "False    204299\n",
       "True       1219\n",
       "Name: Unit, dtype: int64"
      ]
     },
     "execution_count": 33,
     "metadata": {},
     "output_type": "execute_result"
    }
   ],
   "source": [
    "(log_raw['Unit']=='FPC11').value_counts()"
   ]
  },
  {
   "cell_type": "code",
   "execution_count": 34,
   "metadata": {},
   "outputs": [
    {
     "data": {
      "text/plain": [
       "Date_Time       0\n",
       "Time            0\n",
       "MicroSec        0\n",
       "Type            0\n",
       "Unit            0\n",
       "Parameter       0\n",
       "Message         0\n",
       "Value1       8046\n",
       "Value2       4578\n",
       "dtype: int64"
      ]
     },
     "execution_count": 34,
     "metadata": {},
     "output_type": "execute_result"
    }
   ],
   "source": [
    "log_raw.isnull().sum()"
   ]
  }
 ],
 "metadata": {
  "kernelspec": {
   "display_name": "Python 3.10.4 ('main')",
   "language": "python",
   "name": "python3"
  },
  "language_info": {
   "codemirror_mode": {
    "name": "ipython",
    "version": 3
   },
   "file_extension": ".py",
   "mimetype": "text/x-python",
   "name": "python",
   "nbconvert_exporter": "python",
   "pygments_lexer": "ipython3",
   "version": "3.10.4"
  },
  "orig_nbformat": 4,
  "vscode": {
   "interpreter": {
    "hash": "d8fd34dff8cbc24a9527e9490242a6d6fdd745231ebdb737d8653779b044c6d5"
   }
  }
 },
 "nbformat": 4,
 "nbformat_minor": 2
}
