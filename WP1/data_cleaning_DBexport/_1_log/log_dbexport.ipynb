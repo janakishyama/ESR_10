{
 "cells": [
  {
   "cell_type": "code",
   "execution_count": 43,
   "metadata": {},
   "outputs": [],
   "source": [
    "import numpy as np\n",
    "import pandas as pd\n",
    "import os\n",
    "import re\n",
    "from datetime import date\n",
    "import sqlalchemy\n",
    "import sys\n",
    "import mariadb\n",
    "import pymysql\n",
    "\n",
    "import warnings    # to avoid warning during executions\n",
    "warnings.filterwarnings(\"ignore\")"
   ]
  },
  {
   "cell_type": "code",
   "execution_count": 44,
   "metadata": {},
   "outputs": [],
   "source": [
    "# set file name want to process\n",
    "file_name = '..\\..\\..\\dataExport\\LOGdata\\log_2022_4_20.csv'"
   ]
  },
  {
   "cell_type": "code",
   "execution_count": 23,
   "metadata": {},
   "outputs": [],
   "source": [
    "# database connection with mariaDB for read the read and write data from and to dataframe <----> mariaDB tables\n",
    "database_username = 'root'\n",
    "database_password = 'password'\n",
    "database_ip       = '127.0.0.1:3306'\n",
    "database_name     = 'data_dashboard'\n",
    "database_connection = sqlalchemy.create_engine('mariadb+mariadbconnector://{0}:{1}@{2}/{3}'.\n",
    "                                               format(database_username, database_password, \n",
    "                                                      database_ip, database_name))"
   ]
  },
  {
   "cell_type": "code",
   "execution_count": 4,
   "metadata": {},
   "outputs": [
    {
     "data": {
      "text/html": [
       "<div>\n",
       "<style scoped>\n",
       "    .dataframe tbody tr th:only-of-type {\n",
       "        vertical-align: middle;\n",
       "    }\n",
       "\n",
       "    .dataframe tbody tr th {\n",
       "        vertical-align: top;\n",
       "    }\n",
       "\n",
       "    .dataframe thead th {\n",
       "        text-align: right;\n",
       "    }\n",
       "</style>\n",
       "<table border=\"1\" class=\"dataframe\">\n",
       "  <thead>\n",
       "    <tr style=\"text-align: right;\">\n",
       "      <th></th>\n",
       "      <th>unit_id</th>\n",
       "      <th>unit_name</th>\n",
       "    </tr>\n",
       "  </thead>\n",
       "  <tbody>\n",
       "    <tr>\n",
       "      <th>0</th>\n",
       "      <td>2</td>\n",
       "      <td>FFU</td>\n",
       "    </tr>\n",
       "    <tr>\n",
       "      <th>1</th>\n",
       "      <td>8</td>\n",
       "      <td>FPC11</td>\n",
       "    </tr>\n",
       "    <tr>\n",
       "      <th>2</th>\n",
       "      <td>10</td>\n",
       "      <td>FPC12</td>\n",
       "    </tr>\n",
       "    <tr>\n",
       "      <th>3</th>\n",
       "      <td>6</td>\n",
       "      <td>FPC13</td>\n",
       "    </tr>\n",
       "    <tr>\n",
       "      <th>4</th>\n",
       "      <td>1</td>\n",
       "      <td>FPC14</td>\n",
       "    </tr>\n",
       "  </tbody>\n",
       "</table>\n",
       "</div>"
      ],
      "text/plain": [
       "   unit_id unit_name\n",
       "0        2       FFU\n",
       "1        8     FPC11\n",
       "2       10     FPC12\n",
       "3        6     FPC13\n",
       "4        1     FPC14"
      ]
     },
     "execution_count": 4,
     "metadata": {},
     "output_type": "execute_result"
    }
   ],
   "source": [
    "# fetch data from tbl_unit to data frame\n",
    "tbl_unit = pd.read_sql('SELECT unit_id, unit_name FROM tbl_unit', database_connection)\n",
    "tbl_unit.head(5)"
   ]
  },
  {
   "cell_type": "code",
   "execution_count": 5,
   "metadata": {},
   "outputs": [
    {
     "data": {
      "text/html": [
       "<div>\n",
       "<style scoped>\n",
       "    .dataframe tbody tr th:only-of-type {\n",
       "        vertical-align: middle;\n",
       "    }\n",
       "\n",
       "    .dataframe tbody tr th {\n",
       "        vertical-align: top;\n",
       "    }\n",
       "\n",
       "    .dataframe thead th {\n",
       "        text-align: right;\n",
       "    }\n",
       "</style>\n",
       "<table border=\"1\" class=\"dataframe\">\n",
       "  <thead>\n",
       "    <tr style=\"text-align: right;\">\n",
       "      <th></th>\n",
       "      <th>prm_id</th>\n",
       "      <th>prm_name</th>\n",
       "    </tr>\n",
       "  </thead>\n",
       "  <tbody>\n",
       "    <tr>\n",
       "      <th>0</th>\n",
       "      <td>1</td>\n",
       "      <td>Arduino</td>\n",
       "    </tr>\n",
       "    <tr>\n",
       "      <th>1</th>\n",
       "      <td>101</td>\n",
       "      <td>Arduino1</td>\n",
       "    </tr>\n",
       "    <tr>\n",
       "      <th>2</th>\n",
       "      <td>66</td>\n",
       "      <td>Arduino1_LT41</td>\n",
       "    </tr>\n",
       "    <tr>\n",
       "      <th>3</th>\n",
       "      <td>125</td>\n",
       "      <td>Arduino1_LT42</td>\n",
       "    </tr>\n",
       "    <tr>\n",
       "      <th>4</th>\n",
       "      <td>126</td>\n",
       "      <td>Arduino1_LT43</td>\n",
       "    </tr>\n",
       "  </tbody>\n",
       "</table>\n",
       "</div>"
      ],
      "text/plain": [
       "   prm_id       prm_name\n",
       "0       1        Arduino\n",
       "1     101       Arduino1\n",
       "2      66  Arduino1_LT41\n",
       "3     125  Arduino1_LT42\n",
       "4     126  Arduino1_LT43"
      ]
     },
     "execution_count": 5,
     "metadata": {},
     "output_type": "execute_result"
    }
   ],
   "source": [
    "# fetch data from tbl_log_parameters to data frame\n",
    "tbl_parameter = pd.read_sql('SELECT prm_id, prm_name FROM tbl_log_parameters', database_connection)\n",
    "tbl_parameter.head(5)"
   ]
  },
  {
   "cell_type": "markdown",
   "metadata": {},
   "source": [
    "## Data Overview"
   ]
  },
  {
   "cell_type": "code",
   "execution_count": 6,
   "metadata": {},
   "outputs": [
    {
     "data": {
      "text/html": [
       "<div>\n",
       "<style scoped>\n",
       "    .dataframe tbody tr th:only-of-type {\n",
       "        vertical-align: middle;\n",
       "    }\n",
       "\n",
       "    .dataframe tbody tr th {\n",
       "        vertical-align: top;\n",
       "    }\n",
       "\n",
       "    .dataframe thead th {\n",
       "        text-align: right;\n",
       "    }\n",
       "</style>\n",
       "<table border=\"1\" class=\"dataframe\">\n",
       "  <thead>\n",
       "    <tr style=\"text-align: right;\">\n",
       "      <th></th>\n",
       "      <th>Date_Time</th>\n",
       "      <th>Time</th>\n",
       "      <th>MicroSec</th>\n",
       "      <th>Type</th>\n",
       "      <th>Unit</th>\n",
       "      <th>Parameter</th>\n",
       "      <th>Message</th>\n",
       "      <th>Value1</th>\n",
       "      <th>Value2</th>\n",
       "    </tr>\n",
       "  </thead>\n",
       "  <tbody>\n",
       "    <tr>\n",
       "      <th>0</th>\n",
       "      <td>2021-4-20 13:0:13</td>\n",
       "      <td>1618916413</td>\n",
       "      <td>613129</td>\n",
       "      <td>4</td>\n",
       "      <td>FPC11_FPP11</td>\n",
       "      <td>Arduino</td>\n",
       "      <td>more than 2 communication restarts, try powerd...</td>\n",
       "      <td>NaN</td>\n",
       "      <td>NaN</td>\n",
       "    </tr>\n",
       "    <tr>\n",
       "      <th>1</th>\n",
       "      <td>2021-4-20 13:0:57</td>\n",
       "      <td>1618916457</td>\n",
       "      <td>9327</td>\n",
       "      <td>4</td>\n",
       "      <td>FPC11_FPP11</td>\n",
       "      <td>Arduino</td>\n",
       "      <td>more than 2 communication restarts, try powerd...</td>\n",
       "      <td>NaN</td>\n",
       "      <td>NaN</td>\n",
       "    </tr>\n",
       "    <tr>\n",
       "      <th>2</th>\n",
       "      <td>2021-4-20 13:1:38</td>\n",
       "      <td>1618916498</td>\n",
       "      <td>812633</td>\n",
       "      <td>4</td>\n",
       "      <td>FPC11_FPP11</td>\n",
       "      <td>Arduino</td>\n",
       "      <td>more than 2 communication restarts, try powerd...</td>\n",
       "      <td>NaN</td>\n",
       "      <td>NaN</td>\n",
       "    </tr>\n",
       "    <tr>\n",
       "      <th>3</th>\n",
       "      <td>2021-4-20 13:2:20</td>\n",
       "      <td>1618916540</td>\n",
       "      <td>214501</td>\n",
       "      <td>4</td>\n",
       "      <td>FPC11_FPP11</td>\n",
       "      <td>Arduino</td>\n",
       "      <td>more than 2 communication restarts, try powerd...</td>\n",
       "      <td>NaN</td>\n",
       "      <td>NaN</td>\n",
       "    </tr>\n",
       "    <tr>\n",
       "      <th>4</th>\n",
       "      <td>2021-4-20 13:3:3</td>\n",
       "      <td>1618916583</td>\n",
       "      <td>212528</td>\n",
       "      <td>4</td>\n",
       "      <td>FPC11_FPP11</td>\n",
       "      <td>Arduino</td>\n",
       "      <td>more than 2 communication restarts, try powerd...</td>\n",
       "      <td>NaN</td>\n",
       "      <td>NaN</td>\n",
       "    </tr>\n",
       "    <tr>\n",
       "      <th>5</th>\n",
       "      <td>2021-4-20 13:3:46</td>\n",
       "      <td>1618916626</td>\n",
       "      <td>209680</td>\n",
       "      <td>4</td>\n",
       "      <td>FPC11_FPP11</td>\n",
       "      <td>Arduino</td>\n",
       "      <td>more than 2 communication restarts, try powerd...</td>\n",
       "      <td>NaN</td>\n",
       "      <td>NaN</td>\n",
       "    </tr>\n",
       "    <tr>\n",
       "      <th>6</th>\n",
       "      <td>2021-4-20 13:3:58</td>\n",
       "      <td>1618916638</td>\n",
       "      <td>271269</td>\n",
       "      <td>3</td>\n",
       "      <td>FPC14</td>\n",
       "      <td>program</td>\n",
       "      <td>step ID - Changed (new and old value)</td>\n",
       "      <td>4_WaterAcid</td>\n",
       "      <td>5_empty</td>\n",
       "    </tr>\n",
       "    <tr>\n",
       "      <th>7</th>\n",
       "      <td>2021-4-20 13:4:1</td>\n",
       "      <td>1618916641</td>\n",
       "      <td>101959</td>\n",
       "      <td>3</td>\n",
       "      <td>FPC14</td>\n",
       "      <td>program</td>\n",
       "      <td>start at - Changed (new and old value)</td>\n",
       "      <td>sellected step at...</td>\n",
       "      <td>first step</td>\n",
       "    </tr>\n",
       "    <tr>\n",
       "      <th>8</th>\n",
       "      <td>2021-4-20 13:4:6</td>\n",
       "      <td>1618916646</td>\n",
       "      <td>386245</td>\n",
       "      <td>3</td>\n",
       "      <td>FPC14</td>\n",
       "      <td>program</td>\n",
       "      <td>procedure running - Changed</td>\n",
       "      <td>not active</td>\n",
       "      <td>active</td>\n",
       "    </tr>\n",
       "    <tr>\n",
       "      <th>9</th>\n",
       "      <td>2021-4-20 13:4:7</td>\n",
       "      <td>1618916647</td>\n",
       "      <td>639887</td>\n",
       "      <td>2</td>\n",
       "      <td>FPC14</td>\n",
       "      <td>program</td>\n",
       "      <td>Program F_ThalaPseu_HalfNutr started</td>\n",
       "      <td>NaN</td>\n",
       "      <td>NaN</td>\n",
       "    </tr>\n",
       "  </tbody>\n",
       "</table>\n",
       "</div>"
      ],
      "text/plain": [
       "           Date_Time        Time  MicroSec  Type         Unit Parameter  \\\n",
       "0  2021-4-20 13:0:13  1618916413    613129     4  FPC11_FPP11   Arduino   \n",
       "1  2021-4-20 13:0:57  1618916457      9327     4  FPC11_FPP11   Arduino   \n",
       "2  2021-4-20 13:1:38  1618916498    812633     4  FPC11_FPP11   Arduino   \n",
       "3  2021-4-20 13:2:20  1618916540    214501     4  FPC11_FPP11   Arduino   \n",
       "4   2021-4-20 13:3:3  1618916583    212528     4  FPC11_FPP11   Arduino   \n",
       "5  2021-4-20 13:3:46  1618916626    209680     4  FPC11_FPP11   Arduino   \n",
       "6  2021-4-20 13:3:58  1618916638    271269     3        FPC14   program   \n",
       "7   2021-4-20 13:4:1  1618916641    101959     3        FPC14   program   \n",
       "8   2021-4-20 13:4:6  1618916646    386245     3        FPC14   program   \n",
       "9   2021-4-20 13:4:7  1618916647    639887     2        FPC14   program   \n",
       "\n",
       "                                             Message                Value1  \\\n",
       "0  more than 2 communication restarts, try powerd...                   NaN   \n",
       "1  more than 2 communication restarts, try powerd...                   NaN   \n",
       "2  more than 2 communication restarts, try powerd...                   NaN   \n",
       "3  more than 2 communication restarts, try powerd...                   NaN   \n",
       "4  more than 2 communication restarts, try powerd...                   NaN   \n",
       "5  more than 2 communication restarts, try powerd...                   NaN   \n",
       "6              step ID - Changed (new and old value)           4_WaterAcid   \n",
       "7             start at - Changed (new and old value)  sellected step at...   \n",
       "8                        procedure running - Changed            not active   \n",
       "9               Program F_ThalaPseu_HalfNutr started                   NaN   \n",
       "\n",
       "       Value2  \n",
       "0         NaN  \n",
       "1         NaN  \n",
       "2         NaN  \n",
       "3         NaN  \n",
       "4         NaN  \n",
       "5         NaN  \n",
       "6     5_empty  \n",
       "7  first step  \n",
       "8      active  \n",
       "9         NaN  "
      ]
     },
     "execution_count": 6,
     "metadata": {},
     "output_type": "execute_result"
    }
   ],
   "source": [
    "log_rawDF = pd.read_csv(file_name, sep='*')\n",
    "log_rawDF.head(5)"
   ]
  },
  {
   "cell_type": "code",
   "execution_count": 8,
   "metadata": {},
   "outputs": [
    {
     "name": "stdout",
     "output_type": "stream",
     "text": [
      "<class 'pandas.core.frame.DataFrame'>\n",
      "RangeIndex: 865668 entries, 0 to 865667\n",
      "Data columns (total 9 columns):\n",
      " #   Column     Non-Null Count   Dtype \n",
      "---  ------     --------------   ----- \n",
      " 0   Date_Time  865668 non-null  object\n",
      " 1   Time       865668 non-null  int64 \n",
      " 2   MicroSec   865668 non-null  int64 \n",
      " 3   Type       865668 non-null  int64 \n",
      " 4   Unit       865668 non-null  object\n",
      " 5   Parameter  864368 non-null  object\n",
      " 6   Message    865668 non-null  object\n",
      " 7   Value1     411877 non-null  object\n",
      " 8   Value2     495869 non-null  object\n",
      "dtypes: int64(3), object(6)\n",
      "memory usage: 59.4+ MB\n"
     ]
    }
   ],
   "source": [
    "log_rawDF.info()"
   ]
  },
  {
   "cell_type": "markdown",
   "metadata": {},
   "source": [
    "## Replace Parameter values and unit values with Table int values"
   ]
  },
  {
   "cell_type": "code",
   "execution_count": 15,
   "metadata": {},
   "outputs": [],
   "source": [
    "# data type conversion and droping rows if parameter column value is missing\n",
    "def log_tweak(log_rawDF):\n",
    "    return (\n",
    "    log_rawDF\n",
    "    .query('Type != 1')\n",
    "    .query('Unit == (\"FPC11\", \"FPC12\", \"FPC13\", \"FPC14\", \"FPC21\", \"FPC22\", \"FPC23\", \"FPC24\", \"FFU\", \"FPP\", \"Product\", \"scheduler\")')\n",
    "    .dropna(subset=['Parameter'])\n",
    "    .drop(columns=['MicroSec'])\n",
    "    .assign(Unit = log_rawDF.Unit.map(tbl_unit.set_index('unit_name')['unit_id']),\n",
    "           Parameter = log_rawDF.Parameter.map(tbl_parameter.set_index('prm_name')['prm_id']),\n",
    "           Date_Time = pd.to_datetime(log_rawDF.Date_Time)\n",
    "           )\n",
    "    .astype({'Type' : 'int8', 'Unit' : 'int16', 'Parameter' : 'int32'})\n",
    "    .rename(columns = {'Date_Time':'date_time', 'Time':'time_epoch', 'Type':'category', 'Unit':'unit', 'Parameter':'parameter', 'Message':'message', 'Value1': 'new_value', 'Value2':'old_value'})\n",
    "    .fillna('empty')\n",
    "    #.sort_values('Time')\n",
    "    #.replace('/'',' ', regex=True)\n",
    "    #.info()\n",
    "    )\n",
    "\n",
    "log_cleaned = log_tweak(log_rawDF)"
   ]
  },
  {
   "cell_type": "code",
   "execution_count": 16,
   "metadata": {},
   "outputs": [
    {
     "name": "stdout",
     "output_type": "stream",
     "text": [
      "Data frame Info\n",
      "<class 'pandas.core.frame.DataFrame'>\n",
      "Int64Index: 570819 entries, 6 to 863803\n",
      "Data columns (total 8 columns):\n",
      " #   Column      Non-Null Count   Dtype         \n",
      "---  ------      --------------   -----         \n",
      " 0   date_time   570819 non-null  datetime64[ns]\n",
      " 1   time_epoch  570819 non-null  int64         \n",
      " 2   category    570819 non-null  int8          \n",
      " 3   unit        570819 non-null  int16         \n",
      " 4   parameter   570819 non-null  int32         \n",
      " 5   message     570819 non-null  object        \n",
      " 6   new_value   570819 non-null  object        \n",
      " 7   old_value   570819 non-null  object        \n",
      "dtypes: datetime64[ns](1), int16(1), int32(1), int64(1), int8(1), object(3)\n",
      "memory usage: 29.9+ MB\n",
      "None\n",
      "\n",
      "Nullvalues in each columns\n",
      "date_time     0\n",
      "time_epoch    0\n",
      "category      0\n",
      "unit          0\n",
      "parameter     0\n",
      "message       0\n",
      "new_value     0\n",
      "old_value     0\n",
      "dtype: int64\n",
      "\n",
      "Lists of unique values in unit column\n",
      "[ 1  2  3  4  5  6  7  8  9 10 11]\n",
      "\n",
      "Total number of unique values in unit column\n",
      "11\n"
     ]
    }
   ],
   "source": [
    "print(log_cleaned.info())"
   ]
  },
  {
   "cell_type": "markdown",
   "metadata": {},
   "source": [
    "## Export Log Data into tbl_log_data"
   ]
  },
  {
   "cell_type": "code",
   "execution_count": 17,
   "metadata": {},
   "outputs": [],
   "source": [
    "connection = pymysql.connect(host='localhost',\n",
    "                            user='root',\n",
    "                            password='password',\n",
    "                            db='data_dashboard')\n",
    "\n",
    "    # create cursor\n",
    "cursor=connection.cursor()"
   ]
  },
  {
   "cell_type": "code",
   "execution_count": 18,
   "metadata": {},
   "outputs": [
    {
     "data": {
      "text/plain": [
       "'date_time`,`time_epoch`,`category`,`unit`,`parameter`,`message`,`new_value`,`old_value'"
      ]
     },
     "execution_count": 18,
     "metadata": {},
     "output_type": "execute_result"
    }
   ],
   "source": [
    "cols = \"`,`\".join([str(i) for i in log_cleaned.columns.tolist()])\n",
    "cols"
   ]
  },
  {
   "cell_type": "code",
   "execution_count": 19,
   "metadata": {},
   "outputs": [
    {
     "data": {
      "text/plain": [
       "(570819, 8)"
      ]
     },
     "execution_count": 19,
     "metadata": {},
     "output_type": "execute_result"
    }
   ],
   "source": [
    "log_cleaned.shape"
   ]
  },
  {
   "cell_type": "code",
   "execution_count": 20,
   "metadata": {},
   "outputs": [],
   "source": [
    "for i,row in log_cleaned.iterrows():\n",
    "    sql = \"INSERT INTO `tbl_log_data` (`\" +cols + \"`) VALUES (\" + \"%s,\"*(len(row)-1) + \"%s)\"\n",
    "    cursor.execute(sql, tuple(row))\n",
    "    # the connection is not autocommitted by default, so we must commit to save our changes\n",
    "    #connection.commit()"
   ]
  },
  {
   "cell_type": "code",
   "execution_count": 21,
   "metadata": {},
   "outputs": [],
   "source": [
    "connection.commit()\n",
    "connection.close()"
   ]
  },
  {
   "cell_type": "code",
   "execution_count": 24,
   "metadata": {},
   "outputs": [],
   "source": [
    "tbl_logdata = pd.read_sql('SELECT * FROM tbl_log_data', database_connection)\n",
    "tbl_logdata.head(10)"
   ]
  },
  {
   "cell_type": "code",
   "execution_count": 39,
   "metadata": {},
   "outputs": [
    {
     "data": {
      "text/html": [
       "<div>\n",
       "<style scoped>\n",
       "    .dataframe tbody tr th:only-of-type {\n",
       "        vertical-align: middle;\n",
       "    }\n",
       "\n",
       "    .dataframe tbody tr th {\n",
       "        vertical-align: top;\n",
       "    }\n",
       "\n",
       "    .dataframe thead th {\n",
       "        text-align: right;\n",
       "    }\n",
       "</style>\n",
       "<table border=\"1\" class=\"dataframe\">\n",
       "  <thead>\n",
       "    <tr style=\"text-align: right;\">\n",
       "      <th></th>\n",
       "      <th>date_time</th>\n",
       "      <th>time_epoch</th>\n",
       "      <th>category</th>\n",
       "      <th>unit</th>\n",
       "      <th>parameter</th>\n",
       "      <th>message</th>\n",
       "      <th>new_value</th>\n",
       "      <th>old_value</th>\n",
       "    </tr>\n",
       "  </thead>\n",
       "  <tbody>\n",
       "    <tr>\n",
       "      <th>6</th>\n",
       "      <td>2021-04-20 13:03:58</td>\n",
       "      <td>1618916638</td>\n",
       "      <td>3</td>\n",
       "      <td>1</td>\n",
       "      <td>2</td>\n",
       "      <td>step ID - Changed (new and old value)</td>\n",
       "      <td>4_WaterAcid</td>\n",
       "      <td>5_empty</td>\n",
       "    </tr>\n",
       "    <tr>\n",
       "      <th>7</th>\n",
       "      <td>2021-04-20 13:04:01</td>\n",
       "      <td>1618916641</td>\n",
       "      <td>3</td>\n",
       "      <td>1</td>\n",
       "      <td>2</td>\n",
       "      <td>start at - Changed (new and old value)</td>\n",
       "      <td>sellected step at...</td>\n",
       "      <td>first step</td>\n",
       "    </tr>\n",
       "    <tr>\n",
       "      <th>8</th>\n",
       "      <td>2021-04-20 13:04:06</td>\n",
       "      <td>1618916646</td>\n",
       "      <td>3</td>\n",
       "      <td>1</td>\n",
       "      <td>2</td>\n",
       "      <td>procedure running - Changed</td>\n",
       "      <td>not active</td>\n",
       "      <td>active</td>\n",
       "    </tr>\n",
       "    <tr>\n",
       "      <th>9</th>\n",
       "      <td>2021-04-20 13:04:07</td>\n",
       "      <td>1618916647</td>\n",
       "      <td>2</td>\n",
       "      <td>1</td>\n",
       "      <td>2</td>\n",
       "      <td>Program F_ThalaPseu_HalfNutr started</td>\n",
       "      <td>empty</td>\n",
       "      <td>empty</td>\n",
       "    </tr>\n",
       "    <tr>\n",
       "      <th>10</th>\n",
       "      <td>2021-04-20 13:04:07</td>\n",
       "      <td>1618916647</td>\n",
       "      <td>2</td>\n",
       "      <td>1</td>\n",
       "      <td>2</td>\n",
       "      <td>Step 4_WaterAcid started</td>\n",
       "      <td>empty</td>\n",
       "      <td>empty</td>\n",
       "    </tr>\n",
       "    <tr>\n",
       "      <th>11</th>\n",
       "      <td>2021-04-20 13:04:10</td>\n",
       "      <td>1618916650</td>\n",
       "      <td>3</td>\n",
       "      <td>1</td>\n",
       "      <td>2</td>\n",
       "      <td>procedure running - Changed</td>\n",
       "      <td>active</td>\n",
       "      <td>not active</td>\n",
       "    </tr>\n",
       "    <tr>\n",
       "      <th>12</th>\n",
       "      <td>2021-04-20 13:04:11</td>\n",
       "      <td>1618916651</td>\n",
       "      <td>2</td>\n",
       "      <td>1</td>\n",
       "      <td>2</td>\n",
       "      <td>_======program F_ThalaPseu_HalfNutr stopped be...</td>\n",
       "      <td>empty</td>\n",
       "      <td>empty</td>\n",
       "    </tr>\n",
       "    <tr>\n",
       "      <th>13</th>\n",
       "      <td>2021-04-20 13:04:23</td>\n",
       "      <td>1618916663</td>\n",
       "      <td>3</td>\n",
       "      <td>1</td>\n",
       "      <td>2</td>\n",
       "      <td>start at - Changed (new and old value)</td>\n",
       "      <td>sellected step at...</td>\n",
       "      <td>first step</td>\n",
       "    </tr>\n",
       "    <tr>\n",
       "      <th>14</th>\n",
       "      <td>2021-04-20 13:04:23</td>\n",
       "      <td>1618916663</td>\n",
       "      <td>3</td>\n",
       "      <td>1</td>\n",
       "      <td>2</td>\n",
       "      <td>procedure running - Changed</td>\n",
       "      <td>not active</td>\n",
       "      <td>active</td>\n",
       "    </tr>\n",
       "    <tr>\n",
       "      <th>15</th>\n",
       "      <td>2021-04-20 13:04:25</td>\n",
       "      <td>1618916665</td>\n",
       "      <td>2</td>\n",
       "      <td>1</td>\n",
       "      <td>2</td>\n",
       "      <td>Program F_ThalaPseu_HalfNutr started</td>\n",
       "      <td>empty</td>\n",
       "      <td>empty</td>\n",
       "    </tr>\n",
       "  </tbody>\n",
       "</table>\n",
       "</div>"
      ],
      "text/plain": [
       "             date_time  time_epoch  category  unit  parameter  \\\n",
       "6  2021-04-20 13:03:58  1618916638         3     1          2   \n",
       "7  2021-04-20 13:04:01  1618916641         3     1          2   \n",
       "8  2021-04-20 13:04:06  1618916646         3     1          2   \n",
       "9  2021-04-20 13:04:07  1618916647         2     1          2   \n",
       "10 2021-04-20 13:04:07  1618916647         2     1          2   \n",
       "11 2021-04-20 13:04:10  1618916650         3     1          2   \n",
       "12 2021-04-20 13:04:11  1618916651         2     1          2   \n",
       "13 2021-04-20 13:04:23  1618916663         3     1          2   \n",
       "14 2021-04-20 13:04:23  1618916663         3     1          2   \n",
       "15 2021-04-20 13:04:25  1618916665         2     1          2   \n",
       "\n",
       "                                              message             new_value  \\\n",
       "6               step ID - Changed (new and old value)           4_WaterAcid   \n",
       "7              start at - Changed (new and old value)  sellected step at...   \n",
       "8                         procedure running - Changed            not active   \n",
       "9                Program F_ThalaPseu_HalfNutr started                 empty   \n",
       "10                           Step 4_WaterAcid started                 empty   \n",
       "11                        procedure running - Changed                active   \n",
       "12  _======program F_ThalaPseu_HalfNutr stopped be...                 empty   \n",
       "13             start at - Changed (new and old value)  sellected step at...   \n",
       "14                        procedure running - Changed            not active   \n",
       "15               Program F_ThalaPseu_HalfNutr started                 empty   \n",
       "\n",
       "     old_value  \n",
       "6      5_empty  \n",
       "7   first step  \n",
       "8       active  \n",
       "9        empty  \n",
       "10       empty  \n",
       "11  not active  \n",
       "12       empty  \n",
       "13  first step  \n",
       "14      active  \n",
       "15       empty  "
      ]
     },
     "execution_count": 39,
     "metadata": {},
     "output_type": "execute_result"
    }
   ],
   "source": [
    "log_cleaned.head(10)"
   ]
  },
  {
   "cell_type": "code",
   "execution_count": 33,
   "metadata": {},
   "outputs": [
    {
     "name": "stdout",
     "output_type": "stream",
     "text": [
      "<class 'pandas.core.frame.DataFrame'>\n",
      "RangeIndex: 570819 entries, 0 to 570818\n",
      "Data columns (total 8 columns):\n",
      " #   Column      Non-Null Count   Dtype         \n",
      "---  ------      --------------   -----         \n",
      " 0   date_time   570819 non-null  datetime64[ns]\n",
      " 1   time_epoch  570819 non-null  int64         \n",
      " 2   category    570819 non-null  int64         \n",
      " 3   unit        570819 non-null  int64         \n",
      " 4   parameter   570819 non-null  int64         \n",
      " 5   message     570819 non-null  object        \n",
      " 6   new_value   570819 non-null  object        \n",
      " 7   old_value   570819 non-null  object        \n",
      "dtypes: datetime64[ns](1), int64(4), object(3)\n",
      "memory usage: 34.8+ MB\n"
     ]
    }
   ],
   "source": [
    "tbl_logdata.info()"
   ]
  },
  {
   "cell_type": "code",
   "execution_count": 40,
   "metadata": {},
   "outputs": [
    {
     "name": "stdout",
     "output_type": "stream",
     "text": [
      "<class 'pandas.core.frame.DataFrame'>\n",
      "Int64Index: 570819 entries, 6 to 863803\n",
      "Data columns (total 8 columns):\n",
      " #   Column      Non-Null Count   Dtype         \n",
      "---  ------      --------------   -----         \n",
      " 0   date_time   570819 non-null  datetime64[ns]\n",
      " 1   time_epoch  570819 non-null  int64         \n",
      " 2   category    570819 non-null  int8          \n",
      " 3   unit        570819 non-null  int16         \n",
      " 4   parameter   570819 non-null  int32         \n",
      " 5   message     570819 non-null  object        \n",
      " 6   new_value   570819 non-null  object        \n",
      " 7   old_value   570819 non-null  object        \n",
      "dtypes: datetime64[ns](1), int16(1), int32(1), int64(1), int8(1), object(3)\n",
      "memory usage: 46.1+ MB\n"
     ]
    }
   ],
   "source": [
    "log_cleaned.info()"
   ]
  },
  {
   "cell_type": "markdown",
   "metadata": {},
   "source": [
    "## Appendix"
   ]
  },
  {
   "cell_type": "code",
   "execution_count": 42,
   "metadata": {},
   "outputs": [],
   "source": [
    "#tbl_logdata.compare(log_cleaned)"
   ]
  },
  {
   "cell_type": "code",
   "execution_count": 35,
   "metadata": {},
   "outputs": [
    {
     "data": {
      "text/html": [
       "<div>\n",
       "<style scoped>\n",
       "    .dataframe tbody tr th:only-of-type {\n",
       "        vertical-align: middle;\n",
       "    }\n",
       "\n",
       "    .dataframe tbody tr th {\n",
       "        vertical-align: top;\n",
       "    }\n",
       "\n",
       "    .dataframe thead th {\n",
       "        text-align: right;\n",
       "    }\n",
       "</style>\n",
       "<table border=\"1\" class=\"dataframe\">\n",
       "  <thead>\n",
       "    <tr style=\"text-align: right;\">\n",
       "      <th></th>\n",
       "      <th>date_time</th>\n",
       "      <th>time_epoch</th>\n",
       "      <th>category</th>\n",
       "      <th>unit</th>\n",
       "      <th>parameter</th>\n",
       "      <th>message</th>\n",
       "      <th>new_value</th>\n",
       "      <th>old_value</th>\n",
       "      <th>_merge</th>\n",
       "    </tr>\n",
       "  </thead>\n",
       "  <tbody>\n",
       "  </tbody>\n",
       "</table>\n",
       "</div>"
      ],
      "text/plain": [
       "Empty DataFrame\n",
       "Columns: [date_time, time_epoch, category, unit, parameter, message, new_value, old_value, _merge]\n",
       "Index: []"
      ]
     },
     "execution_count": 35,
     "metadata": {},
     "output_type": "execute_result"
    }
   ],
   "source": [
    "merged = tbl_logdata.merge(log_cleaned, indicator=True, how='outer')\n",
    "merged[merged['_merge'] == 'right_only']"
   ]
  },
  {
   "cell_type": "code",
   "execution_count": 36,
   "metadata": {},
   "outputs": [
    {
     "data": {
      "text/html": [
       "<div>\n",
       "<style scoped>\n",
       "    .dataframe tbody tr th:only-of-type {\n",
       "        vertical-align: middle;\n",
       "    }\n",
       "\n",
       "    .dataframe tbody tr th {\n",
       "        vertical-align: top;\n",
       "    }\n",
       "\n",
       "    .dataframe thead th {\n",
       "        text-align: right;\n",
       "    }\n",
       "</style>\n",
       "<table border=\"1\" class=\"dataframe\">\n",
       "  <thead>\n",
       "    <tr style=\"text-align: right;\">\n",
       "      <th></th>\n",
       "      <th>date_time</th>\n",
       "      <th>time_epoch</th>\n",
       "      <th>category</th>\n",
       "      <th>unit</th>\n",
       "      <th>parameter</th>\n",
       "      <th>message</th>\n",
       "      <th>new_value</th>\n",
       "      <th>old_value</th>\n",
       "      <th>_merge</th>\n",
       "    </tr>\n",
       "  </thead>\n",
       "  <tbody>\n",
       "  </tbody>\n",
       "</table>\n",
       "</div>"
      ],
      "text/plain": [
       "Empty DataFrame\n",
       "Columns: [date_time, time_epoch, category, unit, parameter, message, new_value, old_value, _merge]\n",
       "Index: []"
      ]
     },
     "execution_count": 36,
     "metadata": {},
     "output_type": "execute_result"
    }
   ],
   "source": [
    "merged = log_cleaned.merge(tbl_logdata, indicator=True, how='outer')\n",
    "merged[merged['_merge'] == 'right_only']"
   ]
  },
  {
   "cell_type": "code",
   "execution_count": null,
   "metadata": {},
   "outputs": [
    {
     "ename": "SyntaxError",
     "evalue": "invalid syntax (4013186024.py, line 2)",
     "output_type": "error",
     "traceback": [
      "\u001b[1;36m  Input \u001b[1;32mIn [39]\u001b[1;36m\u001b[0m\n\u001b[1;33m    command = '''DROP TABLE IF EXISTS localytics_app2;\u001b[0m\n\u001b[1;37m                 ^\u001b[0m\n\u001b[1;31mSyntaxError\u001b[0m\u001b[1;31m:\u001b[0m invalid syntax\n"
     ]
    }
   ],
   "source": [
    "'''\n",
    "command = '''DROP TABLE IF EXISTS localytics_app2;\n",
    "CREATE TABLE localytics_app2\n",
    "(\n",
    "\"Index\" serial primary key,\n",
    "\"Event\" text,\n",
    "\"Day\" timestamp without time zone,\n",
    ");'''\n",
    "cursor.execute(command)\n",
    "connection.commit()\n",
    "'''"
   ]
  },
  {
   "cell_type": "code",
   "execution_count": null,
   "metadata": {},
   "outputs": [
    {
     "data": {
      "text/plain": [
       "'\\n# Insert Dataframe into SQL Server:\\nfor index, row in df.iterrows():\\n     cursor.execute(\"INSERT INTO HumanResources.DepartmentTest (DepartmentID,Name,GroupName) values(?,?,?)\", row.DepartmentID, row.Name, row.GroupName)\\ncnxn.commit()\\ncursor.close()\\n'"
      ]
     },
     "execution_count": 78,
     "metadata": {},
     "output_type": "execute_result"
    }
   ],
   "source": [
    "'''\n",
    "# Insert Dataframe into SQL Server:\n",
    "for index, row in df.iterrows():\n",
    "     cursor.execute(\"INSERT INTO HumanResources.DepartmentTest (DepartmentID,Name,GroupName) values(?,?,?)\", row.DepartmentID, row.Name, row.GroupName)\n",
    "cnxn.commit()\n",
    "cursor.close()\n",
    "'''"
   ]
  }
 ],
 "metadata": {
  "interpreter": {
   "hash": "5b3e9ff110fca189b640152dbca1582818d88c9c2a9ef25df7a407523fb4d550"
  },
  "kernelspec": {
   "display_name": "Python 3.9.12 ('main')",
   "language": "python",
   "name": "python3"
  },
  "language_info": {
   "codemirror_mode": {
    "name": "ipython",
    "version": 3
   },
   "file_extension": ".py",
   "mimetype": "text/x-python",
   "name": "python",
   "nbconvert_exporter": "python",
   "pygments_lexer": "ipython3",
   "version": "3.9.12"
  },
  "orig_nbformat": 4
 },
 "nbformat": 4,
 "nbformat_minor": 2
}
