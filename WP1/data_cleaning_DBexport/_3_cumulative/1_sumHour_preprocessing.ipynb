{
 "cells": [
  {
   "cell_type": "code",
   "execution_count": 76,
   "metadata": {},
   "outputs": [],
   "source": [
    "import numpy as np\n",
    "import pandas as pd\n",
    "import os\n",
    "from datetime import date\n",
    "import sqlalchemy\n",
    "import pymysql\n",
    "import re\n",
    "import matplotlib.pyplot as plt\n",
    "\n",
    "import warnings    # to avoid warning during executions\n",
    "warnings.filterwarnings(\"ignore\")"
   ]
  },
  {
   "cell_type": "code",
   "execution_count": 3,
   "metadata": {},
   "outputs": [],
   "source": [
    "# load all the file names into a list (files in the pbr data folder)\n",
    "os.getcwd()\n",
    "_dir_path_day = '../../../dataExport/cumulativeDATA/Day'\n",
    "_dir_path_hour = '../../../dataExport/cumulativeDATA/Hour'\n",
    "raw_data_day = os.listdir(_dir_path_day)\n",
    "raw_data_hour = os.listdir(_dir_path_hour)"
   ]
  },
  {
   "cell_type": "code",
   "execution_count": 7,
   "metadata": {},
   "outputs": [
    {
     "data": {
      "text/plain": [
       "['_10_FPC23_RhoSa.csv',\n",
       " '_11_FPC24_SkeMa_1.csv',\n",
       " '_12_FPC24_SkeMa_2.csv',\n",
       " '_16_FPC23_NaCho.csv',\n",
       " '_1_FPC13_ChCal_1.csv',\n",
       " '_2_FPC13_ChCal_2.csv',\n",
       " '_3_FPC13_ThalaPs.csv',\n",
       " '_4_FPC14_ChaMu.csv',\n",
       " '_5_FPC14_RhoSa.csv',\n",
       " '_6_FPC14_ThalaPs.csv',\n",
       " '_7_FPC21_ChaMu.csv',\n",
       " '_8_FPC21_TeChu.csv',\n",
       " '_9_FPC22_DiaLut.csv']"
      ]
     },
     "execution_count": 7,
     "metadata": {},
     "output_type": "execute_result"
    }
   ],
   "source": [
    "raw_data_day"
   ]
  },
  {
   "cell_type": "code",
   "execution_count": 6,
   "metadata": {},
   "outputs": [
    {
     "data": {
      "text/plain": [
       "['_10_FPC23_RhoSa.csv',\n",
       " '_11_FPC24_SkeMa_1.csv',\n",
       " '_12_FPC24_SkeMa_2.csv',\n",
       " '_16_FPC23_NaCho.csv',\n",
       " '_1_FPC13_ChCal_1.csv',\n",
       " '_2_FPC13_ChCal_2.csv',\n",
       " '_3_FPC13_ThalaPs.csv',\n",
       " '_4_FPC14_ChaMu.csv',\n",
       " '_5_FPC14_RhoSa.csv',\n",
       " '_6_FPC14_ThalaPs.csv',\n",
       " '_7_FPC21_ChaMu.csv',\n",
       " '_8_FPC21_TeChu.csv',\n",
       " '_9_FPC22_DiaLut.csv']"
      ]
     },
     "execution_count": 6,
     "metadata": {},
     "output_type": "execute_result"
    }
   ],
   "source": [
    "raw_data_hour"
   ]
  },
  {
   "cell_type": "code",
   "execution_count": 8,
   "metadata": {},
   "outputs": [
    {
     "name": "stdout",
     "output_type": "stream",
     "text": [
      "_10_FPC23_RhoSa.csv\n",
      "_10_FPC23_RhoSa.csv\n"
     ]
    }
   ],
   "source": [
    "filename_hour = raw_data_hour[0]\n",
    "filename_day = raw_data_day[0]\n",
    "\n",
    "print(filename_hour)\n",
    "print(filename_day)"
   ]
  },
  {
   "cell_type": "code",
   "execution_count": 9,
   "metadata": {},
   "outputs": [],
   "source": [
    "# join file name with path - file name can be specified as list item based on required file name\n",
    "file_path_day=  os.path.join(_dir_path_day, filename_day)\n",
    "file_path_hour=  os.path.join(_dir_path_hour, filename_hour)"
   ]
  },
  {
   "cell_type": "code",
   "execution_count": 10,
   "metadata": {},
   "outputs": [],
   "source": [
    "# load the selected file into the data frame.\n",
    "sum_Day_raw = pd.read_csv(file_path_day, sep=',')\n",
    "sum_hour_raw = pd.read_csv(file_path_hour, sep=',')\n"
   ]
  },
  {
   "cell_type": "markdown",
   "metadata": {},
   "source": [
    "### Cumulative Hour Data EDA"
   ]
  },
  {
   "cell_type": "code",
   "execution_count": 11,
   "metadata": {},
   "outputs": [
    {
     "data": {
      "text/html": [
       "<div>\n",
       "<style scoped>\n",
       "    .dataframe tbody tr th:only-of-type {\n",
       "        vertical-align: middle;\n",
       "    }\n",
       "\n",
       "    .dataframe tbody tr th {\n",
       "        vertical-align: top;\n",
       "    }\n",
       "\n",
       "    .dataframe thead th {\n",
       "        text-align: right;\n",
       "    }\n",
       "</style>\n",
       "<table border=\"1\" class=\"dataframe\">\n",
       "  <thead>\n",
       "    <tr style=\"text-align: right;\">\n",
       "      <th></th>\n",
       "      <th>primary_key</th>\n",
       "      <th>_timeString</th>\n",
       "      <th>unit</th>\n",
       "      <th>D_Algae</th>\n",
       "      <th>D_CD</th>\n",
       "      <th>D_CO2</th>\n",
       "      <th>D_PAR</th>\n",
       "      <th>D_eff</th>\n",
       "      <th>D_feed</th>\n",
       "      <th>D_g</th>\n",
       "      <th>D_harvest</th>\n",
       "    </tr>\n",
       "  </thead>\n",
       "  <tbody>\n",
       "    <tr>\n",
       "      <th>0</th>\n",
       "      <td>1616425200</td>\n",
       "      <td>2021-3-22 16:0:0</td>\n",
       "      <td>FPC23</td>\n",
       "      <td>0.0000</td>\n",
       "      <td>-0.1074</td>\n",
       "      <td>0.0000</td>\n",
       "      <td>0.0000</td>\n",
       "      <td>0.0000</td>\n",
       "      <td>0.0000</td>\n",
       "      <td>-0.1895</td>\n",
       "      <td>0.0000</td>\n",
       "    </tr>\n",
       "    <tr>\n",
       "      <th>1</th>\n",
       "      <td>1616428800</td>\n",
       "      <td>2021-3-22 17:0:0</td>\n",
       "      <td>FPC23</td>\n",
       "      <td>0.0000</td>\n",
       "      <td>-0.1074</td>\n",
       "      <td>0.0000</td>\n",
       "      <td>0.0000</td>\n",
       "      <td>0.0000</td>\n",
       "      <td>0.0000</td>\n",
       "      <td>-0.1895</td>\n",
       "      <td>0.0000</td>\n",
       "    </tr>\n",
       "    <tr>\n",
       "      <th>2</th>\n",
       "      <td>1616432400</td>\n",
       "      <td>2021-3-22 18:0:0</td>\n",
       "      <td>FPC23</td>\n",
       "      <td>0.0000</td>\n",
       "      <td>-0.1074</td>\n",
       "      <td>0.0000</td>\n",
       "      <td>0.0000</td>\n",
       "      <td>0.0000</td>\n",
       "      <td>0.0000</td>\n",
       "      <td>-0.1895</td>\n",
       "      <td>0.0000</td>\n",
       "    </tr>\n",
       "    <tr>\n",
       "      <th>3</th>\n",
       "      <td>1616436000</td>\n",
       "      <td>2021-3-22 19:0:0</td>\n",
       "      <td>FPC23</td>\n",
       "      <td>0.0000</td>\n",
       "      <td>-0.1074</td>\n",
       "      <td>0.0000</td>\n",
       "      <td>0.0000</td>\n",
       "      <td>0.0000</td>\n",
       "      <td>0.0000</td>\n",
       "      <td>-0.1895</td>\n",
       "      <td>0.0000</td>\n",
       "    </tr>\n",
       "    <tr>\n",
       "      <th>4</th>\n",
       "      <td>1616439600</td>\n",
       "      <td>2021-3-22 20:0:0</td>\n",
       "      <td>FPC23</td>\n",
       "      <td>0.0000</td>\n",
       "      <td>-0.1074</td>\n",
       "      <td>0.0000</td>\n",
       "      <td>0.0000</td>\n",
       "      <td>0.0000</td>\n",
       "      <td>0.0000</td>\n",
       "      <td>-0.1895</td>\n",
       "      <td>0.0000</td>\n",
       "    </tr>\n",
       "  </tbody>\n",
       "</table>\n",
       "</div>"
      ],
      "text/plain": [
       "   primary_key       _timeString   unit D_Algae     D_CD   D_CO2   D_PAR  \\\n",
       "0   1616425200  2021-3-22 16:0:0  FPC23  0.0000  -0.1074  0.0000  0.0000   \n",
       "1   1616428800  2021-3-22 17:0:0  FPC23  0.0000  -0.1074  0.0000  0.0000   \n",
       "2   1616432400  2021-3-22 18:0:0  FPC23  0.0000  -0.1074  0.0000  0.0000   \n",
       "3   1616436000  2021-3-22 19:0:0  FPC23  0.0000  -0.1074  0.0000  0.0000   \n",
       "4   1616439600  2021-3-22 20:0:0  FPC23  0.0000  -0.1074  0.0000  0.0000   \n",
       "\n",
       "    D_eff  D_feed      D_g D_harvest  \n",
       "0  0.0000  0.0000  -0.1895    0.0000  \n",
       "1  0.0000  0.0000  -0.1895    0.0000  \n",
       "2  0.0000  0.0000  -0.1895    0.0000  \n",
       "3  0.0000  0.0000  -0.1895    0.0000  \n",
       "4  0.0000  0.0000  -0.1895    0.0000  "
      ]
     },
     "execution_count": 11,
     "metadata": {},
     "output_type": "execute_result"
    }
   ],
   "source": [
    "sum_hour_raw.head(5)"
   ]
  },
  {
   "cell_type": "code",
   "execution_count": 15,
   "metadata": {},
   "outputs": [
    {
     "name": "stdout",
     "output_type": "stream",
     "text": [
      "<class 'pandas.core.frame.DataFrame'>\n",
      "RangeIndex: 2853 entries, 0 to 2852\n",
      "Data columns (total 11 columns):\n",
      " #   Column       Non-Null Count  Dtype \n",
      "---  ------       --------------  ----- \n",
      " 0   primary_key  2853 non-null   int64 \n",
      " 1   _timeString  2853 non-null   object\n",
      " 2   unit         2853 non-null   object\n",
      " 3   D_Algae      2853 non-null   object\n",
      " 4   D_CD         2853 non-null   object\n",
      " 5   D_CO2        2853 non-null   object\n",
      " 6   D_PAR        2853 non-null   object\n",
      " 7   D_eff        2804 non-null   object\n",
      " 8   D_feed       2853 non-null   object\n",
      " 9   D_g          2804 non-null   object\n",
      " 10  D_harvest    2853 non-null   object\n",
      "dtypes: int64(1), object(10)\n",
      "memory usage: 245.3+ KB\n"
     ]
    }
   ],
   "source": [
    "sum_hour_raw.info()"
   ]
  },
  {
   "cell_type": "code",
   "execution_count": 16,
   "metadata": {},
   "outputs": [
    {
     "data": {
      "text/plain": [
       "primary_key     0\n",
       "_timeString     0\n",
       "unit            0\n",
       "D_Algae         0\n",
       "D_CD            0\n",
       "D_CO2           0\n",
       "D_PAR           0\n",
       "D_eff          49\n",
       "D_feed          0\n",
       "D_g            49\n",
       "D_harvest       0\n",
       "dtype: int64"
      ]
     },
     "execution_count": 16,
     "metadata": {},
     "output_type": "execute_result"
    }
   ],
   "source": [
    "sum_hour_raw.isna().sum()"
   ]
  },
  {
   "cell_type": "code",
   "execution_count": 29,
   "metadata": {},
   "outputs": [
    {
     "data": {
      "text/plain": [
       "inf        224\n",
       "Empty       74\n",
       "NaN         49\n",
       "19.4364     48\n",
       "19.1792     25\n",
       "18.6292     24\n",
       "11.0732     24\n",
       "17.4710     24\n",
       "16.7550     24\n",
       "18.9465     24\n",
       "Name: D_g, dtype: int64"
      ]
     },
     "execution_count": 29,
     "metadata": {},
     "output_type": "execute_result"
    }
   ],
   "source": [
    "sum_hour_raw['D_g'].value_counts(dropna= False).head(10)"
   ]
  },
  {
   "cell_type": "code",
   "execution_count": 28,
   "metadata": {},
   "outputs": [
    {
     "data": {
      "text/plain": [
       "primary_key      0\n",
       "_timeString      0\n",
       "unit             0\n",
       "D_Algae          5\n",
       "D_CD             5\n",
       "D_CO2          120\n",
       "D_PAR            5\n",
       "D_eff           74\n",
       "D_feed           5\n",
       "D_g             74\n",
       "D_harvest        5\n",
       "dtype: int64"
      ]
     },
     "execution_count": 28,
     "metadata": {},
     "output_type": "execute_result"
    }
   ],
   "source": [
    "sum_hour_raw.isin(['Empty']).sum(axis=0)"
   ]
  },
  {
   "cell_type": "code",
   "execution_count": 30,
   "metadata": {},
   "outputs": [
    {
     "data": {
      "text/plain": [
       "primary_key      0\n",
       "_timeString      0\n",
       "unit             0\n",
       "D_Algae          0\n",
       "D_CD             0\n",
       "D_CO2            0\n",
       "D_PAR            0\n",
       "D_eff          175\n",
       "D_feed           0\n",
       "D_g            224\n",
       "D_harvest        0\n",
       "dtype: int64"
      ]
     },
     "execution_count": 30,
     "metadata": {},
     "output_type": "execute_result"
    }
   ],
   "source": [
    "sum_hour_raw.isin(['inf']).sum(axis=0)"
   ]
  },
  {
   "cell_type": "code",
   "execution_count": 32,
   "metadata": {},
   "outputs": [],
   "source": [
    "# database connection with mariaDB for read the read and write data from and to dataframe <----> mariaDB tables\n",
    "database_username = 'root'\n",
    "database_password = 'password'\n",
    "database_ip       = '127.0.0.1:3306'\n",
    "database_name     = 'data_dashboard'\n",
    "database_connection = sqlalchemy.create_engine('mariadb+mariadbconnector://{0}:{1}@{2}/{3}'.\n",
    "                                               format(database_username, database_password, \n",
    "                                                      database_ip, database_name))"
   ]
  },
  {
   "cell_type": "code",
   "execution_count": 46,
   "metadata": {},
   "outputs": [
    {
     "data": {
      "text/plain": [
       "10"
      ]
     },
     "execution_count": 46,
     "metadata": {},
     "output_type": "execute_result"
    }
   ],
   "source": [
    "trial_no = re.findall(r'\\d+', filename_hour)\n",
    "trial_no = int(trial_no[0])\n",
    "trial_no"
   ]
  },
  {
   "cell_type": "code",
   "execution_count": 51,
   "metadata": {},
   "outputs": [],
   "source": [
    "tbl_lookup = pd.read_sql(\"SELECT * FROM tbl_pbr_lookup WHERE instance = ?\", database_connection, params=[trial_no])"
   ]
  },
  {
   "cell_type": "code",
   "execution_count": 52,
   "metadata": {},
   "outputs": [
    {
     "data": {
      "text/html": [
       "<div>\n",
       "<style scoped>\n",
       "    .dataframe tbody tr th:only-of-type {\n",
       "        vertical-align: middle;\n",
       "    }\n",
       "\n",
       "    .dataframe tbody tr th {\n",
       "        vertical-align: top;\n",
       "    }\n",
       "\n",
       "    .dataframe thead th {\n",
       "        text-align: right;\n",
       "    }\n",
       "</style>\n",
       "<table border=\"1\" class=\"dataframe\">\n",
       "  <thead>\n",
       "    <tr style=\"text-align: right;\">\n",
       "      <th></th>\n",
       "      <th>instance</th>\n",
       "      <th>unit</th>\n",
       "      <th>species</th>\n",
       "      <th>start_date</th>\n",
       "      <th>end_date</th>\n",
       "      <th>remark</th>\n",
       "      <th>raw_file_name</th>\n",
       "    </tr>\n",
       "  </thead>\n",
       "  <tbody>\n",
       "    <tr>\n",
       "      <th>0</th>\n",
       "      <td>10</td>\n",
       "      <td>5</td>\n",
       "      <td>7</td>\n",
       "      <td>1616427000</td>\n",
       "      <td>1626690600</td>\n",
       "      <td>None</td>\n",
       "      <td>_10_FPC23_Rhosa.csv</td>\n",
       "    </tr>\n",
       "  </tbody>\n",
       "</table>\n",
       "</div>"
      ],
      "text/plain": [
       "   instance  unit  species  start_date    end_date remark        raw_file_name\n",
       "0        10     5        7  1616427000  1626690600   None  _10_FPC23_Rhosa.csv"
      ]
     },
     "execution_count": 52,
     "metadata": {},
     "output_type": "execute_result"
    }
   ],
   "source": [
    "tbl_lookup"
   ]
  },
  {
   "cell_type": "code",
   "execution_count": 54,
   "metadata": {},
   "outputs": [],
   "source": [
    "species_id = int(tbl_lookup['species'])\n",
    "trial_no = int(tbl_lookup['instance'])\n",
    "unit_id = int(tbl_lookup['unit'])"
   ]
  },
  {
   "cell_type": "code",
   "execution_count": 55,
   "metadata": {},
   "outputs": [
    {
     "name": "stdout",
     "output_type": "stream",
     "text": [
      "Species ID :  7\n",
      "Instance No :  10\n",
      "Unit No :  5\n"
     ]
    }
   ],
   "source": [
    "print(\"Species ID : \", species_id)\n",
    "print(\"Instance No : \", trial_no)\n",
    "print(\"Unit No : \", unit_id)"
   ]
  },
  {
   "cell_type": "code",
   "execution_count": 57,
   "metadata": {},
   "outputs": [
    {
     "data": {
      "text/plain": [
       "Index(['primary_key', '_timeString', 'unit', 'D_Algae', 'D_CD', 'D_CO2',\n",
       "       'D_PAR', 'D_eff', 'D_feed', 'D_g', 'D_harvest'],\n",
       "      dtype='object')"
      ]
     },
     "execution_count": 57,
     "metadata": {},
     "output_type": "execute_result"
    }
   ],
   "source": [
    "sum_hour_raw.columns"
   ]
  },
  {
   "cell_type": "code",
   "execution_count": 58,
   "metadata": {},
   "outputs": [],
   "source": [
    "def pbr_preProcess(sum_hour_raw):\n",
    "    pbr_raw_tmp1 = sum_hour_raw.copy()\n",
    "    pbr_raw_tmp1.insert(loc=3, column='trial_no', value=trial_no)\n",
    "    pbr_raw_tmp1.insert(loc=4, column='species', value=species_id)      \n",
    "    return(\n",
    "    pbr_raw_tmp1\n",
    "    .assign(unit = unit_id)\n",
    "    .replace('Empty', pd.np.nan)\n",
    "    .replace('inf', pd.np.nan)\n",
    "    .replace([np.inf, -np.inf], pd.np.nan)\n",
    "    .astype({'primary_key':'int64', '_timeString':'datetime64[ns]','unit': 'int16','D_Algae':'float32', 'D_CD':'float32', 'D_CO2':'float32', 'D_PAR':'float32', 'D_eff':'float32', 'D_feed':'float32', 'D_g':'float32', 'D_harvest':'float32'})\n",
    "    )\n",
    "    \n",
    "sum_hour_cleaned = pbr_preProcess(sum_hour_raw)"
   ]
  },
  {
   "cell_type": "code",
   "execution_count": 59,
   "metadata": {},
   "outputs": [
    {
     "name": "stdout",
     "output_type": "stream",
     "text": [
      "<class 'pandas.core.frame.DataFrame'>\n",
      "RangeIndex: 2853 entries, 0 to 2852\n",
      "Data columns (total 13 columns):\n",
      " #   Column       Non-Null Count  Dtype         \n",
      "---  ------       --------------  -----         \n",
      " 0   primary_key  2853 non-null   int64         \n",
      " 1   _timeString  2853 non-null   datetime64[ns]\n",
      " 2   unit         2853 non-null   int16         \n",
      " 3   trial_no     2853 non-null   int64         \n",
      " 4   species      2853 non-null   int64         \n",
      " 5   D_Algae      2848 non-null   float32       \n",
      " 6   D_CD         2848 non-null   float32       \n",
      " 7   D_CO2        2733 non-null   float32       \n",
      " 8   D_PAR        2848 non-null   float32       \n",
      " 9   D_eff        2555 non-null   float32       \n",
      " 10  D_feed       2848 non-null   float32       \n",
      " 11  D_g          2506 non-null   float32       \n",
      " 12  D_harvest    2848 non-null   float32       \n",
      "dtypes: datetime64[ns](1), float32(8), int16(1), int64(3)\n",
      "memory usage: 184.0 KB\n"
     ]
    }
   ],
   "source": [
    "sum_hour_cleaned.info()"
   ]
  },
  {
   "cell_type": "code",
   "execution_count": 60,
   "metadata": {},
   "outputs": [
    {
     "data": {
      "text/plain": [
       "(2853, 13)"
      ]
     },
     "execution_count": 60,
     "metadata": {},
     "output_type": "execute_result"
    }
   ],
   "source": [
    "sum_hour_cleaned.shape"
   ]
  },
  {
   "cell_type": "code",
   "execution_count": 61,
   "metadata": {},
   "outputs": [
    {
     "data": {
      "text/plain": [
       "(2853, 11)"
      ]
     },
     "execution_count": 61,
     "metadata": {},
     "output_type": "execute_result"
    }
   ],
   "source": [
    "sum_hour_raw.shape"
   ]
  },
  {
   "cell_type": "code",
   "execution_count": 62,
   "metadata": {},
   "outputs": [
    {
     "data": {
      "text/plain": [
       "NaN          347\n",
       "19.436399     48\n",
       "19.179199     25\n",
       "19.001699     24\n",
       "11.073200     24\n",
       "17.710800     24\n",
       "17.471001     24\n",
       "16.754999     24\n",
       "18.946501     24\n",
       "18.677900     24\n",
       "Name: D_g, dtype: int64"
      ]
     },
     "execution_count": 62,
     "metadata": {},
     "output_type": "execute_result"
    }
   ],
   "source": [
    "sum_hour_cleaned['D_g'].value_counts(dropna= False).head(10)"
   ]
  },
  {
   "cell_type": "code",
   "execution_count": 63,
   "metadata": {},
   "outputs": [
    {
     "data": {
      "text/plain": [
       "primary_key      0\n",
       "_timeString      0\n",
       "unit             0\n",
       "trial_no         0\n",
       "species          0\n",
       "D_Algae          5\n",
       "D_CD             5\n",
       "D_CO2          120\n",
       "D_PAR            5\n",
       "D_eff          298\n",
       "D_feed           5\n",
       "D_g            347\n",
       "D_harvest        5\n",
       "dtype: int64"
      ]
     },
     "execution_count": 63,
     "metadata": {},
     "output_type": "execute_result"
    }
   ],
   "source": [
    "sum_hour_cleaned.isna().sum()"
   ]
  },
  {
   "cell_type": "code",
   "execution_count": 65,
   "metadata": {},
   "outputs": [
    {
     "data": {
      "text/plain": [
       "primary_key    0\n",
       "_timeString    0\n",
       "unit           0\n",
       "trial_no       0\n",
       "species        0\n",
       "D_Algae        0\n",
       "D_CD           0\n",
       "D_CO2          0\n",
       "D_PAR          0\n",
       "D_eff          0\n",
       "D_feed         0\n",
       "D_g            0\n",
       "D_harvest      0\n",
       "dtype: int64"
      ]
     },
     "execution_count": 65,
     "metadata": {},
     "output_type": "execute_result"
    }
   ],
   "source": [
    "sum_hour_cleaned.isin(['Empty']).sum(axis=0)"
   ]
  },
  {
   "cell_type": "code",
   "execution_count": 66,
   "metadata": {},
   "outputs": [
    {
     "data": {
      "text/plain": [
       "primary_key    0\n",
       "_timeString    0\n",
       "unit           0\n",
       "trial_no       0\n",
       "species        0\n",
       "D_Algae        0\n",
       "D_CD           0\n",
       "D_CO2          0\n",
       "D_PAR          0\n",
       "D_eff          0\n",
       "D_feed         0\n",
       "D_g            0\n",
       "D_harvest      0\n",
       "dtype: int64"
      ]
     },
     "execution_count": 66,
     "metadata": {},
     "output_type": "execute_result"
    }
   ],
   "source": [
    "sum_hour_cleaned.isin(['inf']).sum(axis=0)"
   ]
  },
  {
   "cell_type": "code",
   "execution_count": 67,
   "metadata": {},
   "outputs": [
    {
     "data": {
      "text/plain": [
       "0"
      ]
     },
     "execution_count": 67,
     "metadata": {},
     "output_type": "execute_result"
    }
   ],
   "source": [
    "count = np.isinf(sum_hour_cleaned).values.sum()\n",
    "count"
   ]
  },
  {
   "cell_type": "markdown",
   "metadata": {},
   "source": [
    "## Missing Value Imputation"
   ]
  },
  {
   "cell_type": "code",
   "execution_count": 68,
   "metadata": {},
   "outputs": [
    {
     "data": {
      "text/html": [
       "<div>\n",
       "<style scoped>\n",
       "    .dataframe tbody tr th:only-of-type {\n",
       "        vertical-align: middle;\n",
       "    }\n",
       "\n",
       "    .dataframe tbody tr th {\n",
       "        vertical-align: top;\n",
       "    }\n",
       "\n",
       "    .dataframe thead th {\n",
       "        text-align: right;\n",
       "    }\n",
       "</style>\n",
       "<table border=\"1\" class=\"dataframe\">\n",
       "  <thead>\n",
       "    <tr style=\"text-align: right;\">\n",
       "      <th></th>\n",
       "      <th>primary_key</th>\n",
       "      <th>unit</th>\n",
       "      <th>trial_no</th>\n",
       "      <th>species</th>\n",
       "      <th>D_Algae</th>\n",
       "      <th>D_CD</th>\n",
       "      <th>D_CO2</th>\n",
       "      <th>D_PAR</th>\n",
       "      <th>D_eff</th>\n",
       "      <th>D_feed</th>\n",
       "      <th>D_g</th>\n",
       "      <th>D_harvest</th>\n",
       "    </tr>\n",
       "    <tr>\n",
       "      <th>_timeString</th>\n",
       "      <th></th>\n",
       "      <th></th>\n",
       "      <th></th>\n",
       "      <th></th>\n",
       "      <th></th>\n",
       "      <th></th>\n",
       "      <th></th>\n",
       "      <th></th>\n",
       "      <th></th>\n",
       "      <th></th>\n",
       "      <th></th>\n",
       "      <th></th>\n",
       "    </tr>\n",
       "  </thead>\n",
       "  <tbody>\n",
       "    <tr>\n",
       "      <th>2021-03-22 16:00:00</th>\n",
       "      <td>1616425200</td>\n",
       "      <td>5</td>\n",
       "      <td>10</td>\n",
       "      <td>7</td>\n",
       "      <td>0.0</td>\n",
       "      <td>-0.1074</td>\n",
       "      <td>0.0</td>\n",
       "      <td>0.0</td>\n",
       "      <td>0.0</td>\n",
       "      <td>0.0</td>\n",
       "      <td>-0.1895</td>\n",
       "      <td>0.0</td>\n",
       "    </tr>\n",
       "    <tr>\n",
       "      <th>2021-03-22 17:00:00</th>\n",
       "      <td>1616428800</td>\n",
       "      <td>5</td>\n",
       "      <td>10</td>\n",
       "      <td>7</td>\n",
       "      <td>0.0</td>\n",
       "      <td>-0.1074</td>\n",
       "      <td>0.0</td>\n",
       "      <td>0.0</td>\n",
       "      <td>0.0</td>\n",
       "      <td>0.0</td>\n",
       "      <td>-0.1895</td>\n",
       "      <td>0.0</td>\n",
       "    </tr>\n",
       "    <tr>\n",
       "      <th>2021-03-22 18:00:00</th>\n",
       "      <td>1616432400</td>\n",
       "      <td>5</td>\n",
       "      <td>10</td>\n",
       "      <td>7</td>\n",
       "      <td>0.0</td>\n",
       "      <td>-0.1074</td>\n",
       "      <td>0.0</td>\n",
       "      <td>0.0</td>\n",
       "      <td>0.0</td>\n",
       "      <td>0.0</td>\n",
       "      <td>-0.1895</td>\n",
       "      <td>0.0</td>\n",
       "    </tr>\n",
       "    <tr>\n",
       "      <th>2021-03-22 19:00:00</th>\n",
       "      <td>1616436000</td>\n",
       "      <td>5</td>\n",
       "      <td>10</td>\n",
       "      <td>7</td>\n",
       "      <td>0.0</td>\n",
       "      <td>-0.1074</td>\n",
       "      <td>0.0</td>\n",
       "      <td>0.0</td>\n",
       "      <td>0.0</td>\n",
       "      <td>0.0</td>\n",
       "      <td>-0.1895</td>\n",
       "      <td>0.0</td>\n",
       "    </tr>\n",
       "    <tr>\n",
       "      <th>2021-03-22 20:00:00</th>\n",
       "      <td>1616439600</td>\n",
       "      <td>5</td>\n",
       "      <td>10</td>\n",
       "      <td>7</td>\n",
       "      <td>0.0</td>\n",
       "      <td>-0.1074</td>\n",
       "      <td>0.0</td>\n",
       "      <td>0.0</td>\n",
       "      <td>0.0</td>\n",
       "      <td>0.0</td>\n",
       "      <td>-0.1895</td>\n",
       "      <td>0.0</td>\n",
       "    </tr>\n",
       "  </tbody>\n",
       "</table>\n",
       "</div>"
      ],
      "text/plain": [
       "                     primary_key  unit  trial_no  species  D_Algae    D_CD  \\\n",
       "_timeString                                                                  \n",
       "2021-03-22 16:00:00   1616425200     5        10        7      0.0 -0.1074   \n",
       "2021-03-22 17:00:00   1616428800     5        10        7      0.0 -0.1074   \n",
       "2021-03-22 18:00:00   1616432400     5        10        7      0.0 -0.1074   \n",
       "2021-03-22 19:00:00   1616436000     5        10        7      0.0 -0.1074   \n",
       "2021-03-22 20:00:00   1616439600     5        10        7      0.0 -0.1074   \n",
       "\n",
       "                     D_CO2  D_PAR  D_eff  D_feed     D_g  D_harvest  \n",
       "_timeString                                                          \n",
       "2021-03-22 16:00:00    0.0    0.0    0.0     0.0 -0.1895        0.0  \n",
       "2021-03-22 17:00:00    0.0    0.0    0.0     0.0 -0.1895        0.0  \n",
       "2021-03-22 18:00:00    0.0    0.0    0.0     0.0 -0.1895        0.0  \n",
       "2021-03-22 19:00:00    0.0    0.0    0.0     0.0 -0.1895        0.0  \n",
       "2021-03-22 20:00:00    0.0    0.0    0.0     0.0 -0.1895        0.0  "
      ]
     },
     "execution_count": 68,
     "metadata": {},
     "output_type": "execute_result"
    }
   ],
   "source": [
    "sum_hour_cleaned_indexed = sum_hour_cleaned.set_index('_timeString')\n",
    "sum_hour_cleaned_indexed.head()"
   ]
  },
  {
   "cell_type": "code",
   "execution_count": 69,
   "metadata": {},
   "outputs": [],
   "source": [
    "# Package imports\n",
    "import seaborn as sns\n",
    "import pandas as pd\n",
    "import missingno as msno\n",
    "%matplotlib inline"
   ]
  },
  {
   "cell_type": "code",
   "execution_count": 70,
   "metadata": {},
   "outputs": [],
   "source": [
    "pbr_datamissing = sum_hour_cleaned_indexed.copy()"
   ]
  },
  {
   "cell_type": "code",
   "execution_count": 71,
   "metadata": {},
   "outputs": [
    {
     "data": {
      "text/plain": [
       "<AxesSubplot:>"
      ]
     },
     "execution_count": 71,
     "metadata": {},
     "output_type": "execute_result"
    },
    {
     "data": {
      "image/png": "[encoded data removed]",
      "text/plain": [
       "<Figure size 1800x720 with 3 Axes>"
      ]
     },
     "metadata": {
      "needs_background": "light"
     },
     "output_type": "display_data"
    }
   ],
   "source": [
    "msno.bar(pbr_datamissing)"
   ]
  },
  {
   "cell_type": "code",
   "execution_count": 72,
   "metadata": {},
   "outputs": [
    {
     "data": {
      "text/plain": [
       "<AxesSubplot:>"
      ]
     },
     "execution_count": 72,
     "metadata": {},
     "output_type": "execute_result"
    },
    {
     "data": {
      "image/png": "[encoded data removed]",
      "text/plain": [
       "<Figure size 1800x720 with 2 Axes>"
      ]
     },
     "metadata": {
      "needs_background": "light"
     },
     "output_type": "display_data"
    }
   ],
   "source": [
    "msno.matrix(pbr_datamissing)"
   ]
  },
  {
   "cell_type": "code",
   "execution_count": 73,
   "metadata": {},
   "outputs": [
    {
     "data": {
      "text/plain": [
       "<AxesSubplot:>"
      ]
     },
     "execution_count": 73,
     "metadata": {},
     "output_type": "execute_result"
    },
    {
     "data": {
      "image/png": "[encoded data removed]",
      "text/plain": [
       "<Figure size 1800x720 with 1 Axes>"
      ]
     },
     "metadata": {
      "needs_background": "light"
     },
     "output_type": "display_data"
    }
   ],
   "source": [
    "msno.dendrogram(pbr_datamissing)"
   ]
  },
  {
   "cell_type": "code",
   "execution_count": 74,
   "metadata": {},
   "outputs": [
    {
     "data": {
      "text/plain": [
       "<AxesSubplot:>"
      ]
     },
     "execution_count": 74,
     "metadata": {},
     "output_type": "execute_result"
    },
    {
     "data": {
      "image/png": "[encoded data removed]",
      "text/plain": [
       "<Figure size 1440x864 with 2 Axes>"
      ]
     },
     "metadata": {
      "needs_background": "light"
     },
     "output_type": "display_data"
    }
   ],
   "source": [
    "msno.heatmap(pbr_datamissing)"
   ]
  },
  {
   "cell_type": "code",
   "execution_count": 78,
   "metadata": {},
   "outputs": [],
   "source": [
    "dataset = sum_hour_cleaned_indexed.copy()"
   ]
  },
  {
   "cell_type": "code",
   "execution_count": 81,
   "metadata": {},
   "outputs": [
    {
     "data": {
      "image/png": "[encoded data removed]",
      "text/plain": [
       "<Figure size 1440x504 with 1 Axes>"
      ]
     },
     "metadata": {
      "needs_background": "light"
     },
     "output_type": "display_data"
    }
   ],
   "source": [
    "# set the size of our plot\n",
    "plt.rcParams['figure.figsize']=(20,7)\n",
    "# plots our series\n",
    "plt.plot(dataset['D_g'], color='green')\n",
    "# adds title to our time series plot\n",
    "#plt.title('Customers visted shop since 1950') \n",
    "# print the plot\n",
    "plt.show()\n"
   ]
  },
  {
   "cell_type": "code",
   "execution_count": 83,
   "metadata": {},
   "outputs": [
    {
     "data": {
      "image/png": "[encoded data removed]",
      "text/plain": [
       "<Figure size 1440x504 with 1 Axes>"
      ]
     },
     "metadata": {
      "needs_background": "light"
     },
     "output_type": "display_data"
    }
   ],
   "source": [
    "# setting the plot size\n",
    "plt.rcParams['figure.figsize']=(20,7)\n",
    "# on our data, impute the missing values using rolling window method\n",
    "dataset['D_g_L']= dataset['D_g'].interpolate(method='linear')\n",
    "# plot the complete dataset\n",
    "plt.plot(dataset['D_g_L'], color='blue')\n",
    "# add the tittle of our plot as Linear interpolation\n",
    "plt.title('Linear interpolatoin')\n",
    "# print the plot\n",
    "plt.show()"
   ]
  },
  {
   "cell_type": "code",
   "execution_count": 84,
   "metadata": {},
   "outputs": [
    {
     "data": {
      "image/png": "[encoded data removed]",
      "text/plain": [
       "<Figure size 1440x504 with 1 Axes>"
      ]
     },
     "metadata": {
      "needs_background": "light"
     },
     "output_type": "display_data"
    }
   ],
   "source": [
    "# setting the plot size\n",
    "plt.rcParams['figure.figsize']=(20,7)\n",
    "# on our data, impute the missing values using the interpolation techniques and specifically, the lineare method\n",
    "dataset['D_g_Spline']= dataset['D_g'].interpolate(option='spline')\n",
    "# plot the complete dataset\n",
    "plt.plot(dataset['D_g_Spline'], color='blue')\n",
    "# add the tittle of our plot as Linear interpolation\n",
    "plt.title('Spline Interpolation')\n",
    "# print the plot\n",
    "plt.show()"
   ]
  },
  {
   "cell_type": "code",
   "execution_count": 85,
   "metadata": {},
   "outputs": [
    {
     "data": {
      "image/png": "[encoded data removed]",
      "text/plain": [
       "<Figure size 1440x504 with 1 Axes>"
      ]
     },
     "metadata": {
      "needs_background": "light"
     },
     "output_type": "display_data"
    }
   ],
   "source": [
    "# ffigure size\n",
    "plt.rcParams['figure.figsize']=(20,7)\n",
    "# On the customer column of our data, impute the missing values with the LOCF\n",
    "dataset['EWMA']= dataset['D_g'].ewm(halflife=4).mean()\n",
    "# plot our time series with imputed values\n",
    "plt.plot(dataset['EWMA'], color='blue')\n",
    "#Plot tittle\n",
    "plt.title(' Exponential (Weighted) Moving Average:')\n",
    "# show the plot\n",
    "plt.show()"
   ]
  },
  {
   "cell_type": "code",
   "execution_count": 90,
   "metadata": {},
   "outputs": [
    {
     "data": {
      "text/plain": [
       "['D_Algae', 'D_CD', 'D_CO2', 'D_PAR', 'D_eff', 'D_feed', 'D_g', 'D_harvest']"
      ]
     },
     "execution_count": 90,
     "metadata": {},
     "output_type": "execute_result"
    }
   ],
   "source": [
    "null_cols = sum_hour_cleaned_indexed.columns[sum_hour_cleaned_indexed.isnull().any()].tolist()\n",
    "null_cols"
   ]
  },
  {
   "cell_type": "code",
   "execution_count": 91,
   "metadata": {},
   "outputs": [],
   "source": [
    "for pbr_col in null_cols:\n",
    "    sum_hour_cleaned_indexed[pbr_col]=sum_hour_cleaned_indexed[pbr_col].interpolate(option='spline')\n"
   ]
  },
  {
   "cell_type": "code",
   "execution_count": 93,
   "metadata": {},
   "outputs": [
    {
     "data": {
      "text/plain": [
       "primary_key    0\n",
       "unit           0\n",
       "trial_no       0\n",
       "species        0\n",
       "D_Algae        0\n",
       "D_CD           0\n",
       "D_CO2          0\n",
       "D_PAR          0\n",
       "D_eff          0\n",
       "D_feed         0\n",
       "D_g            0\n",
       "D_harvest      0\n",
       "dtype: int64"
      ]
     },
     "execution_count": 93,
     "metadata": {},
     "output_type": "execute_result"
    }
   ],
   "source": [
    "sum_hour_cleaned_indexed.isna().sum()"
   ]
  },
  {
   "cell_type": "code",
   "execution_count": 94,
   "metadata": {},
   "outputs": [
    {
     "data": {
      "text/plain": [
       "<AxesSubplot:>"
      ]
     },
     "execution_count": 94,
     "metadata": {},
     "output_type": "execute_result"
    },
    {
     "data": {
      "image/png": "[encoded data removed]",
      "text/plain": [
       "<Figure size 1800x720 with 2 Axes>"
      ]
     },
     "metadata": {
      "needs_background": "light"
     },
     "output_type": "display_data"
    }
   ],
   "source": [
    "msno.matrix(sum_hour_cleaned_indexed)"
   ]
  },
  {
   "cell_type": "code",
   "execution_count": 95,
   "metadata": {},
   "outputs": [],
   "source": [
    "sum_hour_cleaned_indexed = sum_hour_cleaned_indexed.reset_index(level=0)"
   ]
  },
  {
   "cell_type": "code",
   "execution_count": 96,
   "metadata": {},
   "outputs": [
    {
     "data": {
      "text/html": [
       "<div>\n",
       "<style scoped>\n",
       "    .dataframe tbody tr th:only-of-type {\n",
       "        vertical-align: middle;\n",
       "    }\n",
       "\n",
       "    .dataframe tbody tr th {\n",
       "        vertical-align: top;\n",
       "    }\n",
       "\n",
       "    .dataframe thead th {\n",
       "        text-align: right;\n",
       "    }\n",
       "</style>\n",
       "<table border=\"1\" class=\"dataframe\">\n",
       "  <thead>\n",
       "    <tr style=\"text-align: right;\">\n",
       "      <th></th>\n",
       "      <th>_timeString</th>\n",
       "      <th>primary_key</th>\n",
       "      <th>unit</th>\n",
       "      <th>trial_no</th>\n",
       "      <th>species</th>\n",
       "      <th>D_Algae</th>\n",
       "      <th>D_CD</th>\n",
       "      <th>D_CO2</th>\n",
       "      <th>D_PAR</th>\n",
       "      <th>D_eff</th>\n",
       "      <th>D_feed</th>\n",
       "      <th>D_g</th>\n",
       "      <th>D_harvest</th>\n",
       "    </tr>\n",
       "  </thead>\n",
       "  <tbody>\n",
       "    <tr>\n",
       "      <th>0</th>\n",
       "      <td>2021-03-22 16:00:00</td>\n",
       "      <td>1616425200</td>\n",
       "      <td>5</td>\n",
       "      <td>10</td>\n",
       "      <td>7</td>\n",
       "      <td>0.0</td>\n",
       "      <td>-0.1074</td>\n",
       "      <td>0.0</td>\n",
       "      <td>0.0</td>\n",
       "      <td>0.0</td>\n",
       "      <td>0.0</td>\n",
       "      <td>-0.1895</td>\n",
       "      <td>0.0</td>\n",
       "    </tr>\n",
       "    <tr>\n",
       "      <th>1</th>\n",
       "      <td>2021-03-22 17:00:00</td>\n",
       "      <td>1616428800</td>\n",
       "      <td>5</td>\n",
       "      <td>10</td>\n",
       "      <td>7</td>\n",
       "      <td>0.0</td>\n",
       "      <td>-0.1074</td>\n",
       "      <td>0.0</td>\n",
       "      <td>0.0</td>\n",
       "      <td>0.0</td>\n",
       "      <td>0.0</td>\n",
       "      <td>-0.1895</td>\n",
       "      <td>0.0</td>\n",
       "    </tr>\n",
       "    <tr>\n",
       "      <th>2</th>\n",
       "      <td>2021-03-22 18:00:00</td>\n",
       "      <td>1616432400</td>\n",
       "      <td>5</td>\n",
       "      <td>10</td>\n",
       "      <td>7</td>\n",
       "      <td>0.0</td>\n",
       "      <td>-0.1074</td>\n",
       "      <td>0.0</td>\n",
       "      <td>0.0</td>\n",
       "      <td>0.0</td>\n",
       "      <td>0.0</td>\n",
       "      <td>-0.1895</td>\n",
       "      <td>0.0</td>\n",
       "    </tr>\n",
       "    <tr>\n",
       "      <th>3</th>\n",
       "      <td>2021-03-22 19:00:00</td>\n",
       "      <td>1616436000</td>\n",
       "      <td>5</td>\n",
       "      <td>10</td>\n",
       "      <td>7</td>\n",
       "      <td>0.0</td>\n",
       "      <td>-0.1074</td>\n",
       "      <td>0.0</td>\n",
       "      <td>0.0</td>\n",
       "      <td>0.0</td>\n",
       "      <td>0.0</td>\n",
       "      <td>-0.1895</td>\n",
       "      <td>0.0</td>\n",
       "    </tr>\n",
       "    <tr>\n",
       "      <th>4</th>\n",
       "      <td>2021-03-22 20:00:00</td>\n",
       "      <td>1616439600</td>\n",
       "      <td>5</td>\n",
       "      <td>10</td>\n",
       "      <td>7</td>\n",
       "      <td>0.0</td>\n",
       "      <td>-0.1074</td>\n",
       "      <td>0.0</td>\n",
       "      <td>0.0</td>\n",
       "      <td>0.0</td>\n",
       "      <td>0.0</td>\n",
       "      <td>-0.1895</td>\n",
       "      <td>0.0</td>\n",
       "    </tr>\n",
       "  </tbody>\n",
       "</table>\n",
       "</div>"
      ],
      "text/plain": [
       "          _timeString  primary_key  unit  trial_no  species  D_Algae    D_CD  \\\n",
       "0 2021-03-22 16:00:00   1616425200     5        10        7      0.0 -0.1074   \n",
       "1 2021-03-22 17:00:00   1616428800     5        10        7      0.0 -0.1074   \n",
       "2 2021-03-22 18:00:00   1616432400     5        10        7      0.0 -0.1074   \n",
       "3 2021-03-22 19:00:00   1616436000     5        10        7      0.0 -0.1074   \n",
       "4 2021-03-22 20:00:00   1616439600     5        10        7      0.0 -0.1074   \n",
       "\n",
       "   D_CO2  D_PAR  D_eff  D_feed     D_g  D_harvest  \n",
       "0    0.0    0.0    0.0     0.0 -0.1895        0.0  \n",
       "1    0.0    0.0    0.0     0.0 -0.1895        0.0  \n",
       "2    0.0    0.0    0.0     0.0 -0.1895        0.0  \n",
       "3    0.0    0.0    0.0     0.0 -0.1895        0.0  \n",
       "4    0.0    0.0    0.0     0.0 -0.1895        0.0  "
      ]
     },
     "execution_count": 96,
     "metadata": {},
     "output_type": "execute_result"
    }
   ],
   "source": [
    "sum_hour_cleaned_indexed.head()"
   ]
  },
  {
   "cell_type": "code",
   "execution_count": 97,
   "metadata": {},
   "outputs": [],
   "source": [
    "new_col = list(sum_hour_cleaned.columns)\n",
    "sum_hour_cleaned_indexed=sum_hour_cleaned_indexed[new_col]"
   ]
  },
  {
   "cell_type": "code",
   "execution_count": 98,
   "metadata": {},
   "outputs": [
    {
     "data": {
      "text/html": [
       "<div>\n",
       "<style scoped>\n",
       "    .dataframe tbody tr th:only-of-type {\n",
       "        vertical-align: middle;\n",
       "    }\n",
       "\n",
       "    .dataframe tbody tr th {\n",
       "        vertical-align: top;\n",
       "    }\n",
       "\n",
       "    .dataframe thead th {\n",
       "        text-align: right;\n",
       "    }\n",
       "</style>\n",
       "<table border=\"1\" class=\"dataframe\">\n",
       "  <thead>\n",
       "    <tr style=\"text-align: right;\">\n",
       "      <th></th>\n",
       "      <th>primary_key</th>\n",
       "      <th>_timeString</th>\n",
       "      <th>unit</th>\n",
       "      <th>trial_no</th>\n",
       "      <th>species</th>\n",
       "      <th>D_Algae</th>\n",
       "      <th>D_CD</th>\n",
       "      <th>D_CO2</th>\n",
       "      <th>D_PAR</th>\n",
       "      <th>D_eff</th>\n",
       "      <th>D_feed</th>\n",
       "      <th>D_g</th>\n",
       "      <th>D_harvest</th>\n",
       "    </tr>\n",
       "  </thead>\n",
       "  <tbody>\n",
       "    <tr>\n",
       "      <th>0</th>\n",
       "      <td>1616425200</td>\n",
       "      <td>2021-03-22 16:00:00</td>\n",
       "      <td>5</td>\n",
       "      <td>10</td>\n",
       "      <td>7</td>\n",
       "      <td>0.0</td>\n",
       "      <td>-0.1074</td>\n",
       "      <td>0.0</td>\n",
       "      <td>0.0</td>\n",
       "      <td>0.0</td>\n",
       "      <td>0.0</td>\n",
       "      <td>-0.1895</td>\n",
       "      <td>0.0</td>\n",
       "    </tr>\n",
       "    <tr>\n",
       "      <th>1</th>\n",
       "      <td>1616428800</td>\n",
       "      <td>2021-03-22 17:00:00</td>\n",
       "      <td>5</td>\n",
       "      <td>10</td>\n",
       "      <td>7</td>\n",
       "      <td>0.0</td>\n",
       "      <td>-0.1074</td>\n",
       "      <td>0.0</td>\n",
       "      <td>0.0</td>\n",
       "      <td>0.0</td>\n",
       "      <td>0.0</td>\n",
       "      <td>-0.1895</td>\n",
       "      <td>0.0</td>\n",
       "    </tr>\n",
       "    <tr>\n",
       "      <th>2</th>\n",
       "      <td>1616432400</td>\n",
       "      <td>2021-03-22 18:00:00</td>\n",
       "      <td>5</td>\n",
       "      <td>10</td>\n",
       "      <td>7</td>\n",
       "      <td>0.0</td>\n",
       "      <td>-0.1074</td>\n",
       "      <td>0.0</td>\n",
       "      <td>0.0</td>\n",
       "      <td>0.0</td>\n",
       "      <td>0.0</td>\n",
       "      <td>-0.1895</td>\n",
       "      <td>0.0</td>\n",
       "    </tr>\n",
       "    <tr>\n",
       "      <th>3</th>\n",
       "      <td>1616436000</td>\n",
       "      <td>2021-03-22 19:00:00</td>\n",
       "      <td>5</td>\n",
       "      <td>10</td>\n",
       "      <td>7</td>\n",
       "      <td>0.0</td>\n",
       "      <td>-0.1074</td>\n",
       "      <td>0.0</td>\n",
       "      <td>0.0</td>\n",
       "      <td>0.0</td>\n",
       "      <td>0.0</td>\n",
       "      <td>-0.1895</td>\n",
       "      <td>0.0</td>\n",
       "    </tr>\n",
       "    <tr>\n",
       "      <th>4</th>\n",
       "      <td>1616439600</td>\n",
       "      <td>2021-03-22 20:00:00</td>\n",
       "      <td>5</td>\n",
       "      <td>10</td>\n",
       "      <td>7</td>\n",
       "      <td>0.0</td>\n",
       "      <td>-0.1074</td>\n",
       "      <td>0.0</td>\n",
       "      <td>0.0</td>\n",
       "      <td>0.0</td>\n",
       "      <td>0.0</td>\n",
       "      <td>-0.1895</td>\n",
       "      <td>0.0</td>\n",
       "    </tr>\n",
       "  </tbody>\n",
       "</table>\n",
       "</div>"
      ],
      "text/plain": [
       "   primary_key         _timeString  unit  trial_no  species  D_Algae    D_CD  \\\n",
       "0   1616425200 2021-03-22 16:00:00     5        10        7      0.0 -0.1074   \n",
       "1   1616428800 2021-03-22 17:00:00     5        10        7      0.0 -0.1074   \n",
       "2   1616432400 2021-03-22 18:00:00     5        10        7      0.0 -0.1074   \n",
       "3   1616436000 2021-03-22 19:00:00     5        10        7      0.0 -0.1074   \n",
       "4   1616439600 2021-03-22 20:00:00     5        10        7      0.0 -0.1074   \n",
       "\n",
       "   D_CO2  D_PAR  D_eff  D_feed     D_g  D_harvest  \n",
       "0    0.0    0.0    0.0     0.0 -0.1895        0.0  \n",
       "1    0.0    0.0    0.0     0.0 -0.1895        0.0  \n",
       "2    0.0    0.0    0.0     0.0 -0.1895        0.0  \n",
       "3    0.0    0.0    0.0     0.0 -0.1895        0.0  \n",
       "4    0.0    0.0    0.0     0.0 -0.1895        0.0  "
      ]
     },
     "execution_count": 98,
     "metadata": {},
     "output_type": "execute_result"
    }
   ],
   "source": [
    "sum_hour_cleaned_indexed.head()"
   ]
  },
  {
   "cell_type": "code",
   "execution_count": 99,
   "metadata": {},
   "outputs": [
    {
     "name": "stdout",
     "output_type": "stream",
     "text": [
      "<class 'pandas.core.frame.DataFrame'>\n",
      "RangeIndex: 2853 entries, 0 to 2852\n",
      "Data columns (total 13 columns):\n",
      " #   Column       Non-Null Count  Dtype         \n",
      "---  ------       --------------  -----         \n",
      " 0   primary_key  2853 non-null   int64         \n",
      " 1   _timeString  2853 non-null   datetime64[ns]\n",
      " 2   unit         2853 non-null   int16         \n",
      " 3   trial_no     2853 non-null   int64         \n",
      " 4   species      2853 non-null   int64         \n",
      " 5   D_Algae      2853 non-null   float32       \n",
      " 6   D_CD         2853 non-null   float32       \n",
      " 7   D_CO2        2853 non-null   float32       \n",
      " 8   D_PAR        2853 non-null   float32       \n",
      " 9   D_eff        2853 non-null   float32       \n",
      " 10  D_feed       2853 non-null   float32       \n",
      " 11  D_g          2853 non-null   float32       \n",
      " 12  D_harvest    2853 non-null   float32       \n",
      "dtypes: datetime64[ns](1), float32(8), int16(1), int64(3)\n",
      "memory usage: 184.0 KB\n"
     ]
    }
   ],
   "source": [
    "sum_hour_cleaned_indexed.info()"
   ]
  },
  {
   "cell_type": "code",
   "execution_count": null,
   "metadata": {},
   "outputs": [],
   "source": []
  }
 ],
 "metadata": {
  "interpreter": {
   "hash": "4c003f82c03b36fef287bdd35e08b972b8ba2e96746a620b0947100bdbd54581"
  },
  "kernelspec": {
   "display_name": "Python 3.9.8 ('.venv': venv)",
   "language": "python",
   "name": "python3"
  },
  "language_info": {
   "codemirror_mode": {
    "name": "ipython",
    "version": 3
   },
   "file_extension": ".py",
   "mimetype": "text/x-python",
   "name": "python",
   "nbconvert_exporter": "python",
   "pygments_lexer": "ipython3",
   "version": "3.9.8"
  },
  "orig_nbformat": 4
 },
 "nbformat": 4,
 "nbformat_minor": 2
}
