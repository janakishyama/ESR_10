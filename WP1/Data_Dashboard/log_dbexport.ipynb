{
 "cells": [
  {
   "cell_type": "code",
   "execution_count": 62,
   "metadata": {},
   "outputs": [],
   "source": [
    "import numpy as np\n",
    "import pandas as pd\n",
    "import os\n",
    "import re\n",
    "from datetime import date\n",
    "import sqlalchemy\n",
    "import sys\n",
    "import mariadb\n",
    "\n",
    "import warnings    # to avoid warning during executions\n",
    "warnings.filterwarnings(\"ignore\")"
   ]
  },
  {
   "cell_type": "code",
   "execution_count": 43,
   "metadata": {},
   "outputs": [],
   "source": [
    "# set file name want to process\n",
    "file_name = '..\\..\\dataExport\\LOGdata\\log_2022_4_20.csv'"
   ]
  },
  {
   "cell_type": "code",
   "execution_count": 44,
   "metadata": {},
   "outputs": [],
   "source": [
    "# database connection with mariaDB for read the read and write data from and to dataframe <----> mariaDB tables\n",
    "database_username = 'root'\n",
    "database_password = 'password'\n",
    "database_ip       = '127.0.0.1:3306'\n",
    "database_name     = 'data_dashboard'\n",
    "database_connection = sqlalchemy.create_engine('mariadb+mariadbconnector://{0}:{1}@{2}/{3}'.\n",
    "                                               format(database_username, database_password, \n",
    "                                                      database_ip, database_name))"
   ]
  },
  {
   "cell_type": "code",
   "execution_count": 45,
   "metadata": {},
   "outputs": [
    {
     "data": {
      "text/html": [
       "<div>\n",
       "<style scoped>\n",
       "    .dataframe tbody tr th:only-of-type {\n",
       "        vertical-align: middle;\n",
       "    }\n",
       "\n",
       "    .dataframe tbody tr th {\n",
       "        vertical-align: top;\n",
       "    }\n",
       "\n",
       "    .dataframe thead th {\n",
       "        text-align: right;\n",
       "    }\n",
       "</style>\n",
       "<table border=\"1\" class=\"dataframe\">\n",
       "  <thead>\n",
       "    <tr style=\"text-align: right;\">\n",
       "      <th></th>\n",
       "      <th>unit_id</th>\n",
       "      <th>unit_name</th>\n",
       "    </tr>\n",
       "  </thead>\n",
       "  <tbody>\n",
       "    <tr>\n",
       "      <th>0</th>\n",
       "      <td>31</td>\n",
       "      <td>FFP_AUTFU</td>\n",
       "    </tr>\n",
       "    <tr>\n",
       "      <th>1</th>\n",
       "      <td>19</td>\n",
       "      <td>FFP_FFP</td>\n",
       "    </tr>\n",
       "    <tr>\n",
       "      <th>2</th>\n",
       "      <td>3</td>\n",
       "      <td>FFU</td>\n",
       "    </tr>\n",
       "    <tr>\n",
       "      <th>3</th>\n",
       "      <td>14</td>\n",
       "      <td>FPC11</td>\n",
       "    </tr>\n",
       "    <tr>\n",
       "      <th>4</th>\n",
       "      <td>34</td>\n",
       "      <td>FPC11_AUT11</td>\n",
       "    </tr>\n",
       "  </tbody>\n",
       "</table>\n",
       "</div>"
      ],
      "text/plain": [
       "   unit_id    unit_name\n",
       "0       31    FFP_AUTFU\n",
       "1       19      FFP_FFP\n",
       "2        3          FFU\n",
       "3       14        FPC11\n",
       "4       34  FPC11_AUT11"
      ]
     },
     "execution_count": 45,
     "metadata": {},
     "output_type": "execute_result"
    }
   ],
   "source": [
    "# fetch data from tbl_unit to data frame\n",
    "tbl_unit = pd.read_sql('SELECT unit_id, unit_name FROM tbl_unit', database_connection)\n",
    "tbl_unit.head(5)"
   ]
  },
  {
   "cell_type": "code",
   "execution_count": 46,
   "metadata": {},
   "outputs": [
    {
     "data": {
      "text/html": [
       "<div>\n",
       "<style scoped>\n",
       "    .dataframe tbody tr th:only-of-type {\n",
       "        vertical-align: middle;\n",
       "    }\n",
       "\n",
       "    .dataframe tbody tr th {\n",
       "        vertical-align: top;\n",
       "    }\n",
       "\n",
       "    .dataframe thead th {\n",
       "        text-align: right;\n",
       "    }\n",
       "</style>\n",
       "<table border=\"1\" class=\"dataframe\">\n",
       "  <thead>\n",
       "    <tr style=\"text-align: right;\">\n",
       "      <th></th>\n",
       "      <th>prm_id</th>\n",
       "      <th>prm_name</th>\n",
       "    </tr>\n",
       "  </thead>\n",
       "  <tbody>\n",
       "    <tr>\n",
       "      <th>0</th>\n",
       "      <td>1</td>\n",
       "      <td>Arduino</td>\n",
       "    </tr>\n",
       "    <tr>\n",
       "      <th>1</th>\n",
       "      <td>101</td>\n",
       "      <td>Arduino1</td>\n",
       "    </tr>\n",
       "    <tr>\n",
       "      <th>2</th>\n",
       "      <td>66</td>\n",
       "      <td>Arduino1_LT41</td>\n",
       "    </tr>\n",
       "    <tr>\n",
       "      <th>3</th>\n",
       "      <td>125</td>\n",
       "      <td>Arduino1_LT42</td>\n",
       "    </tr>\n",
       "    <tr>\n",
       "      <th>4</th>\n",
       "      <td>126</td>\n",
       "      <td>Arduino1_LT43</td>\n",
       "    </tr>\n",
       "  </tbody>\n",
       "</table>\n",
       "</div>"
      ],
      "text/plain": [
       "   prm_id       prm_name\n",
       "0       1        Arduino\n",
       "1     101       Arduino1\n",
       "2      66  Arduino1_LT41\n",
       "3     125  Arduino1_LT42\n",
       "4     126  Arduino1_LT43"
      ]
     },
     "execution_count": 46,
     "metadata": {},
     "output_type": "execute_result"
    }
   ],
   "source": [
    "# fetch data from tbl_log_parameters to data frame\n",
    "tbl_parameter = pd.read_sql('SELECT prm_id, prm_name FROM tbl_log_parameters', database_connection)\n",
    "tbl_parameter.head(5)"
   ]
  },
  {
   "cell_type": "markdown",
   "metadata": {},
   "source": [
    "## Removing extra newlines"
   ]
  },
  {
   "cell_type": "code",
   "execution_count": null,
   "metadata": {},
   "outputs": [],
   "source": [
    "# Append a line to previous line if its not starting in standard format. \n",
    "# save the preprocessed data into same file\n",
    "def del_newline(file_name):\n",
    "    with open(file_name, 'r+', encoding=\"utf-8\") as file:\n",
    "        text = str();\n",
    "        for line in file:\n",
    "            if line[0:3] == \"202\":\n",
    "                text = text + '\\n';\n",
    "            text = text + line.strip();\n",
    "        file.seek(0);\n",
    "        file.write(text);\n",
    "\n",
    "del_newline(file_name)"
   ]
  },
  {
   "cell_type": "markdown",
   "metadata": {},
   "source": [
    "## Data Overview"
   ]
  },
  {
   "cell_type": "code",
   "execution_count": 47,
   "metadata": {},
   "outputs": [
    {
     "data": {
      "text/html": [
       "<div>\n",
       "<style scoped>\n",
       "    .dataframe tbody tr th:only-of-type {\n",
       "        vertical-align: middle;\n",
       "    }\n",
       "\n",
       "    .dataframe tbody tr th {\n",
       "        vertical-align: top;\n",
       "    }\n",
       "\n",
       "    .dataframe thead th {\n",
       "        text-align: right;\n",
       "    }\n",
       "</style>\n",
       "<table border=\"1\" class=\"dataframe\">\n",
       "  <thead>\n",
       "    <tr style=\"text-align: right;\">\n",
       "      <th></th>\n",
       "      <th>Date_Time</th>\n",
       "      <th>Time</th>\n",
       "      <th>MicroSec</th>\n",
       "      <th>Type</th>\n",
       "      <th>Unit</th>\n",
       "      <th>Parameter</th>\n",
       "      <th>Message</th>\n",
       "      <th>Value1</th>\n",
       "      <th>Value2</th>\n",
       "    </tr>\n",
       "  </thead>\n",
       "  <tbody>\n",
       "    <tr>\n",
       "      <th>0</th>\n",
       "      <td>2021-4-20 13:0:13</td>\n",
       "      <td>1618916413</td>\n",
       "      <td>613129</td>\n",
       "      <td>4</td>\n",
       "      <td>FPC11_FPP11</td>\n",
       "      <td>Arduino</td>\n",
       "      <td>more than 2 communication restarts, try powerd...</td>\n",
       "      <td>NaN</td>\n",
       "      <td>NaN</td>\n",
       "    </tr>\n",
       "    <tr>\n",
       "      <th>1</th>\n",
       "      <td>2021-4-20 13:0:57</td>\n",
       "      <td>1618916457</td>\n",
       "      <td>9327</td>\n",
       "      <td>4</td>\n",
       "      <td>FPC11_FPP11</td>\n",
       "      <td>Arduino</td>\n",
       "      <td>more than 2 communication restarts, try powerd...</td>\n",
       "      <td>NaN</td>\n",
       "      <td>NaN</td>\n",
       "    </tr>\n",
       "    <tr>\n",
       "      <th>2</th>\n",
       "      <td>2021-4-20 13:1:38</td>\n",
       "      <td>1618916498</td>\n",
       "      <td>812633</td>\n",
       "      <td>4</td>\n",
       "      <td>FPC11_FPP11</td>\n",
       "      <td>Arduino</td>\n",
       "      <td>more than 2 communication restarts, try powerd...</td>\n",
       "      <td>NaN</td>\n",
       "      <td>NaN</td>\n",
       "    </tr>\n",
       "    <tr>\n",
       "      <th>3</th>\n",
       "      <td>2021-4-20 13:2:20</td>\n",
       "      <td>1618916540</td>\n",
       "      <td>214501</td>\n",
       "      <td>4</td>\n",
       "      <td>FPC11_FPP11</td>\n",
       "      <td>Arduino</td>\n",
       "      <td>more than 2 communication restarts, try powerd...</td>\n",
       "      <td>NaN</td>\n",
       "      <td>NaN</td>\n",
       "    </tr>\n",
       "    <tr>\n",
       "      <th>4</th>\n",
       "      <td>2021-4-20 13:3:3</td>\n",
       "      <td>1618916583</td>\n",
       "      <td>212528</td>\n",
       "      <td>4</td>\n",
       "      <td>FPC11_FPP11</td>\n",
       "      <td>Arduino</td>\n",
       "      <td>more than 2 communication restarts, try powerd...</td>\n",
       "      <td>NaN</td>\n",
       "      <td>NaN</td>\n",
       "    </tr>\n",
       "    <tr>\n",
       "      <th>5</th>\n",
       "      <td>2021-4-20 13:3:46</td>\n",
       "      <td>1618916626</td>\n",
       "      <td>209680</td>\n",
       "      <td>4</td>\n",
       "      <td>FPC11_FPP11</td>\n",
       "      <td>Arduino</td>\n",
       "      <td>more than 2 communication restarts, try powerd...</td>\n",
       "      <td>NaN</td>\n",
       "      <td>NaN</td>\n",
       "    </tr>\n",
       "    <tr>\n",
       "      <th>6</th>\n",
       "      <td>2021-4-20 13:3:58</td>\n",
       "      <td>1618916638</td>\n",
       "      <td>271269</td>\n",
       "      <td>3</td>\n",
       "      <td>FPC14</td>\n",
       "      <td>program</td>\n",
       "      <td>step ID - Changed (new and old value)</td>\n",
       "      <td>4_WaterAcid</td>\n",
       "      <td>5_empty</td>\n",
       "    </tr>\n",
       "    <tr>\n",
       "      <th>7</th>\n",
       "      <td>2021-4-20 13:4:1</td>\n",
       "      <td>1618916641</td>\n",
       "      <td>101959</td>\n",
       "      <td>3</td>\n",
       "      <td>FPC14</td>\n",
       "      <td>program</td>\n",
       "      <td>start at - Changed (new and old value)</td>\n",
       "      <td>sellected step at...</td>\n",
       "      <td>first step</td>\n",
       "    </tr>\n",
       "    <tr>\n",
       "      <th>8</th>\n",
       "      <td>2021-4-20 13:4:6</td>\n",
       "      <td>1618916646</td>\n",
       "      <td>386245</td>\n",
       "      <td>3</td>\n",
       "      <td>FPC14</td>\n",
       "      <td>program</td>\n",
       "      <td>procedure running - Changed</td>\n",
       "      <td>not active</td>\n",
       "      <td>active</td>\n",
       "    </tr>\n",
       "    <tr>\n",
       "      <th>9</th>\n",
       "      <td>2021-4-20 13:4:7</td>\n",
       "      <td>1618916647</td>\n",
       "      <td>639887</td>\n",
       "      <td>2</td>\n",
       "      <td>FPC14</td>\n",
       "      <td>program</td>\n",
       "      <td>Program F_ThalaPseu_HalfNutr started</td>\n",
       "      <td>NaN</td>\n",
       "      <td>NaN</td>\n",
       "    </tr>\n",
       "  </tbody>\n",
       "</table>\n",
       "</div>"
      ],
      "text/plain": [
       "           Date_Time        Time  MicroSec  Type         Unit Parameter  \\\n",
       "0  2021-4-20 13:0:13  1618916413    613129     4  FPC11_FPP11   Arduino   \n",
       "1  2021-4-20 13:0:57  1618916457      9327     4  FPC11_FPP11   Arduino   \n",
       "2  2021-4-20 13:1:38  1618916498    812633     4  FPC11_FPP11   Arduino   \n",
       "3  2021-4-20 13:2:20  1618916540    214501     4  FPC11_FPP11   Arduino   \n",
       "4   2021-4-20 13:3:3  1618916583    212528     4  FPC11_FPP11   Arduino   \n",
       "5  2021-4-20 13:3:46  1618916626    209680     4  FPC11_FPP11   Arduino   \n",
       "6  2021-4-20 13:3:58  1618916638    271269     3        FPC14   program   \n",
       "7   2021-4-20 13:4:1  1618916641    101959     3        FPC14   program   \n",
       "8   2021-4-20 13:4:6  1618916646    386245     3        FPC14   program   \n",
       "9   2021-4-20 13:4:7  1618916647    639887     2        FPC14   program   \n",
       "\n",
       "                                             Message                Value1  \\\n",
       "0  more than 2 communication restarts, try powerd...                   NaN   \n",
       "1  more than 2 communication restarts, try powerd...                   NaN   \n",
       "2  more than 2 communication restarts, try powerd...                   NaN   \n",
       "3  more than 2 communication restarts, try powerd...                   NaN   \n",
       "4  more than 2 communication restarts, try powerd...                   NaN   \n",
       "5  more than 2 communication restarts, try powerd...                   NaN   \n",
       "6              step ID - Changed (new and old value)           4_WaterAcid   \n",
       "7             start at - Changed (new and old value)  sellected step at...   \n",
       "8                        procedure running - Changed            not active   \n",
       "9               Program F_ThalaPseu_HalfNutr started                   NaN   \n",
       "\n",
       "       Value2  \n",
       "0         NaN  \n",
       "1         NaN  \n",
       "2         NaN  \n",
       "3         NaN  \n",
       "4         NaN  \n",
       "5         NaN  \n",
       "6     5_empty  \n",
       "7  first step  \n",
       "8      active  \n",
       "9         NaN  "
      ]
     },
     "execution_count": 47,
     "metadata": {},
     "output_type": "execute_result"
    }
   ],
   "source": [
    "log_rawDF = pd.read_csv(file_name, sep='*')\n",
    "log_rawDF.head(10)"
   ]
  },
  {
   "cell_type": "code",
   "execution_count": 48,
   "metadata": {},
   "outputs": [
    {
     "name": "stdout",
     "output_type": "stream",
     "text": [
      "(864368, 9)\n"
     ]
    }
   ],
   "source": [
    "print(log_rawDF.shape)"
   ]
  },
  {
   "cell_type": "code",
   "execution_count": 49,
   "metadata": {},
   "outputs": [
    {
     "name": "stdout",
     "output_type": "stream",
     "text": [
      "<class 'pandas.core.frame.DataFrame'>\n",
      "RangeIndex: 864368 entries, 0 to 864367\n",
      "Data columns (total 9 columns):\n",
      " #   Column     Non-Null Count   Dtype \n",
      "---  ------     --------------   ----- \n",
      " 0   Date_Time  864368 non-null  object\n",
      " 1   Time       864368 non-null  int64 \n",
      " 2   MicroSec   864368 non-null  int64 \n",
      " 3   Type       864368 non-null  int64 \n",
      " 4   Unit       864368 non-null  object\n",
      " 5   Parameter  864368 non-null  object\n",
      " 6   Message    864368 non-null  object\n",
      " 7   Value1     411351 non-null  object\n",
      " 8   Value2     495515 non-null  object\n",
      "dtypes: int64(3), object(6)\n",
      "memory usage: 59.4+ MB\n"
     ]
    }
   ],
   "source": [
    "log_rawDF.info()"
   ]
  },
  {
   "cell_type": "code",
   "execution_count": 50,
   "metadata": {},
   "outputs": [
    {
     "data": {
      "text/plain": [
       "Index(['Date_Time', 'Time', 'MicroSec', 'Type', 'Unit', 'Parameter', 'Message',\n",
       "       'Value1', 'Value2'],\n",
       "      dtype='object')"
      ]
     },
     "execution_count": 50,
     "metadata": {},
     "output_type": "execute_result"
    }
   ],
   "source": [
    "log_rawDF.columns"
   ]
  },
  {
   "cell_type": "markdown",
   "metadata": {},
   "source": [
    "## Replace Parameter values and unit values with Table int values"
   ]
  },
  {
   "cell_type": "code",
   "execution_count": 132,
   "metadata": {},
   "outputs": [],
   "source": [
    "# data type conversion and droping rows if parameter column value is missing\n",
    "\n",
    "def log_tweak(log_rawDF):\n",
    "    return (\n",
    "    log_rawDF\n",
    "    .assign(Unit = log_rawDF.Unit.map(tbl_unit.set_index('unit_name')['unit_id']),\n",
    "           Parameter = log_rawDF.Parameter.map(tbl_parameter.set_index('prm_name')['prm_id'])\n",
    "           #Date_Time = pd.to_datetime(log_rawDF.Date_Time)\n",
    "           )\n",
    "    .astype({'Type' : 'int8', 'Unit' : 'int16', 'Parameter' : 'int32'})\n",
    "    .dropna(subset=['Parameter'])\n",
    "    .drop(columns=['MicroSec'])\n",
    "    .query('Type != 1')\n",
    "    .sort_values('Time')\n",
    "    .fillna('NULL')\n",
    "    #.info()\n",
    "    )\n",
    "\n",
    "log_cleaned = log_tweak(log_rawDF)"
   ]
  },
  {
   "cell_type": "code",
   "execution_count": 133,
   "metadata": {},
   "outputs": [
    {
     "data": {
      "text/html": [
       "<div>\n",
       "<style scoped>\n",
       "    .dataframe tbody tr th:only-of-type {\n",
       "        vertical-align: middle;\n",
       "    }\n",
       "\n",
       "    .dataframe tbody tr th {\n",
       "        vertical-align: top;\n",
       "    }\n",
       "\n",
       "    .dataframe thead th {\n",
       "        text-align: right;\n",
       "    }\n",
       "</style>\n",
       "<table border=\"1\" class=\"dataframe\">\n",
       "  <thead>\n",
       "    <tr style=\"text-align: right;\">\n",
       "      <th></th>\n",
       "      <th>Date_Time</th>\n",
       "      <th>Time</th>\n",
       "      <th>Type</th>\n",
       "      <th>Unit</th>\n",
       "      <th>Parameter</th>\n",
       "      <th>Message</th>\n",
       "      <th>Value1</th>\n",
       "      <th>Value2</th>\n",
       "    </tr>\n",
       "  </thead>\n",
       "  <tbody>\n",
       "    <tr>\n",
       "      <th>0</th>\n",
       "      <td>2021-4-20 13:0:13</td>\n",
       "      <td>1618916413</td>\n",
       "      <td>4</td>\n",
       "      <td>1</td>\n",
       "      <td>1</td>\n",
       "      <td>more than 2 communication restarts, try powerd...</td>\n",
       "      <td>NULL</td>\n",
       "      <td>NULL</td>\n",
       "    </tr>\n",
       "    <tr>\n",
       "      <th>1</th>\n",
       "      <td>2021-4-20 13:0:57</td>\n",
       "      <td>1618916457</td>\n",
       "      <td>4</td>\n",
       "      <td>1</td>\n",
       "      <td>1</td>\n",
       "      <td>more than 2 communication restarts, try powerd...</td>\n",
       "      <td>NULL</td>\n",
       "      <td>NULL</td>\n",
       "    </tr>\n",
       "    <tr>\n",
       "      <th>2</th>\n",
       "      <td>2021-4-20 13:1:38</td>\n",
       "      <td>1618916498</td>\n",
       "      <td>4</td>\n",
       "      <td>1</td>\n",
       "      <td>1</td>\n",
       "      <td>more than 2 communication restarts, try powerd...</td>\n",
       "      <td>NULL</td>\n",
       "      <td>NULL</td>\n",
       "    </tr>\n",
       "    <tr>\n",
       "      <th>3</th>\n",
       "      <td>2021-4-20 13:2:20</td>\n",
       "      <td>1618916540</td>\n",
       "      <td>4</td>\n",
       "      <td>1</td>\n",
       "      <td>1</td>\n",
       "      <td>more than 2 communication restarts, try powerd...</td>\n",
       "      <td>NULL</td>\n",
       "      <td>NULL</td>\n",
       "    </tr>\n",
       "    <tr>\n",
       "      <th>4</th>\n",
       "      <td>2021-4-20 13:3:3</td>\n",
       "      <td>1618916583</td>\n",
       "      <td>4</td>\n",
       "      <td>1</td>\n",
       "      <td>1</td>\n",
       "      <td>more than 2 communication restarts, try powerd...</td>\n",
       "      <td>NULL</td>\n",
       "      <td>NULL</td>\n",
       "    </tr>\n",
       "    <tr>\n",
       "      <th>5</th>\n",
       "      <td>2021-4-20 13:3:46</td>\n",
       "      <td>1618916626</td>\n",
       "      <td>4</td>\n",
       "      <td>1</td>\n",
       "      <td>1</td>\n",
       "      <td>more than 2 communication restarts, try powerd...</td>\n",
       "      <td>NULL</td>\n",
       "      <td>NULL</td>\n",
       "    </tr>\n",
       "    <tr>\n",
       "      <th>6</th>\n",
       "      <td>2021-4-20 13:3:58</td>\n",
       "      <td>1618916638</td>\n",
       "      <td>3</td>\n",
       "      <td>2</td>\n",
       "      <td>2</td>\n",
       "      <td>step ID - Changed (new and old value)</td>\n",
       "      <td>4_WaterAcid</td>\n",
       "      <td>5_empty</td>\n",
       "    </tr>\n",
       "    <tr>\n",
       "      <th>7</th>\n",
       "      <td>2021-4-20 13:4:1</td>\n",
       "      <td>1618916641</td>\n",
       "      <td>3</td>\n",
       "      <td>2</td>\n",
       "      <td>2</td>\n",
       "      <td>start at - Changed (new and old value)</td>\n",
       "      <td>sellected step at...</td>\n",
       "      <td>first step</td>\n",
       "    </tr>\n",
       "    <tr>\n",
       "      <th>8</th>\n",
       "      <td>2021-4-20 13:4:6</td>\n",
       "      <td>1618916646</td>\n",
       "      <td>3</td>\n",
       "      <td>2</td>\n",
       "      <td>2</td>\n",
       "      <td>procedure running - Changed</td>\n",
       "      <td>not active</td>\n",
       "      <td>active</td>\n",
       "    </tr>\n",
       "    <tr>\n",
       "      <th>10</th>\n",
       "      <td>2021-4-20 13:4:7</td>\n",
       "      <td>1618916647</td>\n",
       "      <td>2</td>\n",
       "      <td>2</td>\n",
       "      <td>2</td>\n",
       "      <td>Step 4_WaterAcid started</td>\n",
       "      <td>NULL</td>\n",
       "      <td>NULL</td>\n",
       "    </tr>\n",
       "  </tbody>\n",
       "</table>\n",
       "</div>"
      ],
      "text/plain": [
       "            Date_Time        Time  Type  Unit  Parameter  \\\n",
       "0   2021-4-20 13:0:13  1618916413     4     1          1   \n",
       "1   2021-4-20 13:0:57  1618916457     4     1          1   \n",
       "2   2021-4-20 13:1:38  1618916498     4     1          1   \n",
       "3   2021-4-20 13:2:20  1618916540     4     1          1   \n",
       "4    2021-4-20 13:3:3  1618916583     4     1          1   \n",
       "5   2021-4-20 13:3:46  1618916626     4     1          1   \n",
       "6   2021-4-20 13:3:58  1618916638     3     2          2   \n",
       "7    2021-4-20 13:4:1  1618916641     3     2          2   \n",
       "8    2021-4-20 13:4:6  1618916646     3     2          2   \n",
       "10   2021-4-20 13:4:7  1618916647     2     2          2   \n",
       "\n",
       "                                              Message                Value1  \\\n",
       "0   more than 2 communication restarts, try powerd...                  NULL   \n",
       "1   more than 2 communication restarts, try powerd...                  NULL   \n",
       "2   more than 2 communication restarts, try powerd...                  NULL   \n",
       "3   more than 2 communication restarts, try powerd...                  NULL   \n",
       "4   more than 2 communication restarts, try powerd...                  NULL   \n",
       "5   more than 2 communication restarts, try powerd...                  NULL   \n",
       "6               step ID - Changed (new and old value)           4_WaterAcid   \n",
       "7              start at - Changed (new and old value)  sellected step at...   \n",
       "8                         procedure running - Changed            not active   \n",
       "10                           Step 4_WaterAcid started                  NULL   \n",
       "\n",
       "        Value2  \n",
       "0         NULL  \n",
       "1         NULL  \n",
       "2         NULL  \n",
       "3         NULL  \n",
       "4         NULL  \n",
       "5         NULL  \n",
       "6      5_empty  \n",
       "7   first step  \n",
       "8       active  \n",
       "10        NULL  "
      ]
     },
     "execution_count": 133,
     "metadata": {},
     "output_type": "execute_result"
    }
   ],
   "source": [
    "log_cleaned.head(10)"
   ]
  },
  {
   "cell_type": "code",
   "execution_count": 134,
   "metadata": {},
   "outputs": [
    {
     "name": "stdout",
     "output_type": "stream",
     "text": [
      "Data frame Info\n",
      "<class 'pandas.core.frame.DataFrame'>\n",
      "Int64Index: 662835 entries, 0 to 863359\n",
      "Data columns (total 8 columns):\n",
      " #   Column     Non-Null Count   Dtype \n",
      "---  ------     --------------   ----- \n",
      " 0   Date_Time  662835 non-null  object\n",
      " 1   Time       662835 non-null  int64 \n",
      " 2   Type       662835 non-null  int8  \n",
      " 3   Unit       662835 non-null  int16 \n",
      " 4   Parameter  662835 non-null  int32 \n",
      " 5   Message    662835 non-null  object\n",
      " 6   Value1     662835 non-null  object\n",
      " 7   Value2     662835 non-null  object\n",
      "dtypes: int16(1), int32(1), int64(1), int8(1), object(4)\n",
      "memory usage: 34.8+ MB\n",
      "None\n",
      "\n",
      "Nullvalues in each columns\n",
      "Date_Time    0\n",
      "Time         0\n",
      "Type         0\n",
      "Unit         0\n",
      "Parameter    0\n",
      "Message      0\n",
      "Value1       0\n",
      "Value2       0\n",
      "dtype: int64\n",
      "\n",
      "Lists of unique values in unit column\n",
      "[ 1  2  3  4  5  6  7  8  9 10 11 14 13 12 15 16 17 18 19 20 21 22 23 24\n",
      " 25 26 27 28 29 30 38]\n",
      "\n",
      "Total number of unique values in unit column\n",
      "31\n"
     ]
    }
   ],
   "source": [
    "print('Data frame Info')\n",
    "print(log_cleaned.info())\n",
    "print('\\nNullvalues in each columns')\n",
    "print(log_cleaned.isnull().sum())\n",
    "print('\\nLists of unique values in unit column')\n",
    "print(log_cleaned['Unit'].unique())\n",
    "print('\\nTotal number of unique values in unit column')\n",
    "print(log_cleaned['Unit'].nunique())\n"
   ]
  },
  {
   "cell_type": "markdown",
   "metadata": {},
   "source": [
    "## Export Log Data into tbl_log_data"
   ]
  },
  {
   "cell_type": "code",
   "execution_count": 120,
   "metadata": {},
   "outputs": [],
   "source": [
    "# DB connection definition - using mariadb package\n",
    "\n",
    "try: con = mariadb.connect( \n",
    "    user=\"root\", \n",
    "    password=\"password\", \n",
    "    host=\"localhost\", \n",
    "    port=3306, \n",
    "    database=\"data_dashboard\" \n",
    ")\n",
    "\n",
    "except mariadb.Error as ex: \n",
    "    print(f\"An error occurred while connecting to MariaDB: {ex}\") \n",
    "    sys.exit(1) \n",
    "\n",
    "cur = con.cursor()"
   ]
  },
  {
   "cell_type": "code",
   "execution_count": 125,
   "metadata": {},
   "outputs": [],
   "source": [
    "import pymysql"
   ]
  },
  {
   "cell_type": "code",
   "execution_count": 148,
   "metadata": {},
   "outputs": [],
   "source": [
    "connection = pymysql.connect(host='localhost',\n",
    "                         user='root',\n",
    "                         password='password',\n",
    "                         db='data_dashboard')\n",
    "\n",
    "# create cursor\n",
    "cursor=connection.cursor()"
   ]
  },
  {
   "cell_type": "code",
   "execution_count": 149,
   "metadata": {},
   "outputs": [
    {
     "data": {
      "text/plain": [
       "'date_time`,`time_epoch`,`category`,`unit`,`parameter`,`message`,`old_value`,`new_value'"
      ]
     },
     "execution_count": 149,
     "metadata": {},
     "output_type": "execute_result"
    }
   ],
   "source": [
    "cols = ['date_time', 'time_epoch', 'category', 'unit', 'parameter', 'message', 'old_value', 'new_value']\n",
    "cols1 = \"`,`\".join([str(i) for i in cols])\n",
    "cols1"
   ]
  },
  {
   "cell_type": "code",
   "execution_count": 150,
   "metadata": {},
   "outputs": [
    {
     "ename": "DataError",
     "evalue": "(1406, \"Data too long for column 'old_value' at row 1\")",
     "output_type": "error",
     "traceback": [
      "\u001b[1;31m---------------------------------------------------------------------------\u001b[0m",
      "\u001b[1;31mDataError\u001b[0m                                 Traceback (most recent call last)",
      "\u001b[1;32mc:\\Users\\shyam.kalliadan\\Desktop\\ESR10\\programming\\ESR_10\\WP1\\Data_Dashboard\\log_dbexport.ipynb Cell 22'\u001b[0m in \u001b[0;36m<module>\u001b[1;34m\u001b[0m\n\u001b[0;32m      <a href='vscode-notebook-cell:/c%3A/Users/shyam.kalliadan/Desktop/ESR10/programming/ESR_10/WP1/Data_Dashboard/log_dbexport.ipynb#ch0000041?line=0'>1</a>\u001b[0m \u001b[39mfor\u001b[39;00m i,row \u001b[39min\u001b[39;00m log_cleaned\u001b[39m.\u001b[39miterrows():\n\u001b[0;32m      <a href='vscode-notebook-cell:/c%3A/Users/shyam.kalliadan/Desktop/ESR10/programming/ESR_10/WP1/Data_Dashboard/log_dbexport.ipynb#ch0000041?line=1'>2</a>\u001b[0m     sql \u001b[39m=\u001b[39m \u001b[39m\"\u001b[39m\u001b[39mINSERT INTO `tbl_log_data` (`\u001b[39m\u001b[39m\"\u001b[39m \u001b[39m+\u001b[39mcols1 \u001b[39m+\u001b[39m \u001b[39m\"\u001b[39m\u001b[39m`) VALUES (\u001b[39m\u001b[39m\"\u001b[39m \u001b[39m+\u001b[39m \u001b[39m\"\u001b[39m\u001b[39m%s\u001b[39;00m\u001b[39m,\u001b[39m\u001b[39m\"\u001b[39m\u001b[39m*\u001b[39m(\u001b[39mlen\u001b[39m(row)\u001b[39m-\u001b[39m\u001b[39m1\u001b[39m) \u001b[39m+\u001b[39m \u001b[39m\"\u001b[39m\u001b[39m%s\u001b[39;00m\u001b[39m)\u001b[39m\u001b[39m\"\u001b[39m\n\u001b[1;32m----> <a href='vscode-notebook-cell:/c%3A/Users/shyam.kalliadan/Desktop/ESR10/programming/ESR_10/WP1/Data_Dashboard/log_dbexport.ipynb#ch0000041?line=2'>3</a>\u001b[0m     cursor\u001b[39m.\u001b[39;49mexecute(sql, \u001b[39mtuple\u001b[39;49m(row))\n",
      "File \u001b[1;32mc:\\Users\\shyam.kalliadan\\Desktop\\ESR10\\programming\\ESR_10\\.venv\\lib\\site-packages\\pymysql\\cursors.py:148\u001b[0m, in \u001b[0;36mCursor.execute\u001b[1;34m(self, query, args)\u001b[0m\n\u001b[0;32m    <a href='file:///c%3A/Users/shyam.kalliadan/Desktop/ESR10/programming/ESR_10/.venv/lib/site-packages/pymysql/cursors.py?line=143'>144</a>\u001b[0m     \u001b[39mpass\u001b[39;00m\n\u001b[0;32m    <a href='file:///c%3A/Users/shyam.kalliadan/Desktop/ESR10/programming/ESR_10/.venv/lib/site-packages/pymysql/cursors.py?line=145'>146</a>\u001b[0m query \u001b[39m=\u001b[39m \u001b[39mself\u001b[39m\u001b[39m.\u001b[39mmogrify(query, args)\n\u001b[1;32m--> <a href='file:///c%3A/Users/shyam.kalliadan/Desktop/ESR10/programming/ESR_10/.venv/lib/site-packages/pymysql/cursors.py?line=147'>148</a>\u001b[0m result \u001b[39m=\u001b[39m \u001b[39mself\u001b[39;49m\u001b[39m.\u001b[39;49m_query(query)\n\u001b[0;32m    <a href='file:///c%3A/Users/shyam.kalliadan/Desktop/ESR10/programming/ESR_10/.venv/lib/site-packages/pymysql/cursors.py?line=148'>149</a>\u001b[0m \u001b[39mself\u001b[39m\u001b[39m.\u001b[39m_executed \u001b[39m=\u001b[39m query\n\u001b[0;32m    <a href='file:///c%3A/Users/shyam.kalliadan/Desktop/ESR10/programming/ESR_10/.venv/lib/site-packages/pymysql/cursors.py?line=149'>150</a>\u001b[0m \u001b[39mreturn\u001b[39;00m result\n",
      "File \u001b[1;32mc:\\Users\\shyam.kalliadan\\Desktop\\ESR10\\programming\\ESR_10\\.venv\\lib\\site-packages\\pymysql\\cursors.py:310\u001b[0m, in \u001b[0;36mCursor._query\u001b[1;34m(self, q)\u001b[0m\n\u001b[0;32m    <a href='file:///c%3A/Users/shyam.kalliadan/Desktop/ESR10/programming/ESR_10/.venv/lib/site-packages/pymysql/cursors.py?line=307'>308</a>\u001b[0m \u001b[39mself\u001b[39m\u001b[39m.\u001b[39m_last_executed \u001b[39m=\u001b[39m q\n\u001b[0;32m    <a href='file:///c%3A/Users/shyam.kalliadan/Desktop/ESR10/programming/ESR_10/.venv/lib/site-packages/pymysql/cursors.py?line=308'>309</a>\u001b[0m \u001b[39mself\u001b[39m\u001b[39m.\u001b[39m_clear_result()\n\u001b[1;32m--> <a href='file:///c%3A/Users/shyam.kalliadan/Desktop/ESR10/programming/ESR_10/.venv/lib/site-packages/pymysql/cursors.py?line=309'>310</a>\u001b[0m conn\u001b[39m.\u001b[39;49mquery(q)\n\u001b[0;32m    <a href='file:///c%3A/Users/shyam.kalliadan/Desktop/ESR10/programming/ESR_10/.venv/lib/site-packages/pymysql/cursors.py?line=310'>311</a>\u001b[0m \u001b[39mself\u001b[39m\u001b[39m.\u001b[39m_do_get_result()\n\u001b[0;32m    <a href='file:///c%3A/Users/shyam.kalliadan/Desktop/ESR10/programming/ESR_10/.venv/lib/site-packages/pymysql/cursors.py?line=311'>312</a>\u001b[0m \u001b[39mreturn\u001b[39;00m \u001b[39mself\u001b[39m\u001b[39m.\u001b[39mrowcount\n",
      "File \u001b[1;32mc:\\Users\\shyam.kalliadan\\Desktop\\ESR10\\programming\\ESR_10\\.venv\\lib\\site-packages\\pymysql\\connections.py:548\u001b[0m, in \u001b[0;36mConnection.query\u001b[1;34m(self, sql, unbuffered)\u001b[0m\n\u001b[0;32m    <a href='file:///c%3A/Users/shyam.kalliadan/Desktop/ESR10/programming/ESR_10/.venv/lib/site-packages/pymysql/connections.py?line=545'>546</a>\u001b[0m     sql \u001b[39m=\u001b[39m sql\u001b[39m.\u001b[39mencode(\u001b[39mself\u001b[39m\u001b[39m.\u001b[39mencoding, \u001b[39m\"\u001b[39m\u001b[39msurrogateescape\u001b[39m\u001b[39m\"\u001b[39m)\n\u001b[0;32m    <a href='file:///c%3A/Users/shyam.kalliadan/Desktop/ESR10/programming/ESR_10/.venv/lib/site-packages/pymysql/connections.py?line=546'>547</a>\u001b[0m \u001b[39mself\u001b[39m\u001b[39m.\u001b[39m_execute_command(COMMAND\u001b[39m.\u001b[39mCOM_QUERY, sql)\n\u001b[1;32m--> <a href='file:///c%3A/Users/shyam.kalliadan/Desktop/ESR10/programming/ESR_10/.venv/lib/site-packages/pymysql/connections.py?line=547'>548</a>\u001b[0m \u001b[39mself\u001b[39m\u001b[39m.\u001b[39m_affected_rows \u001b[39m=\u001b[39m \u001b[39mself\u001b[39;49m\u001b[39m.\u001b[39;49m_read_query_result(unbuffered\u001b[39m=\u001b[39;49munbuffered)\n\u001b[0;32m    <a href='file:///c%3A/Users/shyam.kalliadan/Desktop/ESR10/programming/ESR_10/.venv/lib/site-packages/pymysql/connections.py?line=548'>549</a>\u001b[0m \u001b[39mreturn\u001b[39;00m \u001b[39mself\u001b[39m\u001b[39m.\u001b[39m_affected_rows\n",
      "File \u001b[1;32mc:\\Users\\shyam.kalliadan\\Desktop\\ESR10\\programming\\ESR_10\\.venv\\lib\\site-packages\\pymysql\\connections.py:775\u001b[0m, in \u001b[0;36mConnection._read_query_result\u001b[1;34m(self, unbuffered)\u001b[0m\n\u001b[0;32m    <a href='file:///c%3A/Users/shyam.kalliadan/Desktop/ESR10/programming/ESR_10/.venv/lib/site-packages/pymysql/connections.py?line=772'>773</a>\u001b[0m \u001b[39melse\u001b[39;00m:\n\u001b[0;32m    <a href='file:///c%3A/Users/shyam.kalliadan/Desktop/ESR10/programming/ESR_10/.venv/lib/site-packages/pymysql/connections.py?line=773'>774</a>\u001b[0m     result \u001b[39m=\u001b[39m MySQLResult(\u001b[39mself\u001b[39m)\n\u001b[1;32m--> <a href='file:///c%3A/Users/shyam.kalliadan/Desktop/ESR10/programming/ESR_10/.venv/lib/site-packages/pymysql/connections.py?line=774'>775</a>\u001b[0m     result\u001b[39m.\u001b[39;49mread()\n\u001b[0;32m    <a href='file:///c%3A/Users/shyam.kalliadan/Desktop/ESR10/programming/ESR_10/.venv/lib/site-packages/pymysql/connections.py?line=775'>776</a>\u001b[0m \u001b[39mself\u001b[39m\u001b[39m.\u001b[39m_result \u001b[39m=\u001b[39m result\n\u001b[0;32m    <a href='file:///c%3A/Users/shyam.kalliadan/Desktop/ESR10/programming/ESR_10/.venv/lib/site-packages/pymysql/connections.py?line=776'>777</a>\u001b[0m \u001b[39mif\u001b[39;00m result\u001b[39m.\u001b[39mserver_status \u001b[39mis\u001b[39;00m \u001b[39mnot\u001b[39;00m \u001b[39mNone\u001b[39;00m:\n",
      "File \u001b[1;32mc:\\Users\\shyam.kalliadan\\Desktop\\ESR10\\programming\\ESR_10\\.venv\\lib\\site-packages\\pymysql\\connections.py:1156\u001b[0m, in \u001b[0;36mMySQLResult.read\u001b[1;34m(self)\u001b[0m\n\u001b[0;32m   <a href='file:///c%3A/Users/shyam.kalliadan/Desktop/ESR10/programming/ESR_10/.venv/lib/site-packages/pymysql/connections.py?line=1153'>1154</a>\u001b[0m \u001b[39mdef\u001b[39;00m \u001b[39mread\u001b[39m(\u001b[39mself\u001b[39m):\n\u001b[0;32m   <a href='file:///c%3A/Users/shyam.kalliadan/Desktop/ESR10/programming/ESR_10/.venv/lib/site-packages/pymysql/connections.py?line=1154'>1155</a>\u001b[0m     \u001b[39mtry\u001b[39;00m:\n\u001b[1;32m-> <a href='file:///c%3A/Users/shyam.kalliadan/Desktop/ESR10/programming/ESR_10/.venv/lib/site-packages/pymysql/connections.py?line=1155'>1156</a>\u001b[0m         first_packet \u001b[39m=\u001b[39m \u001b[39mself\u001b[39;49m\u001b[39m.\u001b[39;49mconnection\u001b[39m.\u001b[39;49m_read_packet()\n\u001b[0;32m   <a href='file:///c%3A/Users/shyam.kalliadan/Desktop/ESR10/programming/ESR_10/.venv/lib/site-packages/pymysql/connections.py?line=1157'>1158</a>\u001b[0m         \u001b[39mif\u001b[39;00m first_packet\u001b[39m.\u001b[39mis_ok_packet():\n\u001b[0;32m   <a href='file:///c%3A/Users/shyam.kalliadan/Desktop/ESR10/programming/ESR_10/.venv/lib/site-packages/pymysql/connections.py?line=1158'>1159</a>\u001b[0m             \u001b[39mself\u001b[39m\u001b[39m.\u001b[39m_read_ok_packet(first_packet)\n",
      "File \u001b[1;32mc:\\Users\\shyam.kalliadan\\Desktop\\ESR10\\programming\\ESR_10\\.venv\\lib\\site-packages\\pymysql\\connections.py:725\u001b[0m, in \u001b[0;36mConnection._read_packet\u001b[1;34m(self, packet_type)\u001b[0m\n\u001b[0;32m    <a href='file:///c%3A/Users/shyam.kalliadan/Desktop/ESR10/programming/ESR_10/.venv/lib/site-packages/pymysql/connections.py?line=722'>723</a>\u001b[0m     \u001b[39mif\u001b[39;00m \u001b[39mself\u001b[39m\u001b[39m.\u001b[39m_result \u001b[39mis\u001b[39;00m \u001b[39mnot\u001b[39;00m \u001b[39mNone\u001b[39;00m \u001b[39mand\u001b[39;00m \u001b[39mself\u001b[39m\u001b[39m.\u001b[39m_result\u001b[39m.\u001b[39munbuffered_active \u001b[39mis\u001b[39;00m \u001b[39mTrue\u001b[39;00m:\n\u001b[0;32m    <a href='file:///c%3A/Users/shyam.kalliadan/Desktop/ESR10/programming/ESR_10/.venv/lib/site-packages/pymysql/connections.py?line=723'>724</a>\u001b[0m         \u001b[39mself\u001b[39m\u001b[39m.\u001b[39m_result\u001b[39m.\u001b[39munbuffered_active \u001b[39m=\u001b[39m \u001b[39mFalse\u001b[39;00m\n\u001b[1;32m--> <a href='file:///c%3A/Users/shyam.kalliadan/Desktop/ESR10/programming/ESR_10/.venv/lib/site-packages/pymysql/connections.py?line=724'>725</a>\u001b[0m     packet\u001b[39m.\u001b[39;49mraise_for_error()\n\u001b[0;32m    <a href='file:///c%3A/Users/shyam.kalliadan/Desktop/ESR10/programming/ESR_10/.venv/lib/site-packages/pymysql/connections.py?line=725'>726</a>\u001b[0m \u001b[39mreturn\u001b[39;00m packet\n",
      "File \u001b[1;32mc:\\Users\\shyam.kalliadan\\Desktop\\ESR10\\programming\\ESR_10\\.venv\\lib\\site-packages\\pymysql\\protocol.py:221\u001b[0m, in \u001b[0;36mMysqlPacket.raise_for_error\u001b[1;34m(self)\u001b[0m\n\u001b[0;32m    <a href='file:///c%3A/Users/shyam.kalliadan/Desktop/ESR10/programming/ESR_10/.venv/lib/site-packages/pymysql/protocol.py?line=218'>219</a>\u001b[0m \u001b[39mif\u001b[39;00m DEBUG:\n\u001b[0;32m    <a href='file:///c%3A/Users/shyam.kalliadan/Desktop/ESR10/programming/ESR_10/.venv/lib/site-packages/pymysql/protocol.py?line=219'>220</a>\u001b[0m     \u001b[39mprint\u001b[39m(\u001b[39m\"\u001b[39m\u001b[39merrno =\u001b[39m\u001b[39m\"\u001b[39m, errno)\n\u001b[1;32m--> <a href='file:///c%3A/Users/shyam.kalliadan/Desktop/ESR10/programming/ESR_10/.venv/lib/site-packages/pymysql/protocol.py?line=220'>221</a>\u001b[0m err\u001b[39m.\u001b[39;49mraise_mysql_exception(\u001b[39mself\u001b[39;49m\u001b[39m.\u001b[39;49m_data)\n",
      "File \u001b[1;32mc:\\Users\\shyam.kalliadan\\Desktop\\ESR10\\programming\\ESR_10\\.venv\\lib\\site-packages\\pymysql\\err.py:143\u001b[0m, in \u001b[0;36mraise_mysql_exception\u001b[1;34m(data)\u001b[0m\n\u001b[0;32m    <a href='file:///c%3A/Users/shyam.kalliadan/Desktop/ESR10/programming/ESR_10/.venv/lib/site-packages/pymysql/err.py?line=140'>141</a>\u001b[0m \u001b[39mif\u001b[39;00m errorclass \u001b[39mis\u001b[39;00m \u001b[39mNone\u001b[39;00m:\n\u001b[0;32m    <a href='file:///c%3A/Users/shyam.kalliadan/Desktop/ESR10/programming/ESR_10/.venv/lib/site-packages/pymysql/err.py?line=141'>142</a>\u001b[0m     errorclass \u001b[39m=\u001b[39m InternalError \u001b[39mif\u001b[39;00m errno \u001b[39m<\u001b[39m \u001b[39m1000\u001b[39m \u001b[39melse\u001b[39;00m OperationalError\n\u001b[1;32m--> <a href='file:///c%3A/Users/shyam.kalliadan/Desktop/ESR10/programming/ESR_10/.venv/lib/site-packages/pymysql/err.py?line=142'>143</a>\u001b[0m \u001b[39mraise\u001b[39;00m errorclass(errno, errval)\n",
      "\u001b[1;31mDataError\u001b[0m: (1406, \"Data too long for column 'old_value' at row 1\")"
     ]
    }
   ],
   "source": [
    "for i,row in log_cleaned.iterrows():\n",
    "    sql = \"INSERT INTO `tbl_log_data` (`\" +cols1 + \"`) VALUES (\" + \"%s,\"*(len(row)-1) + \"%s)\"\n",
    "    cursor.execute(sql, tuple(row))"
   ]
  },
  {
   "cell_type": "code",
   "execution_count": 151,
   "metadata": {},
   "outputs": [
    {
     "ename": "ProgrammingError",
     "evalue": "Invalid connection or not connected",
     "output_type": "error",
     "traceback": [
      "\u001b[1;31m---------------------------------------------------------------------------\u001b[0m",
      "\u001b[1;31mProgrammingError\u001b[0m                          Traceback (most recent call last)",
      "\u001b[1;32mc:\\Users\\shyam.kalliadan\\Desktop\\ESR10\\programming\\ESR_10\\WP1\\Data_Dashboard\\log_dbexport.ipynb Cell 23'\u001b[0m in \u001b[0;36m<module>\u001b[1;34m\u001b[0m\n\u001b[1;32m----> <a href='vscode-notebook-cell:/c%3A/Users/shyam.kalliadan/Desktop/ESR10/programming/ESR_10/WP1/Data_Dashboard/log_dbexport.ipynb#ch0000033?line=0'>1</a>\u001b[0m con\u001b[39m.\u001b[39;49mclose()\n\u001b[0;32m      <a href='vscode-notebook-cell:/c%3A/Users/shyam.kalliadan/Desktop/ESR10/programming/ESR_10/WP1/Data_Dashboard/log_dbexport.ipynb#ch0000033?line=1'>2</a>\u001b[0m connection\u001b[39m.\u001b[39mclose()\n",
      "\u001b[1;31mProgrammingError\u001b[0m: Invalid connection or not connected"
     ]
    }
   ],
   "source": [
    "con.close()\n",
    "connection.close()"
   ]
  },
  {
   "cell_type": "markdown",
   "metadata": {},
   "source": [
    "## Appendix"
   ]
  },
  {
   "cell_type": "code",
   "execution_count": 39,
   "metadata": {},
   "outputs": [
    {
     "ename": "SyntaxError",
     "evalue": "invalid syntax (4013186024.py, line 2)",
     "output_type": "error",
     "traceback": [
      "\u001b[1;36m  Input \u001b[1;32mIn [39]\u001b[1;36m\u001b[0m\n\u001b[1;33m    command = '''DROP TABLE IF EXISTS localytics_app2;\u001b[0m\n\u001b[1;37m                 ^\u001b[0m\n\u001b[1;31mSyntaxError\u001b[0m\u001b[1;31m:\u001b[0m invalid syntax\n"
     ]
    }
   ],
   "source": [
    "'''\n",
    "command = '''DROP TABLE IF EXISTS localytics_app2;\n",
    "CREATE TABLE localytics_app2\n",
    "(\n",
    "\"Index\" serial primary key,\n",
    "\"Event\" text,\n",
    "\"Day\" timestamp without time zone,\n",
    ");'''\n",
    "cursor.execute(command)\n",
    "connection.commit()\n",
    "'''"
   ]
  },
  {
   "cell_type": "code",
   "execution_count": 78,
   "metadata": {},
   "outputs": [
    {
     "data": {
      "text/plain": [
       "'\\n# Insert Dataframe into SQL Server:\\nfor index, row in df.iterrows():\\n     cursor.execute(\"INSERT INTO HumanResources.DepartmentTest (DepartmentID,Name,GroupName) values(?,?,?)\", row.DepartmentID, row.Name, row.GroupName)\\ncnxn.commit()\\ncursor.close()\\n'"
      ]
     },
     "execution_count": 78,
     "metadata": {},
     "output_type": "execute_result"
    }
   ],
   "source": [
    "'''\n",
    "# Insert Dataframe into SQL Server:\n",
    "for index, row in df.iterrows():\n",
    "     cursor.execute(\"INSERT INTO HumanResources.DepartmentTest (DepartmentID,Name,GroupName) values(?,?,?)\", row.DepartmentID, row.Name, row.GroupName)\n",
    "cnxn.commit()\n",
    "cursor.close()\n",
    "'''"
   ]
  }
 ],
 "metadata": {
  "interpreter": {
   "hash": "4c003f82c03b36fef287bdd35e08b972b8ba2e96746a620b0947100bdbd54581"
  },
  "kernelspec": {
   "display_name": "Python 3.9.8 ('.venv': venv)",
   "language": "python",
   "name": "python3"
  },
  "language_info": {
   "codemirror_mode": {
    "name": "ipython",
    "version": 3
   },
   "file_extension": ".py",
   "mimetype": "text/x-python",
   "name": "python",
   "nbconvert_exporter": "python",
   "pygments_lexer": "ipython3",
   "version": "3.9.8"
  },
  "orig_nbformat": 4
 },
 "nbformat": 4,
 "nbformat_minor": 2
}
