{
 "cells": [
  {
   "cell_type": "code",
   "execution_count": 1,
   "metadata": {},
   "outputs": [],
   "source": [
    "import numpy as np\n",
    "import pandas as pd\n",
    "import os\n",
    "import re\n",
    "from datetime import date\n",
    "import sqlalchemy\n",
    "import sys\n",
    "import mariadb\n",
    "import pymysql\n",
    "\n",
    "import warnings    # to avoid warning during executions\n",
    "warnings.filterwarnings(\"ignore\")"
   ]
  },
  {
   "cell_type": "code",
   "execution_count": 2,
   "metadata": {},
   "outputs": [],
   "source": [
    "# set file name want to process\n",
    "file_name = '..\\..\\dataExport\\LOGdata\\log_2022_4_20.csv'"
   ]
  },
  {
   "cell_type": "code",
   "execution_count": 3,
   "metadata": {},
   "outputs": [],
   "source": [
    "# database connection with mariaDB for read the read and write data from and to dataframe <----> mariaDB tables\n",
    "database_username = 'root'\n",
    "database_password = 'password'\n",
    "database_ip       = '127.0.0.1:3306'\n",
    "database_name     = 'data_dashboard'\n",
    "database_connection = sqlalchemy.create_engine('mariadb+mariadbconnector://{0}:{1}@{2}/{3}'.\n",
    "                                               format(database_username, database_password, \n",
    "                                                      database_ip, database_name))"
   ]
  },
  {
   "cell_type": "code",
   "execution_count": 4,
   "metadata": {},
   "outputs": [
    {
     "data": {
      "text/html": [
       "<div>\n",
       "<style scoped>\n",
       "    .dataframe tbody tr th:only-of-type {\n",
       "        vertical-align: middle;\n",
       "    }\n",
       "\n",
       "    .dataframe tbody tr th {\n",
       "        vertical-align: top;\n",
       "    }\n",
       "\n",
       "    .dataframe thead th {\n",
       "        text-align: right;\n",
       "    }\n",
       "</style>\n",
       "<table border=\"1\" class=\"dataframe\">\n",
       "  <thead>\n",
       "    <tr style=\"text-align: right;\">\n",
       "      <th></th>\n",
       "      <th>unit_id</th>\n",
       "      <th>unit_name</th>\n",
       "    </tr>\n",
       "  </thead>\n",
       "  <tbody>\n",
       "    <tr>\n",
       "      <th>0</th>\n",
       "      <td>31</td>\n",
       "      <td>FFP_AUTFU</td>\n",
       "    </tr>\n",
       "    <tr>\n",
       "      <th>1</th>\n",
       "      <td>19</td>\n",
       "      <td>FFP_FFP</td>\n",
       "    </tr>\n",
       "    <tr>\n",
       "      <th>2</th>\n",
       "      <td>3</td>\n",
       "      <td>FFU</td>\n",
       "    </tr>\n",
       "    <tr>\n",
       "      <th>3</th>\n",
       "      <td>14</td>\n",
       "      <td>FPC11</td>\n",
       "    </tr>\n",
       "    <tr>\n",
       "      <th>4</th>\n",
       "      <td>34</td>\n",
       "      <td>FPC11_AUT11</td>\n",
       "    </tr>\n",
       "  </tbody>\n",
       "</table>\n",
       "</div>"
      ],
      "text/plain": [
       "   unit_id    unit_name\n",
       "0       31    FFP_AUTFU\n",
       "1       19      FFP_FFP\n",
       "2        3          FFU\n",
       "3       14        FPC11\n",
       "4       34  FPC11_AUT11"
      ]
     },
     "execution_count": 4,
     "metadata": {},
     "output_type": "execute_result"
    }
   ],
   "source": [
    "# fetch data from tbl_unit to data frame\n",
    "tbl_unit = pd.read_sql('SELECT unit_id, unit_name FROM tbl_unit', database_connection)\n",
    "tbl_unit.head(5)"
   ]
  },
  {
   "cell_type": "code",
   "execution_count": 5,
   "metadata": {},
   "outputs": [
    {
     "data": {
      "text/html": [
       "<div>\n",
       "<style scoped>\n",
       "    .dataframe tbody tr th:only-of-type {\n",
       "        vertical-align: middle;\n",
       "    }\n",
       "\n",
       "    .dataframe tbody tr th {\n",
       "        vertical-align: top;\n",
       "    }\n",
       "\n",
       "    .dataframe thead th {\n",
       "        text-align: right;\n",
       "    }\n",
       "</style>\n",
       "<table border=\"1\" class=\"dataframe\">\n",
       "  <thead>\n",
       "    <tr style=\"text-align: right;\">\n",
       "      <th></th>\n",
       "      <th>prm_id</th>\n",
       "      <th>prm_name</th>\n",
       "    </tr>\n",
       "  </thead>\n",
       "  <tbody>\n",
       "    <tr>\n",
       "      <th>0</th>\n",
       "      <td>1</td>\n",
       "      <td>Arduino</td>\n",
       "    </tr>\n",
       "    <tr>\n",
       "      <th>1</th>\n",
       "      <td>101</td>\n",
       "      <td>Arduino1</td>\n",
       "    </tr>\n",
       "    <tr>\n",
       "      <th>2</th>\n",
       "      <td>66</td>\n",
       "      <td>Arduino1_LT41</td>\n",
       "    </tr>\n",
       "    <tr>\n",
       "      <th>3</th>\n",
       "      <td>125</td>\n",
       "      <td>Arduino1_LT42</td>\n",
       "    </tr>\n",
       "    <tr>\n",
       "      <th>4</th>\n",
       "      <td>126</td>\n",
       "      <td>Arduino1_LT43</td>\n",
       "    </tr>\n",
       "  </tbody>\n",
       "</table>\n",
       "</div>"
      ],
      "text/plain": [
       "   prm_id       prm_name\n",
       "0       1        Arduino\n",
       "1     101       Arduino1\n",
       "2      66  Arduino1_LT41\n",
       "3     125  Arduino1_LT42\n",
       "4     126  Arduino1_LT43"
      ]
     },
     "execution_count": 5,
     "metadata": {},
     "output_type": "execute_result"
    }
   ],
   "source": [
    "# fetch data from tbl_log_parameters to data frame\n",
    "tbl_parameter = pd.read_sql('SELECT prm_id, prm_name FROM tbl_log_parameters', database_connection)\n",
    "tbl_parameter.head(5)"
   ]
  },
  {
   "cell_type": "markdown",
   "metadata": {},
   "source": [
    "## Removing extra newlines"
   ]
  },
  {
   "cell_type": "code",
   "execution_count": 6,
   "metadata": {},
   "outputs": [],
   "source": [
    "# Append a line to previous line if its not starting in standard format. \n",
    "# save the preprocessed data into same file\n",
    "def del_newline(file_name):\n",
    "    with open(file_name, 'r+', encoding=\"utf-8\") as file:\n",
    "        text = str();\n",
    "        for line in file:\n",
    "            if line[0:3] == \"202\":\n",
    "                text = text + '\\n';\n",
    "            text = text + line.strip();\n",
    "        file.seek(0);\n",
    "        file.write(text);\n",
    "\n",
    "del_newline(file_name)"
   ]
  },
  {
   "cell_type": "markdown",
   "metadata": {},
   "source": [
    "## Data Overview"
   ]
  },
  {
   "cell_type": "code",
   "execution_count": 6,
   "metadata": {},
   "outputs": [
    {
     "data": {
      "text/html": [
       "<div>\n",
       "<style scoped>\n",
       "    .dataframe tbody tr th:only-of-type {\n",
       "        vertical-align: middle;\n",
       "    }\n",
       "\n",
       "    .dataframe tbody tr th {\n",
       "        vertical-align: top;\n",
       "    }\n",
       "\n",
       "    .dataframe thead th {\n",
       "        text-align: right;\n",
       "    }\n",
       "</style>\n",
       "<table border=\"1\" class=\"dataframe\">\n",
       "  <thead>\n",
       "    <tr style=\"text-align: right;\">\n",
       "      <th></th>\n",
       "      <th>Date_Time</th>\n",
       "      <th>Time</th>\n",
       "      <th>MicroSec</th>\n",
       "      <th>Type</th>\n",
       "      <th>Unit</th>\n",
       "      <th>Parameter</th>\n",
       "      <th>Message</th>\n",
       "      <th>Value1</th>\n",
       "      <th>Value2</th>\n",
       "    </tr>\n",
       "  </thead>\n",
       "  <tbody>\n",
       "    <tr>\n",
       "      <th>0</th>\n",
       "      <td>2021-4-20 13:0:13</td>\n",
       "      <td>1618916413</td>\n",
       "      <td>613129</td>\n",
       "      <td>4</td>\n",
       "      <td>FPC11_FPP11</td>\n",
       "      <td>Arduino</td>\n",
       "      <td>more than 2 communication restarts, try powerd...</td>\n",
       "      <td>NaN</td>\n",
       "      <td>NaN</td>\n",
       "    </tr>\n",
       "    <tr>\n",
       "      <th>1</th>\n",
       "      <td>2021-4-20 13:0:57</td>\n",
       "      <td>1618916457</td>\n",
       "      <td>9327</td>\n",
       "      <td>4</td>\n",
       "      <td>FPC11_FPP11</td>\n",
       "      <td>Arduino</td>\n",
       "      <td>more than 2 communication restarts, try powerd...</td>\n",
       "      <td>NaN</td>\n",
       "      <td>NaN</td>\n",
       "    </tr>\n",
       "    <tr>\n",
       "      <th>2</th>\n",
       "      <td>2021-4-20 13:1:38</td>\n",
       "      <td>1618916498</td>\n",
       "      <td>812633</td>\n",
       "      <td>4</td>\n",
       "      <td>FPC11_FPP11</td>\n",
       "      <td>Arduino</td>\n",
       "      <td>more than 2 communication restarts, try powerd...</td>\n",
       "      <td>NaN</td>\n",
       "      <td>NaN</td>\n",
       "    </tr>\n",
       "    <tr>\n",
       "      <th>3</th>\n",
       "      <td>2021-4-20 13:2:20</td>\n",
       "      <td>1618916540</td>\n",
       "      <td>214501</td>\n",
       "      <td>4</td>\n",
       "      <td>FPC11_FPP11</td>\n",
       "      <td>Arduino</td>\n",
       "      <td>more than 2 communication restarts, try powerd...</td>\n",
       "      <td>NaN</td>\n",
       "      <td>NaN</td>\n",
       "    </tr>\n",
       "    <tr>\n",
       "      <th>4</th>\n",
       "      <td>2021-4-20 13:3:3</td>\n",
       "      <td>1618916583</td>\n",
       "      <td>212528</td>\n",
       "      <td>4</td>\n",
       "      <td>FPC11_FPP11</td>\n",
       "      <td>Arduino</td>\n",
       "      <td>more than 2 communication restarts, try powerd...</td>\n",
       "      <td>NaN</td>\n",
       "      <td>NaN</td>\n",
       "    </tr>\n",
       "    <tr>\n",
       "      <th>5</th>\n",
       "      <td>2021-4-20 13:3:46</td>\n",
       "      <td>1618916626</td>\n",
       "      <td>209680</td>\n",
       "      <td>4</td>\n",
       "      <td>FPC11_FPP11</td>\n",
       "      <td>Arduino</td>\n",
       "      <td>more than 2 communication restarts, try powerd...</td>\n",
       "      <td>NaN</td>\n",
       "      <td>NaN</td>\n",
       "    </tr>\n",
       "    <tr>\n",
       "      <th>6</th>\n",
       "      <td>2021-4-20 13:3:58</td>\n",
       "      <td>1618916638</td>\n",
       "      <td>271269</td>\n",
       "      <td>3</td>\n",
       "      <td>FPC14</td>\n",
       "      <td>program</td>\n",
       "      <td>step ID - Changed (new and old value)</td>\n",
       "      <td>4_WaterAcid</td>\n",
       "      <td>5_empty</td>\n",
       "    </tr>\n",
       "    <tr>\n",
       "      <th>7</th>\n",
       "      <td>2021-4-20 13:4:1</td>\n",
       "      <td>1618916641</td>\n",
       "      <td>101959</td>\n",
       "      <td>3</td>\n",
       "      <td>FPC14</td>\n",
       "      <td>program</td>\n",
       "      <td>start at - Changed (new and old value)</td>\n",
       "      <td>sellected step at...</td>\n",
       "      <td>first step</td>\n",
       "    </tr>\n",
       "    <tr>\n",
       "      <th>8</th>\n",
       "      <td>2021-4-20 13:4:6</td>\n",
       "      <td>1618916646</td>\n",
       "      <td>386245</td>\n",
       "      <td>3</td>\n",
       "      <td>FPC14</td>\n",
       "      <td>program</td>\n",
       "      <td>procedure running - Changed</td>\n",
       "      <td>not active</td>\n",
       "      <td>active</td>\n",
       "    </tr>\n",
       "    <tr>\n",
       "      <th>9</th>\n",
       "      <td>2021-4-20 13:4:7</td>\n",
       "      <td>1618916647</td>\n",
       "      <td>639887</td>\n",
       "      <td>2</td>\n",
       "      <td>FPC14</td>\n",
       "      <td>program</td>\n",
       "      <td>Program F_ThalaPseu_HalfNutr started</td>\n",
       "      <td>NaN</td>\n",
       "      <td>NaN</td>\n",
       "    </tr>\n",
       "  </tbody>\n",
       "</table>\n",
       "</div>"
      ],
      "text/plain": [
       "           Date_Time        Time  MicroSec  Type         Unit Parameter  \\\n",
       "0  2021-4-20 13:0:13  1618916413    613129     4  FPC11_FPP11   Arduino   \n",
       "1  2021-4-20 13:0:57  1618916457      9327     4  FPC11_FPP11   Arduino   \n",
       "2  2021-4-20 13:1:38  1618916498    812633     4  FPC11_FPP11   Arduino   \n",
       "3  2021-4-20 13:2:20  1618916540    214501     4  FPC11_FPP11   Arduino   \n",
       "4   2021-4-20 13:3:3  1618916583    212528     4  FPC11_FPP11   Arduino   \n",
       "5  2021-4-20 13:3:46  1618916626    209680     4  FPC11_FPP11   Arduino   \n",
       "6  2021-4-20 13:3:58  1618916638    271269     3        FPC14   program   \n",
       "7   2021-4-20 13:4:1  1618916641    101959     3        FPC14   program   \n",
       "8   2021-4-20 13:4:6  1618916646    386245     3        FPC14   program   \n",
       "9   2021-4-20 13:4:7  1618916647    639887     2        FPC14   program   \n",
       "\n",
       "                                             Message                Value1  \\\n",
       "0  more than 2 communication restarts, try powerd...                   NaN   \n",
       "1  more than 2 communication restarts, try powerd...                   NaN   \n",
       "2  more than 2 communication restarts, try powerd...                   NaN   \n",
       "3  more than 2 communication restarts, try powerd...                   NaN   \n",
       "4  more than 2 communication restarts, try powerd...                   NaN   \n",
       "5  more than 2 communication restarts, try powerd...                   NaN   \n",
       "6              step ID - Changed (new and old value)           4_WaterAcid   \n",
       "7             start at - Changed (new and old value)  sellected step at...   \n",
       "8                        procedure running - Changed            not active   \n",
       "9               Program F_ThalaPseu_HalfNutr started                   NaN   \n",
       "\n",
       "       Value2  \n",
       "0         NaN  \n",
       "1         NaN  \n",
       "2         NaN  \n",
       "3         NaN  \n",
       "4         NaN  \n",
       "5         NaN  \n",
       "6     5_empty  \n",
       "7  first step  \n",
       "8      active  \n",
       "9         NaN  "
      ]
     },
     "execution_count": 6,
     "metadata": {},
     "output_type": "execute_result"
    }
   ],
   "source": [
    "log_rawDF = pd.read_csv(file_name, sep='*')\n",
    "log_rawDF.head(10)"
   ]
  },
  {
   "cell_type": "code",
   "execution_count": 7,
   "metadata": {},
   "outputs": [
    {
     "name": "stdout",
     "output_type": "stream",
     "text": [
      "(864368, 9)\n"
     ]
    }
   ],
   "source": [
    "print(log_rawDF.shape)"
   ]
  },
  {
   "cell_type": "code",
   "execution_count": 17,
   "metadata": {},
   "outputs": [
    {
     "name": "stdout",
     "output_type": "stream",
     "text": [
      "<class 'pandas.core.frame.DataFrame'>\n",
      "RangeIndex: 864368 entries, 0 to 864367\n",
      "Data columns (total 9 columns):\n",
      " #   Column     Non-Null Count   Dtype \n",
      "---  ------     --------------   ----- \n",
      " 0   Date_Time  864368 non-null  object\n",
      " 1   Time       864368 non-null  int64 \n",
      " 2   MicroSec   864368 non-null  int64 \n",
      " 3   Type       864368 non-null  int64 \n",
      " 4   Unit       864368 non-null  object\n",
      " 5   Parameter  864368 non-null  object\n",
      " 6   Message    864368 non-null  object\n",
      " 7   Value1     411351 non-null  object\n",
      " 8   Value2     495515 non-null  object\n",
      "dtypes: int64(3), object(6)\n",
      "memory usage: 59.4+ MB\n"
     ]
    }
   ],
   "source": [
    "log_rawDF.info()"
   ]
  },
  {
   "cell_type": "markdown",
   "metadata": {},
   "source": [
    "## Replace Parameter values and unit values with Table int values"
   ]
  },
  {
   "cell_type": "code",
   "execution_count": 45,
   "metadata": {},
   "outputs": [],
   "source": [
    "# data type conversion and droping rows if parameter column value is missing\n",
    "\n",
    "def log_tweak(log_rawDF):\n",
    "    return (\n",
    "    log_rawDF\n",
    "    .assign(Unit = log_rawDF.Unit.map(tbl_unit.set_index('unit_name')['unit_id']),\n",
    "           Parameter = log_rawDF.Parameter.map(tbl_parameter.set_index('prm_name')['prm_id']),\n",
    "           Date_Time = pd.to_datetime(log_rawDF.Date_Time)\n",
    "           )\n",
    "    .astype({'Type' : 'int8', 'Unit' : 'int16', 'Parameter' : 'int32'})\n",
    "    .dropna(subset=['Parameter'])\n",
    "    .drop(columns=['MicroSec'])\n",
    "    .query('Type != 1')\n",
    "    #.sort_values('Time')\n",
    "    .rename(columns = {'Date_Time':'date_time', 'Time':'time_epoch', 'Type':'category', 'Unit':'unit', 'Parameter':'parameter', 'Message':'message', 'Value1': 'new_value', 'Value2':'old_value'})\n",
    "    .fillna(0)\n",
    "    #.replace('/'',' ', regex=True)\n",
    "    #.info()\n",
    "    )\n",
    "\n",
    "log_cleaned = log_tweak(log_rawDF)"
   ]
  },
  {
   "cell_type": "code",
   "execution_count": 46,
   "metadata": {},
   "outputs": [
    {
     "name": "stdout",
     "output_type": "stream",
     "text": [
      "Data frame Info\n",
      "<class 'pandas.core.frame.DataFrame'>\n",
      "Int64Index: 662835 entries, 0 to 863359\n",
      "Data columns (total 8 columns):\n",
      " #   Column      Non-Null Count   Dtype         \n",
      "---  ------      --------------   -----         \n",
      " 0   date_time   662835 non-null  datetime64[ns]\n",
      " 1   time_epoch  662835 non-null  int64         \n",
      " 2   category    662835 non-null  int8          \n",
      " 3   unit        662835 non-null  int16         \n",
      " 4   parameter   662835 non-null  int32         \n",
      " 5   message     662835 non-null  object        \n",
      " 6   new_value   662835 non-null  object        \n",
      " 7   old_value   662835 non-null  object        \n",
      "dtypes: datetime64[ns](1), int16(1), int32(1), int64(1), int8(1), object(3)\n",
      "memory usage: 34.8+ MB\n",
      "None\n",
      "\n",
      "Nullvalues in each columns\n",
      "date_time     0\n",
      "time_epoch    0\n",
      "category      0\n",
      "unit          0\n",
      "parameter     0\n",
      "message       0\n",
      "new_value     0\n",
      "old_value     0\n",
      "dtype: int64\n",
      "\n",
      "Lists of unique values in unit column\n",
      "[ 1  2  3  4  5  6  7  8  9 10 11 12 13 14 15 16 17 18 19 20 21 22 23 24\n",
      " 25 26 27 28 29 30 38]\n",
      "\n",
      "Total number of unique values in unit column\n",
      "31\n"
     ]
    }
   ],
   "source": [
    "print('Data frame Info')\n",
    "print(log_cleaned.info())\n",
    "print('\\nNullvalues in each columns')\n",
    "print(log_cleaned.isnull().sum())\n",
    "print('\\nLists of unique values in unit column')\n",
    "print(log_cleaned['unit'].unique())\n",
    "print('\\nTotal number of unique values in unit column')\n",
    "print(log_cleaned['unit'].nunique())\n"
   ]
  },
  {
   "cell_type": "markdown",
   "metadata": {},
   "source": [
    "## Export Log Data into tbl_log_data"
   ]
  },
  {
   "cell_type": "code",
   "execution_count": 47,
   "metadata": {},
   "outputs": [],
   "source": [
    "connection = pymysql.connect(host='localhost',\n",
    "                            user='root',\n",
    "                            password='password',\n",
    "                            db='data_dashboard')\n",
    "\n",
    "    # create cursor\n",
    "cursor=connection.cursor()"
   ]
  },
  {
   "cell_type": "code",
   "execution_count": 48,
   "metadata": {},
   "outputs": [
    {
     "data": {
      "text/plain": [
       "'date_time`,`time_epoch`,`category`,`unit`,`parameter`,`message`,`new_value`,`old_value'"
      ]
     },
     "execution_count": 48,
     "metadata": {},
     "output_type": "execute_result"
    }
   ],
   "source": [
    "cols = \"`,`\".join([str(i) for i in log_cleaned.columns.tolist()])\n",
    "cols"
   ]
  },
  {
   "cell_type": "code",
   "execution_count": 49,
   "metadata": {},
   "outputs": [
    {
     "data": {
      "text/plain": [
       "(662835, 8)"
      ]
     },
     "execution_count": 49,
     "metadata": {},
     "output_type": "execute_result"
    }
   ],
   "source": [
    "log_cleaned.shape"
   ]
  },
  {
   "cell_type": "code",
   "execution_count": 50,
   "metadata": {},
   "outputs": [
    {
     "name": "stdout",
     "output_type": "stream",
     "text": [
      "2021-04-21 11:00:00    52\n",
      "2022-02-10 12:03:39    40\n",
      "2022-01-11 11:00:00    36\n",
      "2021-12-18 11:00:00    36\n",
      "2022-01-13 11:00:00    36\n",
      "                       ..\n",
      "2021-10-01 11:13:21     1\n",
      "2021-10-01 11:13:14     1\n",
      "2021-10-01 11:12:36     1\n",
      "2021-10-01 11:12:31     1\n",
      "2022-04-20 12:38:26     1\n",
      "Name: date_time, Length: 401710, dtype: int64\n"
     ]
    }
   ],
   "source": [
    "print(log_cleaned['date_time'].value_counts(dropna= False))"
   ]
  },
  {
   "cell_type": "code",
   "execution_count": 51,
   "metadata": {},
   "outputs": [],
   "source": [
    "for i,row in log_cleaned.iterrows():\n",
    "    sql = \"INSERT INTO `tbl_log_data` (`\" +cols + \"`) VALUES (\" + \"%s,\"*(len(row)-1) + \"%s)\"\n",
    "    cursor.execute(sql, tuple(row))\n",
    "\n",
    "    # the connection is not autocommitted by default, so we must commit to save our changes\n",
    "    #connection.commit()"
   ]
  },
  {
   "cell_type": "code",
   "execution_count": 52,
   "metadata": {},
   "outputs": [],
   "source": [
    "connection.commit()"
   ]
  },
  {
   "cell_type": "code",
   "execution_count": 31,
   "metadata": {},
   "outputs": [],
   "source": [
    "connection.close()"
   ]
  },
  {
   "cell_type": "markdown",
   "metadata": {},
   "source": [
    "## Appendix"
   ]
  },
  {
   "cell_type": "code",
   "execution_count": null,
   "metadata": {},
   "outputs": [
    {
     "ename": "SyntaxError",
     "evalue": "invalid syntax (4013186024.py, line 2)",
     "output_type": "error",
     "traceback": [
      "\u001b[1;36m  Input \u001b[1;32mIn [39]\u001b[1;36m\u001b[0m\n\u001b[1;33m    command = '''DROP TABLE IF EXISTS localytics_app2;\u001b[0m\n\u001b[1;37m                 ^\u001b[0m\n\u001b[1;31mSyntaxError\u001b[0m\u001b[1;31m:\u001b[0m invalid syntax\n"
     ]
    }
   ],
   "source": [
    "'''\n",
    "command = '''DROP TABLE IF EXISTS localytics_app2;\n",
    "CREATE TABLE localytics_app2\n",
    "(\n",
    "\"Index\" serial primary key,\n",
    "\"Event\" text,\n",
    "\"Day\" timestamp without time zone,\n",
    ");'''\n",
    "cursor.execute(command)\n",
    "connection.commit()\n",
    "'''"
   ]
  },
  {
   "cell_type": "code",
   "execution_count": null,
   "metadata": {},
   "outputs": [
    {
     "data": {
      "text/plain": [
       "'\\n# Insert Dataframe into SQL Server:\\nfor index, row in df.iterrows():\\n     cursor.execute(\"INSERT INTO HumanResources.DepartmentTest (DepartmentID,Name,GroupName) values(?,?,?)\", row.DepartmentID, row.Name, row.GroupName)\\ncnxn.commit()\\ncursor.close()\\n'"
      ]
     },
     "execution_count": 78,
     "metadata": {},
     "output_type": "execute_result"
    }
   ],
   "source": [
    "'''\n",
    "# Insert Dataframe into SQL Server:\n",
    "for index, row in df.iterrows():\n",
    "     cursor.execute(\"INSERT INTO HumanResources.DepartmentTest (DepartmentID,Name,GroupName) values(?,?,?)\", row.DepartmentID, row.Name, row.GroupName)\n",
    "cnxn.commit()\n",
    "cursor.close()\n",
    "'''"
   ]
  }
 ],
 "metadata": {
  "interpreter": {
   "hash": "4c003f82c03b36fef287bdd35e08b972b8ba2e96746a620b0947100bdbd54581"
  },
  "kernelspec": {
   "display_name": "Python 3.9.8 ('.venv': venv)",
   "language": "python",
   "name": "python3"
  },
  "language_info": {
   "codemirror_mode": {
    "name": "ipython",
    "version": 3
   },
   "file_extension": ".py",
   "mimetype": "text/x-python",
   "name": "python",
   "nbconvert_exporter": "python",
   "pygments_lexer": "ipython3",
   "version": "3.9.8"
  },
  "orig_nbformat": 4
 },
 "nbformat": 4,
 "nbformat_minor": 2
}
