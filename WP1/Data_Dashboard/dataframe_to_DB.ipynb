{
 "cells": [
  {
   "cell_type": "code",
   "execution_count": 1,
   "metadata": {},
   "outputs": [],
   "source": [
    "import numpy as np\n",
    "import pandas as pd\n",
    "import os\n",
    "import re\n",
    "from datetime import date"
   ]
  },
  {
   "cell_type": "code",
   "execution_count": 2,
   "metadata": {},
   "outputs": [],
   "source": [
    "import warnings    # to avoid warning during executions\n",
    "warnings.filterwarnings(\"ignore\")"
   ]
  },
  {
   "cell_type": "code",
   "execution_count": 3,
   "metadata": {},
   "outputs": [],
   "source": [
    "import sys\n",
    "import mariadb"
   ]
  },
  {
   "cell_type": "code",
   "execution_count": 4,
   "metadata": {},
   "outputs": [],
   "source": [
    "try: con = mariadb.connect( \n",
    "    user=\"root\", \n",
    "    password=\"password\", \n",
    "    host=\"localhost\", \n",
    "    port=3306, \n",
    "    database=\"data_dashboard\" \n",
    ")\n",
    "\n",
    "except mariadb.Error as ex: \n",
    "    print(f\"An error occurred while connecting to MariaDB: {ex}\") \n",
    "    sys.exit(1) \n",
    "\n",
    "cur = con.cursor()"
   ]
  },
  {
   "cell_type": "code",
   "execution_count": null,
   "metadata": {},
   "outputs": [],
   "source": [
    "file_name = \n",
    "pbr_lookup = pd.read_excel('Excel_Sample.xlsx',sheet_name='Sheet1')"
   ]
  }
 ],
 "metadata": {
  "interpreter": {
   "hash": "4c003f82c03b36fef287bdd35e08b972b8ba2e96746a620b0947100bdbd54581"
  },
  "kernelspec": {
   "display_name": "Python 3.9.8 ('.venv': venv)",
   "language": "python",
   "name": "python3"
  },
  "language_info": {
   "codemirror_mode": {
    "name": "ipython",
    "version": 3
   },
   "file_extension": ".py",
   "mimetype": "text/x-python",
   "name": "python",
   "nbconvert_exporter": "python",
   "pygments_lexer": "ipython3",
   "version": "3.9.8"
  },
  "orig_nbformat": 4
 },
 "nbformat": 4,
 "nbformat_minor": 2
}
