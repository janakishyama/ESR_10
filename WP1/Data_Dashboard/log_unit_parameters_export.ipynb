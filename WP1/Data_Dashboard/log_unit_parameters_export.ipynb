{
 "cells": [
  {
   "cell_type": "markdown",
   "metadata": {},
   "source": [
    "### Code for automatically populate DB tables : tbr_unit and tbl_log_parameters using unique values in the data frame columns - Units and Parameters"
   ]
  },
  {
   "cell_type": "code",
   "execution_count": 85,
   "metadata": {},
   "outputs": [],
   "source": [
    "import numpy as np\n",
    "import pandas as pd\n",
    "import os\n",
    "import re\n",
    "from datetime import date\n",
    "\n",
    "import warnings    # to avoid warning during executions\n",
    "warnings.filterwarnings(\"ignore\")"
   ]
  },
  {
   "cell_type": "code",
   "execution_count": 86,
   "metadata": {},
   "outputs": [],
   "source": [
    "file_name = '..\\..\\dataExport\\LOGdata\\log_2022_4_20.csv'\n",
    "log_rawDF = pd.read_csv(file_name, sep='*')"
   ]
  },
  {
   "cell_type": "markdown",
   "metadata": {},
   "source": [
    "## Data Overview"
   ]
  },
  {
   "cell_type": "code",
   "execution_count": 87,
   "metadata": {},
   "outputs": [
    {
     "name": "stdout",
     "output_type": "stream",
     "text": [
      "<class 'pandas.core.frame.DataFrame'>\n",
      "RangeIndex: 864368 entries, 0 to 864367\n",
      "Data columns (total 9 columns):\n",
      " #   Column     Non-Null Count   Dtype \n",
      "---  ------     --------------   ----- \n",
      " 0   Date_Time  864368 non-null  object\n",
      " 1   Time       864368 non-null  int64 \n",
      " 2   MicroSec   864368 non-null  int64 \n",
      " 3   Type       864368 non-null  int64 \n",
      " 4   Unit       864368 non-null  object\n",
      " 5   Parameter  864368 non-null  object\n",
      " 6   Message    864368 non-null  object\n",
      " 7   Value1     411351 non-null  object\n",
      " 8   Value2     495515 non-null  object\n",
      "dtypes: int64(3), object(6)\n",
      "memory usage: 59.4+ MB\n"
     ]
    }
   ],
   "source": [
    "log_rawDF.info()"
   ]
  },
  {
   "cell_type": "code",
   "execution_count": 88,
   "metadata": {},
   "outputs": [
    {
     "data": {
      "text/plain": [
       "T10                 203861\n",
       "Arduino             102024\n",
       "feeding              80955\n",
       "calculations         78184\n",
       "AutoTemplateSync     49465\n",
       "                     ...  \n",
       "waste                    2\n",
       "T41                      2\n",
       "T44                      2\n",
       "T45                      2\n",
       "V42                      2\n",
       "Name: Parameter, Length: 162, dtype: int64"
      ]
     },
     "execution_count": 88,
     "metadata": {},
     "output_type": "execute_result"
    }
   ],
   "source": [
    "log_rawDF['Parameter'].value_counts(dropna= False)"
   ]
  },
  {
   "cell_type": "code",
   "execution_count": 89,
   "metadata": {},
   "outputs": [
    {
     "data": {
      "text/plain": [
       "FFU            431123\n",
       "FPC23_FPP23     74100\n",
       "FPC14           34702\n",
       "FPC22           33366\n",
       "FPC12           24002\n",
       "FPC23           23900\n",
       "FPC13           23309\n",
       "FPC11_FPP11     22220\n",
       "FPC21           21458\n",
       "FPC11           17302\n",
       "FPC22_FPP22     15011\n",
       "FPC12_FPP       14727\n",
       "FPC21_FPP21     13912\n",
       "FPC24           12841\n",
       "FPC31_AUT31      9176\n",
       "FPC23_AUT23      8951\n",
       "FPC13_FPP13      8868\n",
       "FPC13_AUT13      8052\n",
       "FFP_AUTFU        8019\n",
       "FPC12_AUT        8012\n",
       "FPC11_AUT11      8011\n",
       "FPC22_AUT22      8011\n",
       "FPC24_AUT24      8006\n",
       "FFP_FFP          6351\n",
       "FPC31            5859\n",
       "FPC21_AUT21      5441\n",
       "FPC24_FPP24      2782\n",
       "FPC31_FPP31      2427\n",
       "Product          1450\n",
       "FPC42             777\n",
       "FPC41             777\n",
       "FPC14_FPP14       513\n",
       "FPC14_AUT14       404\n",
       "scheduler         312\n",
       "FPP11             134\n",
       "FPP                41\n",
       "FPP21              12\n",
       "FPP31               5\n",
       "FPP14               2\n",
       "FPP13               2\n",
       "Name: Unit, dtype: int64"
      ]
     },
     "execution_count": 89,
     "metadata": {},
     "output_type": "execute_result"
    }
   ],
   "source": [
    "log_rawDF['Unit'].value_counts(dropna= False)"
   ]
  },
  {
   "cell_type": "code",
   "execution_count": 90,
   "metadata": {},
   "outputs": [
    {
     "name": "stdout",
     "output_type": "stream",
     "text": [
      "[4 3 2 5 6 1]\n"
     ]
    }
   ],
   "source": [
    "log_type = log_rawDF['Type'].unique()\n",
    "print(log_type)"
   ]
  },
  {
   "cell_type": "code",
   "execution_count": 91,
   "metadata": {},
   "outputs": [
    {
     "data": {
      "text/plain": [
       "2    516084\n",
       "1    201533\n",
       "4     67915\n",
       "6     49397\n",
       "5     18964\n",
       "3     10475\n",
       "Name: Type, dtype: int64"
      ]
     },
     "execution_count": 91,
     "metadata": {},
     "output_type": "execute_result"
    }
   ],
   "source": [
    "log_rawDF['Type'].value_counts(dropna= False)"
   ]
  },
  {
   "cell_type": "code",
   "execution_count": 92,
   "metadata": {},
   "outputs": [],
   "source": [
    "tmp_1 = log_rawDF.query('Type != (1)')"
   ]
  },
  {
   "cell_type": "code",
   "execution_count": 93,
   "metadata": {},
   "outputs": [
    {
     "data": {
      "text/plain": [
       "2    516084\n",
       "4     67915\n",
       "6     49397\n",
       "5     18964\n",
       "3     10475\n",
       "Name: Type, dtype: int64"
      ]
     },
     "execution_count": 93,
     "metadata": {},
     "output_type": "execute_result"
    }
   ],
   "source": [
    "tmp_1['Type'].value_counts(dropna= False)"
   ]
  },
  {
   "cell_type": "code",
   "execution_count": 94,
   "metadata": {},
   "outputs": [],
   "source": [
    "tmp_1 = tmp_1.query('Unit == (\"FPC11\", \"FPC12\", \"FPC13\", \"FPC14\", \"FPC21\", \"FPC22\", \"FPC23\", \"FPC24\", \"FFU\", \"FPP\", \"Product\", \"scheduler\")')"
   ]
  },
  {
   "cell_type": "code",
   "execution_count": 95,
   "metadata": {},
   "outputs": [
    {
     "data": {
      "text/plain": [
       "FFU        397759\n",
       "FPC14       28813\n",
       "FPC22       28040\n",
       "FPC23       23865\n",
       "FPC13       23273\n",
       "FPC21       21445\n",
       "FPC12       21104\n",
       "FPC24       12806\n",
       "FPC11       12719\n",
       "Product       954\n",
       "FPP            41\n",
       "Name: Unit, dtype: int64"
      ]
     },
     "execution_count": 95,
     "metadata": {},
     "output_type": "execute_result"
    }
   ],
   "source": [
    "tmp_1['Unit'].value_counts(dropna= False)"
   ]
  },
  {
   "cell_type": "code",
   "execution_count": 96,
   "metadata": {},
   "outputs": [
    {
     "name": "stdout",
     "output_type": "stream",
     "text": [
      "<class 'pandas.core.frame.DataFrame'>\n",
      "Int64Index: 570819 entries, 6 to 862517\n",
      "Data columns (total 9 columns):\n",
      " #   Column     Non-Null Count   Dtype \n",
      "---  ------     --------------   ----- \n",
      " 0   Date_Time  570819 non-null  object\n",
      " 1   Time       570819 non-null  int64 \n",
      " 2   MicroSec   570819 non-null  int64 \n",
      " 3   Type       570819 non-null  int64 \n",
      " 4   Unit       570819 non-null  object\n",
      " 5   Parameter  570819 non-null  object\n",
      " 6   Message    570819 non-null  object\n",
      " 7   Value1     407015 non-null  object\n",
      " 8   Value2     485156 non-null  object\n",
      "dtypes: int64(3), object(6)\n",
      "memory usage: 43.6+ MB\n"
     ]
    }
   ],
   "source": [
    "tmp_1.info()"
   ]
  },
  {
   "cell_type": "code",
   "execution_count": 97,
   "metadata": {},
   "outputs": [],
   "source": [
    "log_raw = tmp_1"
   ]
  },
  {
   "cell_type": "code",
   "execution_count": 98,
   "metadata": {},
   "outputs": [
    {
     "data": {
      "text/plain": [
       "[]"
      ]
     },
     "execution_count": 98,
     "metadata": {},
     "output_type": "execute_result"
    }
   ],
   "source": [
    "log_raw[log_raw['Type'].isnull()].index.tolist()"
   ]
  },
  {
   "cell_type": "code",
   "execution_count": 99,
   "metadata": {},
   "outputs": [
    {
     "name": "stdout",
     "output_type": "stream",
     "text": [
      "['FPC14' 'FFU' 'FPC22' 'FPC21' 'FPC23' 'FPC13' 'FPC24' 'FPC11' 'Product'\n",
      " 'FPC12' 'FPP']\n",
      "11\n"
     ]
    }
   ],
   "source": [
    "log_unit = log_raw['Unit'].unique()\n",
    "print(log_unit)\n",
    "print(log_raw['Unit'].nunique())"
   ]
  },
  {
   "cell_type": "code",
   "execution_count": 100,
   "metadata": {},
   "outputs": [
    {
     "name": "stdout",
     "output_type": "stream",
     "text": [
      "0\n",
      "0\n",
      "0\n"
     ]
    }
   ],
   "source": [
    "print(log_raw['Type'].isna().sum())\n",
    "print(log_raw['Unit'].isna().sum())\n",
    "print(log_raw['Parameter'].isna().sum())"
   ]
  },
  {
   "cell_type": "code",
   "execution_count": 101,
   "metadata": {},
   "outputs": [
    {
     "name": "stdout",
     "output_type": "stream",
     "text": [
      "['program' 'T61' 'water' 'T10' 'Reactor' 'T71' 'pneumatic' 'T42A'\n",
      " 'harvest' 'calculations' 'P1L' 'feeding' 'T64' 'T42' 'T53' 'T51' 'T73'\n",
      " 'T74' 'T65' 'T63' 'T72' 'T52' 'T54' 'PT1_V4' 'T55' 'T43' 'LEDlighting'\n",
      " 'RM29' 'RM6' 'V74' 'RM12' 'RM13' 'RM14' 'RM15' 'RM16' 'RM17' 'RM19' 'RM2'\n",
      " 'RM21' 'RM22' 'RM23' 'T41A' 'T43A' 'RM35' 'RM4' 'RM5' 'RM7' 'P42' 'RM1'\n",
      " 'RM30' 'V3' 'P1R' 'P2R' 'CO2_V2' 'R1' 'PTdiff_K2' 'L1W' 'P43' 'V42' 'P10'\n",
      " 'V11' 'V8' 'LT1' 'RM3' 'RM11' 'RM8' 'M1' 'P2L' 'V61' 'P11' 'Recipes'\n",
      " 'Products' 'L1' 'V6' 'V1' 'V72' 'chiller' 'T62' 'V71' 'V62' 'P12' 'V43'\n",
      " 'L1FR' 'L1R' 'L1B' 'Arduino' 'M10' 'V63' 'RM18' 'V52' 'V64' 'PT10' 'TT0'\n",
      " 'waste' 'V51' 'RM20' 'RM33']\n",
      "97\n"
     ]
    }
   ],
   "source": [
    "log_parameter = log_raw['Parameter'].unique()\n",
    "print(log_parameter)\n",
    "print(log_raw['Parameter'].nunique())"
   ]
  },
  {
   "cell_type": "code",
   "execution_count": 102,
   "metadata": {},
   "outputs": [
    {
     "data": {
      "text/plain": [
       "False    558100\n",
       "True      12719\n",
       "Name: Unit, dtype: int64"
      ]
     },
     "execution_count": 102,
     "metadata": {},
     "output_type": "execute_result"
    }
   ],
   "source": [
    "(log_raw['Unit']=='FPC11').value_counts()"
   ]
  },
  {
   "cell_type": "code",
   "execution_count": 103,
   "metadata": {},
   "outputs": [
    {
     "data": {
      "text/plain": [
       "Date_Time         0\n",
       "Time              0\n",
       "MicroSec          0\n",
       "Type              0\n",
       "Unit              0\n",
       "Parameter         0\n",
       "Message           0\n",
       "Value1       163804\n",
       "Value2        85663\n",
       "dtype: int64"
      ]
     },
     "execution_count": 103,
     "metadata": {},
     "output_type": "execute_result"
    }
   ],
   "source": [
    "log_raw.isnull().sum()"
   ]
  },
  {
   "cell_type": "markdown",
   "metadata": {},
   "source": [
    "## Inserting Units and Parameters into mariaDb tables"
   ]
  },
  {
   "cell_type": "code",
   "execution_count": 104,
   "metadata": {},
   "outputs": [],
   "source": [
    "import sys\n",
    "import mariadb"
   ]
  },
  {
   "cell_type": "code",
   "execution_count": 105,
   "metadata": {},
   "outputs": [],
   "source": [
    "# DB connection definition - using mariadb package\n",
    "\n",
    "try: con = mariadb.connect( \n",
    "    user=\"root\", \n",
    "    password=\"password\", \n",
    "    host=\"localhost\", \n",
    "    port=3306, \n",
    "    database=\"data_dashboard\" \n",
    ")\n",
    "\n",
    "except mariadb.Error as ex: \n",
    "    print(f\"An error occurred while connecting to MariaDB: {ex}\") \n",
    "    sys.exit(1) \n",
    "\n",
    "cur = con.cursor()"
   ]
  },
  {
   "cell_type": "markdown",
   "metadata": {},
   "source": [
    "#### Selecting data from : tbl_unit"
   ]
  },
  {
   "cell_type": "code",
   "execution_count": 106,
   "metadata": {},
   "outputs": [],
   "source": [
    "# selecting all elements from table - tbl_unit\n",
    "cur.execute(\"SELECT unit_id, unit_name FROM tbl_unit\")\n",
    "\n",
    "for (unit_id, unit_name) in cur:\n",
    "    print(\"ID:\", {unit_id}, \"unit_name:\", {unit_name})"
   ]
  },
  {
   "cell_type": "markdown",
   "metadata": {},
   "source": [
    "#### Inserting unique parameters into DB table : tbl_log_parameters"
   ]
  },
  {
   "cell_type": "code",
   "execution_count": 20,
   "metadata": {},
   "outputs": [],
   "source": [
    "# inserting list of parameters into DB table : tbl_parameters\n",
    "#query = 'INSERT IGNORE INTO tbl_log_parameters (prm_id, prm_name) VALUES (%s, %s)'\n",
    "#tuples = pd.Series(log_parameter)\n",
    "#tuples = [(index+1, value) for index, value in tuples.items()]"
   ]
  },
  {
   "cell_type": "code",
   "execution_count": 21,
   "metadata": {},
   "outputs": [],
   "source": [
    "#cur.executemany(query, tuples)\n",
    "#con.commit() "
   ]
  },
  {
   "cell_type": "markdown",
   "metadata": {},
   "source": [
    "#### Inserting unique units into DB table : tbl_unit"
   ]
  },
  {
   "cell_type": "code",
   "execution_count": 107,
   "metadata": {},
   "outputs": [],
   "source": [
    "# inserting list of units into DB table : tbl_unit\n",
    "query = 'INSERT IGNORE INTO tbl_unit (unit_id, unit_name) VALUES (%s, %s)'\n",
    "tuples = pd.Series(log_unit)\n",
    "tuples = [(index+1, value) for index, value in tuples.items()]"
   ]
  },
  {
   "cell_type": "code",
   "execution_count": 108,
   "metadata": {},
   "outputs": [],
   "source": [
    "cur.executemany(query, tuples)\n",
    "con.commit() "
   ]
  },
  {
   "cell_type": "code",
   "execution_count": 109,
   "metadata": {},
   "outputs": [],
   "source": [
    "con.close()"
   ]
  },
  {
   "cell_type": "markdown",
   "metadata": {},
   "source": [
    "## Appendix"
   ]
  },
  {
   "cell_type": "code",
   "execution_count": 25,
   "metadata": {},
   "outputs": [
    {
     "data": {
      "text/plain": [
       "'\\nwith open(\\'..\\\\..\\\\dataExport\\\\LOGdata\\\\log_2022_4_20.csv\\', \\'r+\\', encoding=\"utf-8\") as file:\\n    text = str();\\n    for line in file:\\n        if line[0:3] == \"202\":\\n            text = text + \\'\\n\\';\\n        text = text + line.strip();\\n    file.seek(0);\\n    file.write(text);\\n    \\n'"
      ]
     },
     "execution_count": 25,
     "metadata": {},
     "output_type": "execute_result"
    }
   ],
   "source": [
    "# append a line to previous line if its not starting in stanard format\n",
    "'''\n",
    "with open('..\\..\\dataExport\\LOGdata\\log_2022_4_20.csv', 'r+', encoding=\"utf-8\") as file:\n",
    "    text = str();\n",
    "    for line in file:\n",
    "        if line[0:3] == \"202\":\n",
    "            text = text + '\\n';\n",
    "        text = text + line.strip();\n",
    "    file.seek(0);\n",
    "    file.write(text);\n",
    "    \n",
    "'''\n"
   ]
  }
 ],
 "metadata": {
  "interpreter": {
   "hash": "4c003f82c03b36fef287bdd35e08b972b8ba2e96746a620b0947100bdbd54581"
  },
  "kernelspec": {
   "display_name": "Python 3.9.8 ('.venv': venv)",
   "language": "python",
   "name": "python3"
  },
  "language_info": {
   "codemirror_mode": {
    "name": "ipython",
    "version": 3
   },
   "file_extension": ".py",
   "mimetype": "text/x-python",
   "name": "python",
   "nbconvert_exporter": "python",
   "pygments_lexer": "ipython3",
   "version": "3.9.8"
  },
  "orig_nbformat": 4
 },
 "nbformat": 4,
 "nbformat_minor": 2
}
