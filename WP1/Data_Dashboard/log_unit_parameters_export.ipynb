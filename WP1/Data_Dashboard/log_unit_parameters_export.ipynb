{
 "cells": [
  {
   "cell_type": "code",
   "execution_count": 2,
   "metadata": {},
   "outputs": [],
   "source": [
    "import numpy as np\n",
    "import pandas as pd\n",
    "import os\n",
    "import re\n",
    "from datetime import date\n",
    "\n",
    "import warnings    # to avoid warning during executions\n",
    "warnings.filterwarnings(\"ignore\")"
   ]
  },
  {
   "cell_type": "code",
   "execution_count": 3,
   "metadata": {},
   "outputs": [],
   "source": [
    "file_name = '..\\..\\dataExport\\LOGdata\\log_2022_4_20.csv'\n",
    "log_rawDF = pd.read_csv(file_name, sep='*')"
   ]
  },
  {
   "cell_type": "markdown",
   "metadata": {},
   "source": [
    "## Data Overview"
   ]
  },
  {
   "cell_type": "code",
   "execution_count": 4,
   "metadata": {},
   "outputs": [
    {
     "name": "stdout",
     "output_type": "stream",
     "text": [
      "<class 'pandas.core.frame.DataFrame'>\n",
      "RangeIndex: 864368 entries, 0 to 864367\n",
      "Data columns (total 9 columns):\n",
      " #   Column     Non-Null Count   Dtype \n",
      "---  ------     --------------   ----- \n",
      " 0   Date_Time  864368 non-null  object\n",
      " 1   Time       864368 non-null  int64 \n",
      " 2   MicroSec   864368 non-null  int64 \n",
      " 3   Type       864368 non-null  int64 \n",
      " 4   Unit       864368 non-null  object\n",
      " 5   Parameter  864368 non-null  object\n",
      " 6   Message    864368 non-null  object\n",
      " 7   Value1     411351 non-null  object\n",
      " 8   Value2     495515 non-null  object\n",
      "dtypes: int64(3), object(6)\n",
      "memory usage: 59.4+ MB\n"
     ]
    }
   ],
   "source": [
    "log_rawDF.info()"
   ]
  },
  {
   "cell_type": "code",
   "execution_count": 5,
   "metadata": {},
   "outputs": [
    {
     "data": {
      "text/plain": [
       "T10                 203861\n",
       "Arduino             102024\n",
       "feeding              80955\n",
       "calculations         78184\n",
       "AutoTemplateSync     49465\n",
       "                     ...  \n",
       "waste                    2\n",
       "T41                      2\n",
       "T44                      2\n",
       "T45                      2\n",
       "V42                      2\n",
       "Name: Parameter, Length: 162, dtype: int64"
      ]
     },
     "execution_count": 5,
     "metadata": {},
     "output_type": "execute_result"
    }
   ],
   "source": [
    "log_rawDF['Parameter'].value_counts(dropna= False)"
   ]
  },
  {
   "cell_type": "code",
   "execution_count": 7,
   "metadata": {},
   "outputs": [
    {
     "name": "stdout",
     "output_type": "stream",
     "text": [
      "[4 3 2 5 6 1]\n"
     ]
    }
   ],
   "source": [
    "log_type = log_rawDF['Type'].unique()\n",
    "print(log_type)"
   ]
  },
  {
   "cell_type": "code",
   "execution_count": 8,
   "metadata": {},
   "outputs": [
    {
     "data": {
      "text/plain": [
       "2    516084\n",
       "1    201533\n",
       "4     67915\n",
       "6     49397\n",
       "5     18964\n",
       "3     10475\n",
       "Name: Type, dtype: int64"
      ]
     },
     "execution_count": 8,
     "metadata": {},
     "output_type": "execute_result"
    }
   ],
   "source": [
    "log_rawDF['Type'].value_counts(dropna= False)"
   ]
  },
  {
   "cell_type": "code",
   "execution_count": 9,
   "metadata": {},
   "outputs": [
    {
     "data": {
      "text/plain": [
       "[]"
      ]
     },
     "execution_count": 9,
     "metadata": {},
     "output_type": "execute_result"
    }
   ],
   "source": [
    "log_rawDF[log_rawDF['Type'].isnull()].index.tolist()"
   ]
  },
  {
   "cell_type": "code",
   "execution_count": 10,
   "metadata": {},
   "outputs": [
    {
     "name": "stdout",
     "output_type": "stream",
     "text": [
      "['FPC11_FPP11' 'FPC14' 'FFU' 'FPC22' 'FPC21_AUT21' 'FPC21' 'FPC23' 'FPC13'\n",
      " 'FPC24' 'FPC31' 'FPC23_FPP23' 'FPC41' 'FPC42' 'FPC11' 'Product'\n",
      " 'FPC21_FPP21' 'FPC13_FPP13' 'FPC24_FPP24' 'FFP_FFP' 'FPC31_FPP31'\n",
      " 'FPC22_FPP22' 'FPC12' 'FPP11' 'FPC14_FPP14' 'FPP21' 'FPP13' 'FPP14' 'FPP'\n",
      " 'FPC12_FPP' 'FPP31' 'FFP_AUTFU' 'FPC13_AUT13' 'FPC22_AUT22' 'FPC11_AUT11'\n",
      " 'FPC12_AUT' 'FPC31_AUT31' 'FPC24_AUT24' 'FPC23_AUT23' 'scheduler'\n",
      " 'FPC14_AUT14']\n",
      "40\n"
     ]
    }
   ],
   "source": [
    "log_unit = log_rawDF['Unit'].unique()\n",
    "print(log_unit)\n",
    "print(log_rawDF['Unit'].nunique())"
   ]
  },
  {
   "cell_type": "code",
   "execution_count": 11,
   "metadata": {},
   "outputs": [
    {
     "name": "stdout",
     "output_type": "stream",
     "text": [
      "0\n",
      "0\n",
      "0\n"
     ]
    }
   ],
   "source": [
    "print(log_rawDF['Type'].isna().sum())\n",
    "print(log_rawDF['Unit'].isna().sum())\n",
    "print(log_rawDF['Parameter'].isna().sum())"
   ]
  },
  {
   "cell_type": "code",
   "execution_count": 14,
   "metadata": {},
   "outputs": [
    {
     "name": "stdout",
     "output_type": "stream",
     "text": [
      "['Arduino' 'program' 'T61' 'water' 'T10' 'Reactor' 'T71' 'pneumatic'\n",
      " 'autoSyncMonitor' 'T42A' 'harvest' 'calculations' 'P1L' 'feeding' 'T64'\n",
      " 'T42' 'T53' 'T51' 'T73' 'T74' 'T65' 'T63' 'T72' 'T52' 'T54' 'PT1_V4'\n",
      " 'T55' 'T43' 'LEDlighting' 'RM29' 'RM6' 'V74' 'RM12' 'RM13' 'RM14' 'RM15'\n",
      " 'RM16' 'RM17' 'RM19' 'RM2' 'RM21' 'RM22' 'RM23' 'T41A' 'T43A' 'RM35'\n",
      " 'RM4' 'RM5' 'RM7' 'P42' 'RM1' 'RM30' 'Arduino_QG' 'Arduino_pH' 'V3' 'P1R'\n",
      " 'P2R' 'CO2_V2' 'R1' 'PTdiff_K2' 'L1W' 'Arduino_TT1' 'Arduino_LT1'\n",
      " 'Arduino1_LT52' 'Arduino2_LT72' 'Arduino1_LT41' 'Arduino2_LT61'\n",
      " 'AutoLink' 'P43' 'V42' 'P10' 'V11' 'V8' 'LT1' 'RM3' 'RM11' 'RM8' 'M1'\n",
      " 'P2L' 'V61' 'P11' 'Recipes' 'Products' 'L1' 'V6' 'V1' 'V72' 'chiller'\n",
      " 'T62' 'V71' 'V62' 'P12' 'V43' 'L1FR' 'L1R' 'L1B' 'LT10' 'M10' 'V63'\n",
      " 'RM18' 'Arduino1' 'V52' 'V64' 'PT10' 'TT0' 'waste' 'V51' 'RM20' 'RM33'\n",
      " 'AutoTemplateSync' 'Arduino2_LT73' 'Arduino_CO2' 'Arduino2_LT63'\n",
      " 'Arduino2_LT65' 'Arduino1_LT53' 'Arduino2_LT64' 'Arduino2_LT75'\n",
      " 'Arduino1_LT54' 'Arduino1_LT45' 'Arduino2_LT74' 'Arduino1_LT55'\n",
      " 'Arduino2_LT10' 'Arduino2_LT71' 'Arduino_TT0' 'Arduino1_LT42'\n",
      " 'Arduino1_LT43' 'Arduino1_LT51' 'Arduino2_LT62' 'Arduino2' 'triggers'\n",
      " 'harvestTank' 'RM10' 'RM24' 'RM25' 'RM26' 'RM27' 'RM28' 'RM31' 'RM32'\n",
      " 'RM34' 'RM36' 'RM37' 'RM38' 'RM39' 'RM40' 'RM9' 'Arduino_QR' 'Arduino_QB'\n",
      " 'Arduino_QC' 'P1' 'P2' 'Arduino_PT1' 'Arduino_PT2' 'Arduino_FT2'\n",
      " 'Arduino_QT' 'T75' 'T41' 'T44' 'T45' 'Arduino1_PT10' 'Arduino1_PT11'\n",
      " 'Arduino2_noInUse']\n",
      "162\n"
     ]
    }
   ],
   "source": [
    "log_parameter = log_rawDF['Parameter'].unique()\n",
    "print(log_parameter)\n",
    "print(log_rawDF['Parameter'].nunique())"
   ]
  },
  {
   "cell_type": "code",
   "execution_count": 15,
   "metadata": {},
   "outputs": [
    {
     "data": {
      "text/plain": [
       "False    847066\n",
       "True      17302\n",
       "Name: Unit, dtype: int64"
      ]
     },
     "execution_count": 15,
     "metadata": {},
     "output_type": "execute_result"
    }
   ],
   "source": [
    "(log_rawDF['Unit']=='FPC11').value_counts()"
   ]
  },
  {
   "cell_type": "code",
   "execution_count": 16,
   "metadata": {},
   "outputs": [
    {
     "data": {
      "text/plain": [
       "Date_Time         0\n",
       "Time              0\n",
       "MicroSec          0\n",
       "Type              0\n",
       "Unit              0\n",
       "Parameter         0\n",
       "Message           0\n",
       "Value1       453017\n",
       "Value2       368853\n",
       "dtype: int64"
      ]
     },
     "execution_count": 16,
     "metadata": {},
     "output_type": "execute_result"
    }
   ],
   "source": [
    "log_rawDF.isnull().sum()"
   ]
  },
  {
   "cell_type": "markdown",
   "metadata": {},
   "source": [
    "## Inserting Units and Parameters into mariaDb tables"
   ]
  },
  {
   "cell_type": "code",
   "execution_count": 18,
   "metadata": {},
   "outputs": [],
   "source": [
    "import sys\n",
    "import mariadb"
   ]
  },
  {
   "cell_type": "code",
   "execution_count": 19,
   "metadata": {},
   "outputs": [],
   "source": [
    "# DB connection definition - using mariadb package\n",
    "try: con = mariadb.connect( \n",
    "    user=\"root\", \n",
    "    password=\"password\", \n",
    "    host=\"localhost\", \n",
    "    port=3306, \n",
    "    database=\"data_dashboard\" \n",
    ")\n",
    "\n",
    "except mariadb.Error as ex: \n",
    "    print(f\"An error occurred while connecting to MariaDB: {ex}\") \n",
    "    sys.exit(1) \n",
    "\n",
    "cur = con.cursor()"
   ]
  },
  {
   "cell_type": "markdown",
   "metadata": {},
   "source": [
    "#### Selecting data from : tbl_unit"
   ]
  },
  {
   "cell_type": "code",
   "execution_count": 21,
   "metadata": {},
   "outputs": [
    {
     "name": "stdout",
     "output_type": "stream",
     "text": [
      "ID: {31} unit_name: {'FFP_AUTFU'}\n",
      "ID: {19} unit_name: {'FFP_FFP'}\n",
      "ID: {3} unit_name: {'FFU'}\n",
      "ID: {14} unit_name: {'FPC11'}\n",
      "ID: {34} unit_name: {'FPC11_AUT11'}\n",
      "ID: {1} unit_name: {'FPC11_FPP11'}\n",
      "ID: {22} unit_name: {'FPC12'}\n",
      "ID: {35} unit_name: {'FPC12_AUT'}\n",
      "ID: {29} unit_name: {'FPC12_FPP'}\n",
      "ID: {8} unit_name: {'FPC13'}\n",
      "ID: {32} unit_name: {'FPC13_AUT13'}\n",
      "ID: {17} unit_name: {'FPC13_FPP13'}\n",
      "ID: {2} unit_name: {'FPC14'}\n",
      "ID: {40} unit_name: {'FPC14_AUT14'}\n",
      "ID: {24} unit_name: {'FPC14_FPP14'}\n",
      "ID: {6} unit_name: {'FPC21'}\n",
      "ID: {5} unit_name: {'FPC21_AUT21'}\n",
      "ID: {16} unit_name: {'FPC21_FPP21'}\n",
      "ID: {4} unit_name: {'FPC22'}\n",
      "ID: {33} unit_name: {'FPC22_AUT22'}\n",
      "ID: {21} unit_name: {'FPC22_FPP22'}\n",
      "ID: {7} unit_name: {'FPC23'}\n",
      "ID: {38} unit_name: {'FPC23_AUT23'}\n",
      "ID: {11} unit_name: {'FPC23_FPP23'}\n",
      "ID: {9} unit_name: {'FPC24'}\n",
      "ID: {37} unit_name: {'FPC24_AUT24'}\n",
      "ID: {18} unit_name: {'FPC24_FPP24'}\n",
      "ID: {10} unit_name: {'FPC31'}\n",
      "ID: {36} unit_name: {'FPC31_AUT31'}\n",
      "ID: {20} unit_name: {'FPC31_FPP31'}\n",
      "ID: {12} unit_name: {'FPC41'}\n",
      "ID: {13} unit_name: {'FPC42'}\n",
      "ID: {28} unit_name: {'FPP'}\n",
      "ID: {23} unit_name: {'FPP11'}\n",
      "ID: {26} unit_name: {'FPP13'}\n",
      "ID: {27} unit_name: {'FPP14'}\n",
      "ID: {25} unit_name: {'FPP21'}\n",
      "ID: {30} unit_name: {'FPP31'}\n",
      "ID: {15} unit_name: {'Product'}\n",
      "ID: {39} unit_name: {'scheduler'}\n"
     ]
    }
   ],
   "source": [
    "# selecting all elements from table - tbl_unit\n",
    "cur.execute(\"SELECT unit_id, unit_name FROM tbl_unit\")\n",
    "\n",
    "for (unit_id, unit_name) in cur:\n",
    "    print(\"ID:\", {unit_id}, \"unit_name:\", {unit_name})"
   ]
  },
  {
   "cell_type": "markdown",
   "metadata": {},
   "source": [
    "#### Inserting unique parameters into DB table : tbl_log_parameters"
   ]
  },
  {
   "cell_type": "code",
   "execution_count": 24,
   "metadata": {},
   "outputs": [],
   "source": [
    "# inserting list of parameters into DB table : tbl_parameters\n",
    "query = 'INSERT IGNORE INTO tbl_log_parameters (prm_id, prm_name) VALUES (%s, %s)'\n",
    "tuples = pd.Series(log_parameter)\n",
    "tuples = [(index+1, value) for index, value in tuples.items()]"
   ]
  },
  {
   "cell_type": "code",
   "execution_count": 26,
   "metadata": {},
   "outputs": [],
   "source": [
    "cur.executemany(query, tuples)\n",
    "con.commit() "
   ]
  },
  {
   "cell_type": "markdown",
   "metadata": {},
   "source": [
    "#### Inserting unique units into DB table : tbl_unit"
   ]
  },
  {
   "cell_type": "code",
   "execution_count": 27,
   "metadata": {},
   "outputs": [],
   "source": [
    "# inserting list of units into DB table : tbl_unit\n",
    "query = 'INSERT IGNORE INTO tbl_unit (unit_id, unit_name) VALUES (%s, %s)'\n",
    "tuples = pd.Series(log_unit)\n",
    "tuples = [(index+1, value) for index, value in tuples.items()]"
   ]
  },
  {
   "cell_type": "code",
   "execution_count": 28,
   "metadata": {},
   "outputs": [],
   "source": [
    "cur.executemany(query, tuples)\n",
    "con.commit() "
   ]
  },
  {
   "cell_type": "code",
   "execution_count": 29,
   "metadata": {},
   "outputs": [],
   "source": [
    "con.close()"
   ]
  },
  {
   "cell_type": "markdown",
   "metadata": {},
   "source": [
    "## Appendix"
   ]
  },
  {
   "cell_type": "code",
   "execution_count": null,
   "metadata": {},
   "outputs": [],
   "source": [
    "# append a line to previous line if its not starting in stanard format\n",
    "'''\n",
    "with open('..\\..\\dataExport\\LOGdata\\log_2022_4_20.csv', 'r+', encoding=\"utf-8\") as file:\n",
    "    text = str();\n",
    "    for line in file:\n",
    "        if line[0:3] == \"202\":\n",
    "            text = text + '\\n';\n",
    "        text = text + line.strip();\n",
    "    file.seek(0);\n",
    "    file.write(text);\n",
    "    \n",
    "'''\n"
   ]
  }
 ],
 "metadata": {
  "interpreter": {
   "hash": "4c003f82c03b36fef287bdd35e08b972b8ba2e96746a620b0947100bdbd54581"
  },
  "kernelspec": {
   "display_name": "Python 3.9.8 ('.venv': venv)",
   "language": "python",
   "name": "python3"
  },
  "language_info": {
   "codemirror_mode": {
    "name": "ipython",
    "version": 3
   },
   "file_extension": ".py",
   "mimetype": "text/x-python",
   "name": "python",
   "nbconvert_exporter": "python",
   "pygments_lexer": "ipython3",
   "version": "3.9.8"
  },
  "orig_nbformat": 4
 },
 "nbformat": 4,
 "nbformat_minor": 2
}
