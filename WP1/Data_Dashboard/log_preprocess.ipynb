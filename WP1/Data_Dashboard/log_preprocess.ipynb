{
 "cells": [
  {
   "cell_type": "markdown",
   "metadata": {},
   "source": [
    "##### Code to preprocess / Organize and clean ProviApt LOG Data"
   ]
  },
  {
   "cell_type": "code",
   "execution_count": 2,
   "metadata": {},
   "outputs": [],
   "source": [
    "import numpy as np\n",
    "import pandas as pd\n",
    "import os\n",
    "import re\n",
    "from datetime import date"
   ]
  },
  {
   "cell_type": "code",
   "execution_count": 3,
   "metadata": {},
   "outputs": [],
   "source": [
    "import warnings    # to avoid warning during executions\n",
    "warnings.filterwarnings(\"ignore\")"
   ]
  },
  {
   "cell_type": "code",
   "execution_count": 24,
   "metadata": {},
   "outputs": [],
   "source": [
    "# append a line to previous line if its not starting in stanard format\n",
    "with open('..\\..\\dataExport\\LOGdata\\log_2022_4_20.csv', 'r+', encoding=\"utf-8\") as file:\n",
    "    text = str();\n",
    "    for line in file:\n",
    "        if line[0:3] == \"202\":\n",
    "            text = text + '\\n';\n",
    "        text = text + line.strip();\n",
    "    file.seek(0);\n",
    "    file.write(text);"
   ]
  },
  {
   "cell_type": "code",
   "execution_count": 112,
   "metadata": {},
   "outputs": [],
   "source": [
    "file_name = '..\\..\\dataExport\\LOGdata\\log_2022_4_20.csv'\n",
    "log_rawDF = pd.read_csv(file_name, sep='*')"
   ]
  },
  {
   "cell_type": "code",
   "execution_count": 113,
   "metadata": {},
   "outputs": [
    {
     "data": {
      "text/html": [
       "<div>\n",
       "<style scoped>\n",
       "    .dataframe tbody tr th:only-of-type {\n",
       "        vertical-align: middle;\n",
       "    }\n",
       "\n",
       "    .dataframe tbody tr th {\n",
       "        vertical-align: top;\n",
       "    }\n",
       "\n",
       "    .dataframe thead th {\n",
       "        text-align: right;\n",
       "    }\n",
       "</style>\n",
       "<table border=\"1\" class=\"dataframe\">\n",
       "  <thead>\n",
       "    <tr style=\"text-align: right;\">\n",
       "      <th></th>\n",
       "      <th>Date_Time</th>\n",
       "      <th>Time</th>\n",
       "      <th>MicroSec</th>\n",
       "      <th>Type</th>\n",
       "      <th>Unit</th>\n",
       "      <th>Parameter</th>\n",
       "      <th>Message</th>\n",
       "      <th>Value1</th>\n",
       "      <th>Value2</th>\n",
       "    </tr>\n",
       "  </thead>\n",
       "  <tbody>\n",
       "    <tr>\n",
       "      <th>0</th>\n",
       "      <td>2021-4-20 13:0:13</td>\n",
       "      <td>1618916413</td>\n",
       "      <td>613129</td>\n",
       "      <td>4</td>\n",
       "      <td>FPC11_FPP11</td>\n",
       "      <td>Arduino</td>\n",
       "      <td>more than 2 communication restarts, try powerd...</td>\n",
       "      <td>NaN</td>\n",
       "      <td>NaN</td>\n",
       "    </tr>\n",
       "    <tr>\n",
       "      <th>1</th>\n",
       "      <td>2021-4-20 13:0:57</td>\n",
       "      <td>1618916457</td>\n",
       "      <td>9327</td>\n",
       "      <td>4</td>\n",
       "      <td>FPC11_FPP11</td>\n",
       "      <td>Arduino</td>\n",
       "      <td>more than 2 communication restarts, try powerd...</td>\n",
       "      <td>NaN</td>\n",
       "      <td>NaN</td>\n",
       "    </tr>\n",
       "    <tr>\n",
       "      <th>2</th>\n",
       "      <td>2021-4-20 13:1:38</td>\n",
       "      <td>1618916498</td>\n",
       "      <td>812633</td>\n",
       "      <td>4</td>\n",
       "      <td>FPC11_FPP11</td>\n",
       "      <td>Arduino</td>\n",
       "      <td>more than 2 communication restarts, try powerd...</td>\n",
       "      <td>NaN</td>\n",
       "      <td>NaN</td>\n",
       "    </tr>\n",
       "    <tr>\n",
       "      <th>3</th>\n",
       "      <td>2021-4-20 13:2:20</td>\n",
       "      <td>1618916540</td>\n",
       "      <td>214501</td>\n",
       "      <td>4</td>\n",
       "      <td>FPC11_FPP11</td>\n",
       "      <td>Arduino</td>\n",
       "      <td>more than 2 communication restarts, try powerd...</td>\n",
       "      <td>NaN</td>\n",
       "      <td>NaN</td>\n",
       "    </tr>\n",
       "    <tr>\n",
       "      <th>4</th>\n",
       "      <td>2021-4-20 13:3:3</td>\n",
       "      <td>1618916583</td>\n",
       "      <td>212528</td>\n",
       "      <td>4</td>\n",
       "      <td>FPC11_FPP11</td>\n",
       "      <td>Arduino</td>\n",
       "      <td>more than 2 communication restarts, try powerd...</td>\n",
       "      <td>NaN</td>\n",
       "      <td>NaN</td>\n",
       "    </tr>\n",
       "  </tbody>\n",
       "</table>\n",
       "</div>"
      ],
      "text/plain": [
       "           Date_Time        Time  MicroSec  Type         Unit Parameter  \\\n",
       "0  2021-4-20 13:0:13  1618916413    613129     4  FPC11_FPP11   Arduino   \n",
       "1  2021-4-20 13:0:57  1618916457      9327     4  FPC11_FPP11   Arduino   \n",
       "2  2021-4-20 13:1:38  1618916498    812633     4  FPC11_FPP11   Arduino   \n",
       "3  2021-4-20 13:2:20  1618916540    214501     4  FPC11_FPP11   Arduino   \n",
       "4   2021-4-20 13:3:3  1618916583    212528     4  FPC11_FPP11   Arduino   \n",
       "\n",
       "                                             Message Value1 Value2  \n",
       "0  more than 2 communication restarts, try powerd...    NaN    NaN  \n",
       "1  more than 2 communication restarts, try powerd...    NaN    NaN  \n",
       "2  more than 2 communication restarts, try powerd...    NaN    NaN  \n",
       "3  more than 2 communication restarts, try powerd...    NaN    NaN  \n",
       "4  more than 2 communication restarts, try powerd...    NaN    NaN  "
      ]
     },
     "execution_count": 113,
     "metadata": {},
     "output_type": "execute_result"
    }
   ],
   "source": [
    "log_rawDF.head()"
   ]
  },
  {
   "cell_type": "code",
   "execution_count": 114,
   "metadata": {},
   "outputs": [
    {
     "name": "stdout",
     "output_type": "stream",
     "text": [
      "(865668, 9)\n"
     ]
    }
   ],
   "source": [
    "print(log_rawDF.shape)"
   ]
  },
  {
   "cell_type": "code",
   "execution_count": 115,
   "metadata": {},
   "outputs": [
    {
     "name": "stdout",
     "output_type": "stream",
     "text": [
      "True\n",
      "824890\n"
     ]
    }
   ],
   "source": [
    "print(log_rawDF.isnull().values.any())\n",
    "print(log_rawDF.isnull().sum().sum())"
   ]
  },
  {
   "cell_type": "code",
   "execution_count": 116,
   "metadata": {},
   "outputs": [
    {
     "name": "stdout",
     "output_type": "stream",
     "text": [
      "<class 'pandas.core.frame.DataFrame'>\n",
      "RangeIndex: 865668 entries, 0 to 865667\n",
      "Data columns (total 9 columns):\n",
      " #   Column     Non-Null Count   Dtype \n",
      "---  ------     --------------   ----- \n",
      " 0   Date_Time  865668 non-null  object\n",
      " 1   Time       865668 non-null  int64 \n",
      " 2   MicroSec   865668 non-null  int64 \n",
      " 3   Type       865668 non-null  int64 \n",
      " 4   Unit       865668 non-null  object\n",
      " 5   Parameter  864368 non-null  object\n",
      " 6   Message    865668 non-null  object\n",
      " 7   Value1     411877 non-null  object\n",
      " 8   Value2     495869 non-null  object\n",
      "dtypes: int64(3), object(6)\n",
      "memory usage: 59.4+ MB\n"
     ]
    }
   ],
   "source": [
    "log_rawDF.info()"
   ]
  },
  {
   "cell_type": "code",
   "execution_count": 117,
   "metadata": {},
   "outputs": [
    {
     "data": {
      "text/plain": [
       "T10                 203861\n",
       "Arduino             102024\n",
       "feeding              80955\n",
       "calculations         78184\n",
       "AutoTemplateSync     49465\n",
       "                     ...  \n",
       "waste                    2\n",
       "T41                      2\n",
       "T44                      2\n",
       "T45                      2\n",
       "V42                      2\n",
       "Name: Parameter, Length: 162, dtype: int64"
      ]
     },
     "execution_count": 117,
     "metadata": {},
     "output_type": "execute_result"
    }
   ],
   "source": [
    "log_rawDF['Parameter'].value_counts()"
   ]
  },
  {
   "cell_type": "code",
   "execution_count": 118,
   "metadata": {},
   "outputs": [
    {
     "data": {
      "text/plain": [
       "162"
      ]
     },
     "execution_count": 118,
     "metadata": {},
     "output_type": "execute_result"
    }
   ],
   "source": [
    "log_rawDF['Parameter'].nunique()"
   ]
  },
  {
   "cell_type": "code",
   "execution_count": 119,
   "metadata": {},
   "outputs": [
    {
     "name": "stdout",
     "output_type": "stream",
     "text": [
      "['Arduino' 'program' 'T61' 'water' 'T10' 'Reactor' 'T71' 'pneumatic'\n",
      " 'autoSyncMonitor' 'T42A' 'harvest' 'calculations' 'P1L' 'feeding' 'T64'\n",
      " 'T42' 'T53' 'T51' 'T73' 'T74' 'T65' 'T63' 'T72' 'T52' 'T54' 'PT1_V4'\n",
      " 'T55' 'T43' 'LEDlighting' 'RM29' 'RM6' 'V74' nan 'RM12' 'RM13' 'RM14'\n",
      " 'RM15' 'RM16' 'RM17' 'RM19' 'RM2' 'RM21' 'RM22' 'RM23' 'T41A' 'T43A'\n",
      " 'RM35' 'RM4' 'RM5' 'RM7' 'P42' 'RM1' 'RM30' 'Arduino_QG' 'Arduino_pH'\n",
      " 'V3' 'P1R' 'P2R' 'CO2_V2' 'R1' 'PTdiff_K2' 'L1W' 'Arduino_TT1'\n",
      " 'Arduino_LT1' 'Arduino1_LT52' 'Arduino2_LT72' 'Arduino1_LT41'\n",
      " 'Arduino2_LT61' 'AutoLink' 'P43' 'V42' 'P10' 'V11' 'V8' 'LT1' 'RM3'\n",
      " 'RM11' 'RM8' 'M1' 'P2L' 'V61' 'P11' 'Recipes' 'Products' 'L1' 'V6' 'V1'\n",
      " 'V72' 'chiller' 'T62' 'V71' 'V62' 'P12' 'V43' 'L1FR' 'L1R' 'L1B' 'LT10'\n",
      " 'M10' 'V63' 'RM18' 'Arduino1' 'V52' 'V64' 'PT10' 'TT0' 'waste' 'V51'\n",
      " 'RM20' 'RM33' 'AutoTemplateSync' 'Arduino2_LT73' 'Arduino_CO2'\n",
      " 'Arduino2_LT63' 'Arduino2_LT65' 'Arduino1_LT53' 'Arduino2_LT64'\n",
      " 'Arduino2_LT75' 'Arduino1_LT54' 'Arduino1_LT45' 'Arduino2_LT74'\n",
      " 'Arduino1_LT55' 'Arduino2_LT10' 'Arduino2_LT71' 'Arduino_TT0'\n",
      " 'Arduino1_LT42' 'Arduino1_LT43' 'Arduino1_LT51' 'Arduino2_LT62'\n",
      " 'Arduino2' 'triggers' 'harvestTank' 'RM10' 'RM24' 'RM25' 'RM26' 'RM27'\n",
      " 'RM28' 'RM31' 'RM32' 'RM34' 'RM36' 'RM37' 'RM38' 'RM39' 'RM40' 'RM9'\n",
      " 'Arduino_QR' 'Arduino_QB' 'Arduino_QC' 'P1' 'P2' 'Arduino_PT1'\n",
      " 'Arduino_PT2' 'Arduino_FT2' 'Arduino_QT' 'T75' 'T41' 'T44' 'T45'\n",
      " 'Arduino1_PT10' 'Arduino1_PT11' 'Arduino2_noInUse']\n",
      "<class 'numpy.ndarray'>\n"
     ]
    }
   ],
   "source": [
    "log_parameters = log_rawDF['Parameter'].unique()\n",
    "print(log_parameters)\n",
    "print(type(log_parameters))"
   ]
  },
  {
   "cell_type": "code",
   "execution_count": 122,
   "metadata": {},
   "outputs": [
    {
     "name": "stdout",
     "output_type": "stream",
     "text": [
      "[4 3 2 5 6 1]\n"
     ]
    }
   ],
   "source": [
    "log_type = log_rawDF['Type'].unique()\n",
    "print(log_type)"
   ]
  },
  {
   "cell_type": "code",
   "execution_count": 123,
   "metadata": {},
   "outputs": [
    {
     "data": {
      "text/plain": [
       "2    516084\n",
       "1    202503\n",
       "4     67915\n",
       "6     49397\n",
       "5     18991\n",
       "3     10778\n",
       "Name: Type, dtype: int64"
      ]
     },
     "execution_count": 123,
     "metadata": {},
     "output_type": "execute_result"
    }
   ],
   "source": [
    "log_rawDF['Type'].value_counts()"
   ]
  },
  {
   "cell_type": "code",
   "execution_count": 124,
   "metadata": {},
   "outputs": [
    {
     "data": {
      "text/plain": [
       "0"
      ]
     },
     "execution_count": 124,
     "metadata": {},
     "output_type": "execute_result"
    }
   ],
   "source": [
    "log_rawDF['Type'].isna().sum()"
   ]
  },
  {
   "cell_type": "code",
   "execution_count": 125,
   "metadata": {},
   "outputs": [
    {
     "data": {
      "text/plain": [
       "[]"
      ]
     },
     "execution_count": 125,
     "metadata": {},
     "output_type": "execute_result"
    }
   ],
   "source": [
    "log_rawDF[log_rawDF['Type'].isnull()].index.tolist()"
   ]
  },
  {
   "cell_type": "code",
   "execution_count": 126,
   "metadata": {},
   "outputs": [
    {
     "name": "stdout",
     "output_type": "stream",
     "text": [
      "['FPC11_FPP11' 'FPC14' 'FFU' 'FPC22' 'FPC21_AUT21' 'FPC21' 'FPC23' 'FPC13'\n",
      " 'FPC24' 'FPC31' 'FPC23_FPP23' 'FPC41' 'FPC42' 'FPC11' 'Product'\n",
      " '&lt;EVAL&gt;' 'FPC21_FPP21' 'FPC13_FPP13' 'FPC24_FPP24' 'FFP_FFP'\n",
      " 'FPC31_FPP31' 'FPC22_FPP22' 'FPC12' 'FPP11' 'FPC14_FPP14' 'FPP21' 'FPP13'\n",
      " 'FPP14' 'FPP' 'FPC12_FPP' 'FPP31' 'docProduction' 'Dashboard' 'FFP_AUTFU'\n",
      " 'FPC13_AUT13' 'FPC22_AUT22' 'FPC11_AUT11' 'FPC12_AUT' 'FPC31_AUT31'\n",
      " 'FPC24_AUT24' 'FPC23_AUT23' 'FFU_harvestTank_DoseRequests'\n",
      " 'FFU_T10_RecipeRequests' 'scheduler' 'ProductionTanks'\n",
      " 'harvestTank-TotalTime' 'water-TotalTime' 'RM36-TotalTime'\n",
      " 'AllComponentTanks' 'T10-TotalTime' 'cntrTankDetail' 'T71-TotalTime'\n",
      " 'RM14-TotalTime' 'RM11-TotalTime' 'Reactor-TotalTime' 'RM38-TotalTime'\n",
      " 'T64-TotalTime' 'RM31-TotalTime' 'RM3-TotalTime'\n",
      " 'docPoduction-FF-TotalTime' 'RM37-TotalTime' 'T43A-TotalTime'\n",
      " 'RM6-TotalTime' 'RM23-TotalTime' 'RM1-TotalTime' 'ComponentTanks'\n",
      " 'RawMaterialTanks' 'FPC14_AUT14' 'dashboard']\n",
      "69\n"
     ]
    }
   ],
   "source": [
    "log_unit = log_rawDF['Unit'].unique()\n",
    "print(log_unit)\n",
    "print(log_rawDF['Unit'].nunique())"
   ]
  },
  {
   "cell_type": "code",
   "execution_count": 127,
   "metadata": {},
   "outputs": [
    {
     "name": "stdout",
     "output_type": "stream",
     "text": [
      "0\n",
      "0\n",
      "1300\n"
     ]
    }
   ],
   "source": [
    "print(log_rawDF['Type'].isna().sum())\n",
    "print(log_rawDF['Unit'].isna().sum())\n",
    "print(log_rawDF['Parameter'].isna().sum())"
   ]
  },
  {
   "cell_type": "code",
   "execution_count": 128,
   "metadata": {},
   "outputs": [
    {
     "data": {
      "text/html": [
       "<div>\n",
       "<style scoped>\n",
       "    .dataframe tbody tr th:only-of-type {\n",
       "        vertical-align: middle;\n",
       "    }\n",
       "\n",
       "    .dataframe tbody tr th {\n",
       "        vertical-align: top;\n",
       "    }\n",
       "\n",
       "    .dataframe thead th {\n",
       "        text-align: right;\n",
       "    }\n",
       "</style>\n",
       "<table border=\"1\" class=\"dataframe\">\n",
       "  <thead>\n",
       "    <tr style=\"text-align: right;\">\n",
       "      <th></th>\n",
       "      <th>Date_Time</th>\n",
       "      <th>Time</th>\n",
       "      <th>MicroSec</th>\n",
       "      <th>Type</th>\n",
       "      <th>Unit</th>\n",
       "      <th>Parameter</th>\n",
       "      <th>Message</th>\n",
       "      <th>Value1</th>\n",
       "      <th>Value2</th>\n",
       "    </tr>\n",
       "  </thead>\n",
       "  <tbody>\n",
       "    <tr>\n",
       "      <th>0</th>\n",
       "      <td>2021-4-20 13:0:13</td>\n",
       "      <td>1618916413</td>\n",
       "      <td>613129</td>\n",
       "      <td>4</td>\n",
       "      <td>FPC11_FPP11</td>\n",
       "      <td>Arduino</td>\n",
       "      <td>more than 2 communication restarts, try powerd...</td>\n",
       "      <td>NaN</td>\n",
       "      <td>NaN</td>\n",
       "    </tr>\n",
       "    <tr>\n",
       "      <th>1</th>\n",
       "      <td>2021-4-20 13:0:57</td>\n",
       "      <td>1618916457</td>\n",
       "      <td>9327</td>\n",
       "      <td>4</td>\n",
       "      <td>FPC11_FPP11</td>\n",
       "      <td>Arduino</td>\n",
       "      <td>more than 2 communication restarts, try powerd...</td>\n",
       "      <td>NaN</td>\n",
       "      <td>NaN</td>\n",
       "    </tr>\n",
       "    <tr>\n",
       "      <th>2</th>\n",
       "      <td>2021-4-20 13:1:38</td>\n",
       "      <td>1618916498</td>\n",
       "      <td>812633</td>\n",
       "      <td>4</td>\n",
       "      <td>FPC11_FPP11</td>\n",
       "      <td>Arduino</td>\n",
       "      <td>more than 2 communication restarts, try powerd...</td>\n",
       "      <td>NaN</td>\n",
       "      <td>NaN</td>\n",
       "    </tr>\n",
       "    <tr>\n",
       "      <th>3</th>\n",
       "      <td>2021-4-20 13:2:20</td>\n",
       "      <td>1618916540</td>\n",
       "      <td>214501</td>\n",
       "      <td>4</td>\n",
       "      <td>FPC11_FPP11</td>\n",
       "      <td>Arduino</td>\n",
       "      <td>more than 2 communication restarts, try powerd...</td>\n",
       "      <td>NaN</td>\n",
       "      <td>NaN</td>\n",
       "    </tr>\n",
       "    <tr>\n",
       "      <th>4</th>\n",
       "      <td>2021-4-20 13:3:3</td>\n",
       "      <td>1618916583</td>\n",
       "      <td>212528</td>\n",
       "      <td>4</td>\n",
       "      <td>FPC11_FPP11</td>\n",
       "      <td>Arduino</td>\n",
       "      <td>more than 2 communication restarts, try powerd...</td>\n",
       "      <td>NaN</td>\n",
       "      <td>NaN</td>\n",
       "    </tr>\n",
       "    <tr>\n",
       "      <th>...</th>\n",
       "      <td>...</td>\n",
       "      <td>...</td>\n",
       "      <td>...</td>\n",
       "      <td>...</td>\n",
       "      <td>...</td>\n",
       "      <td>...</td>\n",
       "      <td>...</td>\n",
       "      <td>...</td>\n",
       "      <td>...</td>\n",
       "    </tr>\n",
       "    <tr>\n",
       "      <th>865663</th>\n",
       "      <td>2022-4-20 13:0:24</td>\n",
       "      <td>1650452424</td>\n",
       "      <td>941081</td>\n",
       "      <td>1</td>\n",
       "      <td>FPC23_FPP23</td>\n",
       "      <td>Arduino</td>\n",
       "      <td>CO2 error value changed from 0.13 to 997</td>\n",
       "      <td>NaN</td>\n",
       "      <td>NaN</td>\n",
       "    </tr>\n",
       "    <tr>\n",
       "      <th>865664</th>\n",
       "      <td>2022-4-20 13:0:26</td>\n",
       "      <td>1650452426</td>\n",
       "      <td>155485</td>\n",
       "      <td>1</td>\n",
       "      <td>FPC23_AUT23</td>\n",
       "      <td>autoSyncMonitor</td>\n",
       "      <td>master of autoTemplateSync not found =&amp;gt; no ...</td>\n",
       "      <td>NaN</td>\n",
       "      <td>NaN</td>\n",
       "    </tr>\n",
       "    <tr>\n",
       "      <th>865665</th>\n",
       "      <td>2022-4-20 13:0:26</td>\n",
       "      <td>1650452426</td>\n",
       "      <td>159772</td>\n",
       "      <td>1</td>\n",
       "      <td>FPC23_AUT23</td>\n",
       "      <td>autoSyncMonitor</td>\n",
       "      <td>Error!check autoTemplateSync template failed!</td>\n",
       "      <td>NaN</td>\n",
       "      <td>NaN</td>\n",
       "    </tr>\n",
       "    <tr>\n",
       "      <th>865666</th>\n",
       "      <td>2022-4-20 13:0:26</td>\n",
       "      <td>1650452426</td>\n",
       "      <td>164723</td>\n",
       "      <td>1</td>\n",
       "      <td>FPC23_AUT23</td>\n",
       "      <td>autoSyncMonitor</td>\n",
       "      <td>Timing exceeded warning level 11 &amp;gt; 10</td>\n",
       "      <td>NaN</td>\n",
       "      <td>NaN</td>\n",
       "    </tr>\n",
       "    <tr>\n",
       "      <th>865667</th>\n",
       "      <td>2022-4-20 13:0:27</td>\n",
       "      <td>1650452427</td>\n",
       "      <td>935666</td>\n",
       "      <td>1</td>\n",
       "      <td>FPC23_FPP23</td>\n",
       "      <td>Arduino</td>\n",
       "      <td>CO2 error resolved from 997 to 0.13</td>\n",
       "      <td>NaN</td>\n",
       "      <td>NaN</td>\n",
       "    </tr>\n",
       "  </tbody>\n",
       "</table>\n",
       "<p>864368 rows × 9 columns</p>\n",
       "</div>"
      ],
      "text/plain": [
       "                Date_Time        Time  MicroSec  Type         Unit  \\\n",
       "0       2021-4-20 13:0:13  1618916413    613129     4  FPC11_FPP11   \n",
       "1       2021-4-20 13:0:57  1618916457      9327     4  FPC11_FPP11   \n",
       "2       2021-4-20 13:1:38  1618916498    812633     4  FPC11_FPP11   \n",
       "3       2021-4-20 13:2:20  1618916540    214501     4  FPC11_FPP11   \n",
       "4        2021-4-20 13:3:3  1618916583    212528     4  FPC11_FPP11   \n",
       "...                   ...         ...       ...   ...          ...   \n",
       "865663  2022-4-20 13:0:24  1650452424    941081     1  FPC23_FPP23   \n",
       "865664  2022-4-20 13:0:26  1650452426    155485     1  FPC23_AUT23   \n",
       "865665  2022-4-20 13:0:26  1650452426    159772     1  FPC23_AUT23   \n",
       "865666  2022-4-20 13:0:26  1650452426    164723     1  FPC23_AUT23   \n",
       "865667  2022-4-20 13:0:27  1650452427    935666     1  FPC23_FPP23   \n",
       "\n",
       "              Parameter                                            Message  \\\n",
       "0               Arduino  more than 2 communication restarts, try powerd...   \n",
       "1               Arduino  more than 2 communication restarts, try powerd...   \n",
       "2               Arduino  more than 2 communication restarts, try powerd...   \n",
       "3               Arduino  more than 2 communication restarts, try powerd...   \n",
       "4               Arduino  more than 2 communication restarts, try powerd...   \n",
       "...                 ...                                                ...   \n",
       "865663          Arduino           CO2 error value changed from 0.13 to 997   \n",
       "865664  autoSyncMonitor  master of autoTemplateSync not found =&gt; no ...   \n",
       "865665  autoSyncMonitor      Error!check autoTemplateSync template failed!   \n",
       "865666  autoSyncMonitor           Timing exceeded warning level 11 &gt; 10   \n",
       "865667          Arduino                CO2 error resolved from 997 to 0.13   \n",
       "\n",
       "       Value1 Value2  \n",
       "0         NaN    NaN  \n",
       "1         NaN    NaN  \n",
       "2         NaN    NaN  \n",
       "3         NaN    NaN  \n",
       "4         NaN    NaN  \n",
       "...       ...    ...  \n",
       "865663    NaN    NaN  \n",
       "865664    NaN    NaN  \n",
       "865665    NaN    NaN  \n",
       "865666    NaN    NaN  \n",
       "865667    NaN    NaN  \n",
       "\n",
       "[864368 rows x 9 columns]"
      ]
     },
     "execution_count": 128,
     "metadata": {},
     "output_type": "execute_result"
    }
   ],
   "source": [
    "log_rawDF = log_rawDF.dropna(subset=['Parameter'])\n",
    "log_rawDF"
   ]
  },
  {
   "cell_type": "code",
   "execution_count": 129,
   "metadata": {},
   "outputs": [
    {
     "name": "stdout",
     "output_type": "stream",
     "text": [
      "0\n",
      "0\n",
      "0\n"
     ]
    }
   ],
   "source": [
    "print(log_rawDF['Type'].isna().sum())\n",
    "print(log_rawDF['Unit'].isna().sum())\n",
    "print(log_rawDF['Parameter'].isna().sum())"
   ]
  },
  {
   "cell_type": "code",
   "execution_count": 130,
   "metadata": {},
   "outputs": [
    {
     "data": {
      "text/plain": [
       "(864368, 9)"
      ]
     },
     "execution_count": 130,
     "metadata": {},
     "output_type": "execute_result"
    }
   ],
   "source": [
    "log_rawDF.shape"
   ]
  },
  {
   "cell_type": "code",
   "execution_count": 131,
   "metadata": {},
   "outputs": [
    {
     "name": "stdout",
     "output_type": "stream",
     "text": [
      "['FPC11_FPP11' 'FPC14' 'FFU' 'FPC22' 'FPC21_AUT21' 'FPC21' 'FPC23' 'FPC13'\n",
      " 'FPC24' 'FPC31' 'FPC23_FPP23' 'FPC41' 'FPC42' 'FPC11' 'Product'\n",
      " 'FPC21_FPP21' 'FPC13_FPP13' 'FPC24_FPP24' 'FFP_FFP' 'FPC31_FPP31'\n",
      " 'FPC22_FPP22' 'FPC12' 'FPP11' 'FPC14_FPP14' 'FPP21' 'FPP13' 'FPP14' 'FPP'\n",
      " 'FPC12_FPP' 'FPP31' 'FFP_AUTFU' 'FPC13_AUT13' 'FPC22_AUT22' 'FPC11_AUT11'\n",
      " 'FPC12_AUT' 'FPC31_AUT31' 'FPC24_AUT24' 'FPC23_AUT23' 'scheduler'\n",
      " 'FPC14_AUT14']\n",
      "40\n"
     ]
    }
   ],
   "source": [
    "log_unit = log_rawDF['Unit'].unique()\n",
    "print(log_unit)\n",
    "print(log_rawDF['Unit'].nunique())"
   ]
  },
  {
   "cell_type": "code",
   "execution_count": 132,
   "metadata": {},
   "outputs": [
    {
     "name": "stdout",
     "output_type": "stream",
     "text": [
      "['Arduino' 'program' 'T61' 'water' 'T10' 'Reactor' 'T71' 'pneumatic'\n",
      " 'autoSyncMonitor' 'T42A' 'harvest' 'calculations' 'P1L' 'feeding' 'T64'\n",
      " 'T42' 'T53' 'T51' 'T73' 'T74' 'T65' 'T63' 'T72' 'T52' 'T54' 'PT1_V4'\n",
      " 'T55' 'T43' 'LEDlighting' 'RM29' 'RM6' 'V74' 'RM12' 'RM13' 'RM14' 'RM15'\n",
      " 'RM16' 'RM17' 'RM19' 'RM2' 'RM21' 'RM22' 'RM23' 'T41A' 'T43A' 'RM35'\n",
      " 'RM4' 'RM5' 'RM7' 'P42' 'RM1' 'RM30' 'Arduino_QG' 'Arduino_pH' 'V3' 'P1R'\n",
      " 'P2R' 'CO2_V2' 'R1' 'PTdiff_K2' 'L1W' 'Arduino_TT1' 'Arduino_LT1'\n",
      " 'Arduino1_LT52' 'Arduino2_LT72' 'Arduino1_LT41' 'Arduino2_LT61'\n",
      " 'AutoLink' 'P43' 'V42' 'P10' 'V11' 'V8' 'LT1' 'RM3' 'RM11' 'RM8' 'M1'\n",
      " 'P2L' 'V61' 'P11' 'Recipes' 'Products' 'L1' 'V6' 'V1' 'V72' 'chiller'\n",
      " 'T62' 'V71' 'V62' 'P12' 'V43' 'L1FR' 'L1R' 'L1B' 'LT10' 'M10' 'V63'\n",
      " 'RM18' 'Arduino1' 'V52' 'V64' 'PT10' 'TT0' 'waste' 'V51' 'RM20' 'RM33'\n",
      " 'AutoTemplateSync' 'Arduino2_LT73' 'Arduino_CO2' 'Arduino2_LT63'\n",
      " 'Arduino2_LT65' 'Arduino1_LT53' 'Arduino2_LT64' 'Arduino2_LT75'\n",
      " 'Arduino1_LT54' 'Arduino1_LT45' 'Arduino2_LT74' 'Arduino1_LT55'\n",
      " 'Arduino2_LT10' 'Arduino2_LT71' 'Arduino_TT0' 'Arduino1_LT42'\n",
      " 'Arduino1_LT43' 'Arduino1_LT51' 'Arduino2_LT62' 'Arduino2' 'triggers'\n",
      " 'harvestTank' 'RM10' 'RM24' 'RM25' 'RM26' 'RM27' 'RM28' 'RM31' 'RM32'\n",
      " 'RM34' 'RM36' 'RM37' 'RM38' 'RM39' 'RM40' 'RM9' 'Arduino_QR' 'Arduino_QB'\n",
      " 'Arduino_QC' 'P1' 'P2' 'Arduino_PT1' 'Arduino_PT2' 'Arduino_FT2'\n",
      " 'Arduino_QT' 'T75' 'T41' 'T44' 'T45' 'Arduino1_PT10' 'Arduino1_PT11'\n",
      " 'Arduino2_noInUse']\n",
      "162\n"
     ]
    }
   ],
   "source": [
    "log_parameter = log_rawDF['Parameter'].unique()\n",
    "print(log_parameter)\n",
    "print(log_rawDF['Parameter'].nunique())"
   ]
  },
  {
   "cell_type": "code",
   "execution_count": 133,
   "metadata": {},
   "outputs": [
    {
     "data": {
      "text/plain": [
       "False    847066\n",
       "True      17302\n",
       "Name: Unit, dtype: int64"
      ]
     },
     "execution_count": 133,
     "metadata": {},
     "output_type": "execute_result"
    }
   ],
   "source": [
    "(log_rawDF['Unit']=='FPC11').value_counts()"
   ]
  },
  {
   "cell_type": "code",
   "execution_count": 134,
   "metadata": {},
   "outputs": [
    {
     "data": {
      "text/plain": [
       "Date_Time         0\n",
       "Time              0\n",
       "MicroSec          0\n",
       "Type              0\n",
       "Unit              0\n",
       "Parameter         0\n",
       "Message           0\n",
       "Value1       453017\n",
       "Value2       368853\n",
       "dtype: int64"
      ]
     },
     "execution_count": 134,
     "metadata": {},
     "output_type": "execute_result"
    }
   ],
   "source": [
    "log_rawDF.isnull().sum()"
   ]
  },
  {
   "cell_type": "code",
   "execution_count": 135,
   "metadata": {},
   "outputs": [
    {
     "name": "stdout",
     "output_type": "stream",
     "text": [
      "<class 'pandas.core.frame.DataFrame'>\n",
      "Int64Index: 864368 entries, 0 to 865667\n",
      "Data columns (total 9 columns):\n",
      " #   Column     Non-Null Count   Dtype \n",
      "---  ------     --------------   ----- \n",
      " 0   Date_Time  864368 non-null  object\n",
      " 1   Time       864368 non-null  int64 \n",
      " 2   MicroSec   864368 non-null  int64 \n",
      " 3   Type       864368 non-null  int64 \n",
      " 4   Unit       864368 non-null  object\n",
      " 5   Parameter  864368 non-null  object\n",
      " 6   Message    864368 non-null  object\n",
      " 7   Value1     411351 non-null  object\n",
      " 8   Value2     495515 non-null  object\n",
      "dtypes: int64(3), object(6)\n",
      "memory usage: 65.9+ MB\n"
     ]
    }
   ],
   "source": [
    "log_rawDF.info()"
   ]
  },
  {
   "cell_type": "code",
   "execution_count": 136,
   "metadata": {},
   "outputs": [],
   "source": [
    "log_rawDF.to_csv(file_name, index = False, sep='*')"
   ]
  },
  {
   "cell_type": "code",
   "execution_count": 141,
   "metadata": {},
   "outputs": [],
   "source": [
    "log_rawDF = pd.read_csv(file_name, sep='*')"
   ]
  },
  {
   "cell_type": "code",
   "execution_count": 140,
   "metadata": {},
   "outputs": [
    {
     "data": {
      "text/html": [
       "<div>\n",
       "<style scoped>\n",
       "    .dataframe tbody tr th:only-of-type {\n",
       "        vertical-align: middle;\n",
       "    }\n",
       "\n",
       "    .dataframe tbody tr th {\n",
       "        vertical-align: top;\n",
       "    }\n",
       "\n",
       "    .dataframe thead th {\n",
       "        text-align: right;\n",
       "    }\n",
       "</style>\n",
       "<table border=\"1\" class=\"dataframe\">\n",
       "  <thead>\n",
       "    <tr style=\"text-align: right;\">\n",
       "      <th></th>\n",
       "      <th>Date_Time</th>\n",
       "      <th>Time</th>\n",
       "      <th>MicroSec</th>\n",
       "      <th>Type</th>\n",
       "      <th>Unit</th>\n",
       "      <th>Parameter</th>\n",
       "      <th>Message</th>\n",
       "      <th>Value1</th>\n",
       "      <th>Value2</th>\n",
       "    </tr>\n",
       "  </thead>\n",
       "  <tbody>\n",
       "    <tr>\n",
       "      <th>0</th>\n",
       "      <td>2021-4-20 13:0:13</td>\n",
       "      <td>1618916413</td>\n",
       "      <td>613129</td>\n",
       "      <td>4</td>\n",
       "      <td>FPC11_FPP11</td>\n",
       "      <td>Arduino</td>\n",
       "      <td>more than 2 communication restarts, try powerd...</td>\n",
       "      <td>NaN</td>\n",
       "      <td>NaN</td>\n",
       "    </tr>\n",
       "    <tr>\n",
       "      <th>1</th>\n",
       "      <td>2021-4-20 13:0:57</td>\n",
       "      <td>1618916457</td>\n",
       "      <td>9327</td>\n",
       "      <td>4</td>\n",
       "      <td>FPC11_FPP11</td>\n",
       "      <td>Arduino</td>\n",
       "      <td>more than 2 communication restarts, try powerd...</td>\n",
       "      <td>NaN</td>\n",
       "      <td>NaN</td>\n",
       "    </tr>\n",
       "    <tr>\n",
       "      <th>2</th>\n",
       "      <td>2021-4-20 13:1:38</td>\n",
       "      <td>1618916498</td>\n",
       "      <td>812633</td>\n",
       "      <td>4</td>\n",
       "      <td>FPC11_FPP11</td>\n",
       "      <td>Arduino</td>\n",
       "      <td>more than 2 communication restarts, try powerd...</td>\n",
       "      <td>NaN</td>\n",
       "      <td>NaN</td>\n",
       "    </tr>\n",
       "    <tr>\n",
       "      <th>3</th>\n",
       "      <td>2021-4-20 13:2:20</td>\n",
       "      <td>1618916540</td>\n",
       "      <td>214501</td>\n",
       "      <td>4</td>\n",
       "      <td>FPC11_FPP11</td>\n",
       "      <td>Arduino</td>\n",
       "      <td>more than 2 communication restarts, try powerd...</td>\n",
       "      <td>NaN</td>\n",
       "      <td>NaN</td>\n",
       "    </tr>\n",
       "    <tr>\n",
       "      <th>4</th>\n",
       "      <td>2021-4-20 13:3:3</td>\n",
       "      <td>1618916583</td>\n",
       "      <td>212528</td>\n",
       "      <td>4</td>\n",
       "      <td>FPC11_FPP11</td>\n",
       "      <td>Arduino</td>\n",
       "      <td>more than 2 communication restarts, try powerd...</td>\n",
       "      <td>NaN</td>\n",
       "      <td>NaN</td>\n",
       "    </tr>\n",
       "    <tr>\n",
       "      <th>...</th>\n",
       "      <td>...</td>\n",
       "      <td>...</td>\n",
       "      <td>...</td>\n",
       "      <td>...</td>\n",
       "      <td>...</td>\n",
       "      <td>...</td>\n",
       "      <td>...</td>\n",
       "      <td>...</td>\n",
       "      <td>...</td>\n",
       "    </tr>\n",
       "    <tr>\n",
       "      <th>864363</th>\n",
       "      <td>2022-4-20 13:0:24</td>\n",
       "      <td>1650452424</td>\n",
       "      <td>941081</td>\n",
       "      <td>1</td>\n",
       "      <td>FPC23_FPP23</td>\n",
       "      <td>Arduino</td>\n",
       "      <td>CO2 error value changed from 0.13 to 997</td>\n",
       "      <td>NaN</td>\n",
       "      <td>NaN</td>\n",
       "    </tr>\n",
       "    <tr>\n",
       "      <th>864364</th>\n",
       "      <td>2022-4-20 13:0:26</td>\n",
       "      <td>1650452426</td>\n",
       "      <td>155485</td>\n",
       "      <td>1</td>\n",
       "      <td>FPC23_AUT23</td>\n",
       "      <td>autoSyncMonitor</td>\n",
       "      <td>master of autoTemplateSync not found =&amp;gt; no ...</td>\n",
       "      <td>NaN</td>\n",
       "      <td>NaN</td>\n",
       "    </tr>\n",
       "    <tr>\n",
       "      <th>864365</th>\n",
       "      <td>2022-4-20 13:0:26</td>\n",
       "      <td>1650452426</td>\n",
       "      <td>159772</td>\n",
       "      <td>1</td>\n",
       "      <td>FPC23_AUT23</td>\n",
       "      <td>autoSyncMonitor</td>\n",
       "      <td>Error!check autoTemplateSync template failed!</td>\n",
       "      <td>NaN</td>\n",
       "      <td>NaN</td>\n",
       "    </tr>\n",
       "    <tr>\n",
       "      <th>864366</th>\n",
       "      <td>2022-4-20 13:0:26</td>\n",
       "      <td>1650452426</td>\n",
       "      <td>164723</td>\n",
       "      <td>1</td>\n",
       "      <td>FPC23_AUT23</td>\n",
       "      <td>autoSyncMonitor</td>\n",
       "      <td>Timing exceeded warning level 11 &amp;gt; 10</td>\n",
       "      <td>NaN</td>\n",
       "      <td>NaN</td>\n",
       "    </tr>\n",
       "    <tr>\n",
       "      <th>864367</th>\n",
       "      <td>2022-4-20 13:0:27</td>\n",
       "      <td>1650452427</td>\n",
       "      <td>935666</td>\n",
       "      <td>1</td>\n",
       "      <td>FPC23_FPP23</td>\n",
       "      <td>Arduino</td>\n",
       "      <td>CO2 error resolved from 997 to 0.13</td>\n",
       "      <td>NaN</td>\n",
       "      <td>NaN</td>\n",
       "    </tr>\n",
       "  </tbody>\n",
       "</table>\n",
       "<p>864368 rows × 9 columns</p>\n",
       "</div>"
      ],
      "text/plain": [
       "                Date_Time        Time  MicroSec  Type         Unit  \\\n",
       "0       2021-4-20 13:0:13  1618916413    613129     4  FPC11_FPP11   \n",
       "1       2021-4-20 13:0:57  1618916457      9327     4  FPC11_FPP11   \n",
       "2       2021-4-20 13:1:38  1618916498    812633     4  FPC11_FPP11   \n",
       "3       2021-4-20 13:2:20  1618916540    214501     4  FPC11_FPP11   \n",
       "4        2021-4-20 13:3:3  1618916583    212528     4  FPC11_FPP11   \n",
       "...                   ...         ...       ...   ...          ...   \n",
       "864363  2022-4-20 13:0:24  1650452424    941081     1  FPC23_FPP23   \n",
       "864364  2022-4-20 13:0:26  1650452426    155485     1  FPC23_AUT23   \n",
       "864365  2022-4-20 13:0:26  1650452426    159772     1  FPC23_AUT23   \n",
       "864366  2022-4-20 13:0:26  1650452426    164723     1  FPC23_AUT23   \n",
       "864367  2022-4-20 13:0:27  1650452427    935666     1  FPC23_FPP23   \n",
       "\n",
       "              Parameter                                            Message  \\\n",
       "0               Arduino  more than 2 communication restarts, try powerd...   \n",
       "1               Arduino  more than 2 communication restarts, try powerd...   \n",
       "2               Arduino  more than 2 communication restarts, try powerd...   \n",
       "3               Arduino  more than 2 communication restarts, try powerd...   \n",
       "4               Arduino  more than 2 communication restarts, try powerd...   \n",
       "...                 ...                                                ...   \n",
       "864363          Arduino           CO2 error value changed from 0.13 to 997   \n",
       "864364  autoSyncMonitor  master of autoTemplateSync not found =&gt; no ...   \n",
       "864365  autoSyncMonitor      Error!check autoTemplateSync template failed!   \n",
       "864366  autoSyncMonitor           Timing exceeded warning level 11 &gt; 10   \n",
       "864367          Arduino                CO2 error resolved from 997 to 0.13   \n",
       "\n",
       "       Value1 Value2  \n",
       "0         NaN    NaN  \n",
       "1         NaN    NaN  \n",
       "2         NaN    NaN  \n",
       "3         NaN    NaN  \n",
       "4         NaN    NaN  \n",
       "...       ...    ...  \n",
       "864363    NaN    NaN  \n",
       "864364    NaN    NaN  \n",
       "864365    NaN    NaN  \n",
       "864366    NaN    NaN  \n",
       "864367    NaN    NaN  \n",
       "\n",
       "[864368 rows x 9 columns]"
      ]
     },
     "execution_count": 140,
     "metadata": {},
     "output_type": "execute_result"
    }
   ],
   "source": [
    "log_rawDF"
   ]
  },
  {
   "cell_type": "code",
   "execution_count": 138,
   "metadata": {},
   "outputs": [
    {
     "name": "stdout",
     "output_type": "stream",
     "text": [
      "<class 'pandas.core.frame.DataFrame'>\n",
      "RangeIndex: 864368 entries, 0 to 864367\n",
      "Data columns (total 9 columns):\n",
      " #   Column     Non-Null Count   Dtype \n",
      "---  ------     --------------   ----- \n",
      " 0   Date_Time  864368 non-null  object\n",
      " 1   Time       864368 non-null  int64 \n",
      " 2   MicroSec   864368 non-null  int64 \n",
      " 3   Type       864368 non-null  int64 \n",
      " 4   Unit       864368 non-null  object\n",
      " 5   Parameter  864368 non-null  object\n",
      " 6   Message    864368 non-null  object\n",
      " 7   Value1     411351 non-null  object\n",
      " 8   Value2     495515 non-null  object\n",
      "dtypes: int64(3), object(6)\n",
      "memory usage: 59.4+ MB\n"
     ]
    }
   ],
   "source": [
    "log_rawDF.info()"
   ]
  },
  {
   "cell_type": "markdown",
   "metadata": {},
   "source": [
    "## Inserting Units and Parameters into mariaDb tables"
   ]
  },
  {
   "cell_type": "code",
   "execution_count": 211,
   "metadata": {},
   "outputs": [],
   "source": [
    "import sys\n",
    "import mariadb"
   ]
  },
  {
   "cell_type": "code",
   "execution_count": 236,
   "metadata": {},
   "outputs": [],
   "source": [
    "try: con = mariadb.connect( \n",
    "    user=\"root\", \n",
    "    password=\"password\", \n",
    "    host=\"localhost\", \n",
    "    port=3306, \n",
    "    database=\"data_dashboard\" \n",
    ")\n",
    "\n",
    "except mariadb.Error as ex: \n",
    "    print(f\"An error occurred while connecting to MariaDB: {ex}\") \n",
    "    sys.exit(1) \n",
    "\n",
    "cur = con.cursor()"
   ]
  },
  {
   "cell_type": "code",
   "execution_count": 213,
   "metadata": {},
   "outputs": [],
   "source": [
    "cur.execute(\"SELECT unit_id, unit_name FROM tbl_unit\")"
   ]
  },
  {
   "cell_type": "code",
   "execution_count": 214,
   "metadata": {},
   "outputs": [
    {
     "name": "stdout",
     "output_type": "stream",
     "text": [
      "ID: {2} unit_name: {'FFP'}\n",
      "ID: {1} unit_name: {'FFU'}\n",
      "ID: {3} unit_name: {'FPC11'}\n",
      "ID: {4} unit_name: {'FPC12'}\n",
      "ID: {5} unit_name: {'FPC13'}\n",
      "ID: {6} unit_name: {'FPC14'}\n",
      "ID: {7} unit_name: {'FPC21'}\n",
      "ID: {8} unit_name: {'FPC22'}\n",
      "ID: {9} unit_name: {'FPC23'}\n",
      "ID: {10} unit_name: {'FPC24'}\n"
     ]
    }
   ],
   "source": [
    "for (unit_id, unit_name) in cur:\n",
    "    print(\"ID:\", {unit_id}, \"unit_name:\", {unit_name})"
   ]
  },
  {
   "cell_type": "code",
   "execution_count": 217,
   "metadata": {},
   "outputs": [],
   "source": [
    "# inserting list of parameters into DB table : tbl_parameters\n",
    "query = 'INSERT INTO tbl_log_parameters (prm_id, prm_name) VALUES (%s, %s)'\n",
    "tuples = pd.Series(log_parameter)\n",
    "tuples = [(index+1, value) for index, value in tuples.items()]"
   ]
  },
  {
   "cell_type": "code",
   "execution_count": 218,
   "metadata": {},
   "outputs": [
    {
     "data": {
      "text/plain": [
       "[(1, 'Arduino'),\n",
       " (2, 'program'),\n",
       " (3, 'T61'),\n",
       " (4, 'water'),\n",
       " (5, 'T10'),\n",
       " (6, 'Reactor'),\n",
       " (7, 'T71'),\n",
       " (8, 'pneumatic'),\n",
       " (9, 'autoSyncMonitor'),\n",
       " (10, 'T42A'),\n",
       " (11, 'harvest'),\n",
       " (12, 'calculations'),\n",
       " (13, 'P1L'),\n",
       " (14, 'feeding'),\n",
       " (15, 'T64'),\n",
       " (16, 'T42'),\n",
       " (17, 'T53'),\n",
       " (18, 'T51'),\n",
       " (19, 'T73'),\n",
       " (20, 'T74'),\n",
       " (21, 'T65'),\n",
       " (22, 'T63'),\n",
       " (23, 'T72'),\n",
       " (24, 'T52'),\n",
       " (25, 'T54'),\n",
       " (26, 'PT1_V4'),\n",
       " (27, 'T55'),\n",
       " (28, 'T43'),\n",
       " (29, 'LEDlighting'),\n",
       " (30, 'RM29'),\n",
       " (31, 'RM6'),\n",
       " (32, 'V74'),\n",
       " (33, 'RM12'),\n",
       " (34, 'RM13'),\n",
       " (35, 'RM14'),\n",
       " (36, 'RM15'),\n",
       " (37, 'RM16'),\n",
       " (38, 'RM17'),\n",
       " (39, 'RM19'),\n",
       " (40, 'RM2'),\n",
       " (41, 'RM21'),\n",
       " (42, 'RM22'),\n",
       " (43, 'RM23'),\n",
       " (44, 'T41A'),\n",
       " (45, 'T43A'),\n",
       " (46, 'RM35'),\n",
       " (47, 'RM4'),\n",
       " (48, 'RM5'),\n",
       " (49, 'RM7'),\n",
       " (50, 'P42'),\n",
       " (51, 'RM1'),\n",
       " (52, 'RM30'),\n",
       " (53, 'Arduino_QG'),\n",
       " (54, 'Arduino_pH'),\n",
       " (55, 'V3'),\n",
       " (56, 'P1R'),\n",
       " (57, 'P2R'),\n",
       " (58, 'CO2_V2'),\n",
       " (59, 'R1'),\n",
       " (60, 'PTdiff_K2'),\n",
       " (61, 'L1W'),\n",
       " (62, 'Arduino_TT1'),\n",
       " (63, 'Arduino_LT1'),\n",
       " (64, 'Arduino1_LT52'),\n",
       " (65, 'Arduino2_LT72'),\n",
       " (66, 'Arduino1_LT41'),\n",
       " (67, 'Arduino2_LT61'),\n",
       " (68, 'AutoLink'),\n",
       " (69, 'P43'),\n",
       " (70, 'V42'),\n",
       " (71, 'P10'),\n",
       " (72, 'V11'),\n",
       " (73, 'V8'),\n",
       " (74, 'LT1'),\n",
       " (75, 'RM3'),\n",
       " (76, 'RM11'),\n",
       " (77, 'RM8'),\n",
       " (78, 'M1'),\n",
       " (79, 'P2L'),\n",
       " (80, 'V61'),\n",
       " (81, 'P11'),\n",
       " (82, 'Recipes'),\n",
       " (83, 'Products'),\n",
       " (84, 'L1'),\n",
       " (85, 'V6'),\n",
       " (86, 'V1'),\n",
       " (87, 'V72'),\n",
       " (88, 'chiller'),\n",
       " (89, 'T62'),\n",
       " (90, 'V71'),\n",
       " (91, 'V62'),\n",
       " (92, 'P12'),\n",
       " (93, 'V43'),\n",
       " (94, 'L1FR'),\n",
       " (95, 'L1R'),\n",
       " (96, 'L1B'),\n",
       " (97, 'LT10'),\n",
       " (98, 'M10'),\n",
       " (99, 'V63'),\n",
       " (100, 'RM18'),\n",
       " (101, 'Arduino1'),\n",
       " (102, 'V52'),\n",
       " (103, 'V64'),\n",
       " (104, 'PT10'),\n",
       " (105, 'TT0'),\n",
       " (106, 'waste'),\n",
       " (107, 'V51'),\n",
       " (108, 'RM20'),\n",
       " (109, 'RM33'),\n",
       " (110, 'AutoTemplateSync'),\n",
       " (111, 'Arduino2_LT73'),\n",
       " (112, 'Arduino_CO2'),\n",
       " (113, 'Arduino2_LT63'),\n",
       " (114, 'Arduino2_LT65'),\n",
       " (115, 'Arduino1_LT53'),\n",
       " (116, 'Arduino2_LT64'),\n",
       " (117, 'Arduino2_LT75'),\n",
       " (118, 'Arduino1_LT54'),\n",
       " (119, 'Arduino1_LT45'),\n",
       " (120, 'Arduino2_LT74'),\n",
       " (121, 'Arduino1_LT55'),\n",
       " (122, 'Arduino2_LT10'),\n",
       " (123, 'Arduino2_LT71'),\n",
       " (124, 'Arduino_TT0'),\n",
       " (125, 'Arduino1_LT42'),\n",
       " (126, 'Arduino1_LT43'),\n",
       " (127, 'Arduino1_LT51'),\n",
       " (128, 'Arduino2_LT62'),\n",
       " (129, 'Arduino2'),\n",
       " (130, 'triggers'),\n",
       " (131, 'harvestTank'),\n",
       " (132, 'RM10'),\n",
       " (133, 'RM24'),\n",
       " (134, 'RM25'),\n",
       " (135, 'RM26'),\n",
       " (136, 'RM27'),\n",
       " (137, 'RM28'),\n",
       " (138, 'RM31'),\n",
       " (139, 'RM32'),\n",
       " (140, 'RM34'),\n",
       " (141, 'RM36'),\n",
       " (142, 'RM37'),\n",
       " (143, 'RM38'),\n",
       " (144, 'RM39'),\n",
       " (145, 'RM40'),\n",
       " (146, 'RM9'),\n",
       " (147, 'Arduino_QR'),\n",
       " (148, 'Arduino_QB'),\n",
       " (149, 'Arduino_QC'),\n",
       " (150, 'P1'),\n",
       " (151, 'P2'),\n",
       " (152, 'Arduino_PT1'),\n",
       " (153, 'Arduino_PT2'),\n",
       " (154, 'Arduino_FT2'),\n",
       " (155, 'Arduino_QT'),\n",
       " (156, 'T75'),\n",
       " (157, 'T41'),\n",
       " (158, 'T44'),\n",
       " (159, 'T45'),\n",
       " (160, 'Arduino1_PT10'),\n",
       " (161, 'Arduino1_PT11'),\n",
       " (162, 'Arduino2_noInUse')]"
      ]
     },
     "execution_count": 218,
     "metadata": {},
     "output_type": "execute_result"
    }
   ],
   "source": [
    "tuples"
   ]
  },
  {
   "cell_type": "code",
   "execution_count": 219,
   "metadata": {},
   "outputs": [],
   "source": [
    "cur.executemany(query, tuples)"
   ]
  },
  {
   "cell_type": "code",
   "execution_count": 221,
   "metadata": {},
   "outputs": [],
   "source": [
    "cur.execute(\"SELECT prm_id, prm_name FROM tbl_log_parameters\")"
   ]
  },
  {
   "cell_type": "code",
   "execution_count": 222,
   "metadata": {},
   "outputs": [
    {
     "name": "stdout",
     "output_type": "stream",
     "text": [
      "ID: {1} unit_name: {'Arduino'}\n",
      "ID: {101} unit_name: {'Arduino1'}\n",
      "ID: {66} unit_name: {'Arduino1_LT41'}\n",
      "ID: {125} unit_name: {'Arduino1_LT42'}\n",
      "ID: {126} unit_name: {'Arduino1_LT43'}\n",
      "ID: {119} unit_name: {'Arduino1_LT45'}\n",
      "ID: {127} unit_name: {'Arduino1_LT51'}\n",
      "ID: {64} unit_name: {'Arduino1_LT52'}\n",
      "ID: {115} unit_name: {'Arduino1_LT53'}\n",
      "ID: {118} unit_name: {'Arduino1_LT54'}\n",
      "ID: {121} unit_name: {'Arduino1_LT55'}\n",
      "ID: {160} unit_name: {'Arduino1_PT10'}\n",
      "ID: {161} unit_name: {'Arduino1_PT11'}\n",
      "ID: {129} unit_name: {'Arduino2'}\n",
      "ID: {122} unit_name: {'Arduino2_LT10'}\n",
      "ID: {67} unit_name: {'Arduino2_LT61'}\n",
      "ID: {128} unit_name: {'Arduino2_LT62'}\n",
      "ID: {113} unit_name: {'Arduino2_LT63'}\n",
      "ID: {116} unit_name: {'Arduino2_LT64'}\n",
      "ID: {114} unit_name: {'Arduino2_LT65'}\n",
      "ID: {123} unit_name: {'Arduino2_LT71'}\n",
      "ID: {65} unit_name: {'Arduino2_LT72'}\n",
      "ID: {111} unit_name: {'Arduino2_LT73'}\n",
      "ID: {120} unit_name: {'Arduino2_LT74'}\n",
      "ID: {117} unit_name: {'Arduino2_LT75'}\n",
      "ID: {162} unit_name: {'Arduino2_noInUse'}\n",
      "ID: {112} unit_name: {'Arduino_CO2'}\n",
      "ID: {154} unit_name: {'Arduino_FT2'}\n",
      "ID: {63} unit_name: {'Arduino_LT1'}\n",
      "ID: {54} unit_name: {'Arduino_pH'}\n",
      "ID: {152} unit_name: {'Arduino_PT1'}\n",
      "ID: {153} unit_name: {'Arduino_PT2'}\n",
      "ID: {148} unit_name: {'Arduino_QB'}\n",
      "ID: {149} unit_name: {'Arduino_QC'}\n",
      "ID: {53} unit_name: {'Arduino_QG'}\n",
      "ID: {147} unit_name: {'Arduino_QR'}\n",
      "ID: {155} unit_name: {'Arduino_QT'}\n",
      "ID: {124} unit_name: {'Arduino_TT0'}\n",
      "ID: {62} unit_name: {'Arduino_TT1'}\n",
      "ID: {68} unit_name: {'AutoLink'}\n",
      "ID: {9} unit_name: {'autoSyncMonitor'}\n",
      "ID: {110} unit_name: {'AutoTemplateSync'}\n",
      "ID: {12} unit_name: {'calculations'}\n",
      "ID: {88} unit_name: {'chiller'}\n",
      "ID: {58} unit_name: {'CO2_V2'}\n",
      "ID: {14} unit_name: {'feeding'}\n",
      "ID: {11} unit_name: {'harvest'}\n",
      "ID: {131} unit_name: {'harvestTank'}\n",
      "ID: {84} unit_name: {'L1'}\n",
      "ID: {96} unit_name: {'L1B'}\n",
      "ID: {94} unit_name: {'L1FR'}\n",
      "ID: {95} unit_name: {'L1R'}\n",
      "ID: {61} unit_name: {'L1W'}\n",
      "ID: {29} unit_name: {'LEDlighting'}\n",
      "ID: {74} unit_name: {'LT1'}\n",
      "ID: {97} unit_name: {'LT10'}\n",
      "ID: {78} unit_name: {'M1'}\n",
      "ID: {98} unit_name: {'M10'}\n",
      "ID: {150} unit_name: {'P1'}\n",
      "ID: {71} unit_name: {'P10'}\n",
      "ID: {81} unit_name: {'P11'}\n",
      "ID: {92} unit_name: {'P12'}\n",
      "ID: {13} unit_name: {'P1L'}\n",
      "ID: {56} unit_name: {'P1R'}\n",
      "ID: {151} unit_name: {'P2'}\n",
      "ID: {79} unit_name: {'P2L'}\n",
      "ID: {57} unit_name: {'P2R'}\n",
      "ID: {50} unit_name: {'P42'}\n",
      "ID: {69} unit_name: {'P43'}\n",
      "ID: {8} unit_name: {'pneumatic'}\n",
      "ID: {83} unit_name: {'Products'}\n",
      "ID: {2} unit_name: {'program'}\n",
      "ID: {104} unit_name: {'PT10'}\n",
      "ID: {26} unit_name: {'PT1_V4'}\n",
      "ID: {60} unit_name: {'PTdiff_K2'}\n",
      "ID: {59} unit_name: {'R1'}\n",
      "ID: {6} unit_name: {'Reactor'}\n",
      "ID: {82} unit_name: {'Recipes'}\n",
      "ID: {51} unit_name: {'RM1'}\n",
      "ID: {132} unit_name: {'RM10'}\n",
      "ID: {76} unit_name: {'RM11'}\n",
      "ID: {33} unit_name: {'RM12'}\n",
      "ID: {34} unit_name: {'RM13'}\n",
      "ID: {35} unit_name: {'RM14'}\n",
      "ID: {36} unit_name: {'RM15'}\n",
      "ID: {37} unit_name: {'RM16'}\n",
      "ID: {38} unit_name: {'RM17'}\n",
      "ID: {100} unit_name: {'RM18'}\n",
      "ID: {39} unit_name: {'RM19'}\n",
      "ID: {40} unit_name: {'RM2'}\n",
      "ID: {108} unit_name: {'RM20'}\n",
      "ID: {41} unit_name: {'RM21'}\n",
      "ID: {42} unit_name: {'RM22'}\n",
      "ID: {43} unit_name: {'RM23'}\n",
      "ID: {133} unit_name: {'RM24'}\n",
      "ID: {134} unit_name: {'RM25'}\n",
      "ID: {135} unit_name: {'RM26'}\n",
      "ID: {136} unit_name: {'RM27'}\n",
      "ID: {137} unit_name: {'RM28'}\n",
      "ID: {30} unit_name: {'RM29'}\n",
      "ID: {75} unit_name: {'RM3'}\n",
      "ID: {52} unit_name: {'RM30'}\n",
      "ID: {138} unit_name: {'RM31'}\n",
      "ID: {139} unit_name: {'RM32'}\n",
      "ID: {109} unit_name: {'RM33'}\n",
      "ID: {140} unit_name: {'RM34'}\n",
      "ID: {46} unit_name: {'RM35'}\n",
      "ID: {141} unit_name: {'RM36'}\n",
      "ID: {142} unit_name: {'RM37'}\n",
      "ID: {143} unit_name: {'RM38'}\n",
      "ID: {144} unit_name: {'RM39'}\n",
      "ID: {47} unit_name: {'RM4'}\n",
      "ID: {145} unit_name: {'RM40'}\n",
      "ID: {48} unit_name: {'RM5'}\n",
      "ID: {31} unit_name: {'RM6'}\n",
      "ID: {49} unit_name: {'RM7'}\n",
      "ID: {77} unit_name: {'RM8'}\n",
      "ID: {146} unit_name: {'RM9'}\n",
      "ID: {5} unit_name: {'T10'}\n",
      "ID: {157} unit_name: {'T41'}\n",
      "ID: {44} unit_name: {'T41A'}\n",
      "ID: {16} unit_name: {'T42'}\n",
      "ID: {10} unit_name: {'T42A'}\n",
      "ID: {28} unit_name: {'T43'}\n",
      "ID: {45} unit_name: {'T43A'}\n",
      "ID: {158} unit_name: {'T44'}\n",
      "ID: {159} unit_name: {'T45'}\n",
      "ID: {18} unit_name: {'T51'}\n",
      "ID: {24} unit_name: {'T52'}\n",
      "ID: {17} unit_name: {'T53'}\n",
      "ID: {25} unit_name: {'T54'}\n",
      "ID: {27} unit_name: {'T55'}\n",
      "ID: {3} unit_name: {'T61'}\n",
      "ID: {89} unit_name: {'T62'}\n",
      "ID: {22} unit_name: {'T63'}\n",
      "ID: {15} unit_name: {'T64'}\n",
      "ID: {21} unit_name: {'T65'}\n",
      "ID: {7} unit_name: {'T71'}\n",
      "ID: {23} unit_name: {'T72'}\n",
      "ID: {19} unit_name: {'T73'}\n",
      "ID: {20} unit_name: {'T74'}\n",
      "ID: {156} unit_name: {'T75'}\n",
      "ID: {130} unit_name: {'triggers'}\n",
      "ID: {105} unit_name: {'TT0'}\n",
      "ID: {86} unit_name: {'V1'}\n",
      "ID: {72} unit_name: {'V11'}\n",
      "ID: {55} unit_name: {'V3'}\n",
      "ID: {70} unit_name: {'V42'}\n",
      "ID: {93} unit_name: {'V43'}\n",
      "ID: {107} unit_name: {'V51'}\n",
      "ID: {102} unit_name: {'V52'}\n",
      "ID: {85} unit_name: {'V6'}\n",
      "ID: {80} unit_name: {'V61'}\n",
      "ID: {91} unit_name: {'V62'}\n",
      "ID: {99} unit_name: {'V63'}\n",
      "ID: {103} unit_name: {'V64'}\n",
      "ID: {90} unit_name: {'V71'}\n",
      "ID: {87} unit_name: {'V72'}\n",
      "ID: {32} unit_name: {'V74'}\n",
      "ID: {73} unit_name: {'V8'}\n",
      "ID: {106} unit_name: {'waste'}\n",
      "ID: {4} unit_name: {'water'}\n"
     ]
    }
   ],
   "source": [
    "for (prm_id, prm_name) in cur:\n",
    "    print(\"ID:\", {prm_id}, \"unit_name:\", {prm_name})"
   ]
  },
  {
   "cell_type": "code",
   "execution_count": 223,
   "metadata": {},
   "outputs": [],
   "source": [
    "con.commit() "
   ]
  },
  {
   "cell_type": "code",
   "execution_count": 231,
   "metadata": {},
   "outputs": [
    {
     "data": {
      "text/plain": [
       "[(1, 'FPC11_FPP11'),\n",
       " (2, 'FPC14'),\n",
       " (3, 'FFU'),\n",
       " (4, 'FPC22'),\n",
       " (5, 'FPC21_AUT21'),\n",
       " (6, 'FPC21'),\n",
       " (7, 'FPC23'),\n",
       " (8, 'FPC13'),\n",
       " (9, 'FPC24'),\n",
       " (10, 'FPC31'),\n",
       " (11, 'FPC23_FPP23'),\n",
       " (12, 'FPC41'),\n",
       " (13, 'FPC42'),\n",
       " (14, 'FPC11'),\n",
       " (15, 'Product'),\n",
       " (16, 'FPC21_FPP21'),\n",
       " (17, 'FPC13_FPP13'),\n",
       " (18, 'FPC24_FPP24'),\n",
       " (19, 'FFP_FFP'),\n",
       " (20, 'FPC31_FPP31'),\n",
       " (21, 'FPC22_FPP22'),\n",
       " (22, 'FPC12'),\n",
       " (23, 'FPP11'),\n",
       " (24, 'FPC14_FPP14'),\n",
       " (25, 'FPP21'),\n",
       " (26, 'FPP13'),\n",
       " (27, 'FPP14'),\n",
       " (28, 'FPP'),\n",
       " (29, 'FPC12_FPP'),\n",
       " (30, 'FPP31'),\n",
       " (31, 'FFP_AUTFU'),\n",
       " (32, 'FPC13_AUT13'),\n",
       " (33, 'FPC22_AUT22'),\n",
       " (34, 'FPC11_AUT11'),\n",
       " (35, 'FPC12_AUT'),\n",
       " (36, 'FPC31_AUT31'),\n",
       " (37, 'FPC24_AUT24'),\n",
       " (38, 'FPC23_AUT23'),\n",
       " (39, 'scheduler'),\n",
       " (40, 'FPC14_AUT14')]"
      ]
     },
     "execution_count": 231,
     "metadata": {},
     "output_type": "execute_result"
    }
   ],
   "source": [
    "# inserting list of units into DB table : tbl_unit\n",
    "query = 'INSERT INTO tbl_unit (unit_id, unit_name) VALUES (%s, %s)'\n",
    "tuples = pd.Series(log_unit)\n",
    "tuples = [(index+1, value) for index, value in tuples.items()]\n",
    "tuples"
   ]
  },
  {
   "cell_type": "code",
   "execution_count": 232,
   "metadata": {},
   "outputs": [],
   "source": [
    "cur.executemany(query, tuples)\n",
    "con.commit() "
   ]
  },
  {
   "cell_type": "code",
   "execution_count": 224,
   "metadata": {},
   "outputs": [],
   "source": [
    "con.close()"
   ]
  }
 ],
 "metadata": {
  "interpreter": {
   "hash": "4c003f82c03b36fef287bdd35e08b972b8ba2e96746a620b0947100bdbd54581"
  },
  "kernelspec": {
   "display_name": "Python 3.9.8 ('.venv': venv)",
   "language": "python",
   "name": "python3"
  },
  "language_info": {
   "codemirror_mode": {
    "name": "ipython",
    "version": 3
   },
   "file_extension": ".py",
   "mimetype": "text/x-python",
   "name": "python",
   "nbconvert_exporter": "python",
   "pygments_lexer": "ipython3",
   "version": "3.9.8"
  },
  "orig_nbformat": 4
 },
 "nbformat": 4,
 "nbformat_minor": 2
}
