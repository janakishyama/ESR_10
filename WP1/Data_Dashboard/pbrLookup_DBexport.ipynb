{
 "cells": [
  {
   "cell_type": "code",
   "execution_count": 8,
   "metadata": {},
   "outputs": [],
   "source": [
    "import numpy as np\n",
    "import pandas as pd\n",
    "import os\n",
    "import re\n",
    "from datetime import date\n",
    "import sys\n",
    "import mariadb\n",
    "from pandas.io import sql\n",
    "import sqlalchemy\n",
    "\n",
    "import warnings    # to avoid warning during executions\n",
    "warnings.filterwarnings(\"ignore\")"
   ]
  },
  {
   "cell_type": "markdown",
   "metadata": {},
   "source": [
    "## PBR lookup data preprocessing & DB export"
   ]
  },
  {
   "cell_type": "markdown",
   "metadata": {},
   "source": [
    "- Load the data \n",
    "- populate unit and species column with DB tables primary key\n",
    "- Export data into the pbr_lookpup table"
   ]
  },
  {
   "cell_type": "code",
   "execution_count": 9,
   "metadata": {},
   "outputs": [],
   "source": [
    "# set the file path\n",
    "file_name = file_name = '..\\..\\dataExport\\\\tbl_pbr_lookup.xlsx'"
   ]
  },
  {
   "cell_type": "code",
   "execution_count": 10,
   "metadata": {},
   "outputs": [
    {
     "data": {
      "text/html": [
       "<div>\n",
       "<style scoped>\n",
       "    .dataframe tbody tr th:only-of-type {\n",
       "        vertical-align: middle;\n",
       "    }\n",
       "\n",
       "    .dataframe tbody tr th {\n",
       "        vertical-align: top;\n",
       "    }\n",
       "\n",
       "    .dataframe thead th {\n",
       "        text-align: right;\n",
       "    }\n",
       "</style>\n",
       "<table border=\"1\" class=\"dataframe\">\n",
       "  <thead>\n",
       "    <tr style=\"text-align: right;\">\n",
       "      <th></th>\n",
       "      <th>instance</th>\n",
       "      <th>unit</th>\n",
       "      <th>species</th>\n",
       "      <th>start_date</th>\n",
       "      <th>end_date</th>\n",
       "      <th>remark</th>\n",
       "    </tr>\n",
       "  </thead>\n",
       "  <tbody>\n",
       "    <tr>\n",
       "      <th>0</th>\n",
       "      <td>1.0</td>\n",
       "      <td>FPC13</td>\n",
       "      <td>1.0</td>\n",
       "      <td>1.629468e+09</td>\n",
       "      <td>1.633939e+09</td>\n",
       "      <td>NaN</td>\n",
       "    </tr>\n",
       "    <tr>\n",
       "      <th>1</th>\n",
       "      <td>2.0</td>\n",
       "      <td>FPC13</td>\n",
       "      <td>1.0</td>\n",
       "      <td>1.634652e+09</td>\n",
       "      <td>1.644489e+09</td>\n",
       "      <td>NaN</td>\n",
       "    </tr>\n",
       "    <tr>\n",
       "      <th>2</th>\n",
       "      <td>3.0</td>\n",
       "      <td>FPC13</td>\n",
       "      <td>11.0</td>\n",
       "      <td>1.625227e+09</td>\n",
       "      <td>1.628158e+09</td>\n",
       "      <td>NaN</td>\n",
       "    </tr>\n",
       "    <tr>\n",
       "      <th>3</th>\n",
       "      <td>4.0</td>\n",
       "      <td>FPC14</td>\n",
       "      <td>2.0</td>\n",
       "      <td>1.614764e+09</td>\n",
       "      <td>1.618393e+09</td>\n",
       "      <td>NaN</td>\n",
       "    </tr>\n",
       "    <tr>\n",
       "      <th>4</th>\n",
       "      <td>5.0</td>\n",
       "      <td>FPC14</td>\n",
       "      <td>7.0</td>\n",
       "      <td>1.625486e+09</td>\n",
       "      <td>1.639564e+09</td>\n",
       "      <td>NaN</td>\n",
       "    </tr>\n",
       "  </tbody>\n",
       "</table>\n",
       "</div>"
      ],
      "text/plain": [
       "   instance   unit  species    start_date      end_date  remark\n",
       "0       1.0  FPC13      1.0  1.629468e+09  1.633939e+09     NaN\n",
       "1       2.0  FPC13      1.0  1.634652e+09  1.644489e+09     NaN\n",
       "2       3.0  FPC13     11.0  1.625227e+09  1.628158e+09     NaN\n",
       "3       4.0  FPC14      2.0  1.614764e+09  1.618393e+09     NaN\n",
       "4       5.0  FPC14      7.0  1.625486e+09  1.639564e+09     NaN"
      ]
     },
     "execution_count": 10,
     "metadata": {},
     "output_type": "execute_result"
    }
   ],
   "source": [
    "# load the excel data sheet and display first 5 rows\n",
    "pbr_lookup = pd.read_excel(file_name,sheet_name='Sheet1')\n",
    "pbr_lookup.head(5)"
   ]
  },
  {
   "cell_type": "code",
   "execution_count": 11,
   "metadata": {},
   "outputs": [
    {
     "name": "stdout",
     "output_type": "stream",
     "text": [
      "(12, 6)\n",
      "<class 'pandas.core.frame.DataFrame'>\n",
      "RangeIndex: 12 entries, 0 to 11\n",
      "Data columns (total 6 columns):\n",
      " #   Column      Non-Null Count  Dtype  \n",
      "---  ------      --------------  -----  \n",
      " 0   instance    12 non-null     float64\n",
      " 1   unit        12 non-null     object \n",
      " 2   species     12 non-null     float64\n",
      " 3   start_date  12 non-null     float64\n",
      " 4   end_date    12 non-null     float64\n",
      " 5   remark      0 non-null      float64\n",
      "dtypes: float64(5), object(1)\n",
      "memory usage: 704.0+ bytes\n",
      "None\n"
     ]
    }
   ],
   "source": [
    "print(pbr_lookup.shape)\n",
    "print(pbr_lookup.info())"
   ]
  },
  {
   "cell_type": "code",
   "execution_count": 6,
   "metadata": {},
   "outputs": [],
   "source": [
    "# database connection definition\n",
    "database_username = 'root'\n",
    "database_password = 'password'\n",
    "database_ip       = '127.0.0.1:3306'\n",
    "database_name     = 'data_dashboard'\n",
    "database_connection = sqlalchemy.create_engine('mariadb+mariadbconnector://{0}:{1}@{2}/{3}'.\n",
    "                                               format(database_username, database_password, \n",
    "                                                      database_ip, database_name))"
   ]
  },
  {
   "cell_type": "code",
   "execution_count": 13,
   "metadata": {},
   "outputs": [
    {
     "data": {
      "text/html": [
       "<div>\n",
       "<style scoped>\n",
       "    .dataframe tbody tr th:only-of-type {\n",
       "        vertical-align: middle;\n",
       "    }\n",
       "\n",
       "    .dataframe tbody tr th {\n",
       "        vertical-align: top;\n",
       "    }\n",
       "\n",
       "    .dataframe thead th {\n",
       "        text-align: right;\n",
       "    }\n",
       "</style>\n",
       "<table border=\"1\" class=\"dataframe\">\n",
       "  <thead>\n",
       "    <tr style=\"text-align: right;\">\n",
       "      <th></th>\n",
       "      <th>unit_id</th>\n",
       "      <th>unit_name</th>\n",
       "    </tr>\n",
       "  </thead>\n",
       "  <tbody>\n",
       "    <tr>\n",
       "      <th>0</th>\n",
       "      <td>31</td>\n",
       "      <td>FFP_AUTFU</td>\n",
       "    </tr>\n",
       "    <tr>\n",
       "      <th>1</th>\n",
       "      <td>19</td>\n",
       "      <td>FFP_FFP</td>\n",
       "    </tr>\n",
       "    <tr>\n",
       "      <th>2</th>\n",
       "      <td>3</td>\n",
       "      <td>FFU</td>\n",
       "    </tr>\n",
       "    <tr>\n",
       "      <th>3</th>\n",
       "      <td>14</td>\n",
       "      <td>FPC11</td>\n",
       "    </tr>\n",
       "    <tr>\n",
       "      <th>4</th>\n",
       "      <td>34</td>\n",
       "      <td>FPC11_AUT11</td>\n",
       "    </tr>\n",
       "  </tbody>\n",
       "</table>\n",
       "</div>"
      ],
      "text/plain": [
       "   unit_id    unit_name\n",
       "0       31    FFP_AUTFU\n",
       "1       19      FFP_FFP\n",
       "2        3          FFU\n",
       "3       14        FPC11\n",
       "4       34  FPC11_AUT11"
      ]
     },
     "execution_count": 13,
     "metadata": {},
     "output_type": "execute_result"
    }
   ],
   "source": [
    "# fetch data from mariadb table tbl_unit\n",
    "tbl_unit = pd.read_sql('SELECT unit_id, unit_name FROM tbl_unit', database_connection)\n",
    "tbl_unit.head(5)"
   ]
  },
  {
   "cell_type": "code",
   "execution_count": 14,
   "metadata": {},
   "outputs": [],
   "source": [
    "# replace unit names with primary key value\n",
    "pbr_lookup['unit'] = pbr_lookup['unit'].map(tbl_unit.set_index('unit_name')['unit_id'])"
   ]
  },
  {
   "cell_type": "code",
   "execution_count": 15,
   "metadata": {},
   "outputs": [
    {
     "data": {
      "text/html": [
       "<div>\n",
       "<style scoped>\n",
       "    .dataframe tbody tr th:only-of-type {\n",
       "        vertical-align: middle;\n",
       "    }\n",
       "\n",
       "    .dataframe tbody tr th {\n",
       "        vertical-align: top;\n",
       "    }\n",
       "\n",
       "    .dataframe thead th {\n",
       "        text-align: right;\n",
       "    }\n",
       "</style>\n",
       "<table border=\"1\" class=\"dataframe\">\n",
       "  <thead>\n",
       "    <tr style=\"text-align: right;\">\n",
       "      <th></th>\n",
       "      <th>instance</th>\n",
       "      <th>unit</th>\n",
       "      <th>species</th>\n",
       "      <th>start_date</th>\n",
       "      <th>end_date</th>\n",
       "      <th>remark</th>\n",
       "    </tr>\n",
       "  </thead>\n",
       "  <tbody>\n",
       "    <tr>\n",
       "      <th>0</th>\n",
       "      <td>1.0</td>\n",
       "      <td>8</td>\n",
       "      <td>1.0</td>\n",
       "      <td>1.629468e+09</td>\n",
       "      <td>1.633939e+09</td>\n",
       "      <td>NaN</td>\n",
       "    </tr>\n",
       "    <tr>\n",
       "      <th>1</th>\n",
       "      <td>2.0</td>\n",
       "      <td>8</td>\n",
       "      <td>1.0</td>\n",
       "      <td>1.634652e+09</td>\n",
       "      <td>1.644489e+09</td>\n",
       "      <td>NaN</td>\n",
       "    </tr>\n",
       "    <tr>\n",
       "      <th>2</th>\n",
       "      <td>3.0</td>\n",
       "      <td>8</td>\n",
       "      <td>11.0</td>\n",
       "      <td>1.625227e+09</td>\n",
       "      <td>1.628158e+09</td>\n",
       "      <td>NaN</td>\n",
       "    </tr>\n",
       "    <tr>\n",
       "      <th>3</th>\n",
       "      <td>4.0</td>\n",
       "      <td>2</td>\n",
       "      <td>2.0</td>\n",
       "      <td>1.614764e+09</td>\n",
       "      <td>1.618393e+09</td>\n",
       "      <td>NaN</td>\n",
       "    </tr>\n",
       "    <tr>\n",
       "      <th>4</th>\n",
       "      <td>5.0</td>\n",
       "      <td>2</td>\n",
       "      <td>7.0</td>\n",
       "      <td>1.625486e+09</td>\n",
       "      <td>1.639564e+09</td>\n",
       "      <td>NaN</td>\n",
       "    </tr>\n",
       "    <tr>\n",
       "      <th>5</th>\n",
       "      <td>6.0</td>\n",
       "      <td>2</td>\n",
       "      <td>11.0</td>\n",
       "      <td>1.618562e+09</td>\n",
       "      <td>1.625229e+09</td>\n",
       "      <td>NaN</td>\n",
       "    </tr>\n",
       "    <tr>\n",
       "      <th>6</th>\n",
       "      <td>7.0</td>\n",
       "      <td>6</td>\n",
       "      <td>2.0</td>\n",
       "      <td>1.634915e+09</td>\n",
       "      <td>1.646645e+09</td>\n",
       "      <td>NaN</td>\n",
       "    </tr>\n",
       "    <tr>\n",
       "      <th>7</th>\n",
       "      <td>8.0</td>\n",
       "      <td>6</td>\n",
       "      <td>9.0</td>\n",
       "      <td>1.623051e+09</td>\n",
       "      <td>1.626772e+09</td>\n",
       "      <td>NaN</td>\n",
       "    </tr>\n",
       "    <tr>\n",
       "      <th>8</th>\n",
       "      <td>9.0</td>\n",
       "      <td>4</td>\n",
       "      <td>3.0</td>\n",
       "      <td>1.620216e+09</td>\n",
       "      <td>1.634632e+09</td>\n",
       "      <td>NaN</td>\n",
       "    </tr>\n",
       "    <tr>\n",
       "      <th>9</th>\n",
       "      <td>10.0</td>\n",
       "      <td>7</td>\n",
       "      <td>7.0</td>\n",
       "      <td>1.616427e+09</td>\n",
       "      <td>1.626691e+09</td>\n",
       "      <td>NaN</td>\n",
       "    </tr>\n",
       "    <tr>\n",
       "      <th>10</th>\n",
       "      <td>11.0</td>\n",
       "      <td>9</td>\n",
       "      <td>8.0</td>\n",
       "      <td>1.620130e+09</td>\n",
       "      <td>1.633964e+09</td>\n",
       "      <td>NaN</td>\n",
       "    </tr>\n",
       "    <tr>\n",
       "      <th>11</th>\n",
       "      <td>12.0</td>\n",
       "      <td>9</td>\n",
       "      <td>8.0</td>\n",
       "      <td>1.635246e+09</td>\n",
       "      <td>1.641568e+09</td>\n",
       "      <td>NaN</td>\n",
       "    </tr>\n",
       "  </tbody>\n",
       "</table>\n",
       "</div>"
      ],
      "text/plain": [
       "    instance  unit  species    start_date      end_date  remark\n",
       "0        1.0     8      1.0  1.629468e+09  1.633939e+09     NaN\n",
       "1        2.0     8      1.0  1.634652e+09  1.644489e+09     NaN\n",
       "2        3.0     8     11.0  1.625227e+09  1.628158e+09     NaN\n",
       "3        4.0     2      2.0  1.614764e+09  1.618393e+09     NaN\n",
       "4        5.0     2      7.0  1.625486e+09  1.639564e+09     NaN\n",
       "5        6.0     2     11.0  1.618562e+09  1.625229e+09     NaN\n",
       "6        7.0     6      2.0  1.634915e+09  1.646645e+09     NaN\n",
       "7        8.0     6      9.0  1.623051e+09  1.626772e+09     NaN\n",
       "8        9.0     4      3.0  1.620216e+09  1.634632e+09     NaN\n",
       "9       10.0     7      7.0  1.616427e+09  1.626691e+09     NaN\n",
       "10      11.0     9      8.0  1.620130e+09  1.633964e+09     NaN\n",
       "11      12.0     9      8.0  1.635246e+09  1.641568e+09     NaN"
      ]
     },
     "execution_count": 15,
     "metadata": {},
     "output_type": "execute_result"
    }
   ],
   "source": [
    "pbr_lookup"
   ]
  },
  {
   "cell_type": "code",
   "execution_count": 18,
   "metadata": {},
   "outputs": [
    {
     "name": "stdout",
     "output_type": "stream",
     "text": [
      "Duplicate Entry\n"
     ]
    }
   ],
   "source": [
    "try:\n",
    "    pbr_lookup.to_sql(con=database_connection, name='tbl_pbr_lookup', if_exists='append', index=False)\n",
    "except:\n",
    "    print(\"Duplicate Entry\")\n",
    "\n"
   ]
  },
  {
   "cell_type": "markdown",
   "metadata": {},
   "source": [
    "### Appendix\n",
    "\n",
    "df['CODE'] = df.apply(lambda x: 0 if x['distance'] in a else x['CODE'], axis=1)"
   ]
  }
 ],
 "metadata": {
  "interpreter": {
   "hash": "4c003f82c03b36fef287bdd35e08b972b8ba2e96746a620b0947100bdbd54581"
  },
  "kernelspec": {
   "display_name": "Python 3.9.8 ('.venv': venv)",
   "language": "python",
   "name": "python3"
  },
  "language_info": {
   "codemirror_mode": {
    "name": "ipython",
    "version": 3
   },
   "file_extension": ".py",
   "mimetype": "text/x-python",
   "name": "python",
   "nbconvert_exporter": "python",
   "pygments_lexer": "ipython3",
   "version": "3.9.8"
  },
  "orig_nbformat": 4
 },
 "nbformat": 4,
 "nbformat_minor": 2
}
