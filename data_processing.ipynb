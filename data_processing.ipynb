{
 "cells": [
  {
   "cell_type": "markdown",
   "metadata": {},
   "source": [
    "Data preprossing for column rename, drop unwanted columns and save it ias new file."
   ]
  },
  {
   "cell_type": "code",
   "execution_count": 108,
   "metadata": {},
   "outputs": [],
   "source": [
    "import os   # for interacting with the operating system,  include many functions to interact with the file system\n",
    "import numpy as np  # Python library used for working with arrays\n",
    "import pandas as pd  #data manipulation and analysis"
   ]
  },
  {
   "cell_type": "code",
   "execution_count": 109,
   "metadata": {},
   "outputs": [
    {
     "data": {
      "text/plain": [
       "'c:\\\\Users\\\\shyam.kalliadan\\\\Desktop\\\\ESR10\\\\programming\\\\ESR_10'"
      ]
     },
     "execution_count": 109,
     "metadata": {},
     "output_type": "execute_result"
    }
   ],
   "source": [
    "# list all files in directory - Raw Data\n",
    "os.getcwd()"
   ]
  },
  {
   "cell_type": "code",
   "execution_count": 110,
   "metadata": {},
   "outputs": [],
   "source": [
    "raw_data_directory = os.listdir('Raw_data')\n",
    "processed_data_directory = os.listdir('processed_data')"
   ]
  },
  {
   "cell_type": "code",
   "execution_count": 111,
   "metadata": {},
   "outputs": [],
   "source": [
    "def mapper(old_name):\n",
    "    x = re.sub(\"^(sub_DAQ.mod_LogicLev.cntr)\\\\_([a-zA-Z0-9]+)\\\\.([a-zA-Z]+)\\\\_\", \"\", old_name)\n",
    "    x = re.sub(\"\\\\.(a_var)$\", \"\", x)\n",
    "    x = re.sub(\" and \", \"_\", x)\n",
    "    return x"
   ]
  },
  {
   "cell_type": "code",
   "execution_count": 112,
   "metadata": {},
   "outputs": [],
   "source": [
    "for raw_file in raw_data_directory:\n",
    "    if raw_file not in processed_data_directory:\n",
    "        raw_file_path = os.path.join('Raw_data', raw_file)\n",
    "        #data_preprocessing(raw_file_path)\n",
    "        raw_data_frame = pd.read_csv(raw_file_path, sep=';')\n",
    "        raw_data = raw_data_frame.rename(columns=mapper)\n",
    "        save_path = os.path.join('processed_data', raw_file)\n",
    "        raw_data.to_csv(save_path, index = False)"
   ]
  }
 ],
 "metadata": {
  "interpreter": {
   "hash": "63763cfd999afa7786cbab8587718cb54b88d86b09d25414d804f23e66583612"
  },
  "kernelspec": {
   "display_name": "Python 3.9.8 ('.venv': venv)",
   "language": "python",
   "name": "python3"
  },
  "language_info": {
   "codemirror_mode": {
    "name": "ipython",
    "version": 3
   },
   "file_extension": ".py",
   "mimetype": "text/x-python",
   "name": "python",
   "nbconvert_exporter": "python",
   "pygments_lexer": "ipython3",
   "version": "3.9.8"
  },
  "orig_nbformat": 4
 },
 "nbformat": 4,
 "nbformat_minor": 2
}
