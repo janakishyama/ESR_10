{
 "cells": [
  {
   "cell_type": "markdown",
   "metadata": {},
   "source": [
    "### Data Preprossing------------------------------------"
   ]
  },
  {
   "cell_type": "code",
   "execution_count": 59,
   "metadata": {},
   "outputs": [],
   "source": [
    "import os   # for interacting with the operating system,  include many functions to interact with the file system\n",
    "import numpy as np  # Python library used for working with arrays\n",
    "import pandas as pd  #data manipulation and analysis\n",
    "import re"
   ]
  },
  {
   "cell_type": "code",
   "execution_count": 60,
   "metadata": {},
   "outputs": [
    {
     "data": {
      "text/plain": [
       "'c:\\\\Users\\\\shyam.kalliadan\\\\Desktop\\\\ESR10\\\\programming\\\\ESR_10'"
      ]
     },
     "execution_count": 60,
     "metadata": {},
     "output_type": "execute_result"
    }
   ],
   "source": [
    "# list all files in directory - Raw Data\n",
    "os.getcwd()"
   ]
  },
  {
   "cell_type": "markdown",
   "metadata": {},
   "source": [
    "### 1. Data Column Rename -------------------"
   ]
  },
  {
   "cell_type": "code",
   "execution_count": 61,
   "metadata": {},
   "outputs": [],
   "source": [
    "raw_data_directory = os.listdir('Raw_data')\n",
    "processed_data_directory = os.listdir('processed_data')"
   ]
  },
  {
   "cell_type": "code",
   "execution_count": 62,
   "metadata": {},
   "outputs": [],
   "source": [
    "def mapper(old_name):\n",
    "    x = re.sub(\"^(sub_DAQ.mod_LogicLev.cntr)\\\\_([a-zA-Z0-9]+)\\\\.([a-zA-Z]+)\\\\_\", \"\", old_name)\n",
    "    x = re.sub(\"\\\\.(a_var)$\", \"\", x)\n",
    "    x = re.sub(\" and \", \"_\", x)\n",
    "    return x"
   ]
  },
  {
   "cell_type": "code",
   "execution_count": 63,
   "metadata": {},
   "outputs": [],
   "source": [
    "for raw_file in raw_data_directory:\n",
    "    pbr_dir = re.split(\"\\\\_\", raw_file)\n",
    "    pbr_dir = pbr_dir[0]\n",
    "    new_path = os.path.join('processed_data', pbr_dir)\n",
    "    if not os.path.exists(new_path):\n",
    "        os.makedirs(new_path)\n",
    "\n",
    "    fpc_list = os.listdir(new_path)\n",
    "    if raw_file not in fpc_list:\n",
    "        raw_file_path = os.path.join('Raw_data', raw_file)\n",
    "        raw_data_frame = pd.read_csv(raw_file_path, sep=';')\n",
    "        raw_data = raw_data_frame.rename(columns=mapper)\n",
    "\n",
    "        save_path = os.path.join(new_path, raw_file)\n",
    "        raw_data.to_csv(save_path, index = False)\n",
    "        os.remove(raw_file_path)\n",
    "        "
   ]
  },
  {
   "cell_type": "markdown",
   "metadata": {},
   "source": [
    "#### 2. Data Merging and column drop"
   ]
  },
  {
   "cell_type": "code",
   "execution_count": 71,
   "metadata": {},
   "outputs": [
    {
     "name": "stdout",
     "output_type": "stream",
     "text": [
      "['FPC11-Rhodomonas-salina', 'FPC12-Diacronema-lutheri']\n"
     ]
    }
   ],
   "source": [
    "processed_dir = './processed_data'\n",
    "\n",
    "species_dir_list = [dir for dir in os.listdir(processed_dir)]\n",
    "print(species_dir_list)"
   ]
  },
  {
   "cell_type": "code",
   "execution_count": 90,
   "metadata": {},
   "outputs": [],
   "source": [
    "def merger_function(dir,species_dir):\n",
    "    print(dir)\n",
    "    print(species_dir)\n",
    "    #pd.merge(FPC11_merge1, FPC11_13_12_21_to_31_01_22_flow_and_pressure, on='Date_Time', how='inner')\n"
   ]
  },
  {
   "cell_type": "code",
   "execution_count": 91,
   "metadata": {},
   "outputs": [
    {
     "name": "stdout",
     "output_type": "stream",
     "text": [
      "['FPC11-Rhodomonas-salina_12_12_21_to_31_01_22_light_temp_ph.csv', 'FPC11-Rhodomonas-salina_12_12_21_to_31_01_22_productivity_efficiencycsv.csv', 'FPC11-Rhodomonas-salina_13_12_21_to_31_01_22_flow_and_pressure.csv']\n",
      "./processed_data\\FPC11-Rhodomonas-salina\n",
      "['FPC12-Diacronema-lutheri_24_10_21_to_01_02_22light_temp_ph.csv', 'FPC12-Diacronema-lutheri_24_10_21_to_01_02_flow_and_pressure.csv', 'FPC12-Diacronema-lutheri_24_10_21_to_01_02_productivity_efficency.csv']\n",
      "./processed_data\\FPC12-Diacronema-lutheri\n"
     ]
    }
   ],
   "source": [
    "for dir in species_dir_list:\n",
    "    species_dir = os.path.join(processed_dir,dir)\n",
    "    #print(species_dir)\n",
    "    #print(dir)\n",
    "    dir = list()\n",
    "    for species_file in os.listdir(species_dir):\n",
    "        #print(species_file)\n",
    "        dir.append(species_file)\n",
    "    \n",
    "    #print(dir)\n",
    "    merger_function(dir,species_dir)\n"
   ]
  }
 ],
 "metadata": {
  "interpreter": {
   "hash": "63763cfd999afa7786cbab8587718cb54b88d86b09d25414d804f23e66583612"
  },
  "kernelspec": {
   "display_name": "Python 3.9.8 ('.venv': venv)",
   "language": "python",
   "name": "python3"
  },
  "language_info": {
   "codemirror_mode": {
    "name": "ipython",
    "version": 3
   },
   "file_extension": ".py",
   "mimetype": "text/x-python",
   "name": "python",
   "nbconvert_exporter": "python",
   "pygments_lexer": "ipython3",
   "version": "3.9.8"
  },
  "orig_nbformat": 4
 },
 "nbformat": 4,
 "nbformat_minor": 2
}
