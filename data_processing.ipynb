{
 "cells": [
  {
   "cell_type": "markdown",
   "metadata": {},
   "source": [
    "### Data Preprossing------------------------------------"
   ]
  },
  {
   "cell_type": "code",
   "execution_count": 163,
   "metadata": {},
   "outputs": [],
   "source": [
    "import os   # for interacting with the operating system,  include many functions to interact with the file system\n",
    "import numpy as np  # Python library used for working with arrays\n",
    "import pandas as pd  #data manipulation and analysis\n",
    "import re\n",
    "\n",
    "from datetime import date\n",
    "today = date.today()\n",
    "\n",
    "from functools import reduce\n"
   ]
  },
  {
   "cell_type": "code",
   "execution_count": 93,
   "metadata": {},
   "outputs": [
    {
     "data": {
      "text/plain": [
       "'c:\\\\Users\\\\shyam.kalliadan\\\\Desktop\\\\ESR10\\\\programming\\\\ESR_10'"
      ]
     },
     "execution_count": 93,
     "metadata": {},
     "output_type": "execute_result"
    }
   ],
   "source": [
    "# list all files in directory - Raw Data\n",
    "os.getcwd()"
   ]
  },
  {
   "cell_type": "markdown",
   "metadata": {},
   "source": [
    "### 1. Data Column Rename -------------------"
   ]
  },
  {
   "cell_type": "code",
   "execution_count": 94,
   "metadata": {},
   "outputs": [],
   "source": [
    "raw_data_directory = os.listdir('Raw_data')\n",
    "processed_data_directory = os.listdir('processed_data')"
   ]
  },
  {
   "cell_type": "code",
   "execution_count": 95,
   "metadata": {},
   "outputs": [],
   "source": [
    "def mapper(old_name):\n",
    "    x = re.sub(\"^(sub_DAQ.mod_LogicLev.cntr)\\\\_([a-zA-Z0-9]+)\\\\.([a-zA-Z]+)\\\\_\", \"\", old_name)\n",
    "    x = re.sub(\"\\\\.(a_var)$\", \"\", x)\n",
    "    x = re.sub(\" and \", \"_\", x)\n",
    "    return x"
   ]
  },
  {
   "cell_type": "code",
   "execution_count": 96,
   "metadata": {},
   "outputs": [],
   "source": [
    "for raw_file in raw_data_directory:\n",
    "    pbr_dir = re.split(\"\\\\_\", raw_file)\n",
    "    pbr_dir = pbr_dir[0]\n",
    "    new_path = os.path.join('processed_data', pbr_dir)\n",
    "    if not os.path.exists(new_path):\n",
    "        os.makedirs(new_path)\n",
    "\n",
    "    fpc_list = os.listdir(new_path)\n",
    "    if raw_file not in fpc_list:\n",
    "        raw_file_path = os.path.join('Raw_data', raw_file)\n",
    "        raw_data_frame = pd.read_csv(raw_file_path, sep=';')\n",
    "        raw_data = raw_data_frame.rename(columns=mapper)\n",
    "\n",
    "        save_path = os.path.join(new_path, raw_file)\n",
    "        raw_data.to_csv(save_path, index = False)\n",
    "        os.remove(raw_file_path)\n",
    "        "
   ]
  },
  {
   "cell_type": "markdown",
   "metadata": {},
   "source": [
    "#### 2. Data Merging and column drop"
   ]
  },
  {
   "cell_type": "code",
   "execution_count": 152,
   "metadata": {},
   "outputs": [
    {
     "name": "stdout",
     "output_type": "stream",
     "text": [
      "['FPC11-Rhodomonas-salina', 'FPC12-Diacronema-lutheri']\n"
     ]
    }
   ],
   "source": [
    "processed_dir = './processed_data'\n",
    "\n",
    "species_dir_list = [dir for dir in os.listdir(processed_dir)]\n",
    "print(species_dir_list)"
   ]
  },
  {
   "cell_type": "code",
   "execution_count": 232,
   "metadata": {},
   "outputs": [],
   "source": [
    "def merger_function(dir,species_dir):\n",
    "    \n",
    "    combined_df = pd.DataFrame()\n",
    "    print(combined_df)\n",
    "    temp_filename = re.split(\"\\\\\\\\\", species_dir)\n",
    "    today_date = today.strftime(\"%b-%d-%Y\")\n",
    "    combined_file_name = temp_filename[1] + '_' + today_date\n",
    "\n",
    "    for sensor_file in dir:\n",
    "        processed_file_path = os.path.join(species_dir, sensor_file)\n",
    "        print(processed_file_path)\n",
    "        df_temp_data = pd.read_csv(processed_file_path)\n",
    "        df_temp_data = df_temp_data.drop(['us'], axis = 1)\n",
    "\n",
    "        if combined_df.empty:\n",
    "            combined_df = df_temp_data\n",
    "        else:\n",
    "            combined_df=pd.merge(combined_df, df_temp_data, on='Date_Time', how='inner')\n",
    "\n",
    "    print('----------------------------------')\n",
    "    combined_df = combined_df.drop(['C_PAR_x', 'C_PAR_y'], axis = 1)\n",
    "    print(combined_df.info())\n",
    "\n",
    "\n",
    "\n",
    "\n",
    "    \n",
    "\n",
    "    "
   ]
  },
  {
   "cell_type": "code",
   "execution_count": 233,
   "metadata": {},
   "outputs": [
    {
     "name": "stdout",
     "output_type": "stream",
     "text": [
      "Empty DataFrame\n",
      "Columns: []\n",
      "Index: []\n",
      "./processed_data\\FPC11-Rhodomonas-salina\\FPC11-Rhodomonas-salina_12_12_21_to_31_01_22_light_temp_ph.csv\n",
      "./processed_data\\FPC11-Rhodomonas-salina\\FPC11-Rhodomonas-salina_12_12_21_to_31_01_22_productivity_efficiencycsv.csv\n",
      "./processed_data\\FPC11-Rhodomonas-salina\\FPC11-Rhodomonas-salina_13_12_21_to_31_01_22_flow_and_pressure.csv\n",
      "----------------------------------\n",
      "<class 'pandas.core.frame.DataFrame'>\n",
      "Int64Index: 2208 entries, 0 to 2207\n",
      "Data columns (total 27 columns):\n",
      " #   Column     Non-Null Count  Dtype  \n",
      "---  ------     --------------  -----  \n",
      " 0   Date_Time  2208 non-null   object \n",
      " 1   QT         2208 non-null   float64\n",
      " 2   QC         2208 non-null   int64  \n",
      " 3   QB         2208 non-null   int64  \n",
      " 4   QR         2208 non-null   int64  \n",
      " 5   QG         2208 non-null   int64  \n",
      " 6   QT_corr    2208 non-null   float64\n",
      " 7   TT0        2208 non-null   float64\n",
      " 8   TT1        2208 non-null   float64\n",
      " 9   pH         2208 non-null   float64\n",
      " 10  LReactor   2208 non-null   float64\n",
      " 11  C_g        2208 non-null   float64\n",
      " 12  C_Eff      2208 non-null   float64\n",
      " 13  C_CD       2208 non-null   float64\n",
      " 14  T_CD       2208 non-null   int64  \n",
      " 15  C_D_g      2208 non-null   object \n",
      " 16  C_D_Eff    2208 non-null   object \n",
      " 17  FT1        2208 non-null   float64\n",
      " 18  FT2        2208 non-null   float64\n",
      " 19  PT1_V4     2208 non-null   float64\n",
      " 20  PT2        2208 non-null   float64\n",
      " 21  FT3        2208 non-null   float64\n",
      " 22  CO2in      2208 non-null   float64\n",
      " 23  CO2_V2     2208 non-null   float64\n",
      " 24  CO2sys     2208 non-null   float64\n",
      " 25  LT1        2208 non-null   float64\n",
      " 26  C_PAR      2208 non-null   float64\n",
      "dtypes: float64(19), int64(5), object(3)\n",
      "memory usage: 483.0+ KB\n",
      "None\n",
      "Empty DataFrame\n",
      "Columns: []\n",
      "Index: []\n",
      "./processed_data\\FPC12-Diacronema-lutheri\\FPC12-Diacronema-lutheri_24_10_21_to_01_02_22light_temp_ph.csv\n",
      "./processed_data\\FPC12-Diacronema-lutheri\\FPC12-Diacronema-lutheri_24_10_21_to_01_02_flow_and_pressure.csv\n",
      "./processed_data\\FPC12-Diacronema-lutheri\\FPC12-Diacronema-lutheri_24_10_21_to_01_02_productivity_efficency.csv\n",
      "----------------------------------\n",
      "<class 'pandas.core.frame.DataFrame'>\n",
      "Int64Index: 2208 entries, 0 to 2207\n",
      "Data columns (total 26 columns):\n",
      " #   Column     Non-Null Count  Dtype \n",
      "---  ------     --------------  ----- \n",
      " 0   Date_Time  2208 non-null   object\n",
      " 1   QT         2208 non-null   object\n",
      " 2   QC         2208 non-null   object\n",
      " 3   QB         2208 non-null   object\n",
      " 4   QR         2208 non-null   object\n",
      " 5   QG         2208 non-null   object\n",
      " 6   QT_corr    2208 non-null   object\n",
      " 7   TT0        2208 non-null   object\n",
      " 8   TT1        2208 non-null   object\n",
      " 9   pH         2208 non-null   object\n",
      " 10  FT1        2208 non-null   object\n",
      " 11  FT2        2208 non-null   object\n",
      " 12  PT1_V4     2208 non-null   object\n",
      " 13  PT2        2208 non-null   object\n",
      " 14  FT3        2208 non-null   object\n",
      " 15  CO2in      2208 non-null   object\n",
      " 16  CO2_V2     2208 non-null   object\n",
      " 17  CO2sys     2208 non-null   object\n",
      " 18  LReactor   2208 non-null   object\n",
      " 19  C_g        2208 non-null   object\n",
      " 20  C_Eff      2208 non-null   object\n",
      " 21  C_CD       2208 non-null   object\n",
      " 22  T_CD       2208 non-null   object\n",
      " 23  C_D_g      2208 non-null   object\n",
      " 24  C_D_Eff    2208 non-null   object\n",
      " 25  C_PAR      2208 non-null   object\n",
      "dtypes: object(26)\n",
      "memory usage: 465.8+ KB\n",
      "None\n"
     ]
    }
   ],
   "source": [
    "for dir in species_dir_list:\n",
    "    species_dir = os.path.join(processed_dir,dir)\n",
    "    dir = list()\n",
    "    for species_file in os.listdir(species_dir):\n",
    "        dir.append(species_file)\n",
    "    \n",
    "    merger_function(dir,species_dir)\n"
   ]
  },
  {
   "cell_type": "code",
   "execution_count": null,
   "metadata": {},
   "outputs": [],
   "source": []
  }
 ],
 "metadata": {
  "interpreter": {
   "hash": "63763cfd999afa7786cbab8587718cb54b88d86b09d25414d804f23e66583612"
  },
  "kernelspec": {
   "display_name": "Python 3.9.8 ('.venv': venv)",
   "language": "python",
   "name": "python3"
  },
  "language_info": {
   "codemirror_mode": {
    "name": "ipython",
    "version": 3
   },
   "file_extension": ".py",
   "mimetype": "text/x-python",
   "name": "python",
   "nbconvert_exporter": "python",
   "pygments_lexer": "ipython3",
   "version": "3.9.8"
  },
  "orig_nbformat": 4
 },
 "nbformat": 4,
 "nbformat_minor": 2
}
