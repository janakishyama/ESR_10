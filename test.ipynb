{
 "cells": [
  {
   "cell_type": "code",
   "execution_count": 1,
   "metadata": {},
   "outputs": [
    {
     "data": {
      "text/plain": [
       "'c:\\\\Users\\\\shyam.kalliadan\\\\Desktop\\\\ESR10\\\\programming\\\\ESR_10'"
      ]
     },
     "execution_count": 1,
     "metadata": {},
     "output_type": "execute_result"
    }
   ],
   "source": [
    "# list all files in directory - Raw Data\n",
    "os.getcwd()"
   ]
  },
  {
   "cell_type": "code",
   "execution_count": null,
   "metadata": {},
   "outputs": [],
   "source": [
    "import re\n",
    "\n",
    "for column in raw_data_cloumns:\n",
    "    print(column)\n",
    "    x = re.sub(\"^(sub_DAQ.mod_LogicLev.cntr)\\\\_([a-zA-Z0-9]+)\\\\.([a-zA-Z]+)\\\\_\", \"\", column)\n",
    "    x = re.sub(\"\\\\.(a_var)$\", \"\", x)\n",
    "    x = re.sub(\" and \", \"_\", x)\n",
    "    print(x)\n",
    "\n",
    "    print('-------------------------')"
   ]
  }
 ],
 "metadata": {
  "interpreter": {
   "hash": "63763cfd999afa7786cbab8587718cb54b88d86b09d25414d804f23e66583612"
  },
  "kernelspec": {
   "display_name": "Python 3.9.8 ('.venv': venv)",
   "language": "python",
   "name": "python3"
  },
  "language_info": {
   "codemirror_mode": {
    "name": "ipython",
    "version": 3
   },
   "file_extension": ".py",
   "mimetype": "text/x-python",
   "name": "python",
   "nbconvert_exporter": "python",
   "pygments_lexer": "ipython3",
   "version": "3.9.8"
  },
  "orig_nbformat": 4
 },
 "nbformat": 4,
 "nbformat_minor": 2
}
